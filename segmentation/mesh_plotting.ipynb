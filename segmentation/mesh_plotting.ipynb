{
 "cells": [
  {
   "cell_type": "markdown",
   "metadata": {},
   "source": [
    "# Script for plotting meshes.\n",
    "This version uses meshparty, but you can also use navis. "
   ]
  },
  {
   "cell_type": "code",
   "execution_count": 1,
   "metadata": {},
   "outputs": [
    {
     "name": "stderr",
     "output_type": "stream",
     "text": [
      "/Users/brandon/anaconda3/envs/connectomics_analysis/lib/python3.7/site-packages/requests/__init__.py:91: RequestsDependencyWarning: urllib3 (1.26.2) or chardet (3.0.4) doesn't match a supported version!\n",
      "  RequestsDependencyWarning)\n"
     ]
    }
   ],
   "source": [
    "from cloudvolume import CloudVolume\n",
    "from meshparty import trimesh_vtk\n",
    "from matplotlib import cm\n",
    "import matplotlib.pyplot as plt\n",
    "import numpy as np\n",
    "\n"
   ]
  },
  {
   "cell_type": "code",
   "execution_count": 42,
   "metadata": {},
   "outputs": [],
   "source": [
    "realigned_segmentation = CloudVolume('https://storage.googleapis.com/zetta_lee_fly_vnc_001_segmentation/vnc1_full_v3align_2/realigned_v1/seg/full_run_v1',parallel=True,progress=True )\n",
    "\n",
    "seg_ids = [73820112385702160]\n"
   ]
  },
  {
   "cell_type": "code",
   "execution_count": 43,
   "metadata": {},
   "outputs": [
    {
     "name": "stderr",
     "output_type": "stream",
     "text": [
      "Existence Testing: 100%|██████████| 1/1 [00:00<00:00,  2.59it/s]\n",
      "100%|██████████| 481/481 [00:13<00:00, 34.94it/s]\n",
      "Decoding Mesh Buffer: 100%|██████████| 481/481 [00:00<00:00, 7392.16it/s]\n"
     ]
    },
    {
     "data": {
      "text/plain": [
       "(vtkmodules.vtkRenderingOpenGL2.vtkOpenGLRenderer)0x7fc3ea3de210"
      ]
     },
     "execution_count": 43,
     "metadata": {},
     "output_type": "execute_result"
    }
   ],
   "source": [
    "#colors = plt.cm.Set1(np.linspace(0,1,len(seg_ids)))\n",
    "colors = [[1,0,1],[1,0,1]]\n",
    "\n",
    "mesh_renders = []\n",
    "count = 0\n",
    "for i in seg_ids:\n",
    "    \n",
    "    mesh = realigned_segmentation.mesh.get(i)\n",
    "    #mesh_renders.append(trimesh_vtk.mesh_actor(mesh, opacity=0.95,face_colors=colors[count,0:3],vertex_colors=colors[count,0:3]))\n",
    "    mesh_renders.append(trimesh_vtk.mesh_actor(mesh, opacity=0.75,face_colors=colors[count],vertex_colors=colors[count]))\n",
    "\n",
    "    count = count+1\n",
    "    \n",
    "trimesh_vtk.render_actors(mesh_renders)"
   ]
  },
  {
   "cell_type": "code",
   "execution_count": 36,
   "metadata": {},
   "outputs": [],
   "source": [
    "info = {'data_type': 'uint64',\n",
    " 'mesh': 'https://storage.googleapis.com/zetta_lee_fly_vnc_001_precomputed/vnc1_full_v3align_2/brain_regions',\n",
    " 'num_channels': 1,\n",
    " 'scales': [{'chunk_sizes': [[256, 256, 32]],\n",
    "   'compressed_segmentation_block_size': [8, 8, 8],\n",
    "   'encoding': 'compressed_segmentation',\n",
    "   'key': '17.2_17.2_45.0',\n",
    "   'resolution': [17.2, 17.2, 45.0],\n",
    "   'size': [20992, 56064, 4363],\n",
    "   'voxel_offset': [256, 256, 32]}]}"
   ]
  },
  {
   "cell_type": "code",
   "execution_count": 37,
   "metadata": {},
   "outputs": [],
   "source": [
    "vol = CloudVolume('https://storage.googleapis.com/zetta_lee_fly_vnc_001_precomputed/vnc1_full_v3align_2/brain_regions',info=info)"
   ]
  },
  {
   "cell_type": "code",
   "execution_count": 38,
   "metadata": {},
   "outputs": [
    {
     "name": "stderr",
     "output_type": "stream",
     "text": [
      "Existence Testing: 100%|██████████| 1/1 [00:00<00:00,  4.05it/s]\n"
     ]
    },
    {
     "ename": "ValueError",
     "evalue": "\u001b[1;91mSegment ID(s) 1 are missing corresponding mesh manifests.\nAborted.\u001b[m",
     "output_type": "error",
     "traceback": [
      "\u001b[0;31m---------------------------------------------------------------------------\u001b[0m",
      "\u001b[0;31mValueError\u001b[0m                                Traceback (most recent call last)",
      "\u001b[0;32m<ipython-input-38-74cf38997566>\u001b[0m in \u001b[0;36m<module>\u001b[0;34m\u001b[0m\n\u001b[0;32m----> 1\u001b[0;31m \u001b[0mvol\u001b[0m\u001b[0;34m.\u001b[0m\u001b[0mmesh\u001b[0m\u001b[0;34m.\u001b[0m\u001b[0mget\u001b[0m\u001b[0;34m(\u001b[0m\u001b[0;36m1\u001b[0m\u001b[0;34m)\u001b[0m\u001b[0;34m\u001b[0m\u001b[0;34m\u001b[0m\u001b[0m\n\u001b[0m",
      "\u001b[0;32m~/anaconda3/envs/connectomics_analysis/lib/python3.7/site-packages/cloudvolume/datasource/precomputed/mesh/unsharded.py\u001b[0m in \u001b[0;36mget\u001b[0;34m(self, segids, remove_duplicate_vertices, fuse, chunk_size)\u001b[0m\n\u001b[1;32m    135\u001b[0m       raise ValueError(red(\n\u001b[1;32m    136\u001b[0m         \u001b[0;34m'Segment ID(s) {} are missing corresponding mesh manifests.\\nAborted.'\u001b[0m\u001b[0;31m \u001b[0m\u001b[0;31m\\\u001b[0m\u001b[0;34m\u001b[0m\u001b[0;34m\u001b[0m\u001b[0m\n\u001b[0;32m--> 137\u001b[0;31m         \u001b[0;34m.\u001b[0m\u001b[0mformat\u001b[0m\u001b[0;34m(\u001b[0m\u001b[0mmissing\u001b[0m\u001b[0;34m)\u001b[0m\u001b[0;34m\u001b[0m\u001b[0;34m\u001b[0m\u001b[0m\n\u001b[0m\u001b[1;32m    138\u001b[0m       ))\n\u001b[1;32m    139\u001b[0m \u001b[0;34m\u001b[0m\u001b[0m\n",
      "\u001b[0;31mValueError\u001b[0m: \u001b[1;91mSegment ID(s) 1 are missing corresponding mesh manifests.\nAborted.\u001b[m"
     ]
    }
   ],
   "source": [
    "vol.mesh.get(1)"
   ]
  },
  {
   "cell_type": "code",
   "execution_count": 39,
   "metadata": {},
   "outputs": [
    {
     "data": {
      "text/plain": [
       "'https://storage.googleapis.com/zetta_lee_fly_vnc_001_precomputed/vnc1_full_v3align_2/brain_regions'"
      ]
     },
     "execution_count": 39,
     "metadata": {},
     "output_type": "execute_result"
    }
   ],
   "source": [
    "vol.mesh.path"
   ]
  },
  {
   "cell_type": "code",
   "execution_count": null,
   "metadata": {},
   "outputs": [],
   "source": []
  }
 ],
 "metadata": {
  "kernelspec": {
   "display_name": "connectomics_analysis",
   "language": "python",
   "name": "connectomics_analysis"
  },
  "language_info": {
   "codemirror_mode": {
    "name": "ipython",
    "version": 3
   },
   "file_extension": ".py",
   "mimetype": "text/x-python",
   "name": "python",
   "nbconvert_exporter": "python",
   "pygments_lexer": "ipython3",
   "version": "3.7.7"
  }
 },
 "nbformat": 4,
 "nbformat_minor": 4
}
