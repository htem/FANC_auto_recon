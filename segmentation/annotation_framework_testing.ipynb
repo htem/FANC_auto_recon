{
 "cells": [
  {
   "cell_type": "code",
   "execution_count": 2,
   "metadata": {},
   "outputs": [
    {
     "name": "stderr",
     "output_type": "stream",
     "text": [
      "WARNING : Optional dependency 'pyoctree' not found. Falling back to Scipy for intersection calculations. This may return incorrect results for concave volumes. You might want to consider installing pyoctree via: pip3 install pyoctree (pymaid)\n"
     ]
    },
    {
     "data": {
      "text/html": [
       "        <script type=\"text/javascript\">\n",
       "        window.PlotlyConfig = {MathJaxConfig: 'local'};\n",
       "        if (window.MathJax) {MathJax.Hub.Config({SVG: {font: \"STIX-Web\"}});}\n",
       "        if (typeof require !== 'undefined') {\n",
       "        require.undef(\"plotly\");\n",
       "        requirejs.config({\n",
       "            paths: {\n",
       "                'plotly': ['https://cdn.plot.ly/plotly-latest.min']\n",
       "            }\n",
       "        });\n",
       "        require(['plotly'], function(Plotly) {\n",
       "            window._Plotly = Plotly;\n",
       "        });\n",
       "        }\n",
       "        </script>\n",
       "        "
      ]
     },
     "metadata": {},
     "output_type": "display_data"
    },
    {
     "name": "stderr",
     "output_type": "stream",
     "text": [
      "WARNING : It appears you are in a Jupyter lab and do not have the plotly renderer installed. This is required for pymaid.plot3d(). Please visit https://github.com/plotly/plotly.py/blob/master/README.md#jupyterlab-support-python-35 for instructions on how to install it (pymaid)\n"
     ]
    }
   ],
   "source": [
    "import sys\n",
    "if '/Users/brandon/Documents/Repositories/Python/FANC_auto_recon/transforms/' not in sys.path:\n",
    "    sys.path.append('/Users/brandon/Documents/Repositories/Python/FANC_auto_recon/transforms/')\n",
    "from fanc_seg_utils.database import Neuron_database\n",
    "import numpy as np\n",
    "from matplotlib import pyplot as plt\n",
    "import pymaid\n",
    "from scipy.spatial import distance \n",
    "from concurrent import futures\n",
    "from matplotlib import pyplot as plt\n",
    "from scipy import stats\n",
    "from scipy.stats import norm\n",
    "import pandas as pd\n",
    "import marshmallow as mm\n",
    "from cloudvolume import CloudVolume\n",
    "from fanc_seg_utils import neuroglancer_utilities\n",
    "import collections\n",
    "import six\n",
    "import json\n",
    "import meshparty\n",
    "from meshparty import trimesh_io, trimesh_vtk\n",
    "from annotationframeworkclient import FrameworkClient\n",
    "\n",
    "\n"
   ]
  },
  {
   "cell_type": "markdown",
   "metadata": {},
   "source": [
    "# Transfering data to annotation framework\n",
    "### 1. Get list of spatial points from neuron databases\n",
    "### 2. Convert them into an annotation layer\n",
    "### 3. Get the JSON state and save it.\n",
    "### 4. Add annotations to a new table. "
   ]
  },
  {
   "cell_type": "markdown",
   "metadata": {},
   "source": [
    "#### Get database"
   ]
  },
  {
   "cell_type": "code",
   "execution_count": 5,
   "metadata": {},
   "outputs": [
    {
     "name": "stdout",
     "output_type": "stream",
     "text": [
      "Database active\n"
     ]
    }
   ],
   "source": [
    "database_path = '/Users/brandon/Documents/Repositories/Python/Neuron_Database/T1_MN.csv'\n",
    "db = Neuron_database(database_path,segmentation_version='V4')\n",
    "db.get_database()\n"
   ]
  },
  {
   "cell_type": "code",
   "execution_count": 7,
   "metadata": {},
   "outputs": [],
   "source": [
    "db.soma_annotation_table()"
   ]
  },
  {
   "cell_type": "code",
   "execution_count": 1,
   "metadata": {},
   "outputs": [
    {
     "name": "stdout",
     "output_type": "stream",
     "text": [
      "The image source is: precomputed://gs://zetta_lee_fly_vnc_001_precomputed/vnc1_full_v3align_2/realigned_v1\n"
     ]
    }
   ],
   "source": [
    "\n",
    "auth_token = 'N1cxaUtVZ0JSRUxyd05WY3dUVXFCRm8tclNuSk9FTEg='\n",
    "datastack_name = 'vnc_v0' # from https://api.zetta.ai/wclee/info/\n",
    "\n",
    "client = FrameworkClient(\n",
    "    datastack_name,\n",
    "    server_address = \"https://api.zetta.ai/wclee\",\n",
    "    auth_token = auth_token\n",
    ")\n",
    "\n",
    "print(f\"The image source is: {client.info.image_source()}\")"
   ]
  },
  {
   "cell_type": "code",
   "execution_count": 8,
   "metadata": {},
   "outputs": [
    {
     "name": "stdout",
     "output_type": "stream",
     "text": [
      "renamed\n",
      "https://neuromancer-seung-import.appspot.com/?json_url=https://api.zetta.ai/wclee/nglstate/api/v1/405126384626320940\n"
     ]
    }
   ],
   "source": [
    "example_id = 495722871693421950\n",
    "example_state = client.state.get_state_json(example_id)\n",
    "\n",
    "example_state['layers'][0]['name'] = 'renamed'\n",
    "new_id = client.state.upload_state_json(example_state)\n",
    "\n",
    "new_state = client.state.get_state_json(new_id)\n",
    "print(new_state['layers'][0]['name'])\n",
    "\n",
    "\n",
    "url = client.state.build_neuroglancer_url(state_id=new_id)\n",
    "print(url)"
   ]
  },
  {
   "cell_type": "code",
   "execution_count": 9,
   "metadata": {},
   "outputs": [
    {
     "data": {
      "text/plain": [
       "{'concurrentDownloads': 36,\n",
       " 'gpuMemoryLimit': 3000000000,\n",
       " 'jsonStateServer': 'https://api.zetta.ai/json/post',\n",
       " 'layers': [{'blend': 'default',\n",
       "   'name': 'renamed',\n",
       "   'shaderControls': {},\n",
       "   'source': 'precomputed://gs://zetta_lee_fly_vnc_001_precomputed/vnc1_full_v3align_2/realigned_v1',\n",
       "   'type': 'image'},\n",
       "  {'graphOperationMarker': [{'annotations': [], 'tags': []},\n",
       "    {'annotations': [], 'tags': []}],\n",
       "   'name': 'vnc1_full_v3align_2_v2',\n",
       "   'pathFinder': {'color': '#ffff00',\n",
       "    'pathObject': {'annotationPath': {'annotations': [], 'tags': []},\n",
       "     'hasPath': False}},\n",
       "   'segments': ['648518346595237078', '648518346603712214'],\n",
       "   'skeletonRendering': {'mode2d': 'lines_and_points', 'mode3d': 'lines'},\n",
       "   'source': 'graphene://https://api.zetta.ai/wclee/segmentation/table/vnc1_full_v3align_2_v2',\n",
       "   'type': 'segmentation_with_graph'}],\n",
       " 'layout': {'orthographicProjection': True, 'type': 'xy-3d'},\n",
       " 'navigation': {'pose': {'position': {'voxelCoordinates': [6639.61279296875,\n",
       "     32615.85546875,\n",
       "     2213],\n",
       "    'voxelSize': [17.200000762939453, 17.200000762939453, 45]}},\n",
       "  'zoomFactor': 10.124005927537677},\n",
       " 'perspectiveOrientation': [0.12120528519153595,\n",
       "  0.264100581407547,\n",
       "  0.9197342991828918,\n",
       "  -0.26391103863716125],\n",
       " 'perspectiveZoom': 982.4014172182602,\n",
       " 'showSlices': False,\n",
       " 'systemMemoryLimit': 4000000000}"
      ]
     },
     "execution_count": 9,
     "metadata": {},
     "output_type": "execute_result"
    }
   ],
   "source": [
    "new_state"
   ]
  },
  {
   "cell_type": "code",
   "execution_count": null,
   "metadata": {},
   "outputs": [],
   "source": []
  }
 ],
 "metadata": {
  "kernelspec": {
   "display_name": "connectomics_analysis",
   "language": "python",
   "name": "connectomics_analysis"
  },
  "language_info": {
   "codemirror_mode": {
    "name": "ipython",
    "version": 3
   },
   "file_extension": ".py",
   "mimetype": "text/x-python",
   "name": "python",
   "nbconvert_exporter": "python",
   "pygments_lexer": "ipython3",
   "version": "3.7.7"
  }
 },
 "nbformat": 4,
 "nbformat_minor": 4
}
