{
 "cells": [
  {
   "cell_type": "markdown",
   "metadata": {},
   "source": [
    "# Script for plotting meshes.\n",
    "This version uses meshparty, but you can also use navis. "
   ]
  },
  {
   "cell_type": "code",
   "execution_count": null,
   "metadata": {},
   "outputs": [],
   "source": [
    "from cloudvolume import CloudVolume\n",
    "from meshparty import trimesh_vtk\n",
    "from matplotlib import cm\n",
    "import matplotlib.pyplot as plt\n",
    "import numpy as np\n",
    "\n"
   ]
  },
  {
   "cell_type": "code",
   "execution_count": null,
   "metadata": {},
   "outputs": [],
   "source": [
    "realigned_segmentation = CloudVolume('https://storage.googleapis.com/zetta_lee_fly_vnc_001_segmentation/vnc1_full_v3align_2/realigned_v1/seg/full_run_v1',parallel=True,progress=True )\n",
    "seg_ids = [73963186067656485,73470055237031753,73046400065465012]\n",
    "\n"
   ]
  },
  {
   "cell_type": "code",
   "execution_count": null,
   "metadata": {},
   "outputs": [],
   "source": [
    "colors = plt.cm.Accent_r(np.linspace(0,1,len(meshes)))\n",
    "mesh_renders = []\n",
    "count = 0\n",
    "for i in seg_ids:\n",
    "    \n",
    "    mesh = realigned_segmentation.mesh.get(i)\n",
    "    mesh_renders.append(trimesh_vtk.mesh_actor(mesh, opacity=0.95,face_colors=colors[count,0:3],vertex_colors=colors[count,0:3]))\n",
    "    count = count+1\n",
    "    \n",
    "trimesh_vtk.render_actors(mesh_renders)"
   ]
  }
 ],
 "metadata": {
  "kernelspec": {
   "display_name": "connectomics_analysis",
   "language": "python",
   "name": "connectomics_analysis"
  },
  "language_info": {
   "codemirror_mode": {
    "name": "ipython",
    "version": 3
   },
   "file_extension": ".py",
   "mimetype": "text/x-python",
   "name": "python",
   "nbconvert_exporter": "python",
   "pygments_lexer": "ipython3",
   "version": "3.7.7"
  }
 },
 "nbformat": 4,
 "nbformat_minor": 2
}
