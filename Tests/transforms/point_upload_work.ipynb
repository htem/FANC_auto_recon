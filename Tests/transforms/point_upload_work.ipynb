{
 "cells": [
  {
   "cell_type": "code",
   "execution_count": null,
   "metadata": {},
   "outputs": [],
   "source": [
    "import sys\n",
    "if '/Users/brandon/Documents/Repositories/Python/FANC_auto_recon/transforms/' not in sys.path:\n",
    "    sys.path.append('/Users/brandon/Documents/Repositories/Python/FANC_auto_recon/transforms/')\n",
    "\n",
    "from fanc_seg_utils.annotation_interface import neuroglancer_utilities,schema_download,schema_upload,statemanager\n",
    "from fanc_seg_utils.skeletons import catmaid_utilities,skeleton_manipulations,skeletonization\n",
    "import pandas as pd\n",
    "import numpy as np\n",
    "import nglui \n",
    "import pymaid\n",
    "from concurrent import futures\n",
    "from scipy import stats\n",
    "from scipy.stats import norm\n",
    "from cloudvolume import CloudVolume\n",
    "from pathlib import Path\n",
    "import json\n",
    "from meshparty import trimesh_vtk as vtk\n",
    "from annotationframeworkclient import FrameworkClient"
   ]
  },
  {
   "cell_type": "code",
   "execution_count": 2,
   "metadata": {},
   "outputs": [],
   "source": [
    "client,tokens = neuroglancer_utilities.get_client()\n",
    "cv = CloudVolume(neuroglancer_utilities.get_cv_path('Dynamic_V1')['url'],use_https=True,secrets=neuroglancer_utilities.get_token())"
   ]
  },
  {
   "cell_type": "code",
   "execution_count": 3,
   "metadata": {},
   "outputs": [
    {
     "name": "stdout",
     "output_type": "stream",
     "text": [
      "             state_id                                       description\n",
      "0  261002187096550146                                    MNs,10Bs,Claws\n",
      "1  838783366227209333  Slow Tibia Flexor in V1 chunkedgraph and V2 flat\n",
      "2  838783366227209333  Slow Tibia Flexor in V1 chunkedgraph and V2 flat\n",
      "3  585521373111957130              Comparison of V1 and V2 chunkedgraph\n",
      "4  758492429940665723                                     9A_T1 neurons\n",
      "5  299984539931822600                                              PMNs\n",
      "6  336757619423424673                          81A07 synapse annotation\n",
      "7  769530493626036401                                     Chen2020 data\n",
      "8  837109578740814693                           9a_beta-club annotation\n"
     ]
    }
   ],
   "source": [
    "sm = statemanager.StateManager()"
   ]
  },
  {
   "cell_type": "code",
   "execution_count": 4,
   "metadata": {},
   "outputs": [
    {
     "data": {
      "text/plain": [
       "{'annotationColor': '#0037ff',\n",
       " 'annotationSelectionShowsSegmentation': False,\n",
       " 'annotationTags': [],\n",
       " 'annotations': [{'description': '13B_alpha1_T1R',\n",
       "   'id': 'e0afc456d36e0ffcccdc26a561276e1c68d80b5c',\n",
       "   'point': [41119.5625, 93109.8125, 3264.537353515625],\n",
       "   'tagIds': [],\n",
       "   'type': 'point'},\n",
       "  {'description': '13B_alpha2_T1R',\n",
       "   'id': '4adc357feb9bd75b3c54b6425f4f319600b13fc5',\n",
       "   'point': [44111.78125, 89631.3359375, 3265.533447265625],\n",
       "   'tagIds': [],\n",
       "   'type': 'point'},\n",
       "  {'description': '13B_alpha3_T1R',\n",
       "   'id': '859995debb314724477f02a2b7ae29a1bfbe6223',\n",
       "   'point': [44830.7578125, 90352.8828125, 3262.0146484375],\n",
       "   'tagIds': [],\n",
       "   'type': 'point'},\n",
       "  {'description': '13B_alpha4_T1R',\n",
       "   'id': 'ad83bf47e082b64a978c0b8c850cc32253cde9ed',\n",
       "   'point': [44813.73828125, 91078.640625, 3265.327392578125],\n",
       "   'tagIds': [],\n",
       "   'type': 'point'},\n",
       "  {'description': '13B_alpha5_T1R',\n",
       "   'id': '46ce8af1b54126fb673ef454a8bd840ea39b498a',\n",
       "   'point': [45531.21484375, 90928.9453125, 3350.559814453125],\n",
       "   'tagIds': [],\n",
       "   'type': 'point'},\n",
       "  {'description': '13B_alpha6_T1R',\n",
       "   'id': '513a8960e7d8b221b92fcd27544819cf932264c2',\n",
       "   'point': [45254.9921875, 93200.1015625, 3458.303466796875],\n",
       "   'tagIds': [],\n",
       "   'type': 'point'},\n",
       "  {'description': '13B_alpha7_T1R',\n",
       "   'id': '6796629e1bdd0f63187cea42fae11354500cbe0b',\n",
       "   'point': [43109.46484375, 93467.203125, 3486.690673828125],\n",
       "   'tagIds': [],\n",
       "   'type': 'point'},\n",
       "  {'description': '13B_alpha8_T1R',\n",
       "   'id': 'ba0ce9e47ded2179bf42dc5798836757fbb9d941',\n",
       "   'point': [42734.58984375, 92478.2421875, 3446.13720703125],\n",
       "   'tagIds': [],\n",
       "   'type': 'point'}],\n",
       " 'bracketShortcutsShowSegmentation': False,\n",
       " 'name': '13B',\n",
       " 'selectedAnnotation': {'id': 'ba0ce9e47ded2179bf42dc5798836757fbb9d941'},\n",
       " 'tool': 'annotatePoint',\n",
       " 'type': 'annotation',\n",
       " 'visible': False,\n",
       " 'voxelSize': [4.300000190734863, 4.300000190734863, 45]}"
      ]
     },
     "execution_count": 4,
     "metadata": {},
     "output_type": "execute_result"
    }
   ],
   "source": [
    "state = client.state.get_state_json(sm.df.state_id[7])\n",
    "nglui.parser.get_layer(state,'13B')"
   ]
  },
  {
   "cell_type": "code",
   "execution_count": 10,
   "metadata": {},
   "outputs": [],
   "source": [
    "def soma_table_entries(state,layer_name = 'cells'):\n",
    "    ''' Generate entries for a soma table using the bound_tag schema \n",
    "    Args:\n",
    "    state: json, json state from get_json_state\n",
    "    layer_name: name of layer containing soma coords\n",
    "    ### Change this to points later. This is just for database copying because I used a stupid annotation\n",
    "    \n",
    "    Returns:\n",
    "    entries: list, list of dict entries for the bound_tag schema'''\n",
    "    \n",
    "    cell_layer = nglui.parser.get_layer(state,layer_name)\n",
    "    entries = []\n",
    "    for i in cell_layer['annotations']:\n",
    "        entry = {'tag': i['description'],\n",
    "                 'pt': {'position': i['point']},\n",
    "                 'superceded_id':[111111,222222]}\n",
    "        entries.append(entry)\n",
    "    return(entries)\n",
    "        \n",
    "\n",
    "def upload_cells(client,cell_entries,table_name,description=None):\n",
    "    ''' Upload cell entries to a soma dable using the bound_tag schema'\n",
    "    Args:\n",
    "    client: annotation client object\n",
    "    cell_entries: list, list of dicts from soma_table_entries\n",
    "    table_name: str, table name to create. If it exists, it will populate the existing one. \n",
    "    description: str, description to supply if creating a new table. It will fail if you don't provide one. \n",
    "    \n",
    "    ##TODO: Some sort of check for redundant synapses is necessary. We could make each upload need to go to a new table, but that seems absurd. \n",
    "'''\n",
    "    \n",
    "    try:\n",
    "        client.annotation.create_table(table_name=table_name,\n",
    "                                   schema_name='bound_tag',\n",
    "                                   description=description)\n",
    "    except:\n",
    "        print('table exists')\n",
    "        \n",
    "    for i in cell_entries:\n",
    "        try:\n",
    "            client.annotation.post_annotation(table_name=table_name, data=[i])\n",
    "        except:\n",
    "            print('Fail',entry)\n",
    "\n",
    "\n",
    "\n",
    "def get_synapses(state,synapse_layer='synapses'):\n",
    "    ''' Get the synapse coordinates from a json state and return pre,post,center.\n",
    "    Args:\n",
    "        state: json,  json state from get_state_json \n",
    "        synapse_layer: str, name of layer containing synapses in the json state. Default is 'synapses'\n",
    "    Returns:\n",
    "        pre_pt,post_pt,ctr_pt: list, lists of coordinates for synapses.'''\n",
    "    \n",
    "    \n",
    "    syns = nglui.parser.line_annotations(state,synapse_layer)\n",
    "    if np.shape(syns)[0] != 2:\n",
    "        raise Exception( print('Incorrectly formatted synapse annotation. Requires two lists: Presynapse coordinates, Postsynapse coordinates'))\n",
    "           \n",
    "    else:\n",
    "        pre_pt = syns[0]\n",
    "        post_pt = syns[1]\n",
    "        ctr_pt = (np.array(pre_pt) + np.array(post_pt)) / 2\n",
    "    return(pre_pt,post_pt,np.ndarray.tolist(ctr_pt))\n",
    "\n",
    "\n",
    "def format_synapse(pre,post,ctr):\n",
    "    ''' Format a synapse for upload to a synapse table\n",
    "    Args:\n",
    "           pre: list, mip0 xyz coordinates to presynapse\n",
    "           post: list, mip0 xyz coordinates to postsynapse\n",
    "           ctr: list, mip0 xyz coordinates to center point\n",
    "    Returns:\n",
    "           data: formatted dict for a synapse table annotation upload\n",
    "    '''\n",
    "    data = {\n",
    "    \"type\": \"synapse\",\n",
    "    'pre_pt': {'position': pre},\n",
    "    'post_pt': {'position': post},\n",
    "    'ctr_pt': {'position': ctr}\n",
    "\n",
    "}\n",
    "    return(data)\n",
    "\n",
    "def upload_synapses(client,synapse_coordinates,table_name,description=None):\n",
    "    ''' Add synapses to a synapse table.\n",
    "    Args: \n",
    "        client: annotation client object\n",
    "        synapse_coordinates: list, list of shape [3,n,3]. Dim 0 is [pre,post,ctr], Dim 1 is the entry, Dim 2 is [x,y,z]. Output of get_synapses\n",
    "    ##TODO: Some sort of check for redundant synapses is necessary. We could make each upload need to go to a new table, but that seems absurd. \n",
    "    '''\n",
    "    try:\n",
    "        client.annotation.create_table(table_name=table_name,\n",
    "                                   schema_name='synapse',\n",
    "                                   description=description)\n",
    "    except:\n",
    "        print('table exists')\n",
    "        \n",
    "    for i in range(np.shape(synapse_coordinates)[1]):\n",
    "        try:\n",
    "            entry = format_synapse(synapse_coordinates[0][i],synapse_coordinates[1][i],synapse_coordinates[2][i])\n",
    "            client.annotation.post_annotation(table_name=table_name, data=[entry])\n",
    "        except:\n",
    "            print('Fail',entry)"
   ]
  },
  {
   "cell_type": "code",
   "execution_count": 11,
   "metadata": {},
   "outputs": [],
   "source": [
    "entries = soma_table_entries(state,layer_name='13B')"
   ]
  },
  {
   "cell_type": "code",
   "execution_count": 14,
   "metadata": {},
   "outputs": [],
   "source": [
    "upload_cells(client,entries,'test',description='Testing sv id upload')"
   ]
  },
  {
   "cell_type": "code",
   "execution_count": 15,
   "metadata": {},
   "outputs": [
    {
     "data": {
      "text/plain": [
       "True"
      ]
     },
     "execution_count": 15,
     "metadata": {},
     "output_type": "execute_result"
    }
   ],
   "source": [
    "client.annotation.delete_table('test')"
   ]
  },
  {
   "cell_type": "code",
   "execution_count": 16,
   "metadata": {},
   "outputs": [
    {
     "data": {
      "text/plain": [
       "[{'tag': '13B_alpha1_T1R',\n",
       "  'pt': {'position': [41119.5625, 93109.8125, 3264.537353515625]},\n",
       "  'superceded_id': [111111, 222222]},\n",
       " {'tag': '13B_alpha2_T1R',\n",
       "  'pt': {'position': [44111.78125, 89631.3359375, 3265.533447265625]},\n",
       "  'superceded_id': [111111, 222222]},\n",
       " {'tag': '13B_alpha3_T1R',\n",
       "  'pt': {'position': [44830.7578125, 90352.8828125, 3262.0146484375]},\n",
       "  'superceded_id': [111111, 222222]},\n",
       " {'tag': '13B_alpha4_T1R',\n",
       "  'pt': {'position': [44813.73828125, 91078.640625, 3265.327392578125]},\n",
       "  'superceded_id': [111111, 222222]},\n",
       " {'tag': '13B_alpha5_T1R',\n",
       "  'pt': {'position': [45531.21484375, 90928.9453125, 3350.559814453125]},\n",
       "  'superceded_id': [111111, 222222]},\n",
       " {'tag': '13B_alpha6_T1R',\n",
       "  'pt': {'position': [45254.9921875, 93200.1015625, 3458.303466796875]},\n",
       "  'superceded_id': [111111, 222222]},\n",
       " {'tag': '13B_alpha7_T1R',\n",
       "  'pt': {'position': [43109.46484375, 93467.203125, 3486.690673828125]},\n",
       "  'superceded_id': [111111, 222222]},\n",
       " {'tag': '13B_alpha8_T1R',\n",
       "  'pt': {'position': [42734.58984375, 92478.2421875, 3446.13720703125]},\n",
       "  'superceded_id': [111111, 222222]}]"
      ]
     },
     "execution_count": 16,
     "metadata": {},
     "output_type": "execute_result"
    }
   ],
   "source": []
  },
  {
   "cell_type": "code",
   "execution_count": null,
   "metadata": {},
   "outputs": [],
   "source": []
  }
 ],
 "metadata": {
  "kernelspec": {
   "display_name": "connectomics_analysis",
   "language": "python",
   "name": "connectomics_analysis"
  },
  "language_info": {
   "codemirror_mode": {
    "name": "ipython",
    "version": 3
   },
   "file_extension": ".py",
   "mimetype": "text/x-python",
   "name": "python",
   "nbconvert_exporter": "python",
   "pygments_lexer": "ipython3",
   "version": "3.7.7"
  }
 },
 "nbformat": 4,
 "nbformat_minor": 4
}
