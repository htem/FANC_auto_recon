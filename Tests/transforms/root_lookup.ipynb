{
 "cells": [
  {
   "cell_type": "code",
   "execution_count": 1,
   "metadata": {},
   "outputs": [],
   "source": [
    "import numpy as np\n",
    "import cloudvolume\n",
    "import requests\n",
    "import datetime\n",
    "import json\n",
    "import os\n",
    "import cloudvolume\n",
    "\n",
    "HOME = os.path.expanduser(\"~\")"
   ]
  },
  {
   "cell_type": "markdown",
   "metadata": {},
   "source": [
    "### Timestamp"
   ]
  },
  {
   "cell_type": "code",
   "execution_count": 3,
   "metadata": {},
   "outputs": [],
   "source": [
    "analysis_time_stamp = datetime.datetime(2020, 5, 2, 6, 26, 5, 780341)"
   ]
  },
  {
   "cell_type": "markdown",
   "metadata": {},
   "source": [
    "## Initialize cloudvolume object"
   ]
  },
  {
   "cell_type": "code",
   "execution_count": 15,
   "metadata": {},
   "outputs": [],
   "source": [
    "## Instructions for token: https://github.com/seung-lab/cloud-volume/#chunkedgraph-secretjson\n",
    "## Where to get the token: globalv1.flywire-daf.com/auth/api/v1/refresh_token\n",
    "## Every visit invalidates the old token"
   ]
  },
  {
   "cell_type": "code",
   "execution_count": 6,
   "metadata": {},
   "outputs": [],
   "source": [
    "cv = cloudvolume.CloudVolume(\"graphene://https://prodv1.flywire-daf.com/segmentation/table/fly_v31\")"
   ]
  },
  {
   "cell_type": "code",
   "execution_count": 7,
   "metadata": {},
   "outputs": [],
   "source": [
    "def sv_ids_from_coords(coords):\n",
    "    sv_ids = []\n",
    "    \n",
    "    for coord in coords:\n",
    "        sv_ids.append(cv.download_point(coord, size=1).squeeze())\n",
    "    \n",
    "    return np.array(sv_ids)"
   ]
  },
  {
   "cell_type": "markdown",
   "metadata": {},
   "source": [
    "### Reading the neuron db"
   ]
  },
  {
   "cell_type": "code",
   "execution_count": 8,
   "metadata": {},
   "outputs": [],
   "source": [
    "coords = np.array([[89149, 42471, 2569],\n",
    "                   [91628, 44373, 2270],\n",
    "                   [95364, 45256, 2020],\n",
    "                   [176492, 62737, 1600],\n",
    "                   [81224, 53916, 3037],\n",
    "                   [81880, 60268, 2591],\n",
    "                   [81811, 59384, 2527],\n",
    "                   [83103, 56139, 2627],\n",
    "                   [83827, 52660, 2763],\n",
    "                   [176378, 68464, 1768]])"
   ]
  },
  {
   "cell_type": "code",
   "execution_count": 9,
   "metadata": {
    "scrolled": true
   },
   "outputs": [
    {
     "name": "stderr",
     "output_type": "stream",
     "text": [
      "Downloading: 100%|██████████| 1/1 [00:01<00:00,  1.89s/it]\n",
      "Downloading:   0%|          | 0/1 [00:00<?, ?it/s]\u001b[A\n",
      "Downloading: 100%|██████████| 1/1 [00:01<00:00,  1.47s/it]\u001b[A\n",
      "\n",
      "Downloading:   0%|          | 0/1 [00:00<?, ?it/s]\u001b[A\n",
      "Downloading: 100%|██████████| 1/1 [00:01<00:00,  1.07s/it]\u001b[A\n",
      "\n",
      "Downloading:   0%|          | 0/1 [00:00<?, ?it/s]\u001b[A\n",
      "Downloading: 100%|██████████| 1/1 [00:01<00:00,  1.05s/it]\u001b[A\n",
      "\n",
      "Downloading:   0%|          | 0/1 [00:00<?, ?it/s]\u001b[A\n",
      "Downloading: 100%|██████████| 1/1 [00:01<00:00,  1.10s/it]\u001b[A\n",
      "\n",
      "Downloading:   0%|          | 0/1 [00:00<?, ?it/s]\u001b[A\n",
      "Downloading: 100%|██████████| 1/1 [00:01<00:00,  1.23s/it]\u001b[A\n",
      "\n",
      "Downloading:   0%|          | 0/1 [00:00<?, ?it/s]\u001b[A\n",
      "Downloading: 100%|██████████| 1/1 [00:00<00:00,  1.18it/s]\u001b[A\n",
      "\n",
      "Downloading:   0%|          | 0/1 [00:00<?, ?it/s]\u001b[A\n",
      "Downloading: 100%|██████████| 1/1 [00:01<00:00,  1.04s/it]\u001b[A\n",
      "\n",
      "Downloading:   0%|          | 0/1 [00:00<?, ?it/s]\u001b[A\n",
      "Downloading: 100%|██████████| 1/1 [00:01<00:00,  1.37s/it]\u001b[A\n",
      "\n",
      "Downloading:   0%|          | 0/1 [00:00<?, ?it/s]\u001b[A\u001b[A\n",
      "\n",
      "Downloading: 100%|██████████| 1/1 [00:00<00:00,  1.12it/s]\u001b[A\u001b[A"
     ]
    },
    {
     "name": "stdout",
     "output_type": "stream",
     "text": [
      "CPU times: user 808 ms, sys: 340 ms, total: 1.15 s\n",
      "Wall time: 12 s\n"
     ]
    },
    {
     "name": "stderr",
     "output_type": "stream",
     "text": [
      "\n"
     ]
    }
   ],
   "source": [
    "## Coords need to be passed in 16, 16, 40 nm space (neuroglancer _usually_ shows 4, 4, 40)\n",
    "\n",
    "%time sv_ids = sv_ids_from_coords((coords / np.array([4, 4, 1])).astype(np.int))\n",
    "\n",
    "## Supervoxel ids are atomic and do not change. A given coordinate will always map to the same supervoxel id.\n",
    "## It is therefore recommended to cache the supervoxel ids."
   ]
  },
  {
   "cell_type": "code",
   "execution_count": 13,
   "metadata": {},
   "outputs": [
    {
     "name": "stdout",
     "output_type": "stream",
     "text": [
      "CPU times: user 10.3 ms, sys: 0 ns, total: 10.3 ms\n",
      "Wall time: 1.03 s\n"
     ]
    }
   ],
   "source": [
    "%time root_ids = cv.get_roots(sv_ids, timestamp=int(analysis_time_stamp.timestamp()))"
   ]
  },
  {
   "cell_type": "code",
   "execution_count": 14,
   "metadata": {
    "scrolled": true
   },
   "outputs": [
    {
     "data": {
      "text/plain": [
       "array([720575940637386880, 720575940609691315, 720575940634369198,\n",
       "       720575940624226179, 720575940612844703, 720575940612070546,\n",
       "       720575940619493402, 720575940629609356, 720575940627068538,\n",
       "       720575940626324891], dtype=uint64)"
      ]
     },
     "execution_count": 14,
     "metadata": {},
     "output_type": "execute_result"
    }
   ],
   "source": [
    "root_ids"
   ]
  }
 ],
 "metadata": {
  "kernelspec": {
   "display_name": "Python 3",
   "language": "python",
   "name": "python3"
  },
  "language_info": {
   "codemirror_mode": {
    "name": "ipython",
    "version": 3
   },
   "file_extension": ".py",
   "mimetype": "text/x-python",
   "name": "python",
   "nbconvert_exporter": "python",
   "pygments_lexer": "ipython3",
   "version": "3.8.3"
  }
 },
 "nbformat": 4,
 "nbformat_minor": 4
}
