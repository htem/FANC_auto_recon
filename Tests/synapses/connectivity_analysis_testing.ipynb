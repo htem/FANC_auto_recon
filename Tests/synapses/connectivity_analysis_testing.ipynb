{
 "cells": [
  {
   "cell_type": "code",
   "execution_count": 8,
   "metadata": {},
   "outputs": [],
   "source": [
    "import sys\n",
    "if '/Users/brandon/Documents/Repositories/Python/' not in sys.path:\n",
    "    sys.path.append('/Users/brandon/Documents/Repositories/Python/')\n",
    "from FANC_auto_recon.annotations import schema_download,schema_upload,statemanager\n",
    "from FANC_auto_recon.skeletonization import catmaid_utilities,skeleton_manipulations,skeletonization\n",
    "from FANC_auto_recon import neuroglancer_utilities\n",
    "from FANC_auto_recon.synapses import connectivity_utils\n",
    "import pandas as pd\n",
    "import numpy as np\n",
    "from annotationframeworkclient import FrameworkClient\n",
    "import nglui\n",
    "from matplotlib import cm\n",
    "from nglui.statebuilder import *\n",
    "from matplotlib import pyplot as plt\n",
    "from cloudvolume import CloudVolume\n",
    "from meshparty import trimesh_vtk\n",
    "import json\n",
    "from matplotlib import pyplot as plt"
   ]
  },
  {
   "cell_type": "code",
   "execution_count": 9,
   "metadata": {},
   "outputs": [],
   "source": [
    "client,tokens = neuroglancer_utilities.get_client()"
   ]
  },
  {
   "cell_type": "code",
   "execution_count": 10,
   "metadata": {},
   "outputs": [],
   "source": [
    "table = client.annotation.get_annotation('T1MN_somas',annotation_ids=range(10))"
   ]
  },
  {
   "cell_type": "code",
   "execution_count": 13,
   "metadata": {},
   "outputs": [],
   "source": [
    "df = pd.DataFrame(table)"
   ]
  },
  {
   "cell_type": "code",
   "execution_count": 16,
   "metadata": {},
   "outputs": [
    {
     "data": {
      "text/plain": [
       "13329"
      ]
     },
     "execution_count": 16,
     "metadata": {},
     "output_type": "execute_result"
    }
   ],
   "source": [
    "df.pt_position[0]"
   ]
  },
  {
   "cell_type": "code",
   "execution_count": null,
   "metadata": {},
   "outputs": [],
   "source": []
  }
 ],
 "metadata": {
  "kernelspec": {
   "display_name": "connectomics_analysis",
   "language": "python",
   "name": "connectomics_analysis"
  },
  "language_info": {
   "codemirror_mode": {
    "name": "ipython",
    "version": 3
   },
   "file_extension": ".py",
   "mimetype": "text/x-python",
   "name": "python",
   "nbconvert_exporter": "python",
   "pygments_lexer": "ipython3",
   "version": "3.7.7"
  }
 },
 "nbformat": 4,
 "nbformat_minor": 4
}
