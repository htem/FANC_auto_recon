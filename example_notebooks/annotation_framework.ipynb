{
 "cells": [
  {
   "cell_type": "markdown",
   "metadata": {},
   "source": [
    "# Working with the annoation framework\n",
    "#### As proofreading occurs, the segment IDs associated with each objevt will be dynamically updated each time an edit is made. In order to keep track of neurons (or other objects) of interest, we can instead associate annotations with spatial points that exist within our neuron, and then update the segment ID associated with this spatial point as edits are made.\n",
    "\n",
    "#### Our current implementation of the annotation framework does not have a functioning materialization engine. To work around this, we can use the `annotations` module of `FANC_auto_recon` to upload and download annotation tables for analysis. This notebook will outline how to do this. \n",
    "\n",
    "- This example will demonstrate how to take a neuroglancer state where we annotated a series of cell bodies from hemilineage 7B, and upload those annoatations to the annotation framework hemilineage table. The workflow would be as follows:\n",
    "    1. Generate an annotation layer in your neuroglancer instance named '7B'.\n",
    "    2. Add a series of point annotations in each of the soma (not in the nucleus! as that is often segmented separately from the rest of the neuron. \n",
    "    3. Save the json state using `shift-cnrl-j`\n",
    "    4. Retreive and parse the json state using `FANC_auto_recon.annotations`\n",
    "    5. Upload the new entries to the annotation table.\n",
    "    \n",
    "\n",
    "\n",
    "#### For more information:\n",
    "\n",
    "- The annoatation framework for FANC is housed here: https://github.com/ZettaAI/helm-charts/wiki/Annotation-Framework-Client\n",
    "- It is described here: https://annotationframeworkclient.readthedocs.io/en/latest/\n"
   ]
  },
  {
   "cell_type": "code",
   "execution_count": 2,
   "metadata": {},
   "outputs": [],
   "source": [
    "from FANC_auto_recon.annotations import schema_upload\n",
    "from FANC_auto_recon.segmentation import authentication_utils\n",
    "from FANC_auto_recon.annotations import schema_download"
   ]
  },
  {
   "cell_type": "markdown",
   "metadata": {},
   "source": [
    "#### Get an annotation framework client object which will allow interaction with the framework."
   ]
  },
  {
   "cell_type": "code",
   "execution_count": 3,
   "metadata": {},
   "outputs": [],
   "source": [
    "client,token = authentication_utils.get_client()"
   ]
  },
  {
   "cell_type": "markdown",
   "metadata": {},
   "source": [
    "##### The primary method for interacting with neuroglancer is via parsing of json states. Specify the json state id and the name of the annotation layer from which to obtain the point annotations."
   ]
  },
  {
   "cell_type": "code",
   "execution_count": 4,
   "metadata": {},
   "outputs": [],
   "source": [
    "json_id = 103789102624132678\n",
    "layer_name = '7B'\n",
    "table_name = 'Test_Table'\n",
    "description = 'A table for learning about the annotation framework'\n",
    "\n",
    "state = client.state.get_state_json(json_id)"
   ]
  },
  {
   "cell_type": "markdown",
   "metadata": {},
   "source": [
    "#### Generate formatted entries for the annotation framework `bount-tag` schema and upload them to the annotation framework. Don't do this more than once for the same set of data. You can remove it, but that requires other steps. "
   ]
  },
  {
   "cell_type": "code",
   "execution_count": null,
   "metadata": {},
   "outputs": [],
   "source": [
    "soma_table = schema_upload.soma_table_entries(state,layer_name=layer_name,description=layer_name)\n",
    "schema_upload.upload_cells(client,soma_table,table_name,description=description)"
   ]
  },
  {
   "cell_type": "markdown",
   "metadata": {},
   "source": [
    "## Now that we have uploaded data, let's retreive it. Here is the workflow:\n",
    "1. Download the raw annotation table.\n",
    "2. 'Materialize' the data (look up the most recent root IDs associated with the tagged points. This step relies on having `~/.cloudvolume/segmentations` set up. See FANC_auto_recon documentation for how to do this. "
   ]
  },
  {
   "cell_type": "code",
   "execution_count": 5,
   "metadata": {},
   "outputs": [
    {
     "name": "stderr",
     "output_type": "stream",
     "text": [
      "Segmentation IDs: 100%|██████████| 50/50 [00:07<00:00,  6.60it/s]\n"
     ]
    }
   ],
   "source": [
    "raw_table = schema_download.download_annotation_table(client,table_name)\n",
    "materialized_table = schema_download.generate_soma_table(raw_table,\n",
    "                                                     segmentation_version='FANC_production_segmentation')"
   ]
  },
  {
   "cell_type": "code",
   "execution_count": 6,
   "metadata": {},
   "outputs": [
    {
     "data": {
      "text/html": [
       "<div>\n",
       "<style scoped>\n",
       "    .dataframe tbody tr th:only-of-type {\n",
       "        vertical-align: middle;\n",
       "    }\n",
       "\n",
       "    .dataframe tbody tr th {\n",
       "        vertical-align: top;\n",
       "    }\n",
       "\n",
       "    .dataframe thead th {\n",
       "        text-align: right;\n",
       "    }\n",
       "</style>\n",
       "<table border=\"1\" class=\"dataframe\">\n",
       "  <thead>\n",
       "    <tr style=\"text-align: right;\">\n",
       "      <th></th>\n",
       "      <th>name</th>\n",
       "      <th>cell_type</th>\n",
       "      <th>pt_position</th>\n",
       "      <th>pt_root_id</th>\n",
       "      <th>soma_x_nm</th>\n",
       "      <th>soma_y_nm</th>\n",
       "      <th>soma_z_nm</th>\n",
       "      <th>found</th>\n",
       "    </tr>\n",
       "  </thead>\n",
       "  <tbody>\n",
       "    <tr>\n",
       "      <th>0</th>\n",
       "      <td>7B</td>\n",
       "      <td>NaN</td>\n",
       "      <td>[31253, 91038, 2652]</td>\n",
       "      <td>648518346494145512</td>\n",
       "      <td>134387.9</td>\n",
       "      <td>391463.4</td>\n",
       "      <td>119340.0</td>\n",
       "      <td>NaN</td>\n",
       "    </tr>\n",
       "    <tr>\n",
       "      <th>1</th>\n",
       "      <td>7B</td>\n",
       "      <td>NaN</td>\n",
       "      <td>[29841, 91260, 2656]</td>\n",
       "      <td>648518346516310999</td>\n",
       "      <td>128316.3</td>\n",
       "      <td>392418.0</td>\n",
       "      <td>119520.0</td>\n",
       "      <td>NaN</td>\n",
       "    </tr>\n",
       "    <tr>\n",
       "      <th>2</th>\n",
       "      <td>7B</td>\n",
       "      <td>NaN</td>\n",
       "      <td>[29076, 93551, 2656]</td>\n",
       "      <td>648518346485958242</td>\n",
       "      <td>125026.8</td>\n",
       "      <td>402269.3</td>\n",
       "      <td>119520.0</td>\n",
       "      <td>NaN</td>\n",
       "    </tr>\n",
       "    <tr>\n",
       "      <th>3</th>\n",
       "      <td>7B</td>\n",
       "      <td>NaN</td>\n",
       "      <td>[27178, 93145, 2656]</td>\n",
       "      <td>648518346492889628</td>\n",
       "      <td>116865.4</td>\n",
       "      <td>400523.5</td>\n",
       "      <td>119520.0</td>\n",
       "      <td>NaN</td>\n",
       "    </tr>\n",
       "    <tr>\n",
       "      <th>4</th>\n",
       "      <td>7B</td>\n",
       "      <td>NaN</td>\n",
       "      <td>[27976, 93766, 2618]</td>\n",
       "      <td>648518346493573774</td>\n",
       "      <td>120296.8</td>\n",
       "      <td>403193.8</td>\n",
       "      <td>117810.0</td>\n",
       "      <td>NaN</td>\n",
       "    </tr>\n",
       "  </tbody>\n",
       "</table>\n",
       "</div>"
      ],
      "text/plain": [
       "  name cell_type           pt_position          pt_root_id  soma_x_nm  \\\n",
       "0   7B       NaN  [31253, 91038, 2652]  648518346494145512   134387.9   \n",
       "1   7B       NaN  [29841, 91260, 2656]  648518346516310999   128316.3   \n",
       "2   7B       NaN  [29076, 93551, 2656]  648518346485958242   125026.8   \n",
       "3   7B       NaN  [27178, 93145, 2656]  648518346492889628   116865.4   \n",
       "4   7B       NaN  [27976, 93766, 2618]  648518346493573774   120296.8   \n",
       "\n",
       "   soma_y_nm  soma_z_nm found  \n",
       "0   391463.4   119340.0   NaN  \n",
       "1   392418.0   119520.0   NaN  \n",
       "2   402269.3   119520.0   NaN  \n",
       "3   400523.5   119520.0   NaN  \n",
       "4   403193.8   117810.0   NaN  "
      ]
     },
     "execution_count": 6,
     "metadata": {},
     "output_type": "execute_result"
    }
   ],
   "source": [
    "materialized_table.head()"
   ]
  }
 ],
 "metadata": {
  "kernelspec": {
   "display_name": "connectomics_analysis",
   "language": "python",
   "name": "connectomics_analysis"
  },
  "language_info": {
   "codemirror_mode": {
    "name": "ipython",
    "version": 3
   },
   "file_extension": ".py",
   "mimetype": "text/x-python",
   "name": "python",
   "nbconvert_exporter": "python",
   "pygments_lexer": "ipython3",
   "version": "3.7.7"
  }
 },
 "nbformat": 4,
 "nbformat_minor": 4
}
