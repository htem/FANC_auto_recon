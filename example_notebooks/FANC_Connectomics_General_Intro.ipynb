{
 "cells": [
  {
   "cell_type": "markdown",
   "metadata": {},
   "source": [
    "<p>In this notebook, we introduce how to query the anotation database and give a flavor of how to use the results to do some simple analysis. By the end, you should be able to query for neurons, query for synapses between those neurons, and visualize the neurons and synapes.\n",
    "\n",
    "</div>\n",
    "\n"
   ]
  },
  {
   "cell_type": "markdown",
   "metadata": {},
   "source": [
    "<div style=\"border-left: 3px solid #000; padding: 1px; padding-left: 10px; background: #F0FAFF; \">\n",
    "<h2>Background</h2>\n",
    "\n",
    "\n",
    "This dataset is part of a collaboration between the Lee Lab at Harvard University and the Tuthill Lab at the University of Washington. Before beginning on this tutorial, please make sure you have completed the onboarding instructions which can be found [here](https://docs.google.com/document/d/10fnQHWTPluKeNXko6C63iKTKVwqXeSEQ10ftYgtEfhc/edit)\n",
    "\n",
    "</div>\n",
    "\n",
    "<div style=\"border-left: 3px solid #000; padding: 1px; padding-left: 10px; background: #F0FAFF; \">\n",
    "<h2>Local setup instructions</h2>\n",
    "\n",
    "<p>\n",
    "To query and visualize the data, you will need a few custom packages developed by the Allen Institute and Princeton University.  If you want to setup your local computer's python system to use these packages you'll need to install them and their dependancies. \n",
    "</p>\n",
    "\n",
    "<p>\n",
    "The easiest way to install is to use Anaconda python.  Open up a terminal, or a command prompt on windows.  Navigate to the directory where you have checked out the swdb_2021 repository. Activate a conda environment if you'd like then type..\n",
    "\n",
    "</div>\n",
    "<h4>Linux/OSX</h4>\n",
    "<div style=\"border-left: 3px solid #000; padding: 1px; padding-left: 10px; background: #DFF0D8; \">\n",
    "./scripts/em_conda_install.sh\n",
    "</div>\n",
    "<h4>Windows</h4>\n",
    "<div style=\"border-left: 3px solid #000; padding: 1px; padding-left: 10px; background: #DFF0D8; \">\n",
    "./scripts/em_conda_install.bat\n",
    "</div>\n",
    "<div style=\"border-left: 3px solid #000; padding: 1px; padding-left: 10px; background: #F0FAFF; \">\n",
    "You'll need to restart your kernel after you do the install\n",
    "</div>\n",
    "\n",
    "\n"
   ]
  },
  {
   "cell_type": "markdown",
   "metadata": {},
   "source": [
    "<h2>3D Visualization Methods </h2>\n",
    "\n",
    "EM data involves high resolution reconstructions of neurons, and so visualizing them interatively in 3D is essential to understanding the data (plus it's just fun).  This requires use of more specialized plotting packages than matplotlib.  There are a few options that have different plusses and minuses that are summarized below.  We'll show you code snippets from all methods, but execute the one based upon the viz_method variable defined in the next cell.\n",
    "<table>\n",
    "    <tr>\n",
    "        <td><h3>viz_method</h3></td>\n",
    "        <td><h3>pros</h3></td>\n",
    "        <td><h3>cons</h3></td>\n",
    "    </tr>\n",
    "    <tr>\n",
    "        <td>\n",
    "           vtk\n",
    "        </td>\n",
    "        <td>Fastest <br/>\n",
    "            Most features: <br/>\n",
    "            mesh coloring<br/>  \n",
    "            programatic camera control<br/>\n",
    "            programatic saving<br/>\n",
    "            extensible</td>\n",
    "        <td> Requires local installation <br/>(no AWS possible)</td>\n",
    "    </tr>\n",
    "    <tr>\n",
    "        <td> itkwidgets</td>\n",
    "        <td> fastest notebook widget <br/>\n",
    "             easy screen shot <br/>\n",
    "             bug free <br/>\n",
    "             aws compatible <br/>\n",
    "        </td>\n",
    "        <td>\n",
    "        no programatic camera control<br/>\n",
    "        no advanced mesh coloring\n",
    "        </td> \n",
    "    </tr>    \n",
    "    </table>"
   ]
  },
  {
   "cell_type": "code",
   "execution_count": 2,
   "metadata": {},
   "outputs": [],
   "source": [
    "import os\n",
    "\n",
    "# viz_method = one of ['itkwidgets', 'vtk']\n",
    "viz_method = 'vtk'\n"
   ]
  },
  {
   "cell_type": "markdown",
   "metadata": {},
   "source": [
    "<div style=\"border-left: 3px solid #000; padding: 1px; padding-left: 10px; background: #F0FAFF; \">\n",
    "<h2>Import the key modules</h2>\n",
    "Our analysis workflows use a couple of special purpose packages we have developed. Here, we are going to look at the CAVEclient (Connectome Annotation Versioning Engine), a package that quickly performs simple analysis queries and produces tidy Pandas dataframes.\n",
    "</div>"
   ]
  },
  {
   "cell_type": "code",
   "execution_count": 3,
   "metadata": {},
   "outputs": [],
   "source": [
    "# this is the EM specific package for querying the EM data\n",
    "from caveclient import CAVEclient\n"
   ]
  },
  {
   "cell_type": "markdown",
   "metadata": {},
   "source": [
    "<div style=\"border-left: 3px solid #000; padding: 1px; padding-left: 10px; background: #F0FAFF; \">\n",
    "<h2>Import some of our favorite modules</h2>\n",
    "Our analysis workflows makes use of many of the common scientific computing packages like Numpy and Pandas.\n",
    "</div>"
   ]
  },
  {
   "cell_type": "code",
   "execution_count": 4,
   "metadata": {},
   "outputs": [],
   "source": [
    "# import some of our favorite packages\n",
    "import pandas as pd\n",
    "import numpy as np\n",
    "import os\n",
    "import matplotlib.pyplot as plt\n",
    "%matplotlib inline\n"
   ]
  },
  {
   "cell_type": "markdown",
   "metadata": {},
   "source": [
    "<div style=\"border-left: 3px solid #000; padding: 1px; padding-left: 10px; background: #F0FAFF; \">\n",
    "<h2>Setting up a CAVE account </h2>\n",
    "\n",
    "CAVE is the Connectome Annotation Versioning Engine.\n",
    "It is a collection of services which manage proofreading and data annotation for large scale connectomics dataset.\n",
    "These services were developed during the IARPA MICrONS program, but now support data from several projects including FANC and FlyWire.  You need to have an account on CAVE to use its services.\n",
    "\n",
    "\n",
    "To get an account please first go to this [website](https://cave.fanc-fly.com/materialize/views/datastack/fanc_production_mar2021)\n",
    "\n",
    "You should be prompted to login with a google account and then you must seperately accept the terms and conditions.\n",
    "\n",
    "Once you have registered, you need to get access to the dataset. If you have not already, please complete the [onboarding instructions](https://docs.google.com/document/d/10fnQHWTPluKeNXko6C63iKTKVwqXeSEQ10ftYgtEfhc/edit) of for using FANC. Once you have done so, please reach out to one of the following people with your email address to get access to the dataset:\n",
    "   \n",
    "* Jasper Phelps (jtmaniatesselvin@g.harvard.edu)\n",
    "* Brandon Mark (bmark89@uw.edu)\n",
    "* John Tuthill (tuthill@uw.edu)\n",
    "* Wei-Chung Lee (wei-chung_lee@hms.harvard.edu)\n",
    " \n",
    "Once you have an account and have access to the FANC dataset, you can then follow along this notebook.\n",
    "This notebook will show you how to get a programatic token that you can use to authenticate to the services in order to make queries. The token can then be used on different computers.\n",
    "\n",
    "<h2>Setting key parameters </h2>\n",
    "Every combination of image and segmentation data we call a 'datastack', since a dataset might have multiple such 'datastacks' associated with it.  The female ventral nerve cord that we are going to use is called `fanc_v4` named because....\n",
    "</div>\n"
   ]
  },
  {
   "cell_type": "code",
   "execution_count": 5,
   "metadata": {},
   "outputs": [],
   "source": [
    "client = CAVEclient()\n",
    "\n",
    "if not os.path.isfile(os.path.expanduser(\"~/.cloudvolume/secrets/cave-secret.json\")):\n",
    "    client.auth.get_new_token(open=True)"
   ]
  },
  {
   "cell_type": "code",
   "execution_count": null,
   "metadata": {},
   "outputs": [],
   "source": []
  },
  {
   "cell_type": "code",
   "execution_count": 6,
   "metadata": {},
   "outputs": [],
   "source": [
    "# if you have not yet setup this computer, uncomment this below line\n",
    "# paste the token from the website in, and run the line\n",
    "\n",
    "# client.auth.save_token(token=\"paste_token_here\", overwrite=True)\n",
    "\n",
    "# then comment or delete the line as you don't need to run it on this computer  again"
   ]
  },
  {
   "cell_type": "code",
   "execution_count": 7,
   "metadata": {},
   "outputs": [],
   "source": [
    "datastack_name = 'fanc_production_mar2021'\n",
    "\n",
    "client = CAVEclient(datastack_name)"
   ]
  },
  {
   "cell_type": "markdown",
   "metadata": {},
   "source": [
    "<div style=\"border-left: 3px solid #000; padding: 1px; padding-left: 10px; background: #F0FAFF; \">\n",
    "<h2>Terms of Service Error</h2>\n",
    "If for some reason you are getting an error that says you haven't signed the terms of service, visit this link.\n",
    "\n",
    "<a href=\"https://global.daf-apis.com/sticky_auth/api/v1/tos/2/accept\"> Microns Public TOS </a>\n",
    "</div>"
   ]
  },
  {
   "cell_type": "markdown",
   "metadata": {},
   "source": [
    "<div style=\"border-left: 3px solid #000; padding: 1px; padding-left: 10px; background: #F0FAFF; \">\n",
    "<h2>Client Basics</h2>\n",
    "The client lets you connect to a number of different services, and you can read about all of them in  <a href=\"https://caveclient.readthedocs.io/\">the CAVEclient documentation</a>\n",
    "\n",
    "For this notebook however we will focus on the 'materialize' client which lets you access tables of annotations on the data, including cells, nuclei and synapses. \n",
    "\n",
    "To see what tables are available, use the 'get_tables' method.\n",
    "</div>"
   ]
  },
  {
   "cell_type": "code",
   "execution_count": 8,
   "metadata": {},
   "outputs": [
    {
     "data": {
      "text/plain": [
       "['test_soma',\n",
       " 'synapses_may2021',\n",
       " 'nuclei_aug2021',\n",
       " 'soma_aug2021',\n",
       " 'nuclei_aug2021ver2',\n",
       " 't1_leg_motor_neurons']"
      ]
     },
     "execution_count": 8,
     "metadata": {},
     "output_type": "execute_result"
    }
   ],
   "source": [
    "client.materialize.get_tables()"
   ]
  },
  {
   "cell_type": "code",
   "execution_count": 9,
   "metadata": {},
   "outputs": [
    {
     "data": {
      "text/plain": [
       "{'schema': 'nucleus_detection',\n",
       " 'created': '2021-08-30T06:58:45.696837',\n",
       " 'valid': True,\n",
       " 'id': 37,\n",
       " 'table_name': 'soma_aug2021',\n",
       " 'aligned_volume': 'fanc_v4',\n",
       " 'schema_type': 'nucleus_detection',\n",
       " 'description': 'IDs shared with nuclei_aug2021. Based on nuclei segmentation at precomputed://gs://ng_scratch_ranl_zetta_30/vnc1_full_v3align_2/realigned_v1/seg/84214f67075692a9e41c02d164b466ba',\n",
       " 'flat_segmentation_source': None,\n",
       " 'user_id': '1335',\n",
       " 'reference_table': None,\n",
       " 'voxel_resolution': [4.3, 4.3, 45.0]}"
      ]
     },
     "execution_count": 9,
     "metadata": {},
     "output_type": "execute_result"
    }
   ],
   "source": [
    "# For each table you can get metadata about that table\n",
    "client.materialize.get_table_metadata('soma_aug2021')"
   ]
  },
  {
   "cell_type": "code",
   "execution_count": 10,
   "metadata": {},
   "outputs": [
    {
     "data": {
      "text/plain": [
       "17076"
      ]
     },
     "execution_count": 10,
     "metadata": {},
     "output_type": "execute_result"
    }
   ],
   "source": [
    "# and how many annotations are in it\n",
    "# the maybe most important table is the synapse table (synapses_pni_2)\n",
    "# which has >330 million synapses, so querying its length takes a long time\n",
    "client.materialize.get_annotation_count('soma_aug2021')\n"
   ]
  },
  {
   "cell_type": "code",
   "execution_count": 11,
   "metadata": {},
   "outputs": [
    {
     "data": {
      "text/html": [
       "<div>\n",
       "<style scoped>\n",
       "    .dataframe tbody tr th:only-of-type {\n",
       "        vertical-align: middle;\n",
       "    }\n",
       "\n",
       "    .dataframe tbody tr th {\n",
       "        vertical-align: top;\n",
       "    }\n",
       "\n",
       "    .dataframe thead th {\n",
       "        text-align: right;\n",
       "    }\n",
       "</style>\n",
       "<table border=\"1\" class=\"dataframe\">\n",
       "  <thead>\n",
       "    <tr style=\"text-align: right;\">\n",
       "      <th></th>\n",
       "      <th>id</th>\n",
       "      <th>valid</th>\n",
       "      <th>pt_supervoxel_id</th>\n",
       "      <th>pt_root_id</th>\n",
       "      <th>volume</th>\n",
       "      <th>pt_position</th>\n",
       "      <th>bb_start_position</th>\n",
       "      <th>bb_end_position</th>\n",
       "    </tr>\n",
       "  </thead>\n",
       "  <tbody>\n",
       "    <tr>\n",
       "      <th>0</th>\n",
       "      <td>73115668492321345</td>\n",
       "      <td>t</td>\n",
       "      <td>74244180477821787</td>\n",
       "      <td>648518346490886177</td>\n",
       "      <td>NaN</td>\n",
       "      <td>[64096, 155520, 2735]</td>\n",
       "      <td>[nan, nan, nan]</td>\n",
       "      <td>[nan, nan, nan]</td>\n",
       "    </tr>\n",
       "    <tr>\n",
       "      <th>1</th>\n",
       "      <td>72341681025843555</td>\n",
       "      <td>t</td>\n",
       "      <td>72625768014247001</td>\n",
       "      <td>648518346496058999</td>\n",
       "      <td>NaN</td>\n",
       "      <td>[16768, 157376, 2693]</td>\n",
       "      <td>[nan, nan, nan]</td>\n",
       "      <td>[nan, nan, nan]</td>\n",
       "    </tr>\n",
       "    <tr>\n",
       "      <th>2</th>\n",
       "      <td>72694142819371754</td>\n",
       "      <td>t</td>\n",
       "      <td>73401129131935868</td>\n",
       "      <td>648518346511627376</td>\n",
       "      <td>NaN</td>\n",
       "      <td>[40144, 195856, 1213]</td>\n",
       "      <td>[nan, nan, nan]</td>\n",
       "      <td>[nan, nan, nan]</td>\n",
       "    </tr>\n",
       "    <tr>\n",
       "      <th>3</th>\n",
       "      <td>72904562259788369</td>\n",
       "      <td>t</td>\n",
       "      <td>73821967945813511</td>\n",
       "      <td>648518346504953141</td>\n",
       "      <td>NaN</td>\n",
       "      <td>[52320, 153968, 2663]</td>\n",
       "      <td>[nan, nan, nan]</td>\n",
       "      <td>[nan, nan, nan]</td>\n",
       "    </tr>\n",
       "    <tr>\n",
       "      <th>4</th>\n",
       "      <td>72481250081768943</td>\n",
       "      <td>t</td>\n",
       "      <td>72975274937264610</td>\n",
       "      <td>648518346499742019</td>\n",
       "      <td>NaN</td>\n",
       "      <td>[26928, 86432, 1996]</td>\n",
       "      <td>[nan, nan, nan]</td>\n",
       "      <td>[nan, nan, nan]</td>\n",
       "    </tr>\n",
       "  </tbody>\n",
       "</table>\n",
       "</div>"
      ],
      "text/plain": [
       "                  id valid   pt_supervoxel_id          pt_root_id  volume  \\\n",
       "0  73115668492321345     t  74244180477821787  648518346490886177     NaN   \n",
       "1  72341681025843555     t  72625768014247001  648518346496058999     NaN   \n",
       "2  72694142819371754     t  73401129131935868  648518346511627376     NaN   \n",
       "3  72904562259788369     t  73821967945813511  648518346504953141     NaN   \n",
       "4  72481250081768943     t  72975274937264610  648518346499742019     NaN   \n",
       "\n",
       "             pt_position bb_start_position  bb_end_position  \n",
       "0  [64096, 155520, 2735]   [nan, nan, nan]  [nan, nan, nan]  \n",
       "1  [16768, 157376, 2693]   [nan, nan, nan]  [nan, nan, nan]  \n",
       "2  [40144, 195856, 1213]   [nan, nan, nan]  [nan, nan, nan]  \n",
       "3  [52320, 153968, 2663]   [nan, nan, nan]  [nan, nan, nan]  \n",
       "4   [26928, 86432, 1996]   [nan, nan, nan]  [nan, nan, nan]  "
      ]
     },
     "execution_count": 11,
     "metadata": {},
     "output_type": "execute_result"
    }
   ],
   "source": [
    "# lets look at the soma table\n",
    "# if you ask for the whole thing, the client will give you the first 200K rows\n",
    "# which is good enough to cover everything other than synapses\n",
    "soma_df= client.materialize.query_table('soma_aug2021')\n",
    "soma_df.head()"
   ]
  },
  {
   "cell_type": "code",
   "execution_count": 12,
   "metadata": {},
   "outputs": [
    {
     "data": {
      "text/plain": [
       "'IDs shared with nuclei_aug2021. Based on nuclei segmentation at precomputed://gs://ng_scratch_ranl_zetta_30/vnc1_full_v3align_2/realigned_v1/seg/84214f67075692a9e41c02d164b466ba'"
      ]
     },
     "execution_count": 12,
     "metadata": {},
     "output_type": "execute_result"
    }
   ],
   "source": [
    "# remember that you can check the metadata if you're unsure what is in the table\n",
    "client.materialize.get_table_metadata('soma_aug2021')['description']"
   ]
  },
  {
   "cell_type": "code",
   "execution_count": 13,
   "metadata": {},
   "outputs": [
    {
     "data": {
      "image/png": "[encoded data removed]",
      "text/plain": [
       "<Figure size 720x432 with 2 Axes>"
      ]
     },
     "metadata": {
      "needs_background": "light"
     },
     "output_type": "display_data"
    }
   ],
   "source": [
    "# useful function for converting a pandas data frame voxel position\n",
    "# column to a np.array of Nx3 size in nm\n",
    "def convert_to_nm(col, voxel_size=[4.3,4.3,45]):\n",
    "    return np.vstack(col.values)*voxel_size\n",
    "\n",
    "# function to plot a dataframe\n",
    "def plot_soma_loc(df, ax, x=0, y=1, c='r', s=10, cmap=None):\n",
    "    \n",
    "    # convert the position to microns\n",
    "    pos = convert_to_nm(df['pt_position'])/1000\n",
    "    \n",
    "    if cmap:\n",
    "        c = pos[:,y]\n",
    "        ax.scatter(pos[:,x], pos[:,y], c=c, s=s)\n",
    "    # plot two dimensions as a scatterplot\n",
    "    else:\n",
    "        ax.scatter(pos[:,x], pos[:,y], c=c, s=s)\n",
    "\n",
    "# make a new axis with two subplots\n",
    "fig = plt.figure(figsize=(10,6))\n",
    "ax1 = fig.add_subplot(1, 2, 1)\n",
    "ax2 = fig.add_subplot(1, 2, 2, sharex=ax1)\n",
    "\n",
    "# plot each soma\n",
    "plot_soma_loc(soma_df, ax1, cmap='viridis', s=1)\n",
    "#plot_soma_loc(ext_axon_df, ax1, c='r')\n",
    "\n",
    "\n",
    "# label some axis, make x,y scaling same\n",
    "ax1.set_xlabel('x (um)')\n",
    "ax1.set_ylabel('y (um)')\n",
    "# to keep the pia 'up'\n",
    "#ax1.set_ylim(1100,300)\n",
    "ax1.set_aspect('equal')\n",
    "\n",
    "# plot the same thing as x,z\n",
    "plot_soma_loc(soma_df, ax2, x=2, y=1, cmap='viridis', s=1)\n",
    "#plot_soma_loc(ext_axon_df, ax2, x=0, y=2, c='r')\n",
    "\n",
    "ax2.set_xlabel('z (um)')\n",
    "ax2.set_ylabel('y (um)')\n",
    "ax2.set_aspect('equal')"
   ]
  },
  {
   "cell_type": "markdown",
   "metadata": {},
   "source": [
    "<div style=\"border-left: 3px solid #000; padding: 1px; padding-left: 10px; background: #F0FAFF; \">\n",
    "<h2>Querying for synapses</h2>\n",
    "Let's pick out a cell ID of a tibia flexor motor neuron and then find all the synapses onto that neuron</div>\n"
   ]
  },
  {
   "cell_type": "code",
   "execution_count": 14,
   "metadata": {},
   "outputs": [
    {
     "data": {
      "text/plain": [
       "648518346489272261"
      ]
     },
     "execution_count": 14,
     "metadata": {},
     "output_type": "execute_result"
    }
   ],
   "source": [
    "motor_neuron = 648518346489272261\n",
    "motor_neuron"
   ]
  },
  {
   "cell_type": "markdown",
   "metadata": {},
   "source": [
    "<div style=\"border-left: 3px solid #000; padding: 1px; padding-left: 10px; background: #F0FAFF; \">\n",
    "\n",
    "Now we are ready to query synapses for this neuron. Because the analysis database can, in principle, handle multiple different sources of synapses, we have to specify which synapse table we want to use. The current table holding the most up to date automated synapse detection is called `synapses_may2021`.  The \"info\" service has this information however, so we don't need to remember it.\n",
    "\n",
    "Because synapses are such a common query, there is a wrapper method `synapse_query` which makes uses the default synapse table and simplifies the syntax. So, we can specify which synapses we get back from the table by setting the `post_ids` argument to a list of IDs, which makes a query that only returns synapses whose postsynaptic id is the one selected.  You can also filter by `pre_ids` which will do the same for the pre-synaptic side. Setting this will only return synapses that are from certain neurons.  Setting both `pre_ids` and `post_ids` will return only synapses that are from the `pre_ids` onto the `post_ids`.\n",
    "</div>"
   ]
  },
  {
   "cell_type": "code",
   "execution_count": 15,
   "metadata": {},
   "outputs": [
    {
     "name": "stdout",
     "output_type": "stream",
     "text": [
      "synapses_may2021\n",
      "(5819, 9)\n"
     ]
    },
    {
     "data": {
      "text/html": [
       "<div>\n",
       "<style scoped>\n",
       "    .dataframe tbody tr th:only-of-type {\n",
       "        vertical-align: middle;\n",
       "    }\n",
       "\n",
       "    .dataframe tbody tr th {\n",
       "        vertical-align: top;\n",
       "    }\n",
       "\n",
       "    .dataframe thead th {\n",
       "        text-align: right;\n",
       "    }\n",
       "</style>\n",
       "<table border=\"1\" class=\"dataframe\">\n",
       "  <thead>\n",
       "    <tr style=\"text-align: right;\">\n",
       "      <th></th>\n",
       "      <th>id</th>\n",
       "      <th>valid</th>\n",
       "      <th>pre_pt_supervoxel_id</th>\n",
       "      <th>pre_pt_root_id</th>\n",
       "      <th>post_pt_supervoxel_id</th>\n",
       "      <th>post_pt_root_id</th>\n",
       "      <th>score</th>\n",
       "      <th>pre_pt_position</th>\n",
       "      <th>post_pt_position</th>\n",
       "    </tr>\n",
       "  </thead>\n",
       "  <tbody>\n",
       "    <tr>\n",
       "      <th>0</th>\n",
       "      <td>163749</td>\n",
       "      <td>t</td>\n",
       "      <td>74172024825875202</td>\n",
       "      <td>648518346495420989</td>\n",
       "      <td>74172024825879948</td>\n",
       "      <td>648518346489272261</td>\n",
       "      <td>18</td>\n",
       "      <td>[61441, 101997, 2349]</td>\n",
       "      <td>[61445, 101993, 2346]</td>\n",
       "    </tr>\n",
       "    <tr>\n",
       "      <th>1</th>\n",
       "      <td>2301347</td>\n",
       "      <td>t</td>\n",
       "      <td>74101999544940369</td>\n",
       "      <td>648518346445244039</td>\n",
       "      <td>74101999544973059</td>\n",
       "      <td>648518346489272261</td>\n",
       "      <td>28</td>\n",
       "      <td>[59479, 111979, 2128]</td>\n",
       "      <td>[59467, 111991, 2131]</td>\n",
       "    </tr>\n",
       "    <tr>\n",
       "      <th>2</th>\n",
       "      <td>2339652</td>\n",
       "      <td>t</td>\n",
       "      <td>73961056032443991</td>\n",
       "      <td>648518346493881079</td>\n",
       "      <td>73961056032443973</td>\n",
       "      <td>648518346489272261</td>\n",
       "      <td>20</td>\n",
       "      <td>[57053, 106169, 2416]</td>\n",
       "      <td>[57057, 106127, 2415]</td>\n",
       "    </tr>\n",
       "    <tr>\n",
       "      <th>4</th>\n",
       "      <td>5521555</td>\n",
       "      <td>t</td>\n",
       "      <td>73820387263388003</td>\n",
       "      <td>648518346464924021</td>\n",
       "      <td>73820387263395010</td>\n",
       "      <td>648518346489272261</td>\n",
       "      <td>38</td>\n",
       "      <td>[52789, 108339, 2338]</td>\n",
       "      <td>[52785, 108329, 2342]</td>\n",
       "    </tr>\n",
       "    <tr>\n",
       "      <th>6</th>\n",
       "      <td>5654725</td>\n",
       "      <td>t</td>\n",
       "      <td>73819975013885332</td>\n",
       "      <td>648518346361895324</td>\n",
       "      <td>73819975013897326</td>\n",
       "      <td>648518346489272261</td>\n",
       "      <td>25</td>\n",
       "      <td>[52783, 95449, 2544]</td>\n",
       "      <td>[52781, 95461, 2547]</td>\n",
       "    </tr>\n",
       "  </tbody>\n",
       "</table>\n",
       "</div>"
      ],
      "text/plain": [
       "        id valid  pre_pt_supervoxel_id      pre_pt_root_id  \\\n",
       "0   163749     t     74172024825875202  648518346495420989   \n",
       "1  2301347     t     74101999544940369  648518346445244039   \n",
       "2  2339652     t     73961056032443991  648518346493881079   \n",
       "4  5521555     t     73820387263388003  648518346464924021   \n",
       "6  5654725     t     73819975013885332  648518346361895324   \n",
       "\n",
       "   post_pt_supervoxel_id     post_pt_root_id  score        pre_pt_position  \\\n",
       "0      74172024825879948  648518346489272261     18  [61441, 101997, 2349]   \n",
       "1      74101999544973059  648518346489272261     28  [59479, 111979, 2128]   \n",
       "2      73961056032443973  648518346489272261     20  [57053, 106169, 2416]   \n",
       "4      73820387263395010  648518346489272261     38  [52789, 108339, 2338]   \n",
       "6      73819975013897326  648518346489272261     25   [52783, 95449, 2544]   \n",
       "\n",
       "        post_pt_position  \n",
       "0  [61445, 101993, 2346]  \n",
       "1  [59467, 111991, 2131]  \n",
       "2  [57057, 106127, 2415]  \n",
       "4  [52785, 108329, 2342]  \n",
       "6   [52781, 95461, 2547]  "
      ]
     },
     "execution_count": 15,
     "metadata": {},
     "output_type": "execute_result"
    }
   ],
   "source": [
    "print(client.materialize.synapse_table)\n",
    "post_synapse_df = client.materialize.synapse_query(post_ids = motor_neuron)\n",
    "# lets post the shape to see how many synapses we have\n",
    "print(post_synapse_df.shape)\n",
    "# and take a peak at the whole dataframe\n",
    "post_synapse_df.head()"
   ]
  },
  {
   "cell_type": "markdown",
   "metadata": {},
   "source": [
    "<div style=\"border-left: 3px solid #000; padding: 1px; padding-left: 10px; background: #F0FAFF; \">\n",
    "\n",
    "<h3> Synapse Table Descriptions</h3>\n",
    "Here's a breakdown of what each of those columns mean.\n",
    "</div>\n",
    "\n",
    "<table style={float:left}>\n",
    "    <tr>\n",
    "        <td><h4>column</h4></td>\n",
    "        <td><h4>description</h4></td>\n",
    "    </tr> \n",
    "    <tr>\n",
    "        <td>id</td>\n",
    "        <td>The ID that is specific to this synapse annotation</td>\n",
    "    </tr>\n",
    "    <tr>\n",
    "        <td>pre_pt_supervoxel_id</td>\n",
    "        <td>a bookkeeping column for the presynaptic side </td>\n",
    "    </tr>\n",
    "    <tr>\n",
    "        <td>pre_pt_root_id</td>\n",
    "        <td>the ID of the cell on the presynaptic side</td>\n",
    "    </tr>\n",
    "    <tr>\n",
    "        <td>post_pt_supervoxel_id</td>\n",
    "        <td>Same bookkeeping column as pre_pt but for the post synaptic side.</td>\n",
    "    </tr>\n",
    "    <tr>\n",
    "        <td>post_pt_root_id</td>\n",
    "        <td>Same as pre_pt but for the post synaptic side</td>\n",
    "    </tr>\n",
    "    <tr>\n",
    "        <td>score</td>\n",
    "        <td>The size of the synaptic cleft in units of 4.3,4.3,45 voxels.</td>\n",
    "    </tr>\n",
    "    <tr>\n",
    "        <td>pre_pt_position</td>\n",
    "        <td>a point that is in the pre-synaptic terminal of this synapse (in voxels) </td>\n",
    "    </tr>\n",
    "    <tr>\n",
    "        <td>post_pt_position</td>\n",
    "        <td>Same as pre_pt but for the post synaptic side.</td>\n",
    "    </tr>\n",
    "\n",
    "</table>\n",
    "<div style=\"border-left: 3px solid #000; padding: 1px; padding-left: 10px; background: #F0FAFF; \">\n",
    "\n",
    "Each row in this table is a single synapse. You should see that the value in the post_pt_root_id column is the same for all, and equals the id you selected above. \n",
    "<h5>Note again that position columns are in voxel coordinates, just like Neuroglancer displays in the upper left corner. A single voxel has dimensions 4.3x4.3x45 nm.</h5>\n",
    "</div>"
   ]
  },
  {
   "cell_type": "code",
   "execution_count": 16,
   "metadata": {},
   "outputs": [
    {
     "data": {
      "text/plain": [
       "<matplotlib.colorbar.Colorbar at 0x7f8cae24eb50>"
      ]
     },
     "execution_count": 16,
     "metadata": {},
     "output_type": "execute_result"
    },
    {
     "data": {
      "image/png": "[encoded data removed]",
      "text/plain": [
       "<Figure size 864x432 with 3 Axes>"
      ]
     },
     "metadata": {
      "needs_background": "light"
     },
     "output_type": "display_data"
    }
   ],
   "source": [
    "# Lets make a matrix of synapse positions for this neuron\n",
    "syn_pos_nm = convert_to_nm(post_synapse_df.post_pt_position)\n",
    "# and plot their positions in x,y along with the soma position as a red circle\n",
    "f ,ax =plt.subplots(1,2,figsize=(12,6))\n",
    "ax[0].scatter(syn_pos_nm[:,0]/1000, syn_pos_nm[:,1]/1000, alpha=0.6, s=5, c=post_synapse_df.score, cmap='terrain')\n",
    "\n",
    "# add the soma position as a red circle\n",
    "soma_pos = convert_to_nm(soma_df.pt_position[soma_df.pt_root_id == motor_neuron])\n",
    "ax[0].scatter([soma_pos[0,0]/1000],[soma_pos[0,1]/1000],c='r',s=150)\n",
    "ax[0].set_aspect('equal')\n",
    "ax[0].set_xlabel('x (um)')\n",
    "ax[0].set_ylabel('y (um)')\n",
    "\n",
    "\n",
    "m =ax[1].scatter(syn_pos_nm[:,0]/1000, syn_pos_nm[:,2]/1000, alpha=0.6, s=5, c=post_synapse_df.score, cmap='terrain')\n",
    "\n",
    "# add the soma position as a red circle\n",
    "soma_pos = convert_to_nm(soma_df.pt_position[soma_df.pt_root_id == motor_neuron])\n",
    "ax[1].scatter([soma_pos[0,0]/1000],[soma_pos[0,2]/1000],c='r',s=150)\n",
    "ax[1].set_aspect('equal')\n",
    "ax[1].set_xlabel('x (um)')\n",
    "ax[1].set_ylabel('z (um)')\n",
    "f.colorbar(m, label='Synapse Size')"
   ]
  },
  {
   "cell_type": "markdown",
   "metadata": {},
   "source": [
    "<div style=\"border-left: 3px solid #000; padding: 1px; padding-left: 10px; background: #F0FAFF; \">\n",
    "\n",
    "Now lets figure out which premotor neuron makes the most synapses onto this tibia flexor\n",
    "</div>"
   ]
  },
  {
   "cell_type": "code",
   "execution_count": 17,
   "metadata": {},
   "outputs": [
    {
     "data": {
      "text/html": [
       "<div>\n",
       "<style scoped>\n",
       "    .dataframe tbody tr th:only-of-type {\n",
       "        vertical-align: middle;\n",
       "    }\n",
       "\n",
       "    .dataframe tbody tr th {\n",
       "        vertical-align: top;\n",
       "    }\n",
       "\n",
       "    .dataframe thead th {\n",
       "        text-align: right;\n",
       "    }\n",
       "</style>\n",
       "<table border=\"1\" class=\"dataframe\">\n",
       "  <thead>\n",
       "    <tr style=\"text-align: right;\">\n",
       "      <th></th>\n",
       "      <th>id</th>\n",
       "      <th>pre_pt_root_id</th>\n",
       "      <th>score</th>\n",
       "      <th>syn_in_conn</th>\n",
       "    </tr>\n",
       "  </thead>\n",
       "  <tbody>\n",
       "    <tr>\n",
       "      <th>5139</th>\n",
       "      <td>26552824</td>\n",
       "      <td>648518346492958528</td>\n",
       "      <td>42</td>\n",
       "      <td>171</td>\n",
       "    </tr>\n",
       "    <tr>\n",
       "      <th>4619</th>\n",
       "      <td>5670495</td>\n",
       "      <td>648518346492958528</td>\n",
       "      <td>39</td>\n",
       "      <td>171</td>\n",
       "    </tr>\n",
       "    <tr>\n",
       "      <th>6769</th>\n",
       "      <td>47487513</td>\n",
       "      <td>648518346492958528</td>\n",
       "      <td>29</td>\n",
       "      <td>171</td>\n",
       "    </tr>\n",
       "    <tr>\n",
       "      <th>5594</th>\n",
       "      <td>34470663</td>\n",
       "      <td>648518346492958528</td>\n",
       "      <td>42</td>\n",
       "      <td>171</td>\n",
       "    </tr>\n",
       "    <tr>\n",
       "      <th>3759</th>\n",
       "      <td>21684546</td>\n",
       "      <td>648518346492958528</td>\n",
       "      <td>14</td>\n",
       "      <td>171</td>\n",
       "    </tr>\n",
       "  </tbody>\n",
       "</table>\n",
       "</div>"
      ],
      "text/plain": [
       "            id      pre_pt_root_id  score  syn_in_conn\n",
       "5139  26552824  648518346492958528     42          171\n",
       "4619   5670495  648518346492958528     39          171\n",
       "6769  47487513  648518346492958528     29          171\n",
       "5594  34470663  648518346492958528     42          171\n",
       "3759  21684546  648518346492958528     14          171"
      ]
     },
     "execution_count": 17,
     "metadata": {},
     "output_type": "execute_result"
    }
   ],
   "source": [
    "# pandas groupby to count number of synapses from different neurons\n",
    "# followed by transform to label the individual synapses with \n",
    "# how many other synapses are in that connection.\n",
    "\n",
    "# transform labels all the rows in the group with the result of this function on the group\n",
    "syn_in_conn=post_synapse_df.groupby('pre_pt_root_id').transform(len)['id']\n",
    "# save this result in a new colum\n",
    "post_synapse_df['syn_in_conn']=syn_in_conn\n",
    "post_synapse_df[['id', 'pre_pt_root_id', 'score','syn_in_conn']].sort_values('syn_in_conn', ascending=False).head()"
   ]
  },
  {
   "cell_type": "markdown",
   "metadata": {},
   "source": [
    "<div style=\"border-left: 3px solid #000; padding: 1px; padding-left: 10px; background: #F0FAFF; \">\n",
    "\n",
    "Let's go ahead and get the ID of that premotor neuron which will have the largest number of synapses onto this tibia flexor\n",
    "</div>"
   ]
  },
  {
   "cell_type": "code",
   "execution_count": 18,
   "metadata": {},
   "outputs": [
    {
     "name": "stdout",
     "output_type": "stream",
     "text": [
      "648518346492958528\n"
     ]
    },
    {
     "data": {
      "text/plain": [
       "(171, 10)"
      ]
     },
     "execution_count": 18,
     "metadata": {},
     "output_type": "execute_result"
    }
   ],
   "source": [
    "# find the neuron with the most synapses\n",
    "max_input_idx = post_synapse_df.syn_in_conn.idxmax()\n",
    "max_input_neuron = post_synapse_df.loc[max_input_idx].pre_pt_root_id\n",
    "print(max_input_neuron)\n",
    "\n",
    "# the shape of this synapse table will tell us how many synapses are made by this prem\n",
    "post_synapse_df[post_synapse_df.pre_pt_root_id == max_input_neuron].shape"
   ]
  },
  {
   "cell_type": "markdown",
   "metadata": {},
   "source": [
    "<div style=\"border-left: 3px solid #000; padding: 1px; padding-left: 10px; background: #F0FAFF; \">\n",
    "<h2>Linking synapses to somas</h2>\n",
    "You might want to link synapses to the cell bodies or cell classes of the pre or post-synaptic cells.  To do this, you want to 'merge' (See <a href=\"https://pandas.pydata.org/docs/reference/api/pandas.DataFrame.merge.html\"> pandas merge docs </a> ) the information between a synapse table and a table of somas. </div>\n"
   ]
  },
  {
   "cell_type": "code",
   "execution_count": 19,
   "metadata": {},
   "outputs": [
    {
     "data": {
      "text/html": [
       "<div>\n",
       "<style scoped>\n",
       "    .dataframe tbody tr th:only-of-type {\n",
       "        vertical-align: middle;\n",
       "    }\n",
       "\n",
       "    .dataframe tbody tr th {\n",
       "        vertical-align: top;\n",
       "    }\n",
       "\n",
       "    .dataframe thead th {\n",
       "        text-align: right;\n",
       "    }\n",
       "</style>\n",
       "<table border=\"1\" class=\"dataframe\">\n",
       "  <thead>\n",
       "    <tr style=\"text-align: right;\">\n",
       "      <th></th>\n",
       "      <th>id_syn</th>\n",
       "      <th>pre_pt_root_id</th>\n",
       "      <th>post_pt_root_id</th>\n",
       "      <th>id_soma</th>\n",
       "      <th>pt_position</th>\n",
       "    </tr>\n",
       "  </thead>\n",
       "  <tbody>\n",
       "    <tr>\n",
       "      <th>0</th>\n",
       "      <td>163749</td>\n",
       "      <td>648518346495420989</td>\n",
       "      <td>648518346489272261</td>\n",
       "      <td>73044200236516457</td>\n",
       "      <td>[56784, 88928, 2723]</td>\n",
       "    </tr>\n",
       "    <tr>\n",
       "      <th>1</th>\n",
       "      <td>2301347</td>\n",
       "      <td>648518346445244039</td>\n",
       "      <td>648518346489272261</td>\n",
       "      <td>73044200236516457</td>\n",
       "      <td>[56784, 88928, 2723]</td>\n",
       "    </tr>\n",
       "    <tr>\n",
       "      <th>2</th>\n",
       "      <td>2339652</td>\n",
       "      <td>648518346493881079</td>\n",
       "      <td>648518346489272261</td>\n",
       "      <td>73044200236516457</td>\n",
       "      <td>[56784, 88928, 2723]</td>\n",
       "    </tr>\n",
       "    <tr>\n",
       "      <th>3</th>\n",
       "      <td>5521555</td>\n",
       "      <td>648518346464924021</td>\n",
       "      <td>648518346489272261</td>\n",
       "      <td>73044200236516457</td>\n",
       "      <td>[56784, 88928, 2723]</td>\n",
       "    </tr>\n",
       "    <tr>\n",
       "      <th>4</th>\n",
       "      <td>5654725</td>\n",
       "      <td>648518346361895324</td>\n",
       "      <td>648518346489272261</td>\n",
       "      <td>73044200236516457</td>\n",
       "      <td>[56784, 88928, 2723]</td>\n",
       "    </tr>\n",
       "    <tr>\n",
       "      <th>...</th>\n",
       "      <td>...</td>\n",
       "      <td>...</td>\n",
       "      <td>...</td>\n",
       "      <td>...</td>\n",
       "      <td>...</td>\n",
       "    </tr>\n",
       "    <tr>\n",
       "      <th>5814</th>\n",
       "      <td>48092480</td>\n",
       "      <td>648518346358923907</td>\n",
       "      <td>648518346489272261</td>\n",
       "      <td>73044200236516457</td>\n",
       "      <td>[56784, 88928, 2723]</td>\n",
       "    </tr>\n",
       "    <tr>\n",
       "      <th>5815</th>\n",
       "      <td>48213433</td>\n",
       "      <td>648518346489435852</td>\n",
       "      <td>648518346489272261</td>\n",
       "      <td>73044200236516457</td>\n",
       "      <td>[56784, 88928, 2723]</td>\n",
       "    </tr>\n",
       "    <tr>\n",
       "      <th>5816</th>\n",
       "      <td>48234040</td>\n",
       "      <td>648518346503830478</td>\n",
       "      <td>648518346489272261</td>\n",
       "      <td>73044200236516457</td>\n",
       "      <td>[56784, 88928, 2723]</td>\n",
       "    </tr>\n",
       "    <tr>\n",
       "      <th>5817</th>\n",
       "      <td>49453004</td>\n",
       "      <td>648518346506563230</td>\n",
       "      <td>648518346489272261</td>\n",
       "      <td>73044200236516457</td>\n",
       "      <td>[56784, 88928, 2723]</td>\n",
       "    </tr>\n",
       "    <tr>\n",
       "      <th>5818</th>\n",
       "      <td>51987778</td>\n",
       "      <td>648518346499213403</td>\n",
       "      <td>648518346489272261</td>\n",
       "      <td>73044200236516457</td>\n",
       "      <td>[56784, 88928, 2723]</td>\n",
       "    </tr>\n",
       "  </tbody>\n",
       "</table>\n",
       "<p>5819 rows × 5 columns</p>\n",
       "</div>"
      ],
      "text/plain": [
       "        id_syn      pre_pt_root_id     post_pt_root_id            id_soma  \\\n",
       "0       163749  648518346495420989  648518346489272261  73044200236516457   \n",
       "1      2301347  648518346445244039  648518346489272261  73044200236516457   \n",
       "2      2339652  648518346493881079  648518346489272261  73044200236516457   \n",
       "3      5521555  648518346464924021  648518346489272261  73044200236516457   \n",
       "4      5654725  648518346361895324  648518346489272261  73044200236516457   \n",
       "...        ...                 ...                 ...                ...   \n",
       "5814  48092480  648518346358923907  648518346489272261  73044200236516457   \n",
       "5815  48213433  648518346489435852  648518346489272261  73044200236516457   \n",
       "5816  48234040  648518346503830478  648518346489272261  73044200236516457   \n",
       "5817  49453004  648518346506563230  648518346489272261  73044200236516457   \n",
       "5818  51987778  648518346499213403  648518346489272261  73044200236516457   \n",
       "\n",
       "               pt_position  \n",
       "0     [56784, 88928, 2723]  \n",
       "1     [56784, 88928, 2723]  \n",
       "2     [56784, 88928, 2723]  \n",
       "3     [56784, 88928, 2723]  \n",
       "4     [56784, 88928, 2723]  \n",
       "...                    ...  \n",
       "5814  [56784, 88928, 2723]  \n",
       "5815  [56784, 88928, 2723]  \n",
       "5816  [56784, 88928, 2723]  \n",
       "5817  [56784, 88928, 2723]  \n",
       "5818  [56784, 88928, 2723]  \n",
       "\n",
       "[5819 rows x 5 columns]"
      ]
     },
     "execution_count": 19,
     "metadata": {},
     "output_type": "execute_result"
    }
   ],
   "source": [
    "# merging in the neuron table using 'left' ensures that every row\n",
    "# in the first dataframe passed (the synapse table) \n",
    "# has at least one entry in the result\n",
    "# more than 1 if there is more than one on the 'right'\n",
    "# (the second table passed)\n",
    "synapse_and_soma_df = pd.merge(post_synapse_df, soma_df,\n",
    "         left_on='post_pt_root_id',\n",
    "         right_on='pt_root_id',\n",
    "         how='left',\n",
    "         suffixes=['_syn', '_soma'])\n",
    "\n",
    "# now pt_position is the soma position\n",
    "# id_syn is the ID of the synapse\n",
    "# id_soma is the ID of the soma that had the matched root_id\n",
    "# pt_position is the position of that soma\n",
    "synapse_and_soma_df[['id_syn',\n",
    "                     'pre_pt_root_id',\n",
    "                     'post_pt_root_id',\n",
    "                     'id_soma',\n",
    "                     'pt_position']]"
   ]
  },
  {
   "cell_type": "markdown",
   "metadata": {},
   "source": [
    "<div style=\"border-left: 3px solid #000; padding: 1px; padding-left: 10px; background: #F0FAFF; \">\n",
    "    <h3>Mesh visualization</h3>\n",
    "Now we can plot these synapses in 2d, but we have the detailed 3d morphology of these neurons, so why don't we look at them!\n",
    " </div>"
   ]
  },
  {
   "cell_type": "code",
   "execution_count": 20,
   "metadata": {},
   "outputs": [],
   "source": [
    "# this is an EM specific package for getting meshes\n",
    "# and doing analysis on those meshes\n",
    "from meshparty import trimesh_io, trimesh_vtk\n",
    "from meshparty import skeletonize, skeleton_io, skeleton\n",
    "import cloudvolume"
   ]
  },
  {
   "cell_type": "markdown",
   "metadata": {},
   "source": [
    "<div style=\"border-left: 3px solid #000; padding: 1px; padding-left: 10px; background: #F0FAFF; \">\n",
    "To access the 3d meshes of neurons, we need use a MeshMeta object, make sure to pass the segmentation source (which you can get from the client!) and the segmentation id that you are interested in. In our case, we want to see the motor neuron and the strongest premotor neuron\n",
    "</div>"
   ]
  },
  {
   "cell_type": "code",
   "execution_count": 34,
   "metadata": {},
   "outputs": [
    {
     "name": "stdout",
     "output_type": "stream",
     "text": [
      "227\n",
      "0 - 2      \r"
     ]
    },
    {
     "name": "stderr",
     "output_type": "stream",
     "text": [
      "/Users/leilae/anaconda3/envs/micronsbinder/lib/python3.7/site-packages/numpy/core/fromnumeric.py:87: VisibleDeprecationWarning: Creating an ndarray from ragged nested sequences (which is a list-or-tuple of lists-or-tuples-or ndarrays with different lengths or shapes) is deprecated. If you meant to do this, you must specify 'dtype=object' when creating the ndarray.\n",
      "  return ufunc.reduce(obj, axis, dtype, out, **passkwargs)\n"
     ]
    },
    {
     "name": "stdout",
     "output_type": "stream",
     "text": [
      "Adding 11955 new edges.\n",
      "TIME MERGING: 1123.234s\n"
     ]
    }
   ],
   "source": [
    "from pathlib import Path\n",
    "import json\n",
    "        \n",
    "seg_source = client.info.segmentation_source()\n",
    "\n",
    "mm = trimesh_io.MeshMeta(cv_path =seg_source,\n",
    "                         disk_cache_path='../meshes',map_gs_to_https=True)\n",
    "motor_neuron_mesh = mm.mesh(seg_id = motor_neuron, remove_duplicate_vertices=True, merge_large_components=True)"
   ]
  },
  {
   "cell_type": "code",
   "execution_count": 35,
   "metadata": {},
   "outputs": [
    {
     "name": "stdout",
     "output_type": "stream",
     "text": [
      "27\n",
      "Adding 15280 new edges.\n",
      "TIME MERGING: 29.122s\n"
     ]
    }
   ],
   "source": [
    "# load the meshes\n",
    "premotor_mesh = mm.mesh(seg_id = max_input_neuron,remove_duplicate_vertices=True, merge_large_components=True)"
   ]
  },
  {
   "cell_type": "markdown",
   "metadata": {},
   "source": [
    "<div style=\"border-left: 3px solid #000; padding: 1px; padding-left: 10px; background: #F0FAFF; \">\n",
    "    \n",
    "Meshes are triangular meshes, that are composed of vertices (N,3) and faces (N,3) which are indices into the vertex list\n",
    "    \n",
    "\n",
    "The Mesh class is based upon trimesh (<a href=\"https://github.com/mikedh/trimesh\"> https://github.com/mikedh/trimesh</a>), with some added features for doing graphs\n",
    "\n",
    "You can find the source code for mesh party here .. <a href=\"https://github.com/sdorkenw/MeshParty\">https://github.com/sdorkenw/MeshParty </a>\n",
    "    </div>"
   ]
  },
  {
   "cell_type": "code",
   "execution_count": 36,
   "metadata": {},
   "outputs": [
    {
     "data": {
      "text/plain": [
       "((2666829, 3), (5434872, 3))"
      ]
     },
     "execution_count": 36,
     "metadata": {},
     "output_type": "execute_result"
    }
   ],
   "source": [
    "motor_neuron_mesh.vertices.shape, motor_neuron_mesh.faces.shape"
   ]
  },
  {
   "cell_type": "markdown",
   "metadata": {},
   "source": [
    "<div style=\"border-left: 3px solid #000; padding: 1px; padding-left: 10px; background: #F0FAFF; \">\n",
    "\n",
    "Below we are going to visualize things in 3d.  Different code paths  illustrate different visualization methods\n",
    "</div>\n"
   ]
  },
  {
   "cell_type": "code",
   "execution_count": 37,
   "metadata": {},
   "outputs": [
    {
     "name": "stdout",
     "output_type": "stream",
     "text": [
      "A VTK window should have popped up behind you\n",
      "WARNING YOU NEED TO CLOSE IT BY PRESSING Q TO MOVE ON\n",
      "setting up renderer\n",
      "done setting up\n",
      "actors added\n",
      "camera set\n",
      "render done\n",
      "finalizing..\n"
     ]
    }
   ],
   "source": [
    "# Set viewer equals None so vtk option doesn't error\n",
    "viewer = None\n",
    "if viz_method == 'itkwidgets':\n",
    "    #import ITK widgets view function\n",
    "    from itkwidgets import view\n",
    "    \n",
    "    # step 1\n",
    "    # convert your actors to vtkpolydata objects\n",
    "    post_poly_data = trimesh_vtk.trimesh_to_vtk(motor_neuron_mesh.vertices, motor_neuron_mesh.faces, None)\n",
    "    pre_poly_data = trimesh_vtk.trimesh_to_vtk(premotor_mesh.vertices, premotor_mesh.faces, None)\n",
    "\n",
    "    # step 2\n",
    "    # then create a viewer with this view function\n",
    "    # pass in polydata objects, what colors you want\n",
    "    # see docstring for more options\n",
    "    prepostviewer=view(geometries=[post_poly_data, pre_poly_data],\n",
    "                ui_collapsed=True)\n",
    "\n",
    "    # viewer controls..\n",
    "    # pinch movements:  to zoom in and out\n",
    "    # ctrl+wheel: on a mouse to do the same\n",
    "    # shift+drag: to pan\n",
    "\n",
    "    display(prepostviewer)\n",
    "elif viz_method == 'vtk':\n",
    "\n",
    "    # Step 1\n",
    "    # Convert meshes to actors, providing color and opacity\n",
    "    # options, you can provide vertex colors to color mesh vertices\n",
    "    # however these will only be relevant for vizmethod=vtk\n",
    "    post_actor = trimesh_vtk.mesh_actor(motor_neuron_mesh,\n",
    "                                    opacity=1.0,\n",
    "                                    color=(1,0,1))\n",
    "    pre_actor = trimesh_vtk.mesh_actor(premotor_mesh,\n",
    "                                   opacity=1.0,\n",
    "                                   color=(0,1,0))\n",
    "    print(\"A VTK window should have popped up behind you\")\n",
    "    print(\"WARNING YOU NEED TO CLOSE IT BY PRESSING Q TO MOVE ON\")\n",
    "    # step 2\n",
    "    # render them interactively with this function\n",
    "    # passing a list of actors\n",
    "    # can optionally specify a path to save a static image\n",
    "    trimesh_vtk.render_actors([pre_actor, post_actor])\n",
    "\n",
    "    # vtk controls\n",
    "    # pinch movements:  to zoom in and out\n",
    "    # ctrl+wheel: on a mouse to do the same\n",
    "    # shift+drag: to pan\n",
    "    # mouse over + f: to zoom to where you point and recenter camera there\n",
    "    # w: wireframe visualization\n",
    "    # s: surface visualization\n",
    "    # q: to exit visualization\n",
    "    \n"
   ]
  },
  {
   "cell_type": "code",
   "execution_count": 40,
   "metadata": {},
   "outputs": [
    {
     "name": "stdout",
     "output_type": "stream",
     "text": [
      "A VTK window should have popped up behind you\n",
      "WARNING YOU NEED TO CLOSE IT BY PRESSING Q TO MOVE ON\n",
      "setting up renderer\n",
      "done setting up\n",
      "actors added\n",
      "camera set\n",
      "render done\n",
      "finalizing..\n"
     ]
    }
   ],
   "source": [
    "# in vtk and vtkplotter there is more camera control\n",
    "# so this is how you would automatically center the camera\n",
    "# on the first synapse between these neurons\n",
    "max_synapses = post_synapse_df[post_synapse_df.pre_pt_root_id == max_input_neuron]\n",
    "\n",
    "# get the location of the first synapse (change 0 to 1 or 2 to look at others)\n",
    "syn_pos =convert_to_nm(max_synapses.iloc[[0]].post_pt_position)\n",
    "\n",
    "# create a camera object pointed at the synapse\n",
    "camera = trimesh_vtk.oriented_camera(syn_pos, backoff=20)\n",
    "\n",
    "\n",
    "if viz_method == 'vtk':\n",
    "    print(\"A VTK window should have popped up behind you\")\n",
    "    print(\"WARNING YOU NEED TO CLOSE IT BY PRESSING Q TO MOVE ON\")\n",
    "    # pass the camera to the render_actors function to control camera\n",
    "    trimesh_vtk.render_actors([post_actor, pre_actor], camera=camera)\n",
    "if viz_method == 'itkwidgets':\n",
    "    print(\"this should have changed the colors and the camera position in the widget above\")\n",
    "    prepostviewer.geometry_colors = np.array([[.8,0,.8], [0,1,0]], dtype=np.float32)\n",
    "    prepostviewer.camera = camera"
   ]
  },
  {
   "cell_type": "markdown",
   "metadata": {},
   "source": [
    "<div style=\"border-left: 3px solid #000; padding: 1px; padding-left: 10px; background: #F0FAFF; \">\n",
    "    <h3> Visualizing synapses </h3>\n",
    "Now what if we just want to see the synapse locations without the mesh of the other side\n",
    "</div>"
   ]
  },
  {
   "cell_type": "code",
   "execution_count": 41,
   "metadata": {
    "scrolled": false
   },
   "outputs": [
    {
     "name": "stdout",
     "output_type": "stream",
     "text": [
      "remember the window pops up behind\n",
      "setting up renderer\n",
      "done setting up\n",
      "actors added\n",
      "camera set\n",
      "render done\n",
      "finalizing..\n"
     ]
    }
   ],
   "source": [
    "# synapse sizes tend to distributed widely\n",
    "# so we are going to color and size them proportional to the log\n",
    "syn_color = np.log(post_synapse_df['score'].values)\n",
    "syn_size = 100*np.log(post_synapse_df['score'].values)\n",
    "\n",
    "# this will produce spheres at each point with sizes in nm\n",
    "# and color values that are mapped through a colormap\n",
    "# in VTK only you can pass explicit colors as well\n",
    "syn_actor = trimesh_vtk.point_cloud_actor(syn_pos_nm, size=syn_size, color=syn_color)\n",
    "\n",
    "if viz_method == 'vtk':\n",
    "    print('remember the window pops up behind')\n",
    "    trimesh_vtk.render_actors([post_actor, syn_actor])\n",
    "if viz_method == 'itkwidgets':\n",
    "    syn_pd = syn_actor.GetMapper().GetInput()\n",
    "    synviewer = view(geometries=[post_poly_data, syn_pd],\n",
    "                  geometry_colors=['m','g'],\n",
    "                  ui_collapsed=True)\n",
    "    display(synviewer)\n"
   ]
  },
  {
   "cell_type": "markdown",
   "metadata": {},
   "source": [
    "<div style=\"border-left: 3px solid #000; padding: 1px; padding-left: 10px; background: #F0FAFF; \">\n",
    "    <h3> Working with Skeletons </h3>\n",
    "    \n",
    "Just as the 3D mesh of the neuron is a reduced data representation of the imagery, one can further reduce a 3D mesh into a skeleton format which can benefit certain types of analyses by making it faster/ more optimal. The <a href = \"https://meshparty.readthedocs.io/en/latest/guide/skeletons.html\" >\"skeletonize\"</a> library within meshparty allows us to generate these skeletons from a mesh. Note that this algorithm generates a skeleton where skeleton points generated are a subset of the mesh points. For a few cells however, we have already generated these and provide this in the data directory.\n",
    "    \n",
    "The Meshwork library allows us to easily store these representations and helps us relate them to each other. A Meshwork object is a data structure that is designed to have three main components that are kept in sync with mesh and skeleton indices: \n",
    "    \n",
    "    mesh: a standard meshparty mesh\n",
    "    skeleton: a standard meshparty skeleton,\n",
    "    anno : is a class that holds dataframes and adds some extra info to keep track of indexing. \n",
    "    \n",
    "In addition, the meshwork object itself has a number of skeleton-like functions that know when to use mesh data and when to use skeleton data. For the most part of this tutorial, we will focus on using the skeleton object.\n",
    "\n",
    "</div>"
   ]
  },
  {
   "cell_type": "code",
   "execution_count": 45,
   "metadata": {},
   "outputs": [],
   "source": [
    "from meshparty import meshwork\n"
   ]
  },
  {
   "cell_type": "markdown",
   "metadata": {},
   "source": [
    "<div style=\"border-left: 3px solid #000; padding: 1px; padding-left: 10px; background: #F0FAFF; \">\n",
    "Attributes of meshworks objects:\n",
    "    \n",
    "    nrn.mesh, nrn.skeleton, nrn.anno\n",
    "\n",
    "    \n",
    "Let us now try to visualize the skeleton: nrn.skeleton:\n",
    "</div>"
   ]
  },
  {
   "cell_type": "code",
   "execution_count": 75,
   "metadata": {},
   "outputs": [
    {
     "data": {
      "text/plain": [
       "382390.39999999997"
      ]
     },
     "execution_count": 75,
     "metadata": {},
     "output_type": "execute_result"
    }
   ],
   "source": [
    "test = convert_to_nm(soma_df.pt_position[soma_df.pt_root_id == motor_neuron])[0]\n",
    "test[1]"
   ]
  },
  {
   "cell_type": "code",
   "execution_count": 77,
   "metadata": {},
   "outputs": [
    {
     "name": "stderr",
     "output_type": "stream",
     "text": [
      "100%|██████████| 2602521/2602521 [02:41<00:00, 16148.78it/s] \n"
     ]
    },
    {
     "ename": "IndexError",
     "evalue": "index 1 is out of bounds for axis 0 with size 1",
     "output_type": "error",
     "traceback": [
      "\u001b[0;31m---------------------------------------------------------------------------\u001b[0m",
      "\u001b[0;31mIndexError\u001b[0m                                Traceback (most recent call last)",
      "\u001b[0;32m<ipython-input-77-5a06caf09415>\u001b[0m in \u001b[0;36m<module>\u001b[0;34m\u001b[0m\n\u001b[1;32m      3\u001b[0m \u001b[0;34m\u001b[0m\u001b[0m\n\u001b[1;32m      4\u001b[0m \u001b[0;31m#create a skeleton for this neuron\u001b[0m\u001b[0;34m\u001b[0m\u001b[0;34m\u001b[0m\u001b[0;34m\u001b[0m\u001b[0m\n\u001b[0;32m----> 5\u001b[0;31m \u001b[0mmotor_neuron_mw\u001b[0m\u001b[0;34m.\u001b[0m\u001b[0mskeletonize_mesh\u001b[0m\u001b[0;34m(\u001b[0m\u001b[0msoma_pt\u001b[0m\u001b[0;34m=\u001b[0m\u001b[0msoma_point\u001b[0m\u001b[0;34m)\u001b[0m\u001b[0;34m\u001b[0m\u001b[0;34m\u001b[0m\u001b[0m\n\u001b[0m\u001b[1;32m      6\u001b[0m \u001b[0;34m\u001b[0m\u001b[0m\n\u001b[1;32m      7\u001b[0m \u001b[0;31m# #since we have them, let's add the synapses onto this neuron as an annotation\u001b[0m\u001b[0;34m\u001b[0m\u001b[0;34m\u001b[0m\u001b[0;34m\u001b[0m\u001b[0m\n",
      "\u001b[0;32m~/anaconda3/envs/micronsbinder/lib/python3.7/site-packages/meshparty/meshwork/meshwork.py\u001b[0m in \u001b[0;36mskeletonize_mesh\u001b[0;34m(self, soma_pt, collapse_soma, soma_thresh_distance, invalidation_distance, compute_radius, shape_function, overwrite, collapse_function, collapse_params)\u001b[0m\n\u001b[1;32m    815\u001b[0m                 \u001b[0mcollapse_function\u001b[0m\u001b[0;34m=\u001b[0m\u001b[0mcollapse_function\u001b[0m\u001b[0;34m,\u001b[0m\u001b[0;34m\u001b[0m\u001b[0;34m\u001b[0m\u001b[0m\n\u001b[1;32m    816\u001b[0m                 \u001b[0mcollapse_params\u001b[0m\u001b[0;34m=\u001b[0m\u001b[0mcollapse_params\u001b[0m\u001b[0;34m,\u001b[0m\u001b[0;34m\u001b[0m\u001b[0;34m\u001b[0m\u001b[0m\n\u001b[0;32m--> 817\u001b[0;31m                 \u001b[0mmeta\u001b[0m\u001b[0;34m=\u001b[0m\u001b[0;34m{\u001b[0m\u001b[0;34m\"root_id\"\u001b[0m\u001b[0;34m:\u001b[0m \u001b[0mself\u001b[0m\u001b[0;34m.\u001b[0m\u001b[0mseg_id\u001b[0m\u001b[0;34m}\u001b[0m\u001b[0;34m,\u001b[0m\u001b[0;34m\u001b[0m\u001b[0;34m\u001b[0m\u001b[0m\n\u001b[0m\u001b[1;32m    818\u001b[0m             )\n\u001b[1;32m    819\u001b[0m             \u001b[0mself\u001b[0m\u001b[0;34m.\u001b[0m\u001b[0m_reset_indices\u001b[0m\u001b[0;34m(\u001b[0m\u001b[0;34m)\u001b[0m\u001b[0;34m\u001b[0m\u001b[0;34m\u001b[0m\u001b[0m\n",
      "\u001b[0;32m~/anaconda3/envs/micronsbinder/lib/python3.7/site-packages/meshparty/skeletonize.py\u001b[0m in \u001b[0;36mskeletonize_mesh\u001b[0;34m(mesh, soma_pt, soma_radius, collapse_soma, collapse_function, invalidation_d, smooth_vertices, compute_radius, shape_function, compute_original_index, verbose, smooth_iterations, smooth_neighborhood, smooth_r, cc_vertex_thresh, root_index, remove_zero_length_edges, collapse_params, meta)\u001b[0m\n\u001b[1;32m    230\u001b[0m     sk_params = {\n\u001b[1;32m    231\u001b[0m         \u001b[0;34m\"soma_pt_x\"\u001b[0m\u001b[0;34m:\u001b[0m \u001b[0msoma_pt\u001b[0m\u001b[0;34m[\u001b[0m\u001b[0;36m0\u001b[0m\u001b[0;34m]\u001b[0m \u001b[0;32mif\u001b[0m \u001b[0msoma_pt\u001b[0m \u001b[0;32mis\u001b[0m \u001b[0;32mnot\u001b[0m \u001b[0;32mNone\u001b[0m \u001b[0;32melse\u001b[0m \u001b[0;32mNone\u001b[0m\u001b[0;34m,\u001b[0m\u001b[0;34m\u001b[0m\u001b[0;34m\u001b[0m\u001b[0m\n\u001b[0;32m--> 232\u001b[0;31m         \u001b[0;34m\"soma_pt_y\"\u001b[0m\u001b[0;34m:\u001b[0m \u001b[0msoma_pt\u001b[0m\u001b[0;34m[\u001b[0m\u001b[0;36m1\u001b[0m\u001b[0;34m]\u001b[0m \u001b[0;32mif\u001b[0m \u001b[0msoma_pt\u001b[0m \u001b[0;32mis\u001b[0m \u001b[0;32mnot\u001b[0m \u001b[0;32mNone\u001b[0m \u001b[0;32melse\u001b[0m \u001b[0;32mNone\u001b[0m\u001b[0;34m,\u001b[0m\u001b[0;34m\u001b[0m\u001b[0;34m\u001b[0m\u001b[0m\n\u001b[0m\u001b[1;32m    233\u001b[0m         \u001b[0;34m\"soma_pt_z\"\u001b[0m\u001b[0;34m:\u001b[0m \u001b[0msoma_pt\u001b[0m\u001b[0;34m[\u001b[0m\u001b[0;36m2\u001b[0m\u001b[0;34m]\u001b[0m \u001b[0;32mif\u001b[0m \u001b[0msoma_pt\u001b[0m \u001b[0;32mis\u001b[0m \u001b[0;32mnot\u001b[0m \u001b[0;32mNone\u001b[0m \u001b[0;32melse\u001b[0m \u001b[0;32mNone\u001b[0m\u001b[0;34m,\u001b[0m\u001b[0;34m\u001b[0m\u001b[0;34m\u001b[0m\u001b[0m\n\u001b[1;32m    234\u001b[0m         \u001b[0;34m\"soma_radius\"\u001b[0m\u001b[0;34m:\u001b[0m \u001b[0msoma_radius\u001b[0m\u001b[0;34m,\u001b[0m\u001b[0;34m\u001b[0m\u001b[0;34m\u001b[0m\u001b[0m\n",
      "\u001b[0;31mIndexError\u001b[0m: index 1 is out of bounds for axis 0 with size 1"
     ]
    }
   ],
   "source": [
    "#convert our mesh object into a meshwork object\n",
    "motor_neuron_mw = meshwork.Meshwork(motor_neuron_mesh, seg_id=motor_neuron,voxel_resolution=[4.3,4.3,45])\n",
    "\n",
    "#create a skeleton for this neuron\n",
    "motor_neuron_mw.skeletonize_mesh(soma_pt=soma_point)\n",
    "\n",
    "# #since we have them, let's add the synapses onto this neuron as an annotation \n",
    "motor_neuron_mw.add_annotations('post_synapses', post_synapse_df, point_column='post_pt_position')"
   ]
  },
  {
   "cell_type": "code",
   "execution_count": 49,
   "metadata": {},
   "outputs": [
    {
     "name": "stdout",
     "output_type": "stream",
     "text": [
      "setting up renderer\n",
      "done setting up\n",
      "actors added\n",
      "camera set\n",
      "render done\n",
      "finalizing..\n"
     ]
    }
   ],
   "source": [
    "#Let us try to visualize the skeleton:\n",
    "# Visualize the whole skeleton \n",
    "skeleton_actor= trimesh_vtk.skeleton_actor(motor_neuron_mw.skeleton,color=(0.5,0,0.2))\n",
    "if viz_method=='vtk':\n",
    "    \n",
    "    trimesh_vtk.render_actors([skeleton_actor])\n",
    "elif viz_method=='itkwidgets':\n",
    "    sk_pd = skeleton_actor.GetMapper().GetInput()\n",
    "    skviewer = view(geometries=[sk_pd],\n",
    "                  geometry_colors=['k'],\n",
    "                  ui_collapsed=True)\n",
    "    display(skviewer)"
   ]
  },
  {
   "cell_type": "markdown",
   "metadata": {},
   "source": [
    "<div style=\"border-left: 3px solid #000; padding: 1px; padding-left: 10px; background: #F0FAFF; \">\n",
    "    <h3>Indexing And Selecting Sets of Interesting Points</h3>\n",
    "\n",
    "Ok, you are probably really fried by now, but here is one important thing to remember about this meshworks object. The meshworks object contains a mesh with lots of vertices and a skeleton which holds a subset of these vertices. Therefore, in python these points have different \"indices\" in the mesh and skeleton. For example, if the mesh contains 10000 vertices, the indexing of those would run from 0 - 9999. The skeleton, which contains a subset of 100 of these would have indexing from 0-99. How would you figure out which of the mesh vertices these correspond to?\n",
    "    \n",
    "Luckily, we have some really nifty functions that help us distinguish those:\n",
    "    \n",
    "Let us first look at some attributes in the meshworks objects:\n",
    "    \n",
    "</div>"
   ]
  },
  {
   "cell_type": "code",
   "execution_count": 37,
   "metadata": {},
   "outputs": [
    {
     "name": "stdout",
     "output_type": "stream",
     "text": [
      "Branch points with mesh indices: \n",
      " [  286   665  1821  2434  2913  3061  3075  3794  3851  4317  4681  4946\n",
      "  5092  4890  5212  5233  5257  5311  5406  5467  5603  5875  5916  5829\n",
      "  6042  6077  5976  6182  6142  6372  6617  6635  7014  7063  6856  7344\n",
      "  7353  7024  7632  7274  7647  7802  7511  7597  7608  7987  7999  7628\n",
      "  8040  8046  7683  8240  7895  8256  7912  8270  8299  7002  8429  8098\n",
      "  8865  8852  9028  9053  8937  9101  9076  9248  9308  9396  9407  9623\n",
      "  9637  9643  9521  9540  9938  9604  9829 10023 10051 10052 10063  9874\n",
      " 10257 10335 10982 11203 11367 11370 11557 11764 11846 12418 12497 12647\n",
      " 13106 13161 13711 13995 14150 14740 14860 15035 15656 16287]\n",
      "Branch points with skeleton indices: \n",
      " [ 206  482 1079 1425 1580 1646 1708 2040 2070 2289 2403 2527 2590 2606\n",
      " 2658 2674 2688 2710 2752 2781 2846 2991 3019 3045 3063 3079 3133 3138\n",
      " 3221 3324 3443 3451 3492 3516 3553 3603 3608 3609 3704 3705 3713 3778\n",
      " 3793 3811 3815 3818 3823 3830 3840 3846 3847 3922 3924 3929 3933 3935\n",
      " 3954 3982 3984 3987 4143 4201 4211 4219 4242 4243 4301 4327 4357 4396\n",
      " 4401 4493 4496 4500 4518 4529 4625 4634 4651 4652 4667 4668 4675 4676\n",
      " 4753 4786 5134 5139 5210 5213 5362 5374 5416 5680 5717 5789 6005 6033\n",
      " 6296 6432 6497 6824 6858 6952 7304 7672]\n"
     ]
    }
   ],
   "source": [
    "#Branch points\n",
    "print(\"Branch points with mesh indices: \\n\", nrn.branch_points)\n",
    "print(\"Branch points with skeleton indices: \\n\",nrn.branch_points_skel)\n",
    "\n",
    "# nrn.branch_points returns a list of branch points of the cell as a mesh index.\n",
    "# What it's actually doing is finding the branch points of the skeleton, \n",
    "# then looking up a single mesh vertex that corresponds to that skeleton vertex."
   ]
  },
  {
   "cell_type": "code",
   "execution_count": 38,
   "metadata": {},
   "outputs": [
    {
     "name": "stdout",
     "output_type": "stream",
     "text": [
      "End points with mesh indices: \n",
      " [    0    32    57   265   639   709   806   860   865   883   967   983\n",
      "   991  1217  1286  1313  1327  1364  1523  1656  1926  2032  2050  2116\n",
      "  2365  2387  2734  2982  3159  3338  3616  3769  3801  3814  3895  4219\n",
      "  4244  4248  4555  4798  4904  5240  5344  5694  5842  6153  6204  6313\n",
      "  6449  6767  6920  7028  7142  7445  7768  7813  8161  8705  8767  8795\n",
      "  8799  8950  9005  9262  9699  9721  9876 11165 11204 11205 11282 11381\n",
      " 11393 12093 12474 12768 12827 12967 13116 13131 13283 13376 13394 13409\n",
      " 13618 13635 13647 13681 13941 14245 14250 14495 14534 14569 14738 14810\n",
      " 14917 15021 15164 15211 15232 15374 15394 15475 15498 15701 15880 15977\n",
      " 16158 16271 16330 16538 16559 16590 16651 16852 16882]\n",
      "End points with skeleton indices: \n",
      " [   0   20   39  192  465  510  575  610  615  627  673  683  689  790\n",
      "  823  838  848  867  943 1005 1137 1190 1202 1234 1342 1355 1505 1608\n",
      " 1700 1777 1901 1973 1990 1998 2037 2173 2183 2186 2331 2468 2510 2678\n",
      " 2717 2902 2975 3127 3146 3210 3260 3424 3457 3494 3550 3658 3758 3785\n",
      " 3895 4079 4106 4117 4118 4176 4200 4332 4532 4537 4603 5122 5140 5141\n",
      " 5173 5217 5225 5523 5707 5840 5874 5936 6010 6017 6092 6139 6150 6160\n",
      " 6258 6266 6270 6282 6408 6535 6538 6662 6685 6700 6788 6831 6891 6946\n",
      " 7023 7056 7067 7152 7168 7211 7229 7327 7426 7481 7587 7661 7699 7820\n",
      " 7830 7848 7880 8002 8016]\n"
     ]
    }
   ],
   "source": [
    "#End points\n",
    "print(\"End points with mesh indices: \\n\", nrn.end_points)\n",
    "print(\"End points with skeleton indices: \\n\",nrn.end_points_skel)\n",
    "\n"
   ]
  },
  {
   "cell_type": "code",
   "execution_count": 39,
   "metadata": {},
   "outputs": [
    {
     "name": "stdout",
     "output_type": "stream",
     "text": [
      "Root point with mesh indices:  7002\n",
      "Root point with skeleton indices:  [3982]\n"
     ]
    }
   ],
   "source": [
    "#Root - point associated with the root node\n",
    "print(\"Root point with mesh indices: \", nrn.root)\n",
    "print(\"Root point with skeleton indices: \",nrn.root_skel)\n"
   ]
  },
  {
   "cell_type": "markdown",
   "metadata": {},
   "source": [
    "<div style=\"border-left: 3px solid #000; padding: 1px; padding-left: 10px; background: #F0FAFF; \">\n",
    "    Finally One last nifty function for subselecting points: downstream points.\n",
    "    For a given point, downstream points are defined as points on paths from endpoints to the root which are further than the given point. For example, if the skeleton path is : A-B-C-D-E where A is the root, D and E are downstream points of C. With branching, this can be more complex. To find the downstream points from say the 9th branch point, we can do:\n",
    "    \n",
    "</div>"
   ]
  },
  {
   "cell_type": "code",
   "execution_count": 40,
   "metadata": {},
   "outputs": [
    {
     "data": {
      "text/plain": [
       "JointMeshIndex([ 265,  275,  276,  277,  278,  288,  289,  295,  302,\n",
       "                 303,  304,  305,  306,  307,  308,  316,  317,  318,\n",
       "                 319,  327,  335,  343,  344,  351,  352,  359,  360,\n",
       "                 365,  366,  375,  376,  386,  393,  398,  399,  403,\n",
       "                 410,  411,  421,  422,  430,  434,  440,  441,  448,\n",
       "                 449,  450,  455,  456,  457,  461,  470,  471,  478,\n",
       "                 479,  484,  485,  486,  487,  491,  492,  493,  498,\n",
       "                 499,  504,  505,  512,  515,  519,  524,  530,  531,\n",
       "                 536,  537,  542,  547,  548,  561,  562,  569,  575,\n",
       "                 582,  588,  589,  594,  595,  604,  605,  615,  616,\n",
       "                 622,  623,  624,  632,  633,  639,  640,  641,  642,\n",
       "                 643,  647,  648,  649,  650,  651,  652,  658,  659,\n",
       "                 660,  661,  662,  663,  664,  665,  666,  671,  672,\n",
       "                 673,  674,  675,  676,  677,  678,  679,  680,  681,\n",
       "                 682,  683,  684,  685,  690,  691,  692,  693,  700,\n",
       "                 701,  702,  703,  713,  714,  715,  728,  729,  730,\n",
       "                 738,  739,  740,  741,  750,  751,  752,  753,  761,\n",
       "                 762,  763,  769,  770,  771,  772,  783,  784,  785,\n",
       "                 798,  799,  815,  816,  817,  829,  830,  831,  840,\n",
       "                 841,  853,  854,  855,  856,  869,  870,  871,  886,\n",
       "                 887,  888,  904,  905,  906,  907,  927,  928,  929,\n",
       "                 930,  931,  952,  953,  954,  955,  956,  957,  973,\n",
       "                 974,  975,  976,  977,  978,  979,  980, 1006, 1007,\n",
       "                1008, 1039, 1040, 1041, 1042, 1073, 1074, 1112, 1113,\n",
       "                1114, 1115, 1147, 1148, 1149, 1150, 1151, 1180, 1181,\n",
       "                1182, 1218, 1219, 1267, 1268, 1312, 1313, 1314, 1315,\n",
       "                1316, 1317, 1318, 1319, 1320, 1321, 1322, 1323, 1324,\n",
       "                1325, 1326, 1369, 1370, 1371, 1372, 1373, 1374, 1375,\n",
       "                1376, 1377, 1424, 1425, 1426, 1427, 1472, 1473, 1474,\n",
       "                1475, 1517, 1518, 1519, 1573, 1574, 1575, 1576, 1577,\n",
       "                1578, 1636, 1637, 1638, 1639, 1640, 1641, 1695, 1696,\n",
       "                1697, 1698, 1699, 1700, 1755, 1756, 1757, 1758, 1759,\n",
       "                1760, 1820, 1821, 1822, 1899, 1900, 1966, 1967, 2032,\n",
       "                2033, 2040, 2041, 2042, 2119, 2120, 2121, 2122, 2125,\n",
       "                2126, 2198, 2199, 2200, 2201, 2202, 2204, 2205, 2275,\n",
       "                2276, 2278, 2279, 2280, 2365, 2366, 2367, 2371, 2372,\n",
       "                2465, 2466, 2467, 2468, 2469, 2472, 2473, 2474, 2475,\n",
       "                2551, 2552, 2553, 2554, 2555, 2556, 2558, 2559, 2560,\n",
       "                2641, 2642, 2644, 2646, 2647, 2648, 2649, 2650, 2745,\n",
       "                2746, 2747, 2748, 2750, 2752, 2753, 2754, 2755, 2756,\n",
       "                2865, 2866, 2867, 2869, 2871, 2872, 2873, 2874, 2958,\n",
       "                2959, 2960, 2961, 2962, 2963, 2964, 2965, 2966, 2968,\n",
       "                2969, 2971, 2972, 2974, 2975, 2976, 2977, 2978, 2979,\n",
       "                3058, 3059, 3060, 3061, 3062, 3063, 3064, 3065, 3066,\n",
       "                3069, 3070, 3073, 3074, 3075, 3076, 3077, 3078, 3079,\n",
       "                3080, 3081, 3082, 3083, 3084, 3085, 3086, 3087, 3088,\n",
       "                3089, 3090, 3091, 3092, 3093, 3094, 3095, 3166, 3167,\n",
       "                3168, 3169, 3170, 3171, 3172, 3174, 3175, 3178, 3179,\n",
       "                3180, 3181, 3182, 3183, 3184, 3185, 3186, 3187, 3188,\n",
       "                3189, 3190, 3191, 3192, 3193, 3194, 3195, 3196, 3197,\n",
       "                3198, 3199, 3200, 3201, 3202, 3203, 3204, 3205, 3206,\n",
       "                3207, 3208, 3209, 3210, 3211, 3212, 3213, 3298, 3299,\n",
       "                3300, 3301, 3302, 3303, 3304, 3305, 3306, 3310, 3311,\n",
       "                3312, 3313, 3314, 3315, 3316, 3317, 3318, 3319, 3320,\n",
       "                3321, 3322, 3323, 3324, 3325, 3326, 3327, 3328, 3329,\n",
       "                3330, 3331, 3332, 3333, 3334, 3425, 3426, 3427, 3428,\n",
       "                3429, 3430, 3431, 3432, 3433, 3434, 3435, 3436, 3437,\n",
       "                3438, 3439, 3440, 3441, 3444, 3445, 3446, 3447, 3448,\n",
       "                3449, 3450, 3451, 3452, 3453, 3454, 3455, 3456, 3457,\n",
       "                3458, 3459, 3460, 3461, 3462, 3463, 3464, 3465, 3466,\n",
       "                3467, 3468, 3563, 3564, 3565, 3566, 3567, 3568, 3569,\n",
       "                3570, 3571, 3572, 3573, 3574, 3575, 3576, 3577, 3578,\n",
       "                3579, 3582, 3583, 3584, 3585, 3586, 3587, 3588, 3589,\n",
       "                3590, 3591, 3592, 3593, 3594, 3595, 3596, 3597, 3675,\n",
       "                3676, 3677, 3678, 3679, 3680, 3681, 3684, 3685, 3686,\n",
       "                3687, 3688, 3689, 3690, 3691, 3692, 3693, 3769, 3770,\n",
       "                3771, 3772, 3773, 3778, 3779, 3780, 3781, 3782, 3783,\n",
       "                3784, 3785, 3786, 3787, 3788, 3789, 3790, 3791, 3792,\n",
       "                3793, 3794, 3899, 3900, 3901, 3902, 3903, 3904, 3905,\n",
       "                3906, 3907, 4048, 4049])"
      ]
     },
     "execution_count": 40,
     "metadata": {},
     "output_type": "execute_result"
    }
   ],
   "source": [
    "#Downstream points\n",
    "\n",
    "nrn.downstream_of(nrn.branch_points[7])"
   ]
  },
  {
   "cell_type": "markdown",
   "metadata": {},
   "source": [
    "<div style=\"border-left: 3px solid #000; padding: 1px; padding-left: 10px; background: #F0FAFF; \">\n",
    "    <h3> Masking</h3>\n",
    "Just like meshparty meshes, we can mask the meshwork object. Like all basic meshwork functions, the expected input is in mesh vertices. Importantly, doing so will be synchronized across the mesh, the skeleton, and annotations. Do not use the nrn.mesh.apply_mask or nrn.skeleton.apply_mask functions\n",
    "    \n",
    "</div>"
   ]
  },
  {
   "cell_type": "code",
   "execution_count": 41,
   "metadata": {},
   "outputs": [
    {
     "name": "stdout",
     "output_type": "stream",
     "text": [
      "setting up renderer\n",
      "done setting up\n",
      "actors added\n",
      "camera set\n",
      "render done\n",
      "finalizing..\n"
     ]
    }
   ],
   "source": [
    "nrn.reset_mask() #VERY IMPORTANT - needed to ensure the mask query is run on the whole object\n",
    "\n",
    "full_object_skeleton = trimesh_vtk.skeleton_actor(nrn.skeleton, color=(0.5,0.5,0.5), line_width=1, opacity=0.5, )\n",
    "\n",
    "nrn.apply_mask(nrn.downstream_of(nrn.branch_points[7]).to_mesh_mask)\n",
    "\n",
    "masked_object_skeleton = trimesh_vtk.skeleton_actor(nrn.skeleton, color=(1,0,0), line_width=4, opacity=0.5, )\n",
    "nrn.reset_mask() # if you are going to do any more operations after this, make sure this is reset\n",
    "if viz_method=='vtk': \n",
    "    trimesh_vtk.render_actors([full_object_skeleton, masked_object_skeleton])\n",
    "elif viz_method=='itkwidgets':\n",
    "    fos_pd = full_object_skeleton.GetMapper().GetInput()\n",
    "    mos_pd = masked_object_skeleton.GetMapper().GetInput()\n",
    "    viewer = view(geometries=[fos_pd, mos_pd], ui_collapsed=True)\n",
    "viewer"
   ]
  },
  {
   "cell_type": "code",
   "execution_count": 42,
   "metadata": {},
   "outputs": [],
   "source": [
    "# with itkwidgets you have to set colors after setting up rendering\n",
    "# due to a bug, the widget should change colors when you do this\n",
    "if viz_method=='itkwidgets':\n",
    "    viewer.geometry_colors = np.array([[0,0,0], [1,0,0]], dtype=np.float32)"
   ]
  },
  {
   "cell_type": "markdown",
   "metadata": {},
   "source": [
    "<div style=\"border-left: 3px solid #000; padding: 1px; padding-left: 10px; background: #F0FAFF; \">\n",
    "    <h3> Annotations</h3>\n",
    "`nrn.anno` has set of dataframes containing some additional information for analysis. To find out what information it contains, look at the table_names attribute: \n",
    "    \n",
    "</div>"
   ]
  },
  {
   "cell_type": "code",
   "execution_count": 43,
   "metadata": {},
   "outputs": [
    {
     "name": "stdout",
     "output_type": "stream",
     "text": [
      "['is_axon', 'lvl2_ids', 'post_syn', 'pre_syn']\n"
     ]
    }
   ],
   "source": [
    "\n",
    "print(nrn.anno.table_names)\n",
    "#This shows that there are four dataframes:\n",
    "#'is_axon' is the annotation of mesh vertices on the axon\n",
    "#'lvl2_ids' gives the annotation of corresponding level 2 ids\n",
    "#'post_syn' is the annotation of synapses for which this cell is the postsynaptic cell\n",
    "#'pre_syn' is the annotation of synapses for which this cell is the presynaptic cell"
   ]
  },
  {
   "cell_type": "markdown",
   "metadata": {},
   "source": [
    "<div style=\"border-left: 3px solid #000; padding: 1px; padding-left: 10px; background: #F0FAFF; \">\n",
    "    \n",
    "How do annotations work?\n",
    "\n",
    "Let's look at the pre_syn annotation. You can access the data as a dataframe with `.df`\n",
    "    \n",
    "</div>"
   ]
  },
  {
   "cell_type": "code",
   "execution_count": 44,
   "metadata": {},
   "outputs": [
    {
     "data": {
      "text/html": [
       "<div>\n",
       "<style scoped>\n",
       "    .dataframe tbody tr th:only-of-type {\n",
       "        vertical-align: middle;\n",
       "    }\n",
       "\n",
       "    .dataframe tbody tr th {\n",
       "        vertical-align: top;\n",
       "    }\n",
       "\n",
       "    .dataframe thead th {\n",
       "        text-align: right;\n",
       "    }\n",
       "</style>\n",
       "<table border=\"1\" class=\"dataframe\">\n",
       "  <thead>\n",
       "    <tr style=\"text-align: right;\">\n",
       "      <th></th>\n",
       "      <th>ctr_pt_position</th>\n",
       "      <th>id</th>\n",
       "      <th>post_pt_position</th>\n",
       "      <th>post_pt_root_id</th>\n",
       "      <th>post_pt_supervoxel_id</th>\n",
       "      <th>pre_pt_level2_id</th>\n",
       "      <th>pre_pt_mesh_ind</th>\n",
       "      <th>pre_pt_position</th>\n",
       "      <th>pre_pt_root_id</th>\n",
       "      <th>pre_pt_supervoxel_id</th>\n",
       "      <th>size</th>\n",
       "      <th>valid</th>\n",
       "    </tr>\n",
       "  </thead>\n",
       "  <tbody>\n",
       "    <tr>\n",
       "      <th>0</th>\n",
       "      <td>[334339, 186187, 14981]</td>\n",
       "      <td>417888700</td>\n",
       "      <td>[334262, 186182, 14986]</td>\n",
       "      <td>864691136003771811</td>\n",
       "      <td>110706870863421474</td>\n",
       "      <td>182764464901194038</td>\n",
       "      <td>10704</td>\n",
       "      <td>[334322, 186232, 14974]</td>\n",
       "      <td>864691135382556378</td>\n",
       "      <td>110706870863403809</td>\n",
       "      <td>10268</td>\n",
       "      <td>t</td>\n",
       "    </tr>\n",
       "    <tr>\n",
       "      <th>1</th>\n",
       "      <td>[289544, 154950, 19325]</td>\n",
       "      <td>346520240</td>\n",
       "      <td>[289474, 154950, 19323]</td>\n",
       "      <td>864691135221226001</td>\n",
       "      <td>104580598769052187</td>\n",
       "      <td>176638192806527839</td>\n",
       "      <td>732</td>\n",
       "      <td>[289552, 154944, 19329]</td>\n",
       "      <td>864691135382556378</td>\n",
       "      <td>104580598769061898</td>\n",
       "      <td>5472</td>\n",
       "      <td>t</td>\n",
       "    </tr>\n",
       "    <tr>\n",
       "      <th>2</th>\n",
       "      <td>[349478, 188808, 19771]</td>\n",
       "      <td>447542841</td>\n",
       "      <td>[349438, 188768, 19772]</td>\n",
       "      <td>864691135181775618</td>\n",
       "      <td>112818277390356741</td>\n",
       "      <td>184875871427887368</td>\n",
       "      <td>14660</td>\n",
       "      <td>[349464, 188878, 19768]</td>\n",
       "      <td>864691135382556378</td>\n",
       "      <td>112818277390360089</td>\n",
       "      <td>8200</td>\n",
       "      <td>t</td>\n",
       "    </tr>\n",
       "    <tr>\n",
       "      <th>3</th>\n",
       "      <td>[338360, 183264, 21308]</td>\n",
       "      <td>424192438</td>\n",
       "      <td>[338406, 183270, 21303]</td>\n",
       "      <td>864691135614120651</td>\n",
       "      <td>111269409305488726</td>\n",
       "      <td>183327003343061732</td>\n",
       "      <td>12156</td>\n",
       "      <td>[338338, 183244, 21308]</td>\n",
       "      <td>864691135382556378</td>\n",
       "      <td>111269409305486139</td>\n",
       "      <td>3232</td>\n",
       "      <td>t</td>\n",
       "    </tr>\n",
       "    <tr>\n",
       "      <th>4</th>\n",
       "      <td>[232692, 210082, 27094]</td>\n",
       "      <td>248795451</td>\n",
       "      <td>[232746, 210018, 27091]</td>\n",
       "      <td>864691135764230692</td>\n",
       "      <td>96777022156054639</td>\n",
       "      <td>168834684912927623</td>\n",
       "      <td>5</td>\n",
       "      <td>[232646, 210142, 27088]</td>\n",
       "      <td>864691135382556378</td>\n",
       "      <td>96777090875529428</td>\n",
       "      <td>2860</td>\n",
       "      <td>t</td>\n",
       "    </tr>\n",
       "    <tr>\n",
       "      <th>...</th>\n",
       "      <td>...</td>\n",
       "      <td>...</td>\n",
       "      <td>...</td>\n",
       "      <td>...</td>\n",
       "      <td>...</td>\n",
       "      <td>...</td>\n",
       "      <td>...</td>\n",
       "      <td>...</td>\n",
       "      <td>...</td>\n",
       "      <td>...</td>\n",
       "      <td>...</td>\n",
       "      <td>...</td>\n",
       "    </tr>\n",
       "    <tr>\n",
       "      <th>369</th>\n",
       "      <td>[355067, 173097, 17404]</td>\n",
       "      <td>455786095</td>\n",
       "      <td>[355046, 173066, 17394]</td>\n",
       "      <td>864691135589894923</td>\n",
       "      <td>113590202937265405</td>\n",
       "      <td>185647796974518831</td>\n",
       "      <td>15395</td>\n",
       "      <td>[355088, 173052, 17409]</td>\n",
       "      <td>864691135382556378</td>\n",
       "      <td>113590202937293072</td>\n",
       "      <td>16732</td>\n",
       "      <td>t</td>\n",
       "    </tr>\n",
       "    <tr>\n",
       "      <th>370</th>\n",
       "      <td>[269030, 117510, 17692]</td>\n",
       "      <td>310645343</td>\n",
       "      <td>[269036, 117478, 17691]</td>\n",
       "      <td>864691135841225699</td>\n",
       "      <td>101760832278702019</td>\n",
       "      <td>173818426316292796</td>\n",
       "      <td>406</td>\n",
       "      <td>[268978, 117504, 17691]</td>\n",
       "      <td>864691135382556378</td>\n",
       "      <td>101760832278701877</td>\n",
       "      <td>6964</td>\n",
       "      <td>t</td>\n",
       "    </tr>\n",
       "    <tr>\n",
       "      <th>371</th>\n",
       "      <td>[320992, 222417, 16204]</td>\n",
       "      <td>399467057</td>\n",
       "      <td>[320982, 222338, 16211]</td>\n",
       "      <td>864691136739230574</td>\n",
       "      <td>108882094012656844</td>\n",
       "      <td>180939688050164381</td>\n",
       "      <td>5208</td>\n",
       "      <td>[321046, 222402, 16202]</td>\n",
       "      <td>864691135382556378</td>\n",
       "      <td>108882094012639317</td>\n",
       "      <td>16912</td>\n",
       "      <td>t</td>\n",
       "    </tr>\n",
       "    <tr>\n",
       "      <th>372</th>\n",
       "      <td>[330174, 188024, 21328]</td>\n",
       "      <td>415734577</td>\n",
       "      <td>[330152, 188072, 21331]</td>\n",
       "      <td>864691136008591788</td>\n",
       "      <td>110144127873982211</td>\n",
       "      <td>182201721911509606</td>\n",
       "      <td>9316</td>\n",
       "      <td>[330144, 188004, 21326]</td>\n",
       "      <td>864691135382556378</td>\n",
       "      <td>110144127873981252</td>\n",
       "      <td>2624</td>\n",
       "      <td>t</td>\n",
       "    </tr>\n",
       "    <tr>\n",
       "      <th>373</th>\n",
       "      <td>[353726, 106988, 23157]</td>\n",
       "      <td>450238875</td>\n",
       "      <td>[353642, 106984, 23152]</td>\n",
       "      <td>864691135683944631</td>\n",
       "      <td>113370232697029267</td>\n",
       "      <td>185427826734793012</td>\n",
       "      <td>15138</td>\n",
       "      <td>[353748, 106962, 23164]</td>\n",
       "      <td>864691135382556378</td>\n",
       "      <td>113370232697038370</td>\n",
       "      <td>1980</td>\n",
       "      <td>t</td>\n",
       "    </tr>\n",
       "  </tbody>\n",
       "</table>\n",
       "<p>374 rows × 12 columns</p>\n",
       "</div>"
      ],
      "text/plain": [
       "             ctr_pt_position         id         post_pt_position  \\\n",
       "0    [334339, 186187, 14981]  417888700  [334262, 186182, 14986]   \n",
       "1    [289544, 154950, 19325]  346520240  [289474, 154950, 19323]   \n",
       "2    [349478, 188808, 19771]  447542841  [349438, 188768, 19772]   \n",
       "3    [338360, 183264, 21308]  424192438  [338406, 183270, 21303]   \n",
       "4    [232692, 210082, 27094]  248795451  [232746, 210018, 27091]   \n",
       "..                       ...        ...                      ...   \n",
       "369  [355067, 173097, 17404]  455786095  [355046, 173066, 17394]   \n",
       "370  [269030, 117510, 17692]  310645343  [269036, 117478, 17691]   \n",
       "371  [320992, 222417, 16204]  399467057  [320982, 222338, 16211]   \n",
       "372  [330174, 188024, 21328]  415734577  [330152, 188072, 21331]   \n",
       "373  [353726, 106988, 23157]  450238875  [353642, 106984, 23152]   \n",
       "\n",
       "        post_pt_root_id  post_pt_supervoxel_id    pre_pt_level2_id  \\\n",
       "0    864691136003771811     110706870863421474  182764464901194038   \n",
       "1    864691135221226001     104580598769052187  176638192806527839   \n",
       "2    864691135181775618     112818277390356741  184875871427887368   \n",
       "3    864691135614120651     111269409305488726  183327003343061732   \n",
       "4    864691135764230692      96777022156054639  168834684912927623   \n",
       "..                  ...                    ...                 ...   \n",
       "369  864691135589894923     113590202937265405  185647796974518831   \n",
       "370  864691135841225699     101760832278702019  173818426316292796   \n",
       "371  864691136739230574     108882094012656844  180939688050164381   \n",
       "372  864691136008591788     110144127873982211  182201721911509606   \n",
       "373  864691135683944631     113370232697029267  185427826734793012   \n",
       "\n",
       "     pre_pt_mesh_ind          pre_pt_position      pre_pt_root_id  \\\n",
       "0              10704  [334322, 186232, 14974]  864691135382556378   \n",
       "1                732  [289552, 154944, 19329]  864691135382556378   \n",
       "2              14660  [349464, 188878, 19768]  864691135382556378   \n",
       "3              12156  [338338, 183244, 21308]  864691135382556378   \n",
       "4                  5  [232646, 210142, 27088]  864691135382556378   \n",
       "..               ...                      ...                 ...   \n",
       "369            15395  [355088, 173052, 17409]  864691135382556378   \n",
       "370              406  [268978, 117504, 17691]  864691135382556378   \n",
       "371             5208  [321046, 222402, 16202]  864691135382556378   \n",
       "372             9316  [330144, 188004, 21326]  864691135382556378   \n",
       "373            15138  [353748, 106962, 23164]  864691135382556378   \n",
       "\n",
       "     pre_pt_supervoxel_id   size valid  \n",
       "0      110706870863403809  10268     t  \n",
       "1      104580598769061898   5472     t  \n",
       "2      112818277390360089   8200     t  \n",
       "3      111269409305486139   3232     t  \n",
       "4       96777090875529428   2860     t  \n",
       "..                    ...    ...   ...  \n",
       "369    113590202937293072  16732     t  \n",
       "370    101760832278701877   6964     t  \n",
       "371    108882094012639317  16912     t  \n",
       "372    110144127873981252   2624     t  \n",
       "373    113370232697038370   1980     t  \n",
       "\n",
       "[374 rows x 12 columns]"
      ]
     },
     "execution_count": 44,
     "metadata": {},
     "output_type": "execute_result"
    }
   ],
   "source": [
    "nrn.anno.pre_syn.df"
   ]
  },
  {
   "cell_type": "markdown",
   "metadata": {},
   "source": [
    "<div style=\"border-left: 3px solid #000; padding: 1px; padding-left: 10px; background: #F0FAFF; \">\n",
    "The in-built properties and functions of a meshworks object allow you to connect the dataframe with mesh/skeleton information and operations. \n",
    "    \n",
    "For example, you can get the mesh index for each row with `.mesh_index`. \n",
    "</div>"
   ]
  },
  {
   "cell_type": "code",
   "execution_count": 45,
   "metadata": {},
   "outputs": [
    {
     "data": {
      "text/plain": [
       "JointMeshIndex([10704,   732, 14660, 12156,     5, 16521, 12160,   341,\n",
       "                16198, 12889, 16059,  5522, 12928,    82, 13320, 16450,\n",
       "                 4736, 15291, 14285, 15962,   157, 15605, 11290, 10884,\n",
       "                 5994, 16216, 15464,  4504, 12194, 16393, 15988,  4799,\n",
       "                 7269, 15989,  6282, 10410,  9424,  9316, 12536, 15631,\n",
       "                 6253, 13660, 13597, 11105,  9063,  3868, 15376, 16059,\n",
       "                15393,  4698, 16479,  1381,  7228, 15068,  7482, 16521,\n",
       "                15594,  9930, 13480, 16062, 13597,  9612,  4799,  3868,\n",
       "                12146, 16345,  8157,  5984,  5156,  4439,  9557, 10087,\n",
       "                11448, 16365,  1581, 14563, 14633, 15025, 15494,  4536,\n",
       "                 4387, 10807, 16400, 16435,  4070,  7977,  5367,     2,\n",
       "                13787, 12170,  5026, 13855, 12769, 16367,  7364, 12957,\n",
       "                16398,  5668, 14860, 16383, 14899,  2566, 14752,  9021,\n",
       "                14405, 14720,  5362,  7725, 12152, 12210,   175, 10309,\n",
       "                14389,  2847,  4531, 13598,  4277,  8318,  1825, 14717,\n",
       "                 9207,  6476,  1762, 14959, 10668,  7065, 14620,    20,\n",
       "                11685,  4702,  6254,  4887,  1901,   238, 16289, 11348,\n",
       "                14408,   147, 15832,  6038,  8625, 15946,  4734,  5840,\n",
       "                14338, 14396, 14876, 14396,  4953,  9904, 16268, 12139,\n",
       "                 7473, 13706, 16341, 16320, 14100,  3944,  5006,    46,\n",
       "                15248,   215, 15608, 16504, 15387, 12227,  4060,  1901,\n",
       "                 6483, 16524, 16626,  1332, 12324, 11814,  4904,   162,\n",
       "                16811,  1477,  4639,  1327, 10315, 13792, 11806,  1382,\n",
       "                 5241, 13014, 14961, 16460, 16626,  8117, 15442,  3131,\n",
       "                11982,   153, 15677, 16525, 15410,     5,  3617,   134,\n",
       "                10090,  4591, 16704, 12496, 12634,  5155, 14052,   287,\n",
       "                16250, 15138, 16142,  4163,  6683,  7289,  4523, 15907,\n",
       "                16336, 14179, 11476, 16196, 13091,  2282,  6753, 15672,\n",
       "                 8428,     5, 11982, 15055, 16455, 12789,  6007,  5594,\n",
       "                12526,  5160, 15247,    47, 16452,  5241,  4783,   118,\n",
       "                14385,  4484, 16432, 15637,  9736,  4693, 11708, 13880,\n",
       "                 4512,  6483,  6995, 11810, 15910,  6408,  2044,  4393,\n",
       "                15250, 14950, 14815, 16582, 13593, 14622,  1308, 14673,\n",
       "                14334, 15268, 16200,    98, 15001,  6519,  5153, 10740,\n",
       "                13374, 12811, 16365, 14842, 15910, 15943,  8079,  4627,\n",
       "                15329, 16226, 15334,    63, 16056, 13828,  5174, 16457,\n",
       "                14887,  4950,  4213, 15779, 16049, 12693, 10400,  3469,\n",
       "                14177,  5873, 14985,  2566, 16369, 12139,  1593,  4445,\n",
       "                  285, 14654, 12020,  5362,   596,  6034, 16578,  1332,\n",
       "                11793,   124, 15068,  2566, 16614, 15727, 16131,  4741,\n",
       "                 7371,  4515, 13868, 15146, 14212, 14808, 14836, 12632,\n",
       "                 3469,  9928,  3864, 14734, 12341,  2653, 12338, 11875,\n",
       "                 6476, 16423, 14100,  8743,  8066,   629,  4702, 15818,\n",
       "                16068, 13705,  4106, 15686, 14923, 15830,  6431, 16573,\n",
       "                15820, 16369,  9904,  9129, 16587, 10119, 14412,  8153,\n",
       "                15291,  7395,  6031, 12529, 14044, 16336, 14791, 12546,\n",
       "                13320, 15395,   406,  5208,  9316, 15138])"
      ]
     },
     "execution_count": 45,
     "metadata": {},
     "output_type": "execute_result"
    }
   ],
   "source": [
    "nrn.anno.pre_syn.mesh_index"
   ]
  },
  {
   "cell_type": "markdown",
   "metadata": {},
   "source": [
    "<div style=\"border-left: 3px solid #000; padding: 1px; padding-left: 10px; background: #F0FAFF; \">\n",
    " \n",
    "And the skeleton index for each row with `.skel_index`. \n",
    "</div>"
   ]
  },
  {
   "cell_type": "code",
   "execution_count": 46,
   "metadata": {},
   "outputs": [
    {
     "data": {
      "text/plain": [
       "JointSkeletonIndex([   1,    3,   14,   30,   31,   43,   56,   67,   85,\n",
       "                      89,   96,  101,  107,  110,  114,  127,  157,  173,\n",
       "                     205,  206,  244,  294,  434,  459,  527,  836,  848,\n",
       "                     852,  876,  877,  920,  969,  975, 1054, 1081, 1120,\n",
       "                    1197, 1306, 1436, 1475, 1549, 1687, 1831, 1902, 2019,\n",
       "                    2022, 2057, 2111, 2128, 2146, 2168, 2175, 2221, 2270,\n",
       "                    2274, 2276, 2291, 2305, 2310, 2317, 2322, 2343, 2346,\n",
       "                    2353, 2357, 2373, 2380, 2406, 2410, 2411, 2425, 2429,\n",
       "                    2431, 2432, 2469, 2505, 2510, 2529, 2552, 2566, 2616,\n",
       "                    2618, 2619, 2622, 2634, 2679, 2729, 2732, 2806, 2841,\n",
       "                    2852, 2889, 2973, 2989, 3034, 3040, 3056, 3058, 3062,\n",
       "                    3174, 3175, 3189, 3245, 3252, 3265, 3276, 3277, 3297,\n",
       "                    3412, 3418, 3483, 3569, 3582, 3586, 3606, 3610, 3625,\n",
       "                    3661, 3664, 3737, 3811, 3856, 3873, 3891, 3892, 3960,\n",
       "                    3980, 3983, 4055, 4094, 4207, 4257, 4299, 4358, 4407,\n",
       "                    4463, 4485, 4542, 4611, 4620, 4622, 4681, 4691, 4771,\n",
       "                    4774, 4808, 4813, 4873, 4913, 4930, 4977, 5006, 5099,\n",
       "                    5176, 5197, 5245, 5259, 5272, 5336, 5391, 5398, 5401,\n",
       "                    5425, 5478, 5494, 5505, 5544, 5547, 5550, 5552, 5555,\n",
       "                    5561, 5575, 5592, 5633, 5716, 5723, 5732, 5733, 5739,\n",
       "                    5780, 5781, 5785, 5797, 5806, 5840, 5851, 5866, 5905,\n",
       "                    5921, 5930, 5959, 5996, 6050, 6138, 6187, 6189, 6244,\n",
       "                    6245, 6246, 6276, 6289, 6294, 6334, 6335, 6353, 6361,\n",
       "                    6370, 6458, 6475, 6510, 6519, 6555, 6561, 6567, 6571,\n",
       "                    6584, 6588, 6611, 6619, 6622, 6625, 6695, 6726, 6728,\n",
       "                    6734, 6742, 6746, 6752, 6774, 6776, 6784, 6798, 6801,\n",
       "                    6830, 6842, 6845, 6858, 6861, 6868, 6875, 6897, 6913,\n",
       "                    6918, 6919, 6924, 6935, 6958, 6962, 6968, 6971, 7049,\n",
       "                    7074, 7087, 7107, 7130, 7132, 7144, 7154, 7162, 7167,\n",
       "                    7169, 7180, 7196, 7204, 7225, 7268, 7276, 7279, 7288,\n",
       "                    7291, 7311, 7313, 7322, 7337, 7368, 7372, 7391, 7393,\n",
       "                    7400, 7446, 7449, 7463, 7465, 7476, 7488, 7489, 7509,\n",
       "                    7524, 7532, 7535, 7540, 7573, 7582, 7595, 7610, 7621,\n",
       "                    7627, 7646, 7658, 7674, 7702, 7704, 7708, 7719, 7722,\n",
       "                    7728, 7730, 7732, 7733, 7735, 7737, 7754, 7760, 7766,\n",
       "                    7768, 7773, 7783, 7786, 7801, 7810, 7812, 7813, 7837,\n",
       "                    7840, 7844, 7846, 7862, 7868, 7910, 7975])"
      ]
     },
     "execution_count": 46,
     "metadata": {},
     "output_type": "execute_result"
    }
   ],
   "source": [
    "nrn.anno.pre_syn.skel_index"
   ]
  },
  {
   "cell_type": "markdown",
   "metadata": {},
   "source": [
    "<div style=\"border-left: 3px solid #000; padding: 1px; padding-left: 10px; background: #F0FAFF; \">\n",
    "These mesh indices can be linked up to the meshwork class functions trivially using this information:\n",
    "    </div>"
   ]
  },
  {
   "cell_type": "code",
   "execution_count": 47,
   "metadata": {},
   "outputs": [
    {
     "data": {
      "text/plain": [
       "array([429.58425186, 402.17836826, 221.66045505, 205.681892  ,\n",
       "       564.89074738, 621.14101477, 201.25188553, 406.59653925,\n",
       "       593.08817487, 188.46133224, 620.38570319, 115.95842603,\n",
       "       245.9680325 , 805.94396533, 195.96733994, 539.21192426,\n",
       "       251.58757068, 692.73084894, 223.64166565, 566.56368698,\n",
       "       463.58504639, 526.09974185, 400.02977536, 306.26647232,\n",
       "       322.23640921, 415.31581619, 222.43813467, 305.66079724,\n",
       "       165.79598288, 498.6469938 , 638.42429724, 375.46888846,\n",
       "       307.92517239, 636.91463232, 192.41160571, 262.76037823,\n",
       "       332.59535568, 371.58435507, 258.33761575, 244.38541904,\n",
       "       379.94190393, 447.88146585, 207.18309451, 293.48342276,\n",
       "       236.09129428, 179.21935773, 812.20324404, 620.38570319,\n",
       "       689.34028802, 284.81560022, 593.49495972, 624.56263507,\n",
       "       223.17603918, 708.4296734 , 234.84640613, 621.14101477,\n",
       "       677.13709418, 279.63729398, 227.04267667, 438.59070749,\n",
       "       207.18309451, 414.86368155, 375.46888846, 179.21935773,\n",
       "       164.46501193, 479.78292154, 122.32931293, 385.00941818,\n",
       "       312.25152631, 138.64793622, 325.51987906, 174.85715613,\n",
       "       260.34240665, 550.98871442, 604.87247076, 318.69417426,\n",
       "       392.17983206, 289.79699271, 331.6102554 , 271.11750806,\n",
       "       456.41314297, 219.77760553, 481.34809085, 607.69828036,\n",
       "       353.99234122, 111.98210535, 374.37792596, 568.32325482,\n",
       "       184.71215787, 414.41242764, 409.46956674, 212.10094049,\n",
       "       195.68932748, 499.50208328, 322.27237585, 168.32009537,\n",
       "       489.997397  , 392.98442538, 269.09344437, 586.00953607,\n",
       "       272.18779276, 573.50192914, 485.92467398, 365.93717303,\n",
       "       264.32050732, 237.61998035, 380.80270819, 324.41252209,\n",
       "       214.5281813 , 117.33477063, 750.45976904, 301.22844089,\n",
       "       106.79755054, 149.78458286, 262.56693896, 190.2787493 ,\n",
       "       406.87142474, 356.02871677, 585.78213434, 117.40092743,\n",
       "       236.09129428, 341.77034991, 590.80808282, 289.79699271,\n",
       "       287.6357905 , 499.07918521, 230.32714282, 540.95227576,\n",
       "       225.32701852, 282.80041663, 368.95936182, 316.61790985,\n",
       "       582.05733173, 439.00167712, 468.99408426, 139.86704306,\n",
       "       268.16157813, 468.95284283, 554.55202438, 335.77617059,\n",
       "       352.86704782, 339.1538447 , 267.26785828, 439.9276076 ,\n",
       "       213.94180817, 242.52806323, 255.16073587, 242.52806323,\n",
       "       238.42511475, 161.79848181, 463.28201413, 226.76994962,\n",
       "       241.24021191, 163.16095676, 563.02425519, 468.99408426,\n",
       "       301.1987226 , 444.3543679 , 492.96275708, 520.21190051,\n",
       "       285.9542457 , 441.89800598, 520.79742203, 610.54714539,\n",
       "       752.91320583, 131.06746231, 466.33626895, 582.05733173,\n",
       "       390.85617834, 609.25364087, 471.58660089, 300.24905032,\n",
       "       198.65885245, 221.23185098, 330.91138342, 467.63688025,\n",
       "       575.7959903 , 616.35205573, 421.42261015, 636.26378625,\n",
       "       295.93911154, 191.73221014, 244.92478262, 622.5969184 ,\n",
       "       496.49711902, 435.0845817 , 494.49105826, 512.88235941,\n",
       "       471.58660089, 293.72576477, 301.32280466,  91.07812439,\n",
       "       221.23185098, 767.28135071, 258.37158139, 605.13951636,\n",
       "       340.17323398, 564.89074738, 454.22346532, 774.63560736,\n",
       "       161.79848181, 438.97249478, 507.05241528, 191.6418237 ,\n",
       "       192.14267795, 315.90395697, 216.21726727, 422.42374298,\n",
       "       591.79720084, 697.46227753, 580.63960751, 283.12491443,\n",
       "       406.76012634, 384.75763853, 266.83119427, 648.46428229,\n",
       "       581.88313623, 227.67079163, 284.26767923, 599.18424237,\n",
       "       180.46097751, 555.31237488, 525.12610501, 250.44720444,\n",
       "       333.70270959, 564.89074738, 221.23185098, 715.8098508 ,\n",
       "       527.94834521, 254.82388065, 439.9276076 , 328.90888654,\n",
       "       141.6769137 , 301.78764777, 289.99753781, 531.94629541,\n",
       "       534.65940533, 496.49711902, 347.35833459, 783.59910687,\n",
       "       238.48528491, 308.28920844, 494.32856851, 675.49036737,\n",
       "       281.68487479, 305.66079724,  97.78227454, 174.95023843,\n",
       "       276.93114868, 390.85617834, 357.26790649, 235.54008121,\n",
       "       417.99693173, 316.67477664, 567.1172204 , 429.5248179 ,\n",
       "       285.9542457 , 283.21471585, 484.65525919, 629.62035822,\n",
       "       170.01115842, 161.66078262, 230.03696967, 164.59245193,\n",
       "       275.27173889, 800.995381  , 593.08817487, 798.65660364,\n",
       "       375.71141776, 174.21458099, 329.0921048 , 331.45420233,\n",
       "       179.78216934, 187.12444186, 550.98871442, 171.41628555,\n",
       "       417.99693173, 392.03041501, 335.77075647, 197.22960474,\n",
       "       321.17844675, 453.81277902, 316.16388742, 813.58196411,\n",
       "       627.7196756 , 417.17137418, 260.52677563, 527.94834521,\n",
       "       242.46353201, 243.54183044, 353.18983032, 664.57529388,\n",
       "       300.68404599, 144.72052188, 327.98870618, 501.80326587,\n",
       "       461.14136673, 333.39510028, 189.24794266, 573.50192914,\n",
       "       486.74681839, 226.76994962, 136.36878778, 531.60506586,\n",
       "       685.83062927, 476.82608487, 276.44095657, 380.80270819,\n",
       "       471.44657443, 337.79970343, 642.67782928, 300.24905032,\n",
       "       255.20884732, 476.0252547 , 708.4296734 , 573.50192914,\n",
       "       469.42962384, 366.78614633, 313.07603928, 240.23879028,\n",
       "       408.30449182, 272.90445795,  88.69099219, 372.48456741,\n",
       "       210.24940106, 488.41377213, 250.81522461, 194.44013937,\n",
       "       501.80326587, 311.83348709, 182.65168561, 387.302215  ,\n",
       "       176.55834824, 526.57693158, 180.26016342, 214.87872922,\n",
       "       341.77034991, 505.73987198, 301.1987226 , 202.98985272,\n",
       "       355.32778033, 309.71990601, 282.80041663, 383.31053793,\n",
       "       575.07579453, 197.73808963, 537.13579633, 342.55126505,\n",
       "       379.06208865, 404.03431778, 394.11117857, 450.95885757,\n",
       "       273.61771078, 486.74681839, 161.79848181, 339.71609335,\n",
       "       454.43025397, 310.60934744, 218.57454541, 184.73922662,\n",
       "       692.73084894, 193.69671783, 372.42821643, 261.10593839,\n",
       "       216.21726727, 581.88313623, 264.90527078, 200.35579996,\n",
       "       195.96733994, 362.00347195, 598.38261612, 546.78872562,\n",
       "       371.58435507, 697.46227753])"
      ]
     },
     "execution_count": 47,
     "metadata": {},
     "output_type": "execute_result"
    }
   ],
   "source": [
    "nrn.distance_to_root(nrn.anno.pre_syn.mesh_index)/1000 # in microns\n",
    "\n",
    "#This gives the distance from each point to the root in microns"
   ]
  },
  {
   "cell_type": "markdown",
   "metadata": {},
   "source": [
    "<div style=\"border-left: 3px solid #000; padding: 1px; padding-left: 10px; background: #F0FAFF; \">\n",
    "\n",
    "Finally, we will learn how to filter and mask these results for targeted analysis\n",
    "\n",
    "</div>"
   ]
  },
  {
   "cell_type": "code",
   "execution_count": 48,
   "metadata": {
    "scrolled": true
   },
   "outputs": [
    {
     "data": {
      "text/html": [
       "<div>\n",
       "<style scoped>\n",
       "    .dataframe tbody tr th:only-of-type {\n",
       "        vertical-align: middle;\n",
       "    }\n",
       "\n",
       "    .dataframe tbody tr th {\n",
       "        vertical-align: top;\n",
       "    }\n",
       "\n",
       "    .dataframe thead th {\n",
       "        text-align: right;\n",
       "    }\n",
       "</style>\n",
       "<table border=\"1\" class=\"dataframe\">\n",
       "  <thead>\n",
       "    <tr style=\"text-align: right;\">\n",
       "      <th></th>\n",
       "      <th>ctr_pt_position</th>\n",
       "      <th>id</th>\n",
       "      <th>post_pt_position</th>\n",
       "      <th>post_pt_root_id</th>\n",
       "      <th>post_pt_supervoxel_id</th>\n",
       "      <th>pre_pt_level2_id</th>\n",
       "      <th>pre_pt_mesh_ind</th>\n",
       "      <th>pre_pt_position</th>\n",
       "      <th>pre_pt_root_id</th>\n",
       "      <th>pre_pt_supervoxel_id</th>\n",
       "      <th>size</th>\n",
       "      <th>valid</th>\n",
       "    </tr>\n",
       "  </thead>\n",
       "  <tbody>\n",
       "    <tr>\n",
       "      <th>0</th>\n",
       "      <td>[334339, 186187, 14981]</td>\n",
       "      <td>417888700</td>\n",
       "      <td>[334262, 186182, 14986]</td>\n",
       "      <td>864691136003771811</td>\n",
       "      <td>110706870863421474</td>\n",
       "      <td>182764464901194038</td>\n",
       "      <td>10704</td>\n",
       "      <td>[334322, 186232, 14974]</td>\n",
       "      <td>864691135382556378</td>\n",
       "      <td>110706870863403809</td>\n",
       "      <td>10268</td>\n",
       "      <td>t</td>\n",
       "    </tr>\n",
       "    <tr>\n",
       "      <th>1</th>\n",
       "      <td>[289544, 154950, 19325]</td>\n",
       "      <td>346520240</td>\n",
       "      <td>[289474, 154950, 19323]</td>\n",
       "      <td>864691135221226001</td>\n",
       "      <td>104580598769052187</td>\n",
       "      <td>176638192806527839</td>\n",
       "      <td>732</td>\n",
       "      <td>[289552, 154944, 19329]</td>\n",
       "      <td>864691135382556378</td>\n",
       "      <td>104580598769061898</td>\n",
       "      <td>5472</td>\n",
       "      <td>t</td>\n",
       "    </tr>\n",
       "    <tr>\n",
       "      <th>2</th>\n",
       "      <td>[349478, 188808, 19771]</td>\n",
       "      <td>447542841</td>\n",
       "      <td>[349438, 188768, 19772]</td>\n",
       "      <td>864691135181775618</td>\n",
       "      <td>112818277390356741</td>\n",
       "      <td>184875871427887368</td>\n",
       "      <td>14660</td>\n",
       "      <td>[349464, 188878, 19768]</td>\n",
       "      <td>864691135382556378</td>\n",
       "      <td>112818277390360089</td>\n",
       "      <td>8200</td>\n",
       "      <td>t</td>\n",
       "    </tr>\n",
       "    <tr>\n",
       "      <th>3</th>\n",
       "      <td>[338360, 183264, 21308]</td>\n",
       "      <td>424192438</td>\n",
       "      <td>[338406, 183270, 21303]</td>\n",
       "      <td>864691135614120651</td>\n",
       "      <td>111269409305488726</td>\n",
       "      <td>183327003343061732</td>\n",
       "      <td>12156</td>\n",
       "      <td>[338338, 183244, 21308]</td>\n",
       "      <td>864691135382556378</td>\n",
       "      <td>111269409305486139</td>\n",
       "      <td>3232</td>\n",
       "      <td>t</td>\n",
       "    </tr>\n",
       "    <tr>\n",
       "      <th>4</th>\n",
       "      <td>[232692, 210082, 27094]</td>\n",
       "      <td>248795451</td>\n",
       "      <td>[232746, 210018, 27091]</td>\n",
       "      <td>864691135764230692</td>\n",
       "      <td>96777022156054639</td>\n",
       "      <td>168834684912927623</td>\n",
       "      <td>5</td>\n",
       "      <td>[232646, 210142, 27088]</td>\n",
       "      <td>864691135382556378</td>\n",
       "      <td>96777090875529428</td>\n",
       "      <td>2860</td>\n",
       "      <td>t</td>\n",
       "    </tr>\n",
       "    <tr>\n",
       "      <th>...</th>\n",
       "      <td>...</td>\n",
       "      <td>...</td>\n",
       "      <td>...</td>\n",
       "      <td>...</td>\n",
       "      <td>...</td>\n",
       "      <td>...</td>\n",
       "      <td>...</td>\n",
       "      <td>...</td>\n",
       "      <td>...</td>\n",
       "      <td>...</td>\n",
       "      <td>...</td>\n",
       "      <td>...</td>\n",
       "    </tr>\n",
       "    <tr>\n",
       "      <th>369</th>\n",
       "      <td>[355067, 173097, 17404]</td>\n",
       "      <td>455786095</td>\n",
       "      <td>[355046, 173066, 17394]</td>\n",
       "      <td>864691135589894923</td>\n",
       "      <td>113590202937265405</td>\n",
       "      <td>185647796974518831</td>\n",
       "      <td>15395</td>\n",
       "      <td>[355088, 173052, 17409]</td>\n",
       "      <td>864691135382556378</td>\n",
       "      <td>113590202937293072</td>\n",
       "      <td>16732</td>\n",
       "      <td>t</td>\n",
       "    </tr>\n",
       "    <tr>\n",
       "      <th>370</th>\n",
       "      <td>[269030, 117510, 17692]</td>\n",
       "      <td>310645343</td>\n",
       "      <td>[269036, 117478, 17691]</td>\n",
       "      <td>864691135841225699</td>\n",
       "      <td>101760832278702019</td>\n",
       "      <td>173818426316292796</td>\n",
       "      <td>406</td>\n",
       "      <td>[268978, 117504, 17691]</td>\n",
       "      <td>864691135382556378</td>\n",
       "      <td>101760832278701877</td>\n",
       "      <td>6964</td>\n",
       "      <td>t</td>\n",
       "    </tr>\n",
       "    <tr>\n",
       "      <th>371</th>\n",
       "      <td>[320992, 222417, 16204]</td>\n",
       "      <td>399467057</td>\n",
       "      <td>[320982, 222338, 16211]</td>\n",
       "      <td>864691136739230574</td>\n",
       "      <td>108882094012656844</td>\n",
       "      <td>180939688050164381</td>\n",
       "      <td>5208</td>\n",
       "      <td>[321046, 222402, 16202]</td>\n",
       "      <td>864691135382556378</td>\n",
       "      <td>108882094012639317</td>\n",
       "      <td>16912</td>\n",
       "      <td>t</td>\n",
       "    </tr>\n",
       "    <tr>\n",
       "      <th>372</th>\n",
       "      <td>[330174, 188024, 21328]</td>\n",
       "      <td>415734577</td>\n",
       "      <td>[330152, 188072, 21331]</td>\n",
       "      <td>864691136008591788</td>\n",
       "      <td>110144127873982211</td>\n",
       "      <td>182201721911509606</td>\n",
       "      <td>9316</td>\n",
       "      <td>[330144, 188004, 21326]</td>\n",
       "      <td>864691135382556378</td>\n",
       "      <td>110144127873981252</td>\n",
       "      <td>2624</td>\n",
       "      <td>t</td>\n",
       "    </tr>\n",
       "    <tr>\n",
       "      <th>373</th>\n",
       "      <td>[353726, 106988, 23157]</td>\n",
       "      <td>450238875</td>\n",
       "      <td>[353642, 106984, 23152]</td>\n",
       "      <td>864691135683944631</td>\n",
       "      <td>113370232697029267</td>\n",
       "      <td>185427826734793012</td>\n",
       "      <td>15138</td>\n",
       "      <td>[353748, 106962, 23164]</td>\n",
       "      <td>864691135382556378</td>\n",
       "      <td>113370232697038370</td>\n",
       "      <td>1980</td>\n",
       "      <td>t</td>\n",
       "    </tr>\n",
       "  </tbody>\n",
       "</table>\n",
       "<p>346 rows × 12 columns</p>\n",
       "</div>"
      ],
      "text/plain": [
       "             ctr_pt_position         id         post_pt_position  \\\n",
       "0    [334339, 186187, 14981]  417888700  [334262, 186182, 14986]   \n",
       "1    [289544, 154950, 19325]  346520240  [289474, 154950, 19323]   \n",
       "2    [349478, 188808, 19771]  447542841  [349438, 188768, 19772]   \n",
       "3    [338360, 183264, 21308]  424192438  [338406, 183270, 21303]   \n",
       "4    [232692, 210082, 27094]  248795451  [232746, 210018, 27091]   \n",
       "..                       ...        ...                      ...   \n",
       "369  [355067, 173097, 17404]  455786095  [355046, 173066, 17394]   \n",
       "370  [269030, 117510, 17692]  310645343  [269036, 117478, 17691]   \n",
       "371  [320992, 222417, 16204]  399467057  [320982, 222338, 16211]   \n",
       "372  [330174, 188024, 21328]  415734577  [330152, 188072, 21331]   \n",
       "373  [353726, 106988, 23157]  450238875  [353642, 106984, 23152]   \n",
       "\n",
       "        post_pt_root_id  post_pt_supervoxel_id    pre_pt_level2_id  \\\n",
       "0    864691136003771811     110706870863421474  182764464901194038   \n",
       "1    864691135221226001     104580598769052187  176638192806527839   \n",
       "2    864691135181775618     112818277390356741  184875871427887368   \n",
       "3    864691135614120651     111269409305488726  183327003343061732   \n",
       "4    864691135764230692      96777022156054639  168834684912927623   \n",
       "..                  ...                    ...                 ...   \n",
       "369  864691135589894923     113590202937265405  185647796974518831   \n",
       "370  864691135841225699     101760832278702019  173818426316292796   \n",
       "371  864691136739230574     108882094012656844  180939688050164381   \n",
       "372  864691136008591788     110144127873982211  182201721911509606   \n",
       "373  864691135683944631     113370232697029267  185427826734793012   \n",
       "\n",
       "     pre_pt_mesh_ind          pre_pt_position      pre_pt_root_id  \\\n",
       "0              10704  [334322, 186232, 14974]  864691135382556378   \n",
       "1                732  [289552, 154944, 19329]  864691135382556378   \n",
       "2              14660  [349464, 188878, 19768]  864691135382556378   \n",
       "3              12156  [338338, 183244, 21308]  864691135382556378   \n",
       "4                  5  [232646, 210142, 27088]  864691135382556378   \n",
       "..               ...                      ...                 ...   \n",
       "369            15395  [355088, 173052, 17409]  864691135382556378   \n",
       "370              406  [268978, 117504, 17691]  864691135382556378   \n",
       "371             5208  [321046, 222402, 16202]  864691135382556378   \n",
       "372             9316  [330144, 188004, 21326]  864691135382556378   \n",
       "373            15138  [353748, 106962, 23164]  864691135382556378   \n",
       "\n",
       "     pre_pt_supervoxel_id   size valid  \n",
       "0      110706870863403809  10268     t  \n",
       "1      104580598769061898   5472     t  \n",
       "2      112818277390360089   8200     t  \n",
       "3      111269409305486139   3232     t  \n",
       "4       96777090875529428   2860     t  \n",
       "..                    ...    ...   ...  \n",
       "369    113590202937293072  16732     t  \n",
       "370    101760832278701877   6964     t  \n",
       "371    108882094012639317  16912     t  \n",
       "372    110144127873981252   2624     t  \n",
       "373    113370232697038370   1980     t  \n",
       "\n",
       "[346 rows x 12 columns]"
      ]
     },
     "execution_count": 48,
     "metadata": {},
     "output_type": "execute_result"
    }
   ],
   "source": [
    "nrn.anno.pre_syn.filter_query( nrn.anno.is_axon.mesh_mask).df"
   ]
  },
  {
   "cell_type": "code",
   "execution_count": null,
   "metadata": {},
   "outputs": [],
   "source": []
  }
 ],
 "metadata": {
  "interpreter": {
   "hash": "e17c704ee36528c3cfcd7dcc3f7e33facab0a30a3c4c97ac2d81f69379006198"
  },
  "kernelspec": {
   "display_name": "Python 3",
   "language": "python",
   "name": "python3"
  },
  "language_info": {
   "codemirror_mode": {
    "name": "ipython",
    "version": 3
   },
   "file_extension": ".py",
   "mimetype": "text/x-python",
   "name": "python",
   "nbconvert_exporter": "python",
   "pygments_lexer": "ipython3",
   "version": "3.7.10"
  }
 },
 "nbformat": 4,
 "nbformat_minor": 2
}
