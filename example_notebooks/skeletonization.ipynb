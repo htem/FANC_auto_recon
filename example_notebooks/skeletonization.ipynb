{
 "cells": [
  {
   "cell_type": "markdown",
   "metadata": {},
   "source": [
    "# Skeletonization of FANC meshes\n",
    "\n",
    "The `fanc` python package has a `skeletonize.py` module [here](https://github.com/htem/FANC_auto_recon/blob/main/fanc/skeletonize.py) containing functions that can help you generate skeletons from FANC neurons."
   ]
  },
  {
   "cell_type": "code",
   "execution_count": 1,
   "metadata": {},
   "outputs": [],
   "source": [
    "import fanc\n",
    "example_neuron_soma_pt = [43232, 134024, 4218]\n",
    "example_neuron_segid = fanc.lookup.segid_from_pt(example_neuron_soma_pt)\n",
    "# As of July 23, 2023, the example neuron's segID is 648518346486614449"
   ]
  },
  {
   "cell_type": "markdown",
   "metadata": {},
   "source": [
    "## Approach 1 (recommended): Use `pcg_skel`"
   ]
  },
  {
   "cell_type": "code",
   "execution_count": 2,
   "metadata": {},
   "outputs": [
    {
     "name": "stderr",
     "output_type": "stream",
     "text": [
      "100%|███████████████████████████████████████████████████████████████████████████████████████████████| 988/988 [00:46<00:00, 21.44it/s]\n",
      "Shard Indices: 100%|████████████████████████████████████████████████████████████████████████████████| 789/789 [00:37<00:00, 21.04it/s]\n",
      "Minishard Indices: 100%|████████████████████████████████████████████████████████████████████████████| 873/873 [00:38<00:00, 22.47it/s]\n",
      "Downloading Bundles: 100%|██████████████████████████████████████████████████████████████████████████| 964/964 [00:45<00:00, 21.12it/s]\n"
     ]
    }
   ],
   "source": [
    "# This will take ~1 minute to run\n",
    "skeleton = fanc.skeletonize.get_pcg_skeleton(example_neuron_segid)\n",
    "# For the record, the line above just calls pcg_skel.pcg_skeleton, so it's exactly the same as doing:\n",
    "#import pcg_skel\n",
    "#skeleton = pcg_skel.pcg_skeleton(example_neuron_segid)"
   ]
  },
  {
   "cell_type": "code",
   "execution_count": 3,
   "metadata": {},
   "outputs": [
    {
     "name": "stdout",
     "output_type": "stream",
     "text": [
      "<class 'meshparty.skeleton.Skeleton'>\n",
      "Number of nodes 988\n"
     ]
    }
   ],
   "source": [
    "print(type(skeleton))  # Congrats, you now have a meshparty.skeleton.Skeleton object to do whatever with\n",
    "print('Number of nodes', len(skeleton.vertices))"
   ]
  },
  {
   "cell_type": "code",
   "execution_count": 4,
   "metadata": {},
   "outputs": [
    {
     "name": "stdout",
     "output_type": "stream",
     "text": [
      "https://neuromancer-seung-import.appspot.com/?json_url=https://global.daf-apis.com/nglstate/api/v1/4787774739709952\n"
     ]
    }
   ],
   "source": [
    "# Let's look at the skeleton in neuroglancer overlaid on the segmentation\n",
    "print(fanc.statebuilder.render_scene(neurons=example_neuron_segid,\n",
    "                                     annotations=skeleton.vertices,\n",
    "                                     annotation_units='nm'))"
   ]
  },
  {
   "cell_type": "markdown",
   "metadata": {},
   "source": [
    "Looks pretty good, but the points are quite spaced out. If you want a denser skeleton (more closely placed nodes), you could try Approach 2."
   ]
  },
  {
   "cell_type": "code",
   "execution_count": 5,
   "metadata": {},
   "outputs": [],
   "source": [
    "#Let's save it in .swc format for use in other programs\n",
    "skeleton.export_to_swc(f'output/{example_neuron_segid}_pcg-skel.swc')"
   ]
  },
  {
   "cell_type": "markdown",
   "metadata": {},
   "source": [
    "## Approach 2: Use meshparty/navis\n",
    "\n",
    "This approach has slightly more complicated package dependencies, and I was only able to get it to work on a conda env with `conda install -c conda-forge pyembree` and then install everything else needed for the `fanc` package (either `cd ~/repos/htem/FANC_auto/recon; pip install -e .` to install from a local clone, or `pip install fanc-fly` to install from PyPI), plus finally `pip install embreex`.\n",
    "\n",
    "- Output can be either `meshwork` or `navis`\n",
    "- Default is `meshwork` as meshwork neuron objects have a great deal of utility, and can be converted rapidly to `navis` objects. \n",
    "- This uses meshparty skeletonization which is only appropriate for some applications. If the results don't look good, try `pcg_skel` (see Approach 1 above)."
   ]
  },
  {
   "cell_type": "code",
   "execution_count": 6,
   "metadata": {},
   "outputs": [
    {
     "name": "stderr",
     "output_type": "stream",
     "text": [
      "Downloading Meshes: 100%|███████████████████████████████████████████████████████████████████████████████| 1/1 [00:30<00:00, 30.79s/it]"
     ]
    },
    {
     "name": "stdout",
     "output_type": "stream",
     "text": [
      "Warning: deduplication not currently supported for this layer's variable layered draco meshes\n"
     ]
    },
    {
     "name": "stderr",
     "output_type": "stream",
     "text": [
      "\n"
     ]
    },
    {
     "name": "stdout",
     "output_type": "stream",
     "text": [
      "136\n",
      "0 - 19      \r"
     ]
    },
    {
     "name": "stderr",
     "output_type": "stream",
     "text": [
      "/Users/jasper/software/anaconda3/envs/fanc/lib/python3.10/site-packages/numpy/core/fromnumeric.py:86: VisibleDeprecationWarning: Creating an ndarray from ragged nested sequences (which is a list-or-tuple of lists-or-tuples-or ndarrays with different lengths or shapes) is deprecated. If you meant to do this, you must specify 'dtype=object' when creating the ndarray.\n",
      "  return ufunc.reduce(obj, axis, dtype, out, **passkwargs)\n"
     ]
    },
    {
     "name": "stdout",
     "output_type": "stream",
     "text": [
      "Adding 2942570 new edges.\n",
      "TIME MERGING: 163.879s\n"
     ]
    }
   ],
   "source": [
    "# This will take ~5 minutes to run\n",
    "neuron_meshwork = fanc.skeletonize.skeletonize_neuron(\n",
    "    example_neuron_segid,\n",
    "    example_neuron_soma_pt,\n",
    "    output='meshwork')"
   ]
  },
  {
   "cell_type": "code",
   "execution_count": 9,
   "metadata": {},
   "outputs": [
    {
     "name": "stdout",
     "output_type": "stream",
     "text": [
      "<class 'meshparty.meshwork.meshwork.Meshwork'>\n",
      "Number of nodes 55795\n"
     ]
    }
   ],
   "source": [
    "print(type(neuron_meshwork))  # Congrats, you now have a meshparty.Meshwork object\n",
    "print('Number of nodes', len(neuron_meshwork.skeleton.vertices))"
   ]
  },
  {
   "cell_type": "markdown",
   "metadata": {},
   "source": [
    "This skeleton has 55795 nodes, wayyyy more than the 988 from `pcg_skel`. That means the node spacing is much denser, which gives a higher resolution skeleton approximation to the mesh."
   ]
  },
  {
   "cell_type": "code",
   "execution_count": 10,
   "metadata": {},
   "outputs": [
    {
     "name": "stdout",
     "output_type": "stream",
     "text": [
      "https://neuromancer-seung-import.appspot.com/?json_url=https://global.daf-apis.com/nglstate/api/v1/5477088804995072\n"
     ]
    }
   ],
   "source": [
    "# Let's look at the skeleton in neuroglancer overlaid on the segmentation.\n",
    "# We can't build a scene with all the nodes (too many!) so we'll just take every 20th one.\n",
    "print(fanc.statebuilder.render_scene(neurons=example_neuron_segid,\n",
    "                                     annotations=neuron_meshwork.skeleton.vertices[::20, :],\n",
    "                                     annotation_units='nm'))"
   ]
  },
  {
   "cell_type": "markdown",
   "metadata": {},
   "source": [
    "See https://github.com/ceesem/MeshworkTutorial and below for what can be done with meshwork objects."
   ]
  },
  {
   "cell_type": "code",
   "execution_count": 11,
   "metadata": {},
   "outputs": [],
   "source": [
    "# Example: Convert to navis for even more skeleton-based functionality: https://navis.readthedocs.io/en/latest/\n",
    "neuron_navis = fanc.skeletonize.mp_to_navis(neuron_meshwork.skeleton)"
   ]
  },
  {
   "cell_type": "code",
   "execution_count": 12,
   "metadata": {},
   "outputs": [],
   "source": [
    "# Example: Output as .swc file for use elsewhere.\n",
    "neuron_navis.to_swc(f'output/{example_neuron_segid}_high-res-skeleton.swc')"
   ]
  },
  {
   "cell_type": "markdown",
   "metadata": {},
   "source": [
    "## Compare Approach 1 and Approach 2"
   ]
  },
  {
   "cell_type": "code",
   "execution_count": 13,
   "metadata": {},
   "outputs": [
    {
     "name": "stdout",
     "output_type": "stream",
     "text": [
      "https://neuromancer-seung-import.appspot.com/?json_url=https://global.daf-apis.com/nglstate/api/v1/6078644810153984\n"
     ]
    }
   ],
   "source": [
    "print(fanc.statebuilder.render_scene(\n",
    "          neurons=example_neuron_segid,\n",
    "          annotations=[{'type': 'points', 'name': 'pcg_skel', 'data': skeleton.vertices},\n",
    "                       {'type': 'points', 'name': 'meshwork_skel', 'data': neuron_meshwork.skeleton.vertices[::20, :]}],\n",
    "          annotation_units='nm'\n",
    "))"
   ]
  },
  {
   "cell_type": "markdown",
   "metadata": {},
   "source": [
    "Even when using only 1 out of every 20 points in the meshwork skeleton, there points are still more dense than all the points from `pcg_skel`.\n",
    "\n",
    "Hopefully this help you get a sense of which skeletonization method you want to use for your work:\n",
    "- the much faster but much lower resolution `pcg_skel` via `fanc.skeletonize.get_pcg_skeleton()`, or\n",
    "- the much slower but much higher resolution meshwork skeleton via `fanc.skeletonize.skeletonize_neuron()`"
   ]
  }
 ],
 "metadata": {
  "kernelspec": {
   "display_name": "Python 3 (ipykernel)",
   "language": "python",
   "name": "python3"
  },
  "language_info": {
   "codemirror_mode": {
    "name": "ipython",
    "version": 3
   },
   "file_extension": ".py",
   "mimetype": "text/x-python",
   "name": "python",
   "nbconvert_exporter": "python",
   "pygments_lexer": "ipython3",
   "version": "3.10.12"
  }
 },
 "nbformat": 4,
 "nbformat_minor": 4
}
