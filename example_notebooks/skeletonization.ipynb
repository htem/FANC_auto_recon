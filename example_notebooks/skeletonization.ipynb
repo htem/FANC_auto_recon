{
 "cells": [
  {
   "cell_type": "markdown",
   "metadata": {},
   "source": [
    "# Meshparty skeletonization of FANC meshes\n",
    "## Workflow:\n",
    "1. Download mesh from cloudvolume\n",
    "2. Run basic mesh healing\n",
    "3. Skeletonize\n",
    "4. Export\n",
    "\n",
    "##### FANC_auto_recon has a skeletonization package that generates a navis neuron from segment IDs. This can be super useful for many types of analysis.\n",
    "- `FANC_auto_recon`: https://github.com/htem/FANC_auto_recon/blob/main/skeletonization/skeletonization.py\n",
    "- `NAVIS`: https://github.com/schlegelp/navis"
   ]
  },
  {
   "cell_type": "code",
   "execution_count": null,
   "metadata": {},
   "outputs": [],
   "source": [
    "from cloudvolume import CloudVolume\n",
    "import numpy as np\n",
    "from FANC_auto_recon.segmentation import authentication_utils\n",
    "from FANC_auto_recon.skeletonization import skeletonization"
   ]
  },
  {
   "cell_type": "markdown",
   "metadata": {},
   "source": [
    "#### First get your authentication token using `get_token` which will access your ~/.cloudvolume/secrets folder. \n",
    "- See FANC_auto_recon or cloudvolume documentation for setting up a secrets folder. "
   ]
  },
  {
   "cell_type": "code",
   "execution_count": null,
   "metadata": {},
   "outputs": [],
   "source": [
    "token = authentication_utils.get_token()\n",
    "cv = CloudVolume(authentication_utils.get_cv_path('FANC_production_segmentation')['url'],use_https=True,agglomerate=True)"
   ]
  },
  {
   "cell_type": "code",
   "execution_count": null,
   "metadata": {},
   "outputs": [],
   "source": [
    "segment_id = 648518346517529559\n",
    "soma_pt = np.array([20114, 117547, 1053])"
   ]
  },
  {
   "cell_type": "markdown",
   "metadata": {},
   "source": [
    "## Skeletonization\n",
    "- Output can be either `meshwork` or `navis`\n",
    "- Default is `meshwork` as meshwork neuron objects have a great deal of utility, and can be converted rapidly to `navis` objects. \n",
    "- This uses meshparty skeletonization which is only appropriate for some applications. Other skeletonization procedures should be available soon."
   ]
  },
  {
   "cell_type": "code",
   "execution_count": null,
   "metadata": {},
   "outputs": [],
   "source": [
    "neuron_meshwork = skeletonization.skeletonize_neuron(segment_id,\n",
    "                                            soma_pt,\n",
    "                                            cv,\n",
    "                                            output = 'meshwork')"
   ]
  },
  {
   "cell_type": "markdown",
   "metadata": {},
   "source": [
    "## Meshwork neuron:\n",
    "- see: https://github.com/ceesem/MeshworkTutorial for what can be done with meshwork.\n",
    "- convert to navis for even more skeleton-based functionality: https://navis.readthedocs.io/en/latest/\n",
    "- Output as .swc file for use elsewhere. \n"
   ]
  },
  {
   "cell_type": "code",
   "execution_count": null,
   "metadata": {},
   "outputs": [],
   "source": [
    "neuron_navis = skeletonization.mp_to_navis(neuron_meshwork.skeleton)"
   ]
  },
  {
   "cell_type": "code",
   "execution_count": null,
   "metadata": {},
   "outputs": [],
   "source": [
    "neuron_navis.to_swc()"
   ]
  }
 ],
 "metadata": {
  "kernelspec": {
   "display_name": "connectomics_analysis",
   "language": "python",
   "name": "connectomics_analysis"
  },
  "language_info": {
   "codemirror_mode": {
    "name": "ipython",
    "version": 3
   },
   "file_extension": ".py",
   "mimetype": "text/x-python",
   "name": "python",
   "nbconvert_exporter": "python",
   "pygments_lexer": "ipython3",
   "version": "3.7.7"
  }
 },
 "nbformat": 4,
 "nbformat_minor": 4
}
