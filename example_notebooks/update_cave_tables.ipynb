{
 "cells": [
  {
   "attachments": {},
   "cell_type": "markdown",
   "metadata": {},
   "source": [
    "# Update and organize CAVE tables\n",
    "After creating a table on [CAVE](https://github.com/seung-lab/CAVEclient), we often need to do a maintainance on it. `upload.py` has several functions useful for such maintainance. Here, we demonstrate how you can organize your CAVE tables, by showing one of our examples when we uploaded some neuronal nuclei to the soma table on CAVE. \n",
    "\n",
    "## 0. Prepare CAVE client\n",
    "First, you need to initialize CAVEclient. If this is your first time to use CAVE, access [here](https://globalv1.daf-apis.com/info/) and check which dataset you have an access. You can also check the [CAVE's official document](https://caveclient.readthedocs.io/en/latest/index.html)."
   ]
  },
  {
   "cell_type": "code",
   "execution_count": 1,
   "metadata": {},
   "outputs": [],
   "source": [
    "import numpy as np\n",
    "import pandas as pd\n",
    "from caveclient import CAVEclient\n",
    "\n",
    "import fanc.auth as auth\n",
    "from fanc.upload import CAVEorganizer, xyz_StringSeries2List"
   ]
  },
  {
   "cell_type": "code",
   "execution_count": 2,
   "metadata": {},
   "outputs": [],
   "source": [
    "datastack_name = 'fanc_production_mar2021'\n",
    "client = CAVEclient(datastack_name)"
   ]
  },
  {
   "attachments": {},
   "cell_type": "markdown",
   "metadata": {},
   "source": [
    "## 1. Prepare a DataFrame with new somata\n",
    "\n",
    "The FANC community members reported several neuronal somata that were missing in the original soma table. We assgined 17-digit nucleus ids, which start from `10000000000000001`, to those manually identified somata (compared to automatically detected nuclei that have randomly-generated 17-digit nucleus ids with `7` in the most significant figure. See [here](https://github.com/seung-lab/cloud-volume/wiki/Graphene) for more detailed information.) These new somata were reported in Google Sheet, so we first downloaded it as a `tsv` file and formatted it like below. Make sure each soma is stored in separate row (annotation)."
   ]
  },
  {
   "cell_type": "code",
   "execution_count": 3,
   "metadata": {},
   "outputs": [],
   "source": [
    "path_to_tsv = \"../Output/FANC missing soma - missing soma.tsv\"\n",
    "missing_soma = pd.read_table(path_to_tsv,\n",
    "                             usecols = ['Voxel coordinate (x, y, z)', 'Added to CAVE table? (YYYYMMDD)', 'Cell body ID'],\n",
    "                             dtype = {'Added to CAVE table? (YYYYMMDD)': str, 'Cell body ID': object})\n",
    "missing_soma_notna = missing_soma[missing_soma['Cell body ID'].notna()]\n",
    "\n",
    "to_be_added = missing_soma_notna.reindex(columns=['Voxel coordinate (x, y, z)'])\n",
    "to_be_added = to_be_added.rename(columns={'Voxel coordinate (x, y, z)': 'pt_position'})\n",
    "to_be_added['pt_position'] = xyz_StringSeries2List(to_be_added['pt_position'])"
   ]
  },
  {
   "attachments": {},
   "cell_type": "markdown",
   "metadata": {},
   "source": [
    "## 2. Instantiate `organizer.update_soma`\n",
    "Then, you can instantiate a CAVE organizer in `fanc.upload` using the client you set up. Since we want to edit the soma table and its subset table(s) for this time, we call `organizer.update_soma` and initialize it by specifing soma table and which cell types we will add. This function often uses `caveclient.materializationengige.live_live_query()` [(code)](https://github.com/seung-lab/CAVEclient/blob/master/caveclient/materializationengine.py#982), and it gives us an WARNING message every time we run it. But you can ignore these messages for now."
   ]
  },
  {
   "cell_type": "code",
   "execution_count": 4,
   "metadata": {},
   "outputs": [
    {
     "name": "stderr",
     "output_type": "stream",
     "text": [
      "WARNING:root:Deprecation: this method is to facilitate beta testing of this feature, it will likely get removed in future versions. \n",
      "WARNING:root:Deprecation: this method is to facilitate beta testing of this feature, it will likely get removed in future versions. \n"
     ]
    },
    {
     "name": "stdout",
     "output_type": "stream",
     "text": [
      "Ready to update soma table: somas_dec2022 and subset soma table: neuron_somas_dec2022\n",
      "Please make sure you have separate soma in each annotation and have all information required: ['pt'].\n"
     ]
    }
   ],
   "source": [
    "organizer = CAVEorganizer(client)\n",
    "organizer.update_soma.initialize(\"somas_dec2022\", \"neuron\")"
   ]
  },
  {
   "attachments": {},
   "cell_type": "markdown",
   "metadata": {},
   "source": [
    "You can inspect up-to-date version of the soma table by `organizer.update_soma.soma_table`, and neuronal soma table by `organizer.update_soma.subset_table`."
   ]
  },
  {
   "cell_type": "code",
   "execution_count": 5,
   "metadata": {},
   "outputs": [
    {
     "data": {
      "text/html": [
       "<div>\n",
       "<style scoped>\n",
       "    .dataframe tbody tr th:only-of-type {\n",
       "        vertical-align: middle;\n",
       "    }\n",
       "\n",
       "    .dataframe tbody tr th {\n",
       "        vertical-align: top;\n",
       "    }\n",
       "\n",
       "    .dataframe thead th {\n",
       "        text-align: right;\n",
       "    }\n",
       "</style>\n",
       "<table border=\"1\" class=\"dataframe\">\n",
       "  <thead>\n",
       "    <tr style=\"text-align: right;\">\n",
       "      <th></th>\n",
       "      <th>id</th>\n",
       "      <th>valid</th>\n",
       "      <th>volume</th>\n",
       "      <th>pt_supervoxel_id</th>\n",
       "      <th>pt_root_id</th>\n",
       "      <th>pt_position</th>\n",
       "      <th>bb_start_position</th>\n",
       "      <th>bb_end_position</th>\n",
       "    </tr>\n",
       "  </thead>\n",
       "  <tbody>\n",
       "    <tr>\n",
       "      <th>0</th>\n",
       "      <td>72129612586418230</td>\n",
       "      <td>t</td>\n",
       "      <td>9.933692</td>\n",
       "      <td>72272137318248598</td>\n",
       "      <td>648518346487080213</td>\n",
       "      <td>[7440, 102568, 2126]</td>\n",
       "      <td>[7168.0, 102048.0, 2099.0]</td>\n",
       "      <td>[7712.0, 103088.0, 2154.0]</td>\n",
       "    </tr>\n",
       "    <tr>\n",
       "      <th>1</th>\n",
       "      <td>72129612653527663</td>\n",
       "      <td>t</td>\n",
       "      <td>25.513715</td>\n",
       "      <td>72272068800215905</td>\n",
       "      <td>648518346474233837</td>\n",
       "      <td>[7056, 102224, 2500]</td>\n",
       "      <td>[6624.0, 101712.0, 2457.0]</td>\n",
       "      <td>[7488.0, 102736.0, 2543.0]</td>\n",
       "    </tr>\n",
       "    <tr>\n",
       "      <th>2</th>\n",
       "      <td>72129612720635938</td>\n",
       "      <td>t</td>\n",
       "      <td>70.696932</td>\n",
       "      <td>72272068867345230</td>\n",
       "      <td>648518346500365939</td>\n",
       "      <td>[7152, 101136, 2607]</td>\n",
       "      <td>[6512.0, 100544.0, 2551.0]</td>\n",
       "      <td>[7792.0, 101728.0, 2663.0]</td>\n",
       "    </tr>\n",
       "    <tr>\n",
       "      <th>3</th>\n",
       "      <td>72129612787745097</td>\n",
       "      <td>t</td>\n",
       "      <td>30.472467</td>\n",
       "      <td>72272069001526660</td>\n",
       "      <td>648518346515615306</td>\n",
       "      <td>[7528, 101640, 2884]</td>\n",
       "      <td>[7008.0, 101088.0, 2850.0]</td>\n",
       "      <td>[8048.0, 102192.0, 2918.0]</td>\n",
       "    </tr>\n",
       "    <tr>\n",
       "      <th>4</th>\n",
       "      <td>72129612787745291</td>\n",
       "      <td>t</td>\n",
       "      <td>47.379510</td>\n",
       "      <td>72272069068774152</td>\n",
       "      <td>648518346507454262</td>\n",
       "      <td>[6648, 100800, 3046]</td>\n",
       "      <td>[6192.0, 100208.0, 2983.0]</td>\n",
       "      <td>[7104.0, 101392.0, 3110.0]</td>\n",
       "    </tr>\n",
       "    <tr>\n",
       "      <th>...</th>\n",
       "      <td>...</td>\n",
       "      <td>...</td>\n",
       "      <td>...</td>\n",
       "      <td>...</td>\n",
       "      <td>...</td>\n",
       "      <td>...</td>\n",
       "      <td>...</td>\n",
       "      <td>...</td>\n",
       "    </tr>\n",
       "    <tr>\n",
       "      <th>16684</th>\n",
       "      <td>73115256242570721</td>\n",
       "      <td>t</td>\n",
       "      <td>44.748474</td>\n",
       "      <td>74172987233942977</td>\n",
       "      <td>648518346511845488</td>\n",
       "      <td>[61640, 130136, 2964]</td>\n",
       "      <td>[61072.0, 129632.0, 2921.0]</td>\n",
       "      <td>[62208.0, 130640.0, 3007.0]</td>\n",
       "    </tr>\n",
       "    <tr>\n",
       "      <th>16685</th>\n",
       "      <td>72764580417241202</td>\n",
       "      <td>t</td>\n",
       "      <td>40.386136</td>\n",
       "      <td>73471635449375881</td>\n",
       "      <td>648518346498317138</td>\n",
       "      <td>[42192, 199680, 1501]</td>\n",
       "      <td>[41568.0, 199280.0, 1454.0]</td>\n",
       "      <td>[42816.0, 200080.0, 1549.0]</td>\n",
       "    </tr>\n",
       "    <tr>\n",
       "      <th>16686</th>\n",
       "      <td>10000000000000041</td>\n",
       "      <td>t</td>\n",
       "      <td>NaN</td>\n",
       "      <td>73752147614832606</td>\n",
       "      <td>648518346517540644</td>\n",
       "      <td>[49453, 171782, 50]</td>\n",
       "      <td>[nan, nan, nan]</td>\n",
       "      <td>[nan, nan, nan]</td>\n",
       "    </tr>\n",
       "    <tr>\n",
       "      <th>16687</th>\n",
       "      <td>73115256175461639</td>\n",
       "      <td>t</td>\n",
       "      <td>189.924239</td>\n",
       "      <td>74172987099839888</td>\n",
       "      <td>648518346470483710</td>\n",
       "      <td>[63008, 130032, 2711]</td>\n",
       "      <td>[62096.0, 129328.0, 2628.0]</td>\n",
       "      <td>[63920.0, 130736.0, 2794.0]</td>\n",
       "    </tr>\n",
       "    <tr>\n",
       "      <th>16688</th>\n",
       "      <td>10000000000000042</td>\n",
       "      <td>t</td>\n",
       "      <td>NaN</td>\n",
       "      <td>73681847590066049</td>\n",
       "      <td>648518346496150333</td>\n",
       "      <td>[47649, 172455, 19]</td>\n",
       "      <td>[nan, nan, nan]</td>\n",
       "      <td>[nan, nan, nan]</td>\n",
       "    </tr>\n",
       "  </tbody>\n",
       "</table>\n",
       "<p>16689 rows × 8 columns</p>\n",
       "</div>"
      ],
      "text/plain": [
       "                      id valid      volume   pt_supervoxel_id  \\\n",
       "0      72129612586418230     t    9.933692  72272137318248598   \n",
       "1      72129612653527663     t   25.513715  72272068800215905   \n",
       "2      72129612720635938     t   70.696932  72272068867345230   \n",
       "3      72129612787745097     t   30.472467  72272069001526660   \n",
       "4      72129612787745291     t   47.379510  72272069068774152   \n",
       "...                  ...   ...         ...                ...   \n",
       "16684  73115256242570721     t   44.748474  74172987233942977   \n",
       "16685  72764580417241202     t   40.386136  73471635449375881   \n",
       "16686  10000000000000041     t         NaN  73752147614832606   \n",
       "16687  73115256175461639     t  189.924239  74172987099839888   \n",
       "16688  10000000000000042     t         NaN  73681847590066049   \n",
       "\n",
       "               pt_root_id            pt_position            bb_start_position  \\\n",
       "0      648518346487080213   [7440, 102568, 2126]   [7168.0, 102048.0, 2099.0]   \n",
       "1      648518346474233837   [7056, 102224, 2500]   [6624.0, 101712.0, 2457.0]   \n",
       "2      648518346500365939   [7152, 101136, 2607]   [6512.0, 100544.0, 2551.0]   \n",
       "3      648518346515615306   [7528, 101640, 2884]   [7008.0, 101088.0, 2850.0]   \n",
       "4      648518346507454262   [6648, 100800, 3046]   [6192.0, 100208.0, 2983.0]   \n",
       "...                   ...                    ...                          ...   \n",
       "16684  648518346511845488  [61640, 130136, 2964]  [61072.0, 129632.0, 2921.0]   \n",
       "16685  648518346498317138  [42192, 199680, 1501]  [41568.0, 199280.0, 1454.0]   \n",
       "16686  648518346517540644    [49453, 171782, 50]              [nan, nan, nan]   \n",
       "16687  648518346470483710  [63008, 130032, 2711]  [62096.0, 129328.0, 2628.0]   \n",
       "16688  648518346496150333    [47649, 172455, 19]              [nan, nan, nan]   \n",
       "\n",
       "                   bb_end_position  \n",
       "0       [7712.0, 103088.0, 2154.0]  \n",
       "1       [7488.0, 102736.0, 2543.0]  \n",
       "2       [7792.0, 101728.0, 2663.0]  \n",
       "3       [8048.0, 102192.0, 2918.0]  \n",
       "4       [7104.0, 101392.0, 3110.0]  \n",
       "...                            ...  \n",
       "16684  [62208.0, 130640.0, 3007.0]  \n",
       "16685  [42816.0, 200080.0, 1549.0]  \n",
       "16686              [nan, nan, nan]  \n",
       "16687  [63920.0, 130736.0, 2794.0]  \n",
       "16688              [nan, nan, nan]  \n",
       "\n",
       "[16689 rows x 8 columns]"
      ]
     },
     "execution_count": 5,
     "metadata": {},
     "output_type": "execute_result"
    }
   ],
   "source": [
    "organizer.update_soma.soma_table"
   ]
  },
  {
   "attachments": {},
   "cell_type": "markdown",
   "metadata": {},
   "source": [
    "The code below will upload new somas in your dataframe to both soma and subset table on CAVE. Remove `%%script false --no-raise-error` when running. If they are successfully uploaded, you will see a message `Successfully uploaded!`. If your dataframe is not formatted correctly, you will receive error messages. e.g., your dataframe does not have `pt_position` column, each row does not contain an annotation, some of new somas are already reported."
   ]
  },
  {
   "cell_type": "code",
   "execution_count": null,
   "metadata": {},
   "outputs": [],
   "source": [
    "%%script false\n",
    "\n",
    "organizer.update_soma.add_dataframe(to_be_added)"
   ]
  },
  {
   "attachments": {},
   "cell_type": "markdown",
   "metadata": {},
   "source": [
    "## 3. Preview somas\n",
    "The following code generates a Neuroglancer url that has soma points as an annotation layer. If you have just uploaded your somata to CAVE, you need to wait ~1 hour, as the server needs to ingest them and look up their supervoxels."
   ]
  },
  {
   "cell_type": "code",
   "execution_count": null,
   "metadata": {},
   "outputs": [],
   "source": [
    "organizer.update_soma.update_tables()\n",
    "organizer.update_soma.preview()"
   ]
  }
 ],
 "metadata": {
  "kernelspec": {
   "display_name": "Python 3.9.13 ('nuclei': venv)",
   "language": "python",
   "name": "python3"
  },
  "language_info": {
   "codemirror_mode": {
    "name": "ipython",
    "version": 3
   },
   "file_extension": ".py",
   "mimetype": "text/x-python",
   "name": "python",
   "nbconvert_exporter": "python",
   "pygments_lexer": "ipython3",
   "version": "3.9.13"
  },
  "orig_nbformat": 4,
  "vscode": {
   "interpreter": {
    "hash": "3e8f183bd7944e152f2cac16c10b6a857d859db4a3e89a573de1818f219d7cd5"
   }
  }
 },
 "nbformat": 4,
 "nbformat_minor": 2
}
