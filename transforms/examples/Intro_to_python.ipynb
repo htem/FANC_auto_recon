{
 "cells": [
  {
   "cell_type": "markdown",
   "metadata": {},
   "source": [
    "# Seting up Python:\n",
    "#### Install Python 3 via Anaconda:\n",
    " \n",
    "- You can install Python 3 (preferably 3.7) through the Anaconda distribution. You can download the installer for your machine [here](https://www.anaconda.com/distribution/#macos). The [installation page](https://docs.anaconda.com/anaconda/install/) in the Anaconda documentation has screenshots that are helpful.\n",
    "- After you have downloaded Anaconda, open the Anaconda Prompt (for Windows) or the terminal (for Linux and macOS) and do the following to make sure the installation was successful: \n",
    "    - Enter `conda list`. If Anaconda is installed, this will output a list of installed packages and their versions.\n",
    "    - Enter the command 'python' to launch a Python shell. The version information will be displayed, and it should include “Anaconda”. You should exit the Python shell by typing `quit()`.\n"
   ]
  },
  {
   "cell_type": "markdown",
   "metadata": {},
   "source": [
    "# Set up a virtual environment:\n",
    "\n",
    "- Set up a conda environment with your connectomics analysis tools. \n",
    "\n",
    "- Open the Anaconda Prompt (for Windows) or the terminal (for Linux and macOS), then run the commands shown below. Note that yourenvname is the name of your virtual environment (you can name it whatever you want), and python=x.x should correspond to the version of Python that you installed, so you would type python=3.7 if you installed Python 3.7 You can check which version you have installed with python --version.  \n",
    "\n",
    "    - `conda create -n yourenvname python=3.8 `\n",
    "    - `conda activate yourenvname`\n"
   ]
  },
  {
   "cell_type": "markdown",
   "metadata": {},
   "source": [
    "You can run bash commands from a jupyternotebook by prepending with !, so to create a virtual environment, this is how I would do it. To be clear,  it is better to do this from the command line."
   ]
  },
  {
   "cell_type": "code",
   "execution_count": null,
   "metadata": {},
   "outputs": [],
   "source": [
    "!conda create --name connectomics_env\n",
    "!conda activate "
   ]
  },
  {
   "cell_type": "markdown",
   "metadata": {},
   "source": [
    "## You also want to be able to run your environment from jupyterlab.  To do that: \n",
    "- `conda install ipykernel`\n",
    "- `ipython kernel install --user --name=<your_env_name>`\n"
   ]
  },
  {
   "cell_type": "code",
   "execution_count": null,
   "metadata": {},
   "outputs": [],
   "source": [
    "!conda install ipykernel\n",
    "!ipython kernel install --user --name=connectomics_env"
   ]
  },
  {
   "cell_type": "markdown",
   "metadata": {},
   "source": [
    "# Installing packages: \n",
    "\n",
    "## Our workflow requires a few packages. In general, for everyone's project, the primary objective is to map synapses, partners, and do some type of analysis on them. To do this, we need several things:\n",
    "   1. A way to track our neurons and synapses.\n",
    "        - Annotation framework / JSON states / synapse tables\n",
    "        - Pandas dataframes.\n",
    "        Packages:\n",
    "            - https://github.com/seung-lab/cloud-volume\n",
    "            - https://annotationframeworkclient.readthedocs.io/en/latest/guide/intro.html#installation\n",
    "   2. A way work with different representations of neurons and synapses. \n",
    "        - Mesh plotting\n",
    "            - https://github.com/sdorkenw/MeshParty\n",
    "        - Skeletonization\n",
    "            - https://github.com/schlegelp/skeletor\n",
    "        - Pymaid / Navis\n",
    "            - https://pymaid.readthedocs.io/en/latest/source/install.html\n",
    "            - https://navis.readthedocs.io/en/latest/source/install.html\n",
    "   3. A way deal with connectivity. \n",
    "            - Something to think about...\n",
    "    \n",
    "\n",
    "\n",
    "    "
   ]
  },
  {
   "cell_type": "code",
   "execution_count": null,
   "metadata": {},
   "outputs": [],
   "source": []
  }
 ],
 "metadata": {
  "kernelspec": {
   "display_name": "connectomics_analysis",
   "language": "python",
   "name": "connectomics_analysis"
  },
  "language_info": {
   "codemirror_mode": {
    "name": "ipython",
    "version": 3
   },
   "file_extension": ".py",
   "mimetype": "text/x-python",
   "name": "python",
   "nbconvert_exporter": "python",
   "pygments_lexer": "ipython3",
   "version": "3.7.7"
  }
 },
 "nbformat": 4,
 "nbformat_minor": 4
}
