{
 "cells": [
  {
   "cell_type": "code",
   "execution_count": 2,
   "metadata": {},
   "outputs": [],
   "source": [
    "import pandas as pd\n",
    "from pathlib import Path\n",
    "import os"
   ]
  },
  {
   "cell_type": "markdown",
   "metadata": {},
   "source": [
    "# Manage JSON States\n",
    " One reasonable way to manage your data is through JSON states. You annotate a bunch of things in a neuroglancer instance, say neurons and synapses, and you want to save them for later. In neuroglancer, you do this by pressing cntrl-shift-j. This will both save your json state to the json service, and generate a JSON state ID. There is no good way to look up this ID later, so you want to keep track of yours. Here is a simple method for doing that.\n",
    "\n",
    "#### 1. Set up a dataframe of your JSON state IDs and a string tag to describe them. "
   ]
  },
  {
   "cell_type": "code",
   "execution_count": 3,
   "metadata": {},
   "outputs": [],
   "source": [
    "class StateManager: \n",
    "    \n",
    "    ''' Class for keeping track of JSON states.'''\n",
    "    def __init__(self,\n",
    "                 filename=None,\n",
    "                 token=None):\n",
    "        \n",
    "        self.directory = Path.home() / 'cloudvolume'\n",
    "        if filename is None:\n",
    "            self.filename = self.directory / 'json_states.csv'\n",
    "            self.__initialize()\n",
    "        \n",
    "        \n",
    "    def __initialize(self):\n",
    "        # Check if the database exists, if not create a new one.\n",
    "        fileEmpty =  os.path.exists(self.filename)\n",
    "        if not fileEmpty:\n",
    "            df = pd.DataFrame(columns=['state_id','description'])\n",
    "            df.to_csv(self.filename,index=False)\n",
    "            print('Database created')            \n",
    "\n",
    "        \n",
    "        self.get_database()\n",
    "    \n",
    "    def get_database(self):\n",
    "        # Read database. \n",
    "        self.df  = pd.read_csv(self.filename)\n",
    "        \n",
    " \n",
    "    def add_state(self, state_id, description=None):\n",
    "        \n",
    "        filename = self.filename\n",
    "        self.get_database()\n",
    "        df = self.df \n",
    "        df = df.append([{'state_id':state_id,'description':description}],ignore_index=True)\n",
    "        df.to_csv(filename,',',index=False)\n",
    "        \n",
    "        return('state added')\n",
    " \n",
    "        \n",
    "    \n",
    "    def get_url(self,state):\n",
    "        return('https://neuromancer-seung-import.appspot.com/?json_url=https://api.zetta.ai/json/' + str(state))\n",
    "        \n",
    "            "
   ]
  },
  {
   "cell_type": "code",
   "execution_count": 4,
   "metadata": {},
   "outputs": [
    {
     "data": {
      "text/html": [
       "<div>\n",
       "<style scoped>\n",
       "    .dataframe tbody tr th:only-of-type {\n",
       "        vertical-align: middle;\n",
       "    }\n",
       "\n",
       "    .dataframe tbody tr th {\n",
       "        vertical-align: top;\n",
       "    }\n",
       "\n",
       "    .dataframe thead th {\n",
       "        text-align: right;\n",
       "    }\n",
       "</style>\n",
       "<table border=\"1\" class=\"dataframe\">\n",
       "  <thead>\n",
       "    <tr style=\"text-align: right;\">\n",
       "      <th></th>\n",
       "      <th>state_id</th>\n",
       "      <th>description</th>\n",
       "    </tr>\n",
       "  </thead>\n",
       "  <tbody>\n",
       "    <tr>\n",
       "      <th>0</th>\n",
       "      <td>261002187096550146</td>\n",
       "      <td>MNs,10Bs,Claws</td>\n",
       "    </tr>\n",
       "    <tr>\n",
       "      <th>1</th>\n",
       "      <td>838783366227209333</td>\n",
       "      <td>Slow Tibia Flexor in V1 chunkedgraph and V2 flat</td>\n",
       "    </tr>\n",
       "    <tr>\n",
       "      <th>2</th>\n",
       "      <td>838783366227209333</td>\n",
       "      <td>Slow Tibia Flexor in V1 chunkedgraph and V2 flat</td>\n",
       "    </tr>\n",
       "    <tr>\n",
       "      <th>3</th>\n",
       "      <td>585521373111957130</td>\n",
       "      <td>Comparison of V1 and V2 chunkedgraph</td>\n",
       "    </tr>\n",
       "    <tr>\n",
       "      <th>4</th>\n",
       "      <td>758492429940665723</td>\n",
       "      <td>9A_T1 neurons</td>\n",
       "    </tr>\n",
       "    <tr>\n",
       "      <th>5</th>\n",
       "      <td>299984539931822600</td>\n",
       "      <td>PMNs</td>\n",
       "    </tr>\n",
       "    <tr>\n",
       "      <th>6</th>\n",
       "      <td>336757619423424673</td>\n",
       "      <td>81A07 synapse annotation</td>\n",
       "    </tr>\n",
       "  </tbody>\n",
       "</table>\n",
       "</div>"
      ],
      "text/plain": [
       "             state_id                                       description\n",
       "0  261002187096550146                                    MNs,10Bs,Claws\n",
       "1  838783366227209333  Slow Tibia Flexor in V1 chunkedgraph and V2 flat\n",
       "2  838783366227209333  Slow Tibia Flexor in V1 chunkedgraph and V2 flat\n",
       "3  585521373111957130              Comparison of V1 and V2 chunkedgraph\n",
       "4  758492429940665723                                     9A_T1 neurons\n",
       "5  299984539931822600                                              PMNs\n",
       "6  336757619423424673                          81A07 synapse annotation"
      ]
     },
     "execution_count": 4,
     "metadata": {},
     "output_type": "execute_result"
    }
   ],
   "source": [
    "json_list = StateManager()\n",
    "json_list.df"
   ]
  },
  {
   "cell_type": "code",
   "execution_count": null,
   "metadata": {},
   "outputs": [],
   "source": [
    "json_list.add_state(336757619423424673,description='81A07 synapse annotation')"
   ]
  },
  {
   "cell_type": "code",
   "execution_count": 6,
   "metadata": {},
   "outputs": [
    {
     "data": {
      "text/plain": [
       "'https://neuromancer-seung-import.appspot.com/?json_url=https://api.zetta.ai/json/336757619423424673'"
      ]
     },
     "execution_count": 6,
     "metadata": {},
     "output_type": "execute_result"
    }
   ],
   "source": [
    "json_list.get_url(336757619423424673)"
   ]
  },
  {
   "cell_type": "code",
   "execution_count": null,
   "metadata": {},
   "outputs": [],
   "source": []
  }
 ],
 "metadata": {
  "kernelspec": {
   "display_name": "connectomics_analysis",
   "language": "python",
   "name": "connectomics_analysis"
  },
  "language_info": {
   "codemirror_mode": {
    "name": "ipython",
    "version": 3
   },
   "file_extension": ".py",
   "mimetype": "text/x-python",
   "name": "python",
   "nbconvert_exporter": "python",
   "pygments_lexer": "ipython3",
   "version": "3.7.7"
  }
 },
 "nbformat": 4,
 "nbformat_minor": 4
}
