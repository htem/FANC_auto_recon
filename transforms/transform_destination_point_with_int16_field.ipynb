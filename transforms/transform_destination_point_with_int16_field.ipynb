{
 "cells": [
  {
   "cell_type": "markdown",
   "metadata": {},
   "source": [
    "# Transform a destination pixel into a location in the source image with an int16 displacement field\n",
    "We align a source image by transforming it into a destination image. The transform is defined by a displacement field. This displacement field is defined in the space of the destination image, such that each pixel in the displacement field is a vector that indicates the relative displacement of the source image that should be written to this pixel in the destination. In some instances, we define our displacement fields in an int16 format to reduce storage size. This notebook will demonstrate how to transform a destination pixel to a location in the source using a displacement field stored as an int16."
   ]
  },
  {
   "cell_type": "markdown",
   "metadata": {},
   "source": [
    "### Define data locations  \n",
    "Here's a [neuroglancer link](https://macastro-int16-dot-neuromancer-seung-import.appspot.com/#!%7B%22layers%22:%5B%7B%22tab%22:%22transform%22%2C%22transform%22:%5B%5B1.0750000476837158%2C0%2C0%2C0%5D%2C%5B0%2C1.0750000476837158%2C0%2C0%5D%2C%5B0%2C0%2C1.125%2C0%5D%2C%5B0%2C0%2C0%2C1%5D%5D%2C%22source%22:%22precomputed://gs://zetta_lee_fly_vnc_001_precomputed/vnc1_full_v3align_2/raw%22%2C%22type%22:%22image%22%2C%22blend%22:%22default%22%2C%22shaderControls%22:%7B%7D%2C%22name%22:%22src_img%22%2C%22visible%22:false%7D%2C%7B%22tab%22:%22transform%22%2C%22source%22:%22precomputed://gs://zetta_lee_fly_vnc_001_precomputed/vnc1_full_v3align_2/realigned_v1%22%2C%22type%22:%22image%22%2C%22blend%22:%22default%22%2C%22shaderControls%22:%7B%7D%2C%22name%22:%22dst_img%22%7D%2C%7B%22tab%22:%22transform%22%2C%22source%22:%22precomputed://gs://zetta_lee_fly_vnc_001_alignment_temp/vnc1_full_v3align_2/0-90000_0-230000_10-4400/v2/field/stitchdecay25/compose%22%2C%22type%22:%22image%22%2C%22blend%22:%22default%22%2C%22shader%22:%22#define%20SCALE%20200.0%5Cn#define%20RED%20vec3%281.%2C0.%2C0.%29%5Cn#define%20CYAN%20vec3%280.%2C1.%2C1.%29%5Cn#define%20GREEN%20vec3%28.5%2C1.%2C0.%29%5Cn#define%20BLUE%20vec3%28.5%2C0.%2C1.%29%5Cn%5Cnvoid%20main%20%28%29%20%7B%5Cn%20%20float%20x%20=%20toNormalized%28getDataValue%280%29%29%3B%5Cn%20%20float%20y%20=%20toNormalized%28getDataValue%281%29%29%3B%5Cn%20%20if%20%28x%20%3E%200.5%29%20%7B%5Cn%20%20%20%20x%20=%20x%20-%201.0%3B%5Cn%20%20%7D%5Cn%20%20if%20%28y%20%3E%200.5%29%20%7B%5Cn%20%20%20%20y%20=%20y%20-%201.0%3B%5Cn%20%20%7D%5Cn%20%20vec3%20x_color%20=%20%28-x%29%2AGREEN%20+%20x%2ABLUE%3B%5Cn%20%20vec3%20y_color%20=%20%28-y%29%2ACYAN%20+%20y%2ARED%3B%5Cn%20%20emitRGB%28%28x_color%20+%20y_color%29%2ASCALE%29%3B%5Cn%7D%5Cn%22%2C%22shaderControls%22:%7B%7D%2C%22name%22:%22field%22%7D%5D%2C%22navigation%22:%7B%22pose%22:%7B%22position%22:%7B%22voxelSize%22:%5B4.300000190734863%2C4.300000190734863%2C45%5D%2C%22voxelCoordinates%22:%5B47650%2C173836%2C1880%5D%7D%7D%2C%22zoomFactor%22:5.647448155827773%7D%2C%22layout%22:%22xy%22%7D) for the data involved in this example. (Note that the neuroglancer branch is not the master branch that we typically use. This is so we can visualize int16 precomputed data.)    \n",
    "\n",
    "We've also applied a color scheme to the `field` layer to correspond to this colorwheel (vectors with a norm >= ~57 px map to the edge of this wheel):  <img src=\"https://i.stack.imgur.com/ZzAii.png\" alt=\"vector:colorwheel\" width=\"40\"/>  "
   ]
  },
  {
   "cell_type": "code",
   "execution_count": 2,
   "metadata": {},
   "outputs": [],
   "source": [
    "import numpy as np\n",
    "import matplotlib.pyplot as plt\n",
    "from cloudvolume import CloudVolume\n",
    "from cloudvolume.lib import Bbox, Vec"
   ]
  },
  {
   "cell_type": "markdown",
   "metadata": {},
   "source": [
    "The paths for these CloudVolumes have been adjusted to be readable without a service key. For more information on reading from public datasets, see the [cloudvolume wiki](https://github.com/seung-lab/cloud-volume/wiki/Reading-Public-Data-Examples)."
   ]
  },
  {
   "cell_type": "code",
   "execution_count": 3,
   "metadata": {},
   "outputs": [
    {
     "data": {
      "text/plain": [
       "2"
      ]
     },
     "execution_count": 3,
     "metadata": {},
     "output_type": "execute_result"
    }
   ],
   "source": [
    "src_mip = np.array([4,4,40])\n",
    "dst_mip = np.array([4.3,4.3,45]) # resolution was adjusted in the alignment process\n",
    "field_mip = np.array([17.2,17.2,45])\n",
    "src_img = CloudVolume('https://storage.googleapis.com/zetta_lee_fly_vnc_001_precomputed/vnc1_full_v3align_2/raw', mip=src_mip, progress=False)\n",
    "dst_img = CloudVolume('https://storage.googleapis.com/zetta_lee_fly_vnc_001_precomputed/vnc1_full_v3align_2/realigned_v1', mip=dst_mip, progress=False)\n",
    "field   = CloudVolume('https://storage.googleapis.com/zetta_lee_fly_vnc_001_alignment_temp/vnc1_full_v3align_2/0-90000_0-230000_10-4400/v2/field/stitchdecay25/compose', mip=field_mip, progress=False)\n",
    "field.mip"
   ]
  },
  {
   "cell_type": "markdown",
   "metadata": {},
   "source": [
    "### Define methods for downloading & formatting vector  \n",
    "Each of our CloudVolumes stores data at a different resolution. We create a helper method to allow us to work in the pixel space of the full-resolution (MIP0)."
   ]
  },
  {
   "cell_type": "code",
   "execution_count": 46,
   "metadata": {},
   "outputs": [],
   "source": [
    "def get_point(vol, pt):\n",
    "    \"\"\"Download MIP0 point from a CloudVolume\n",
    "    \n",
    "    Args:\n",
    "        vol (CloudVolume): CloudVolume at any MIP\n",
    "        pt (np.array): 3-element point defined at MIP0\n",
    "        \n",
    "    Returns:\n",
    "        CloudVolume element at location\n",
    "    \"\"\"\n",
    "    mip = vol.mip\n",
    "    res = np.array([2**mip, 2**mip, 1])\n",
    "    print(res)\n",
    "    return vol[list(pt // res)] \n"
   ]
  },
  {
   "cell_type": "markdown",
   "metadata": {},
   "source": [
    "Our vectors are permuted and stored as int16 for processing convenience. For this use case, we should convert them into the same format as our pixel locations."
   ]
  },
  {
   "cell_type": "code",
   "execution_count": 47,
   "metadata": {},
   "outputs": [],
   "source": [
    "def to_vec(v):\n",
    "    \"\"\"Format CloudVolume element as vector\n",
    "    \n",
    "    Args:\n",
    "        v (np.array): 4D element as np.int16\n",
    "        \n",
    "    Returns:\n",
    "        np.array, 3D vector as np.float\n",
    "    \"\"\"\n",
    "    return np.array([np.float32(v[0,0,0,1]) / 4, np.float32(v[0,0,0,0]) / 4, 0])\n",
    "\n",
    "def get_vec(vol, pt):\n",
    "    \"\"\"Download vector at location defined at MIP0 from CloudVolume at any MIP\n",
    "    \n",
    "    Args:\n",
    "        vol (CloudVolume): CloudVolume of field as int16\n",
    "        pt (np.array): 3-element point\n",
    "        \n",
    "    Returns:\n",
    "        np.array, 3D vector at MIP0\n",
    "    \"\"\"\n",
    "    return to_vec(get_point(vol, pt))   "
   ]
  },
  {
   "cell_type": "markdown",
   "metadata": {},
   "source": [
    "### Define & transform a pixel from the destination "
   ]
  },
  {
   "cell_type": "markdown",
   "metadata": {},
   "source": [
    "Define the destination point at full-resolution (4.3 x 4.3 x 45 nm$^3$)."
   ]
  },
  {
   "cell_type": "code",
   "execution_count": 48,
   "metadata": {},
   "outputs": [],
   "source": [
    "dst_pt = np.array([47646, 173835, 1880])"
   ]
  },
  {
   "cell_type": "markdown",
   "metadata": {},
   "source": [
    "Download the vector at this destination pixel, indicating the relative displacement to a location in the source."
   ]
  },
  {
   "cell_type": "code",
   "execution_count": 49,
   "metadata": {},
   "outputs": [
    {
     "name": "stdout",
     "output_type": "stream",
     "text": [
      "[4 4 1]\n"
     ]
    }
   ],
   "source": [
    "v = get_vec(field, dst_pt)"
   ]
  },
  {
   "cell_type": "markdown",
   "metadata": {},
   "source": [
    "Add the vector to the destination pixel to retrieve the source locaiton."
   ]
  },
  {
   "cell_type": "code",
   "execution_count": 31,
   "metadata": {},
   "outputs": [],
   "source": [
    "src_pt = dst_pt + v"
   ]
  },
  {
   "cell_type": "markdown",
   "metadata": {},
   "source": [
    "### Verify correspondence  \n",
    "We'll download a small cutout around both points in the source and destination to verify that we've retrieved the same location."
   ]
  },
  {
   "cell_type": "code",
   "execution_count": 38,
   "metadata": {},
   "outputs": [
    {
     "ename": "IndexError",
     "evalue": "index 0 is out of bounds for axis 2 with size 0",
     "output_type": "error",
     "traceback": [
      "\u001b[0;31m---------------------------------------------------------------------------\u001b[0m",
      "\u001b[0;31mIndexError\u001b[0m                                Traceback (most recent call last)",
      "\u001b[0;32m<ipython-input-38-dbde1ddb48c6>\u001b[0m in \u001b[0;36m<module>\u001b[0;34m\u001b[0m\n\u001b[1;32m      1\u001b[0m \u001b[0mdimg\u001b[0m \u001b[0;34m=\u001b[0m \u001b[0mdst_img\u001b[0m\u001b[0;34m.\u001b[0m\u001b[0mdownload_point\u001b[0m\u001b[0;34m(\u001b[0m\u001b[0mdst_pt\u001b[0m\u001b[0;34m,\u001b[0m \u001b[0msize\u001b[0m\u001b[0;34m=\u001b[0m\u001b[0;34m[\u001b[0m\u001b[0;36m128\u001b[0m\u001b[0;34m,\u001b[0m\u001b[0;36m128\u001b[0m\u001b[0;34m,\u001b[0m\u001b[0;36m1\u001b[0m\u001b[0;34m]\u001b[0m\u001b[0;34m,\u001b[0m \u001b[0mmip\u001b[0m\u001b[0;34m=\u001b[0m\u001b[0mdst_mip\u001b[0m\u001b[0;34m)\u001b[0m\u001b[0;34m\u001b[0m\u001b[0;34m\u001b[0m\u001b[0m\n\u001b[0;32m----> 2\u001b[0;31m \u001b[0mplt\u001b[0m\u001b[0;34m.\u001b[0m\u001b[0mimshow\u001b[0m\u001b[0;34m(\u001b[0m\u001b[0mdimg\u001b[0m\u001b[0;34m[\u001b[0m\u001b[0;34m:\u001b[0m\u001b[0;34m,\u001b[0m\u001b[0;34m:\u001b[0m\u001b[0;34m,\u001b[0m\u001b[0;36m0\u001b[0m\u001b[0;34m,\u001b[0m\u001b[0;36m0\u001b[0m\u001b[0;34m]\u001b[0m\u001b[0;34m,\u001b[0m \u001b[0mcmap\u001b[0m\u001b[0;34m=\u001b[0m\u001b[0;34m'gray'\u001b[0m\u001b[0;34m)\u001b[0m\u001b[0;34m;\u001b[0m\u001b[0;34m\u001b[0m\u001b[0;34m\u001b[0m\u001b[0m\n\u001b[0m",
      "\u001b[0;31mIndexError\u001b[0m: index 0 is out of bounds for axis 2 with size 0"
     ]
    }
   ],
   "source": [
    "dimg = dst_img.download_point(dst_pt, size=[128,128,1], mip=dst_mip)\n",
    "plt.imshow(dimg[:,:,0,0], cmap='gray');"
   ]
  },
  {
   "cell_type": "code",
   "execution_count": 10,
   "metadata": {},
   "outputs": [
    {
     "ename": "IndexError",
     "evalue": "index 0 is out of bounds for axis 2 with size 0",
     "output_type": "error",
     "traceback": [
      "\u001b[0;31m---------------------------------------------------------------------------\u001b[0m",
      "\u001b[0;31mIndexError\u001b[0m                                Traceback (most recent call last)",
      "\u001b[0;32m<ipython-input-10-2073374e1454>\u001b[0m in \u001b[0;36m<module>\u001b[0;34m\u001b[0m\n\u001b[1;32m      1\u001b[0m \u001b[0msimg\u001b[0m \u001b[0;34m=\u001b[0m \u001b[0msrc_img\u001b[0m\u001b[0;34m.\u001b[0m\u001b[0mdownload_point\u001b[0m\u001b[0;34m(\u001b[0m\u001b[0msrc_pt\u001b[0m\u001b[0;34m,\u001b[0m \u001b[0msize\u001b[0m\u001b[0;34m=\u001b[0m\u001b[0;34m[\u001b[0m\u001b[0;36m128\u001b[0m\u001b[0;34m,\u001b[0m\u001b[0;36m128\u001b[0m\u001b[0;34m,\u001b[0m\u001b[0;36m1\u001b[0m\u001b[0;34m]\u001b[0m\u001b[0;34m,\u001b[0m \u001b[0mmip\u001b[0m\u001b[0;34m=\u001b[0m\u001b[0msrc_mip\u001b[0m\u001b[0;34m)\u001b[0m\u001b[0;34m\u001b[0m\u001b[0;34m\u001b[0m\u001b[0m\n\u001b[0;32m----> 2\u001b[0;31m \u001b[0mplt\u001b[0m\u001b[0;34m.\u001b[0m\u001b[0mimshow\u001b[0m\u001b[0;34m(\u001b[0m\u001b[0msimg\u001b[0m\u001b[0;34m[\u001b[0m\u001b[0;34m:\u001b[0m\u001b[0;34m,\u001b[0m\u001b[0;34m:\u001b[0m\u001b[0;34m,\u001b[0m\u001b[0;36m0\u001b[0m\u001b[0;34m,\u001b[0m\u001b[0;36m0\u001b[0m\u001b[0;34m]\u001b[0m\u001b[0;34m,\u001b[0m \u001b[0mcmap\u001b[0m\u001b[0;34m=\u001b[0m\u001b[0;34m'gray'\u001b[0m\u001b[0;34m)\u001b[0m\u001b[0;34m;\u001b[0m\u001b[0;34m\u001b[0m\u001b[0;34m\u001b[0m\u001b[0m\n\u001b[0m",
      "\u001b[0;31mIndexError\u001b[0m: index 0 is out of bounds for axis 2 with size 0"
     ]
    }
   ],
   "source": [
    "simg = src_img.download_point(src_pt, size=[128,128,1], mip=src_mip)\n",
    "plt.imshow(simg[:,:,0,0], cmap='gray');"
   ]
  },
  {
   "cell_type": "code",
   "execution_count": 45,
   "metadata": {},
   "outputs": [
    {
     "ename": "IndexError",
     "evalue": "index 0 is out of bounds for axis 2 with size 0",
     "output_type": "error",
     "traceback": [
      "\u001b[0;31m---------------------------------------------------------------------------\u001b[0m",
      "\u001b[0;31mIndexError\u001b[0m                                Traceback (most recent call last)",
      "\u001b[0;32m<ipython-input-45-fccb7e5c1e1e>\u001b[0m in \u001b[0;36m<module>\u001b[0;34m\u001b[0m\n\u001b[0;32m----> 1\u001b[0;31m \u001b[0mdimg\u001b[0m\u001b[0;34m[\u001b[0m\u001b[0;34m:\u001b[0m\u001b[0;34m,\u001b[0m\u001b[0;34m:\u001b[0m\u001b[0;34m,\u001b[0m\u001b[0;36m0\u001b[0m\u001b[0;34m]\u001b[0m\u001b[0;34m\u001b[0m\u001b[0;34m\u001b[0m\u001b[0m\n\u001b[0m",
      "\u001b[0;31mIndexError\u001b[0m: index 0 is out of bounds for axis 2 with size 0"
     ]
    }
   ],
   "source": []
  },
  {
   "cell_type": "code",
   "execution_count": null,
   "metadata": {},
   "outputs": [],
   "source": []
  }
 ],
 "metadata": {
  "kernelspec": {
   "display_name": "Python 3",
   "language": "python",
   "name": "python3"
  },
  "language_info": {
   "codemirror_mode": {
    "name": "ipython",
    "version": 3
   },
   "file_extension": ".py",
   "mimetype": "text/x-python",
   "name": "python",
   "nbconvert_exporter": "python",
   "pygments_lexer": "ipython3",
   "version": "3.7.3"
  }
 },
 "nbformat": 4,
 "nbformat_minor": 4
}
