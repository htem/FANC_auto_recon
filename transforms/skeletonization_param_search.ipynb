{
 "cells": [
  {
   "cell_type": "markdown",
   "metadata": {},
   "source": [
    "# Comparing skeletonization methods and testing annotations.  \n",
    "-  Uses Kimimaro default parameters from first bulk skeletonization, skeletor, and meshparty. \n",
    "- In general, it seems as is if kimimaro will be best. Meshparty has the issue of non-centered skeletons which will make tracing / review difficult, and skeletor is a bit slow. \n",
    "- Workflow allows for all methods to be used, and the final output is a Navis/Pymaid tree neuron that can be uploaded to CATMAID."
   ]
  },
  {
   "cell_type": "code",
   "execution_count": null,
   "metadata": {},
   "outputs": [],
   "source": [
    "import sys\n",
    "if '/Users/brandon/Documents/Repositories/Python/FANC_auto_recon/transforms/transformation_utilities/' not in sys.path:\n",
    "    sys.path.append('/Users/brandon/Documents/Repositories/Python/FANC_auto_recon/transforms/transformation_utilities/')\n",
    "\n",
    "import transformation_utilities as tu\n",
    "from transformation_utilities import skeletonization\n",
    "\n",
    "from cloudvolume import CloudVolume\n",
    "import navis\n",
    "import numpy as np\n",
    "from meshparty import trimesh_vtk, skeleton_io, trimesh_io\n"
   ]
  },
  {
   "cell_type": "code",
   "execution_count": null,
   "metadata": {},
   "outputs": [],
   "source": [
    "cv_path = 'https://storage.googleapis.com/zetta_lee_fly_vnc_001_segmentation/vnc1_full_v3align_2/realigned_v1/seg/full_run_v1'\n",
    "seg_ids = [72553200112349392,72201837495036592]"
   ]
  },
  {
   "cell_type": "code",
   "execution_count": null,
   "metadata": {},
   "outputs": [],
   "source": [
    "## Download data. cloudvolume meshes for skeletor, meshparty meshes for meshparty.\n",
    "\n",
    "cv_meshes = tu.get_cv_mesh(seg_ids,cv_path=cv_path,annotations='19a')\n",
    "\n",
    "mp_meshes = tu.get_meshparty_mesh(seg_ids,cv_path=cv_path,annotations='19a')\n",
    "\n",
    "skeletons = tu.get_kimimaro_skeleton(seg_ids,cv_path=cv_path,annotations='19a')"
   ]
  },
  {
   "cell_type": "code",
   "execution_count": null,
   "metadata": {},
   "outputs": [],
   "source": [
    "mp_skel = skeletonization.get_meshparty_skeleton(mp_meshes[1],np.array([11768, 110306, 1480]),soma_radius=8000)\n",
    "sk_skel = skeletonization.get_skeletor_skeleton(cv_meshes[1])"
   ]
  },
  {
   "cell_type": "code",
   "execution_count": null,
   "metadata": {},
   "outputs": [],
   "source": [
    "km_neuron = navis.TreeNeuron(skeletons[1])\n",
    "mp_neuron = navis.TreeNeuron(mp_skel)\n",
    "sk_neuron = navis.TreeNeuron(sk_skel)\n",
    "mesh = navis.MeshNeuron(mp_meshes[1])"
   ]
  },
  {
   "cell_type": "code",
   "execution_count": null,
   "metadata": {},
   "outputs": [],
   "source": [
    "navis.plot3d([mesh,sk_neuron,km_neuron,mp_neuron],alpha=.2,linewidth=3)\n"
   ]
  },
  {
   "cell_type": "code",
   "execution_count": null,
   "metadata": {},
   "outputs": [],
   "source": []
  }
 ],
 "metadata": {
  "kernelspec": {
   "display_name": "connectomics_analysis",
   "language": "python",
   "name": "connectomics_analysis"
  },
  "language_info": {
   "codemirror_mode": {
    "name": "ipython",
    "version": 3
   },
   "file_extension": ".py",
   "mimetype": "text/x-python",
   "name": "python",
   "nbconvert_exporter": "python",
   "pygments_lexer": "ipython3",
   "version": "3.7.7"
  }
 },
 "nbformat": 4,
 "nbformat_minor": 2
}
