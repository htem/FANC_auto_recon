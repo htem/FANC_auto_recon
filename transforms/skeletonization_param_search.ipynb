{
 "cells": [
  {
   "cell_type": "markdown",
   "metadata": {},
   "source": [
    "# Comparing skeletonization methods and transforms.  \n",
    "-  Uses Kimimaro default parameters from first bulk skeletonization, skeletor, and meshparty. \n",
    "- In general, it seems as is if kimimaro will be best. Meshparty has the issue of non-centered skeletons which will make tracing / review difficult, and skeletor is a bit slow. \n",
    "- Workflow allows for all methods to be used, and the final output is a Navis/Pymaid tree neuron that can be uploaded to CATMAID."
   ]
  },
  {
   "cell_type": "code",
   "execution_count": 4,
   "metadata": {},
   "outputs": [],
   "source": [
    "import sys\n",
    "import fanc_seg_utils as fs\n",
    "import numpy as np\n",
    "from meshparty import trimesh_vtk, skeleton_io, trimesh_io\n",
    "import pymaid\n",
    "from fanc_seg_utils import skeleton_manipulations"
   ]
  },
  {
   "cell_type": "code",
   "execution_count": null,
   "metadata": {},
   "outputs": [],
   "source": [
    "FANC4 = 'https://storage.googleapis.com/zetta_lee_fly_vnc_001_segmentation/vnc1_full_v3align_2/realigned_v1/seg/full_run_v1'\n",
    "FANC3 = 'https://storage.googleapis.com/zetta_lee_fly_vnc_001_segmentation_temp/vnc1_full_v3align_2/37674-69768_41600-134885_430-4334/seg/v3'\n",
    "\n",
    "FANC3_id = 72833232114359310\n",
    "FANC4_id = 74030874819372043\n"
   ]
  },
  {
   "cell_type": "code",
   "execution_count": null,
   "metadata": {},
   "outputs": [],
   "source": [
    "## Get the FANC3 mesh for the fast tibia MN and the FANC4 skeleton, and check alignment\n",
    "FANC3_mesh = fs.get_cv_mesh(FANC3_id,cv_path=FANC3)\n",
    "FANC4_neuron = fs.get_skeleton(FANC4_id,method = 'kimimaro',cv_path=FANC4,output='navis',name = '19a_1')\n"
   ]
  },
  {
   "cell_type": "code",
   "execution_count": null,
   "metadata": {},
   "outputs": [],
   "source": [
    "target_instance = catmaid_utilities.catmaid_login(project = 'fanc', project_id= 60,key_file_path='KEYPATH')\n",
    "catmaid_utilities.upload_to_CATMAID(FANC4_neuron[0],target_project=target_instance)"
   ]
  }
 ],
 "metadata": {
  "kernelspec": {
   "display_name": "connectomics_analysis",
   "language": "python",
   "name": "connectomics_analysis"
  },
  "language_info": {
   "codemirror_mode": {
    "name": "ipython",
    "version": 3
   },
   "file_extension": ".py",
   "mimetype": "text/x-python",
   "name": "python",
   "nbconvert_exporter": "python",
   "pygments_lexer": "ipython3",
   "version": "3.7.7"
  }
 },
 "nbformat": 4,
 "nbformat_minor": 2
}
