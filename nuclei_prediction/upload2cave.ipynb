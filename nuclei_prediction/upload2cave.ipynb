{
 "cells": [
  {
   "cell_type": "markdown",
   "source": [
    "# Format tables for CAVE"
   ],
   "metadata": {}
  },
  {
   "cell_type": "code",
   "execution_count": 1,
   "source": [
    "import numpy as np\n",
    "import sys\n",
    "import os\n",
    "import pandas as pd\n",
    "from datetime import datetime\n",
    "from caveclient import CAVEclient\n",
    "\n",
    "sys.path.append(os.path.abspath(\"../segmentation\"))# to import rootID_lookup and authentication_utils like below\n",
    "import rootID_lookup as IDlook\n",
    "import authentication_utils as auth"
   ],
   "outputs": [],
   "metadata": {}
  },
  {
   "cell_type": "code",
   "execution_count": 2,
   "source": [
    "# auth = client.auth\n",
    "# auth.get_new_token()\n",
    "# new_token = '' # This is the text you see after you visit the website.\n",
    "# auth.save_token(token=new_token)"
   ],
   "outputs": [],
   "metadata": {}
  },
  {
   "cell_type": "code",
   "execution_count": 3,
   "source": [
    "# check datastack_name here https://globalv1.daf-apis.com/info/\n",
    "datastack_name = 'fanc_production_mar2021'\n",
    "client = CAVEclient(datastack_name)\n",
    "client.info.get_datastack_info()"
   ],
   "outputs": [
    {
     "output_type": "execute_result",
     "data": {
      "text/plain": [
       "{'analysis_database': None,\n",
       " 'aligned_volume': {'image_source': 'precomputed://gs://zetta_lee_fly_vnc_001_precomputed/fanc_v4_em',\n",
       "  'description': 'This is the 4th alignment of the female adult nerve cord dataset.',\n",
       "  'name': 'fanc_v4',\n",
       "  'id': 7},\n",
       " 'synapse_table': None,\n",
       " 'soma_table': None,\n",
       " 'segmentation_source': 'graphene://https://cave.fanc-fly.com/segmentation/table/mar2021_prod',\n",
       " 'viewer_site': None,\n",
       " 'local_server': 'https://cave.fanc-fly.com',\n",
       " 'description': 'This is the first version of the fanc dataset hosted in CAVE.'}"
      ]
     },
     "metadata": {},
     "execution_count": 3
    }
   ],
   "metadata": {}
  },
  {
   "cell_type": "code",
   "execution_count": 4,
   "source": [
    "client.annotation.get_tables()"
   ],
   "outputs": [
    {
     "output_type": "stream",
     "name": "stdout",
     "text": [
      "https://cave.fanc-fly.com/annotation/api/v2/aligned_volume/fanc_v4/table\n"
     ]
    },
    {
     "output_type": "execute_result",
     "data": {
      "text/plain": [
       "['t1mn', 'test_soma', 'synapses_may2021', 'nuclei_aug2021', 'soma_aug2021']"
      ]
     },
     "metadata": {},
     "execution_count": 4
    }
   ],
   "metadata": {}
  },
  {
   "cell_type": "code",
   "execution_count": 5,
   "source": [
    "df = pd.read_csv('../Output/soma_info_Aug2021ver2.csv', header=0)"
   ],
   "outputs": [],
   "metadata": {}
  },
  {
   "cell_type": "code",
   "execution_count": 6,
   "source": [
    "# https://globalv1.daf-apis.com/schema/views/type/nucleus_detection/view\n",
    "nuclei_df = df.reindex(columns=['nucID', 'nuc_xyz', 'bbx_min', 'bbx_max'])\n",
    "nuclei_df = nuclei_df.rename(columns={'nucID': 'id', 'nuc_xyz': 'pt_position', 'bbx_min': 'bb_start_position', 'bbx_max': 'bb_end_position'})\n",
    "nuclei_df['type'] = 'nucleus_detection'\n",
    "\n",
    "soma_df = df.reindex(columns=['nucID', 'soma_xyz'])\n",
    "soma_df = soma_df.rename(columns={'nucID': 'id', 'soma_xyz': 'pt_position'})\n",
    "soma_df['type'] = 'nucleus_detection'"
   ],
   "outputs": [],
   "metadata": {}
  },
  {
   "cell_type": "code",
   "execution_count": 7,
   "source": [
    "nuclei_df_pt = nuclei_df['pt_position'].str.strip('()').str.split(',',expand=True)\n",
    "nuclei_df['pt_position'] = nuclei_df_pt.astype(int).values.tolist()\n",
    "\n",
    "nuclei_df_bb_start = nuclei_df['bb_start_position'].str.strip('()').str.split(',',expand=True)\n",
    "nuclei_df['bb_start_position'] = nuclei_df_bb_start.astype(int).values.tolist()\n",
    "\n",
    "nuclei_df_bb_end = nuclei_df['bb_end_position'].str.strip('()').str.split(',',expand=True)\n",
    "nuclei_df['bb_end_position'] = nuclei_df_bb_end.astype(int).values.tolist()"
   ],
   "outputs": [],
   "metadata": {}
  },
  {
   "cell_type": "code",
   "execution_count": 8,
   "source": [
    "soma_df_pt = soma_df['pt_position'].str.strip('()').str.split(',',expand=True)\n",
    "soma_df['pt_position'] = soma_df_pt.astype(int).values.tolist()"
   ],
   "outputs": [],
   "metadata": {}
  },
  {
   "cell_type": "code",
   "execution_count": 17,
   "source": [
    "# check tables\n",
    "nuclei_df"
   ],
   "outputs": [
    {
     "output_type": "execute_result",
     "data": {
      "text/plain": [
       "                      id            pt_position      bb_start_position  \\\n",
       "0      73115668492321345  [64384, 155376, 2719]  [64144, 155296, 2711]   \n",
       "1      72341681025843555  [16960, 157296, 2652]  [16832, 157232, 2639]   \n",
       "2      72694142819371754  [40352, 195888, 1211]  [40224, 195760, 1197]   \n",
       "3      72904562259788369  [52752, 154288, 2630]  [52368, 153920, 2624]   \n",
       "4      72481250081768943   [27376, 86896, 2005]   [27008, 86544, 1982]   \n",
       "...                  ...                    ...                    ...   \n",
       "17071  73114912242532398  [60624, 109584, 1417]  [59856, 108960, 1351]   \n",
       "17072  72903943314735186   [48496, 116896, 969]   [47664, 116336, 828]   \n",
       "17073  72270762727178308  [14112, 123456, 3312]  [13216, 123328, 3093]   \n",
       "17074  72200462366935570   [8176, 127328, 2290]   [8080, 126608, 2245]   \n",
       "17075  73115256175460446  [64576, 126080, 2568]  [62192, 124832, 2538]   \n",
       "\n",
       "             bb_end_position               type  \n",
       "0      [64544, 155760, 2756]  nucleus_detection  \n",
       "1      [17216, 157648, 2692]  nucleus_detection  \n",
       "2      [40672, 196240, 1238]  nucleus_detection  \n",
       "3      [52848, 154320, 2671]  nucleus_detection  \n",
       "4       [27408, 87104, 2023]  nucleus_detection  \n",
       "...                      ...                ...  \n",
       "17071  [62560, 112032, 1522]  nucleus_detection  \n",
       "17072  [50896, 118912, 1003]  nucleus_detection  \n",
       "17073  [15488, 125712, 3363]  nucleus_detection  \n",
       "17074  [10064, 129536, 2501]  nucleus_detection  \n",
       "17075  [64896, 127552, 2792]  nucleus_detection  \n",
       "\n",
       "[17076 rows x 5 columns]"
      ],
      "text/html": [
       "<div>\n",
       "<style scoped>\n",
       "    .dataframe tbody tr th:only-of-type {\n",
       "        vertical-align: middle;\n",
       "    }\n",
       "\n",
       "    .dataframe tbody tr th {\n",
       "        vertical-align: top;\n",
       "    }\n",
       "\n",
       "    .dataframe thead th {\n",
       "        text-align: right;\n",
       "    }\n",
       "</style>\n",
       "<table border=\"1\" class=\"dataframe\">\n",
       "  <thead>\n",
       "    <tr style=\"text-align: right;\">\n",
       "      <th></th>\n",
       "      <th>id</th>\n",
       "      <th>pt_position</th>\n",
       "      <th>bb_start_position</th>\n",
       "      <th>bb_end_position</th>\n",
       "      <th>type</th>\n",
       "    </tr>\n",
       "  </thead>\n",
       "  <tbody>\n",
       "    <tr>\n",
       "      <th>0</th>\n",
       "      <td>73115668492321345</td>\n",
       "      <td>[64384, 155376, 2719]</td>\n",
       "      <td>[64144, 155296, 2711]</td>\n",
       "      <td>[64544, 155760, 2756]</td>\n",
       "      <td>nucleus_detection</td>\n",
       "    </tr>\n",
       "    <tr>\n",
       "      <th>1</th>\n",
       "      <td>72341681025843555</td>\n",
       "      <td>[16960, 157296, 2652]</td>\n",
       "      <td>[16832, 157232, 2639]</td>\n",
       "      <td>[17216, 157648, 2692]</td>\n",
       "      <td>nucleus_detection</td>\n",
       "    </tr>\n",
       "    <tr>\n",
       "      <th>2</th>\n",
       "      <td>72694142819371754</td>\n",
       "      <td>[40352, 195888, 1211]</td>\n",
       "      <td>[40224, 195760, 1197]</td>\n",
       "      <td>[40672, 196240, 1238]</td>\n",
       "      <td>nucleus_detection</td>\n",
       "    </tr>\n",
       "    <tr>\n",
       "      <th>3</th>\n",
       "      <td>72904562259788369</td>\n",
       "      <td>[52752, 154288, 2630]</td>\n",
       "      <td>[52368, 153920, 2624]</td>\n",
       "      <td>[52848, 154320, 2671]</td>\n",
       "      <td>nucleus_detection</td>\n",
       "    </tr>\n",
       "    <tr>\n",
       "      <th>4</th>\n",
       "      <td>72481250081768943</td>\n",
       "      <td>[27376, 86896, 2005]</td>\n",
       "      <td>[27008, 86544, 1982]</td>\n",
       "      <td>[27408, 87104, 2023]</td>\n",
       "      <td>nucleus_detection</td>\n",
       "    </tr>\n",
       "    <tr>\n",
       "      <th>...</th>\n",
       "      <td>...</td>\n",
       "      <td>...</td>\n",
       "      <td>...</td>\n",
       "      <td>...</td>\n",
       "      <td>...</td>\n",
       "    </tr>\n",
       "    <tr>\n",
       "      <th>17071</th>\n",
       "      <td>73114912242532398</td>\n",
       "      <td>[60624, 109584, 1417]</td>\n",
       "      <td>[59856, 108960, 1351]</td>\n",
       "      <td>[62560, 112032, 1522]</td>\n",
       "      <td>nucleus_detection</td>\n",
       "    </tr>\n",
       "    <tr>\n",
       "      <th>17072</th>\n",
       "      <td>72903943314735186</td>\n",
       "      <td>[48496, 116896, 969]</td>\n",
       "      <td>[47664, 116336, 828]</td>\n",
       "      <td>[50896, 118912, 1003]</td>\n",
       "      <td>nucleus_detection</td>\n",
       "    </tr>\n",
       "    <tr>\n",
       "      <th>17073</th>\n",
       "      <td>72270762727178308</td>\n",
       "      <td>[14112, 123456, 3312]</td>\n",
       "      <td>[13216, 123328, 3093]</td>\n",
       "      <td>[15488, 125712, 3363]</td>\n",
       "      <td>nucleus_detection</td>\n",
       "    </tr>\n",
       "    <tr>\n",
       "      <th>17074</th>\n",
       "      <td>72200462366935570</td>\n",
       "      <td>[8176, 127328, 2290]</td>\n",
       "      <td>[8080, 126608, 2245]</td>\n",
       "      <td>[10064, 129536, 2501]</td>\n",
       "      <td>nucleus_detection</td>\n",
       "    </tr>\n",
       "    <tr>\n",
       "      <th>17075</th>\n",
       "      <td>73115256175460446</td>\n",
       "      <td>[64576, 126080, 2568]</td>\n",
       "      <td>[62192, 124832, 2538]</td>\n",
       "      <td>[64896, 127552, 2792]</td>\n",
       "      <td>nucleus_detection</td>\n",
       "    </tr>\n",
       "  </tbody>\n",
       "</table>\n",
       "<p>17076 rows × 5 columns</p>\n",
       "</div>"
      ]
     },
     "metadata": {},
     "execution_count": 17
    }
   ],
   "metadata": {}
  },
  {
   "cell_type": "markdown",
   "source": [
    "# Upload annotation table\n",
    "make sure to create tables first\n",
    "\n",
    "https://github.com/seung-lab/CAVEclient/blob/72ebf7180ca3c4195bec561e177c453554cc60c6/FlyWireAnnotationTutorial.ipynb"
   ],
   "metadata": {}
  },
  {
   "cell_type": "code",
   "execution_count": 10,
   "source": [
    "client.schema.schema_definition('nucleus_detection')"
   ],
   "outputs": [
    {
     "output_type": "execute_result",
     "data": {
      "text/plain": [
       "{'$schema': 'http://json-schema.org/draft-07/schema#',\n",
       " 'definitions': {'SpatialPoint': {'properties': {'position': {'type': 'array'}},\n",
       "   'type': 'object',\n",
       "   'required': ['position'],\n",
       "   'additionalProperties': False},\n",
       "  'BoundSpatialPoint': {'properties': {'position': {'type': 'array'},\n",
       "    'root_id': {'type': 'integer'},\n",
       "    'supervoxel_id': {'type': 'integer'}},\n",
       "   'type': 'object',\n",
       "   'required': ['position'],\n",
       "   'additionalProperties': False},\n",
       "  'NucleusDetection': {'properties': {'bb_end': {'type': 'object',\n",
       "     '$ref': '#/definitions/SpatialPoint',\n",
       "     'description': 'high corner of the bounding box'},\n",
       "    'bb_start': {'type': 'object',\n",
       "     '$ref': '#/definitions/SpatialPoint',\n",
       "     'description': 'low corner of the bounding box'},\n",
       "    'pt': {'type': 'object',\n",
       "     '$ref': '#/definitions/BoundSpatialPoint',\n",
       "     'description': 'the point to be used for attaching objects to the dynamic segmentation'},\n",
       "    'valid': {'title': 'valid',\n",
       "     'type': ['boolean', 'null'],\n",
       "     'default': False,\n",
       "     'description': 'is this annotation valid'},\n",
       "    'volume': {'title': 'volume',\n",
       "     'type': 'number',\n",
       "     'format': 'float',\n",
       "     'description': 'the volume of the nucleus detected in um^3'}},\n",
       "   'type': 'object',\n",
       "   'required': ['pt'],\n",
       "   'additionalProperties': True}},\n",
       " '$ref': '#/definitions/NucleusDetection'}"
      ]
     },
     "metadata": {},
     "execution_count": 10
    }
   ],
   "metadata": {}
  },
  {
   "cell_type": "code",
   "execution_count": 18,
   "source": [
    "# get 502 error if you try to upload at the same time\n",
    "# nuclei_aug2021\n",
    "k=100\n",
    "minidfs = [nuclei_df.loc[i:i+k-1, :] for i in range(0, len(nuclei_df), k)]\n",
    "for dftmp in minidfs:\n",
    "#    client.annotation.post_annotation_df(table_name='nuclei_aug2021',\n",
    "                                         df=dftmp,\n",
    "                                         position_columns={'pt_position': 'pt', 'bb_start_position': 'bb_start', 'bb_end_position': 'bb_end'}, \n",
    "                                         aligned_volume_name='fanc_v4')"
   ],
   "outputs": [],
   "metadata": {}
  },
  {
   "cell_type": "code",
   "execution_count": 16,
   "source": [
    "# soma_aug2021\n",
    "k=100\n",
    "minidfs = [soma_df.loc[i:i+k-1, :] for i in range(0, len(soma_df), k)]\n",
    "for dftmp in minidfs:\n",
    "#    client.annotation.post_annotation_df(table_name='soma_aug2021',\n",
    "                                         df=dftmp,\n",
    "                                         position_columns=['pt_position'], \n",
    "                                         aligned_volume_name='fanc_v4')"
   ],
   "outputs": [],
   "metadata": {}
  },
  {
   "cell_type": "code",
   "execution_count": null,
   "source": [],
   "outputs": [],
   "metadata": {}
  },
  {
   "cell_type": "markdown",
   "source": [
    "# Create tables\n",
    "\n",
    "https://github.com/seung-lab/CAVEclient/blob/dec850dff9e0fa0a9ef8c2a0c79bf82cd2fc5b97/caveclient/annotationengine.py"
   ],
   "metadata": {}
  },
  {
   "cell_type": "code",
   "execution_count": 29,
   "source": [
    "print('IDs shared with soma_aug2021. Based on nuclei segmented at {}'.format(auth.get_cv_path('nuclei_seg_Aug2021')['url']))"
   ],
   "outputs": [
    {
     "output_type": "stream",
     "name": "stdout",
     "text": [
      "IDs shared with soma_aug2021. Based on nuclei segmented at precomputed://gs://ng_scratch_ranl_zetta_30/vnc1_full_v3align_2/realigned_v1/seg/84214f67075692a9e41c02d164b466ba\n"
     ]
    }
   ],
   "metadata": {}
  },
  {
   "cell_type": "code",
   "execution_count": 30,
   "source": [
    "# client.annotation.create_table(table_name='nuclei_aug2021',\n",
    "                               schema_name='nucleus_detection',\n",
    "                               description = 'IDs shared with soma_aug2021. Based on nuclei segmentation at {}'.format(auth.get_cv_path('nuclei_seg_Aug2021')['url']),\n",
    "                               voxel_resolution =[4.3, 4.3, 45.0])"
   ],
   "outputs": [
    {
     "output_type": "execute_result",
     "data": {
      "text/plain": [
       "<Response [200]>"
      ]
     },
     "metadata": {},
     "execution_count": 30
    }
   ],
   "metadata": {}
  },
  {
   "cell_type": "code",
   "execution_count": 31,
   "source": [
    "# client.annotation.create_table(table_name='soma_aug2021',\n",
    "                               schema_name='nucleus_detection',\n",
    "                               description = 'IDs shared with nuclei_aug2021. Based on nuclei segmentation at {}'.format(auth.get_cv_path('nuclei_seg_Aug2021')['url']),\n",
    "                               voxel_resolution =[4.3, 4.3, 45.0])"
   ],
   "outputs": [
    {
     "output_type": "execute_result",
     "data": {
      "text/plain": [
       "<Response [200]>"
      ]
     },
     "metadata": {},
     "execution_count": 31
    }
   ],
   "metadata": {}
  },
  {
   "cell_type": "markdown",
   "source": [
    "# Test materialization"
   ],
   "metadata": {}
  },
  {
   "cell_type": "code",
   "execution_count": 5,
   "source": [
    "client.materialize.homepage"
   ],
   "outputs": [
    {
     "output_type": "execute_result",
     "data": {
      "text/plain": [
       "<IPython.core.display.HTML object>"
      ],
      "text/html": [
       "<a href=\"https://cave.fanc-fly.com/materialize/views/datastack/fanc_production_mar2021\" target=\"_blank\">Materialization Engine</a>"
      ]
     },
     "metadata": {},
     "execution_count": 5
    }
   ],
   "metadata": {}
  },
  {
   "cell_type": "code",
   "execution_count": 16,
   "source": [
    "client.materialize.get_versions()"
   ],
   "outputs": [
    {
     "output_type": "execute_result",
     "data": {
      "text/plain": [
       "[18, 19, 20, 21]"
      ]
     },
     "metadata": {},
     "execution_count": 16
    }
   ],
   "metadata": {}
  },
  {
   "cell_type": "code",
   "execution_count": 19,
   "source": [
    "# client.materialize.version = 21"
   ],
   "outputs": [],
   "metadata": {}
  },
  {
   "cell_type": "code",
   "execution_count": 11,
   "source": [
    "client.materialize.get_annotation_count('soma_aug2021')"
   ],
   "outputs": [
    {
     "output_type": "execute_result",
     "data": {
      "text/plain": [
       "17076"
      ]
     },
     "metadata": {},
     "execution_count": 11
    }
   ],
   "metadata": {}
  },
  {
   "cell_type": "code",
   "execution_count": 20,
   "source": [
    "# soma_table = client.info.get_datastack_info('soma_aug2021')\n",
    "test=client.materialize.live_query('soma_aug2021',\n",
    "                                   datetime.utcnow(),\n",
    "                                   limit=10)"
   ],
   "outputs": [
    {
     "output_type": "stream",
     "name": "stderr",
     "text": [
      "WARNING:root:201 - \"Limited query to 200000 rows\n"
     ]
    }
   ],
   "metadata": {}
  },
  {
   "cell_type": "code",
   "execution_count": 21,
   "source": [
    "test"
   ],
   "outputs": [
    {
     "output_type": "execute_result",
     "data": {
      "text/plain": [
       "                  id valid   pt_supervoxel_id          pt_root_id  volume  \\\n",
       "0  73115668492321345     t  74244180477821787  648518346472873828     NaN   \n",
       "1  72341681025843555     t  72625768014247001  648518346496058999     NaN   \n",
       "2  72694142819371754     t  73401129131935868  648518346493518193     NaN   \n",
       "3  72904562259788369     t  73821967945813511  648518346504953141     NaN   \n",
       "4  72481250081768943     t  72975274937264610  648518346499742019     NaN   \n",
       "5  73045230693122208     t  74032867348432337  648518346512714794     NaN   \n",
       "6  73115599638626701     t  74173605239618700  648518346475960175     NaN   \n",
       "7  72341886915837985     t  72696548471049575  648518346512656677     NaN   \n",
       "8  72834605496926428     t  73682054486949216  648518346518927109     NaN   \n",
       "9  72411362843689699     t  72765131649878154  648518346508294966     NaN   \n",
       "\n",
       "             pt_position bb_start_position  bb_end_position  \n",
       "0  [64096, 155520, 2735]   [nan, nan, nan]  [nan, nan, nan]  \n",
       "1  [16768, 157376, 2693]   [nan, nan, nan]  [nan, nan, nan]  \n",
       "2  [40144, 195856, 1213]   [nan, nan, nan]  [nan, nan, nan]  \n",
       "3  [52320, 153968, 2663]   [nan, nan, nan]  [nan, nan, nan]  \n",
       "4   [26928, 86432, 1996]   [nan, nan, nan]  [nan, nan, nan]  \n",
       "5  [57920, 148672, 1348]   [nan, nan, nan]  [nan, nan, nan]  \n",
       "6  [62560, 149344, 2111]   [nan, nan, nan]  [nan, nan, nan]  \n",
       "7  [19376, 169888, 1543]   [nan, nan, nan]  [nan, nan, nan]  \n",
       "8  [48608, 179712, 1440]   [nan, nan, nan]  [nan, nan, nan]  \n",
       "9  [20624, 115744, 3661]   [nan, nan, nan]  [nan, nan, nan]  "
      ],
      "text/html": [
       "<div>\n",
       "<style scoped>\n",
       "    .dataframe tbody tr th:only-of-type {\n",
       "        vertical-align: middle;\n",
       "    }\n",
       "\n",
       "    .dataframe tbody tr th {\n",
       "        vertical-align: top;\n",
       "    }\n",
       "\n",
       "    .dataframe thead th {\n",
       "        text-align: right;\n",
       "    }\n",
       "</style>\n",
       "<table border=\"1\" class=\"dataframe\">\n",
       "  <thead>\n",
       "    <tr style=\"text-align: right;\">\n",
       "      <th></th>\n",
       "      <th>id</th>\n",
       "      <th>valid</th>\n",
       "      <th>pt_supervoxel_id</th>\n",
       "      <th>pt_root_id</th>\n",
       "      <th>volume</th>\n",
       "      <th>pt_position</th>\n",
       "      <th>bb_start_position</th>\n",
       "      <th>bb_end_position</th>\n",
       "    </tr>\n",
       "  </thead>\n",
       "  <tbody>\n",
       "    <tr>\n",
       "      <th>0</th>\n",
       "      <td>73115668492321345</td>\n",
       "      <td>t</td>\n",
       "      <td>74244180477821787</td>\n",
       "      <td>648518346472873828</td>\n",
       "      <td>NaN</td>\n",
       "      <td>[64096, 155520, 2735]</td>\n",
       "      <td>[nan, nan, nan]</td>\n",
       "      <td>[nan, nan, nan]</td>\n",
       "    </tr>\n",
       "    <tr>\n",
       "      <th>1</th>\n",
       "      <td>72341681025843555</td>\n",
       "      <td>t</td>\n",
       "      <td>72625768014247001</td>\n",
       "      <td>648518346496058999</td>\n",
       "      <td>NaN</td>\n",
       "      <td>[16768, 157376, 2693]</td>\n",
       "      <td>[nan, nan, nan]</td>\n",
       "      <td>[nan, nan, nan]</td>\n",
       "    </tr>\n",
       "    <tr>\n",
       "      <th>2</th>\n",
       "      <td>72694142819371754</td>\n",
       "      <td>t</td>\n",
       "      <td>73401129131935868</td>\n",
       "      <td>648518346493518193</td>\n",
       "      <td>NaN</td>\n",
       "      <td>[40144, 195856, 1213]</td>\n",
       "      <td>[nan, nan, nan]</td>\n",
       "      <td>[nan, nan, nan]</td>\n",
       "    </tr>\n",
       "    <tr>\n",
       "      <th>3</th>\n",
       "      <td>72904562259788369</td>\n",
       "      <td>t</td>\n",
       "      <td>73821967945813511</td>\n",
       "      <td>648518346504953141</td>\n",
       "      <td>NaN</td>\n",
       "      <td>[52320, 153968, 2663]</td>\n",
       "      <td>[nan, nan, nan]</td>\n",
       "      <td>[nan, nan, nan]</td>\n",
       "    </tr>\n",
       "    <tr>\n",
       "      <th>4</th>\n",
       "      <td>72481250081768943</td>\n",
       "      <td>t</td>\n",
       "      <td>72975274937264610</td>\n",
       "      <td>648518346499742019</td>\n",
       "      <td>NaN</td>\n",
       "      <td>[26928, 86432, 1996]</td>\n",
       "      <td>[nan, nan, nan]</td>\n",
       "      <td>[nan, nan, nan]</td>\n",
       "    </tr>\n",
       "    <tr>\n",
       "      <th>5</th>\n",
       "      <td>73045230693122208</td>\n",
       "      <td>t</td>\n",
       "      <td>74032867348432337</td>\n",
       "      <td>648518346512714794</td>\n",
       "      <td>NaN</td>\n",
       "      <td>[57920, 148672, 1348]</td>\n",
       "      <td>[nan, nan, nan]</td>\n",
       "      <td>[nan, nan, nan]</td>\n",
       "    </tr>\n",
       "    <tr>\n",
       "      <th>6</th>\n",
       "      <td>73115599638626701</td>\n",
       "      <td>t</td>\n",
       "      <td>74173605239618700</td>\n",
       "      <td>648518346475960175</td>\n",
       "      <td>NaN</td>\n",
       "      <td>[62560, 149344, 2111]</td>\n",
       "      <td>[nan, nan, nan]</td>\n",
       "      <td>[nan, nan, nan]</td>\n",
       "    </tr>\n",
       "    <tr>\n",
       "      <th>7</th>\n",
       "      <td>72341886915837985</td>\n",
       "      <td>t</td>\n",
       "      <td>72696548471049575</td>\n",
       "      <td>648518346512656677</td>\n",
       "      <td>NaN</td>\n",
       "      <td>[19376, 169888, 1543]</td>\n",
       "      <td>[nan, nan, nan]</td>\n",
       "      <td>[nan, nan, nan]</td>\n",
       "    </tr>\n",
       "    <tr>\n",
       "      <th>8</th>\n",
       "      <td>72834605496926428</td>\n",
       "      <td>t</td>\n",
       "      <td>73682054486949216</td>\n",
       "      <td>648518346518927109</td>\n",
       "      <td>NaN</td>\n",
       "      <td>[48608, 179712, 1440]</td>\n",
       "      <td>[nan, nan, nan]</td>\n",
       "      <td>[nan, nan, nan]</td>\n",
       "    </tr>\n",
       "    <tr>\n",
       "      <th>9</th>\n",
       "      <td>72411362843689699</td>\n",
       "      <td>t</td>\n",
       "      <td>72765131649878154</td>\n",
       "      <td>648518346508294966</td>\n",
       "      <td>NaN</td>\n",
       "      <td>[20624, 115744, 3661]</td>\n",
       "      <td>[nan, nan, nan]</td>\n",
       "      <td>[nan, nan, nan]</td>\n",
       "    </tr>\n",
       "  </tbody>\n",
       "</table>\n",
       "</div>"
      ]
     },
     "metadata": {},
     "execution_count": 21
    }
   ],
   "metadata": {}
  },
  {
   "cell_type": "code",
   "execution_count": null,
   "source": [],
   "outputs": [],
   "metadata": {}
  }
 ],
 "metadata": {
  "orig_nbformat": 4,
  "language_info": {
   "name": "python",
   "version": "3.9.6",
   "mimetype": "text/x-python",
   "codemirror_mode": {
    "name": "ipython",
    "version": 3
   },
   "pygments_lexer": "ipython3",
   "nbconvert_exporter": "python",
   "file_extension": ".py"
  },
  "kernelspec": {
   "name": "python3",
   "display_name": "Python 3.9.6 64-bit ('nuclei': venv)"
  },
  "interpreter": {
   "hash": "2f8bd4940588abb561ec8a21652acdfb236931ee8d62ff047ac85f739f53aa56"
  }
 },
 "nbformat": 4,
 "nbformat_minor": 2
}