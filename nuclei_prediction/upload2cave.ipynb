{
 "cells": [
  {
   "cell_type": "markdown",
   "source": [
    "# Upload nuclei/soma table to CAVE\n",
    "## Prepare CAVE environment"
   ],
   "metadata": {}
  },
  {
   "cell_type": "code",
   "execution_count": 1,
   "source": [
    "import numpy as np\n",
    "import sys\n",
    "import os\n",
    "import pandas as pd\n",
    "from datetime import datetime\n",
    "from caveclient import CAVEclient\n",
    "\n",
    "sys.path.append(os.path.abspath(\"../segmentation\"))# to import rootID_lookup and authentication_utils like below\n",
    "import rootID_lookup as IDlook\n",
    "import authentication_utils as auth"
   ],
   "outputs": [],
   "metadata": {}
  },
  {
   "cell_type": "code",
   "execution_count": 2,
   "source": [
    "# auth = client.auth\n",
    "# auth.get_new_token()\n",
    "# new_token = '' # This is the text you see after you visit the website.\n",
    "# auth.save_token(token=new_token)"
   ],
   "outputs": [],
   "metadata": {}
  },
  {
   "cell_type": "code",
   "execution_count": 3,
   "source": [
    "# check datastack_name here https://globalv1.daf-apis.com/info/\n",
    "datastack_name = 'fanc_production_mar2021'\n",
    "client = CAVEclient(datastack_name)\n",
    "client.info.get_datastack_info()"
   ],
   "outputs": [
    {
     "output_type": "execute_result",
     "data": {
      "text/plain": [
       "{'description': 'This is the first version of the fanc dataset hosted in CAVE.',\n",
       " 'aligned_volume': {'description': 'This is the 4th alignment of the female adult nerve cord dataset.',\n",
       "  'name': 'fanc_v4',\n",
       "  'id': 7,\n",
       "  'image_source': 'precomputed://gs://zetta_lee_fly_vnc_001_precomputed/fanc_v4_em'},\n",
       " 'synapse_table': None,\n",
       " 'segmentation_source': 'graphene://https://cave.fanc-fly.com/segmentation/table/mar2021_prod',\n",
       " 'viewer_site': None,\n",
       " 'local_server': 'https://cave.fanc-fly.com',\n",
       " 'analysis_database': None,\n",
       " 'soma_table': None}"
      ]
     },
     "metadata": {},
     "execution_count": 3
    }
   ],
   "metadata": {}
  },
  {
   "cell_type": "code",
   "execution_count": 4,
   "source": [
    "client.annotation.get_tables()"
   ],
   "outputs": [
    {
     "output_type": "stream",
     "name": "stdout",
     "text": [
      "https://cave.fanc-fly.com/annotation/api/v2/aligned_volume/fanc_v4/table\n"
     ]
    },
    {
     "output_type": "execute_result",
     "data": {
      "text/plain": [
       "['test_soma',\n",
       " 'synapses_may2021',\n",
       " 'nuclei_aug2021',\n",
       " 'soma_aug2021',\n",
       " 't1mn_not_valid',\n",
       " 'nuclei_aug2021ver2']"
      ]
     },
     "metadata": {},
     "execution_count": 4
    }
   ],
   "metadata": {}
  },
  {
   "cell_type": "markdown",
   "source": [
    "## format tables"
   ],
   "metadata": {}
  },
  {
   "cell_type": "code",
   "execution_count": 9,
   "source": [
    "df = pd.read_csv('../Output/soma_info_Aug2021ver5.csv', header=0)"
   ],
   "outputs": [],
   "metadata": {}
  },
  {
   "cell_type": "code",
   "execution_count": 10,
   "source": [
    "# https://globalv1.daf-apis.com/schema/views/type/nucleus_detection/view\n",
    "nuclei_df = df.reindex(columns=['nucID', 'nuc_xyz', 'voxel_size', 'bbx_min', 'bbx_max'])\n",
    "nuclei_df = nuclei_df.rename(columns={'nucID': 'id', 'nuc_xyz': 'pt_position', 'voxel_size': 'volume', 'bbx_min': 'bb_start_position', 'bbx_max': 'bb_end_position'})\n",
    "nuclei_df['type'] = 'nucleus_detection'\n",
    "nuclei_df['volume'] = nuclei_df['volume'] * 0.0688*0.0688*0.045 # um^3\n",
    "\n",
    "soma_df = df.reindex(columns=['nucID', 'soma_xyz'])\n",
    "soma_df = soma_df.rename(columns={'nucID': 'id', 'soma_xyz': 'pt_position'})\n",
    "soma_df['type'] = 'nucleus_detection'"
   ],
   "outputs": [],
   "metadata": {}
  },
  {
   "cell_type": "code",
   "execution_count": 11,
   "source": [
    "nuclei_df_pt = nuclei_df['pt_position'].str.strip('()').str.split(',',expand=True)\n",
    "nuclei_df['pt_position'] = nuclei_df_pt.astype(int).values.tolist()\n",
    "\n",
    "nuclei_df_bb_start = nuclei_df['bb_start_position'].str.strip('()').str.split(',',expand=True)\n",
    "nuclei_df['bb_start_position'] = nuclei_df_bb_start.astype(int).values.tolist()\n",
    "\n",
    "nuclei_df_bb_end = nuclei_df['bb_end_position'].str.strip('()').str.split(',',expand=True)\n",
    "nuclei_df['bb_end_position'] = nuclei_df_bb_end.astype(int).values.tolist()"
   ],
   "outputs": [],
   "metadata": {}
  },
  {
   "cell_type": "code",
   "execution_count": 12,
   "source": [
    "soma_df_pt = soma_df['pt_position'].str.strip('()').str.split(',',expand=True)\n",
    "soma_df['pt_position'] = soma_df_pt.astype(int).values.tolist()"
   ],
   "outputs": [],
   "metadata": {}
  },
  {
   "cell_type": "code",
   "execution_count": 13,
   "source": [
    "# check tables\n",
    "nuclei_df"
   ],
   "outputs": [
    {
     "output_type": "execute_result",
     "data": {
      "text/html": [
       "<div>\n",
       "<style scoped>\n",
       "    .dataframe tbody tr th:only-of-type {\n",
       "        vertical-align: middle;\n",
       "    }\n",
       "\n",
       "    .dataframe tbody tr th {\n",
       "        vertical-align: top;\n",
       "    }\n",
       "\n",
       "    .dataframe thead th {\n",
       "        text-align: right;\n",
       "    }\n",
       "</style>\n",
       "<table border=\"1\" class=\"dataframe\">\n",
       "  <thead>\n",
       "    <tr style=\"text-align: right;\">\n",
       "      <th></th>\n",
       "      <th>id</th>\n",
       "      <th>pt_position</th>\n",
       "      <th>volume</th>\n",
       "      <th>bb_start_position</th>\n",
       "      <th>bb_end_position</th>\n",
       "      <th>type</th>\n",
       "    </tr>\n",
       "  </thead>\n",
       "  <tbody>\n",
       "    <tr>\n",
       "      <th>0</th>\n",
       "      <td>73115668492321345</td>\n",
       "      <td>[64384, 155376, 2719]</td>\n",
       "      <td>2.905385</td>\n",
       "      <td>[64144, 155296, 2711]</td>\n",
       "      <td>[64544, 155760, 2756]</td>\n",
       "      <td>nucleus_detection</td>\n",
       "    </tr>\n",
       "    <tr>\n",
       "      <th>1</th>\n",
       "      <td>72341681025843555</td>\n",
       "      <td>[16960, 157296, 2652]</td>\n",
       "      <td>7.035123</td>\n",
       "      <td>[16832, 157232, 2639]</td>\n",
       "      <td>[17216, 157648, 2692]</td>\n",
       "      <td>nucleus_detection</td>\n",
       "    </tr>\n",
       "    <tr>\n",
       "      <th>2</th>\n",
       "      <td>72694142819371754</td>\n",
       "      <td>[40352, 195888, 1211]</td>\n",
       "      <td>3.313929</td>\n",
       "      <td>[40224, 195760, 1197]</td>\n",
       "      <td>[40672, 196240, 1238]</td>\n",
       "      <td>nucleus_detection</td>\n",
       "    </tr>\n",
       "    <tr>\n",
       "      <th>3</th>\n",
       "      <td>72904562259788369</td>\n",
       "      <td>[52752, 154288, 2630]</td>\n",
       "      <td>4.187674</td>\n",
       "      <td>[52368, 153920, 2624]</td>\n",
       "      <td>[52848, 154320, 2671]</td>\n",
       "      <td>nucleus_detection</td>\n",
       "    </tr>\n",
       "    <tr>\n",
       "      <th>4</th>\n",
       "      <td>72481250081768943</td>\n",
       "      <td>[27376, 86896, 2005]</td>\n",
       "      <td>2.807190</td>\n",
       "      <td>[27008, 86544, 1982]</td>\n",
       "      <td>[27408, 87104, 2023]</td>\n",
       "      <td>nucleus_detection</td>\n",
       "    </tr>\n",
       "    <tr>\n",
       "      <th>...</th>\n",
       "      <td>...</td>\n",
       "      <td>...</td>\n",
       "      <td>...</td>\n",
       "      <td>...</td>\n",
       "      <td>...</td>\n",
       "      <td>...</td>\n",
       "    </tr>\n",
       "    <tr>\n",
       "      <th>17071</th>\n",
       "      <td>73114912242532398</td>\n",
       "      <td>[60624, 109584, 1417]</td>\n",
       "      <td>273.849408</td>\n",
       "      <td>[59856, 108960, 1351]</td>\n",
       "      <td>[62560, 112032, 1522]</td>\n",
       "      <td>nucleus_detection</td>\n",
       "    </tr>\n",
       "    <tr>\n",
       "      <th>17072</th>\n",
       "      <td>72903943314735186</td>\n",
       "      <td>[48496, 116896, 969]</td>\n",
       "      <td>371.881246</td>\n",
       "      <td>[47664, 116336, 828]</td>\n",
       "      <td>[50896, 118912, 1003]</td>\n",
       "      <td>nucleus_detection</td>\n",
       "    </tr>\n",
       "    <tr>\n",
       "      <th>17073</th>\n",
       "      <td>72270762727178308</td>\n",
       "      <td>[14112, 123456, 3312]</td>\n",
       "      <td>349.543220</td>\n",
       "      <td>[13216, 123328, 3093]</td>\n",
       "      <td>[15488, 125712, 3363]</td>\n",
       "      <td>nucleus_detection</td>\n",
       "    </tr>\n",
       "    <tr>\n",
       "      <th>17074</th>\n",
       "      <td>72200462366935570</td>\n",
       "      <td>[8176, 127328, 2290]</td>\n",
       "      <td>390.043527</td>\n",
       "      <td>[8080, 126608, 2245]</td>\n",
       "      <td>[10064, 129536, 2501]</td>\n",
       "      <td>nucleus_detection</td>\n",
       "    </tr>\n",
       "    <tr>\n",
       "      <th>17075</th>\n",
       "      <td>73115256175460446</td>\n",
       "      <td>[64576, 126080, 2568]</td>\n",
       "      <td>568.930070</td>\n",
       "      <td>[62192, 124832, 2538]</td>\n",
       "      <td>[64896, 127552, 2792]</td>\n",
       "      <td>nucleus_detection</td>\n",
       "    </tr>\n",
       "  </tbody>\n",
       "</table>\n",
       "<p>17076 rows × 6 columns</p>\n",
       "</div>"
      ],
      "text/plain": [
       "                      id            pt_position      volume  \\\n",
       "0      73115668492321345  [64384, 155376, 2719]    2.905385   \n",
       "1      72341681025843555  [16960, 157296, 2652]    7.035123   \n",
       "2      72694142819371754  [40352, 195888, 1211]    3.313929   \n",
       "3      72904562259788369  [52752, 154288, 2630]    4.187674   \n",
       "4      72481250081768943   [27376, 86896, 2005]    2.807190   \n",
       "...                  ...                    ...         ...   \n",
       "17071  73114912242532398  [60624, 109584, 1417]  273.849408   \n",
       "17072  72903943314735186   [48496, 116896, 969]  371.881246   \n",
       "17073  72270762727178308  [14112, 123456, 3312]  349.543220   \n",
       "17074  72200462366935570   [8176, 127328, 2290]  390.043527   \n",
       "17075  73115256175460446  [64576, 126080, 2568]  568.930070   \n",
       "\n",
       "           bb_start_position        bb_end_position               type  \n",
       "0      [64144, 155296, 2711]  [64544, 155760, 2756]  nucleus_detection  \n",
       "1      [16832, 157232, 2639]  [17216, 157648, 2692]  nucleus_detection  \n",
       "2      [40224, 195760, 1197]  [40672, 196240, 1238]  nucleus_detection  \n",
       "3      [52368, 153920, 2624]  [52848, 154320, 2671]  nucleus_detection  \n",
       "4       [27008, 86544, 1982]   [27408, 87104, 2023]  nucleus_detection  \n",
       "...                      ...                    ...                ...  \n",
       "17071  [59856, 108960, 1351]  [62560, 112032, 1522]  nucleus_detection  \n",
       "17072   [47664, 116336, 828]  [50896, 118912, 1003]  nucleus_detection  \n",
       "17073  [13216, 123328, 3093]  [15488, 125712, 3363]  nucleus_detection  \n",
       "17074   [8080, 126608, 2245]  [10064, 129536, 2501]  nucleus_detection  \n",
       "17075  [62192, 124832, 2538]  [64896, 127552, 2792]  nucleus_detection  \n",
       "\n",
       "[17076 rows x 6 columns]"
      ]
     },
     "metadata": {},
     "execution_count": 13
    }
   ],
   "metadata": {}
  },
  {
   "cell_type": "markdown",
   "source": [
    "## Update annotation table"
   ],
   "metadata": {}
  },
  {
   "cell_type": "code",
   "execution_count": null,
   "source": [
    "client.schema.schema_definition('nucleus_detection')"
   ],
   "outputs": [],
   "metadata": {}
  },
  {
   "cell_type": "code",
   "execution_count": null,
   "source": [
    "# 20210902, volume column updated\n",
    "# nuclei_aug2021\n",
    "k=100\n",
    "minidfs = [nuclei_df.loc[i:i+k-1, :] for i in range(0, len(nuclei_df), k)]\n",
    "for dftmp in minidfs:\n",
    "    client.annotation.update_annotation_df(table_name='nuclei_aug2021',\n",
    "                                         df=dftmp,\n",
    "                                         position_columns={'pt_position': 'pt', 'bb_start_position': 'bb_start', 'bb_end_position': 'bb_end'}, \n",
    "                                         aligned_volume_name='fanc_v4')"
   ],
   "outputs": [],
   "metadata": {}
  },
  {
   "cell_type": "markdown",
   "source": [
    "## Upload annotation table\n",
    "make sure to create tables first\n",
    "\n",
    "https://github.com/seung-lab/CAVEclient/blob/72ebf7180ca3c4195bec561e177c453554cc60c6/FlyWireAnnotationTutorial.ipynb"
   ],
   "metadata": {}
  },
  {
   "cell_type": "code",
   "execution_count": 14,
   "source": [
    "client.schema.schema_definition('nucleus_detection')"
   ],
   "outputs": [
    {
     "output_type": "execute_result",
     "data": {
      "text/plain": [
       "{'$schema': 'http://json-schema.org/draft-07/schema#',\n",
       " 'definitions': {'SpatialPoint': {'properties': {'position': {'type': 'array'}},\n",
       "   'type': 'object',\n",
       "   'required': ['position'],\n",
       "   'additionalProperties': False},\n",
       "  'BoundSpatialPoint': {'properties': {'position': {'type': 'array'},\n",
       "    'root_id': {'type': 'integer'},\n",
       "    'supervoxel_id': {'type': 'integer'}},\n",
       "   'type': 'object',\n",
       "   'required': ['position'],\n",
       "   'additionalProperties': False},\n",
       "  'NucleusDetection': {'properties': {'bb_end': {'type': 'object',\n",
       "     '$ref': '#/definitions/SpatialPoint',\n",
       "     'description': 'high corner of the bounding box'},\n",
       "    'bb_start': {'type': 'object',\n",
       "     '$ref': '#/definitions/SpatialPoint',\n",
       "     'description': 'low corner of the bounding box'},\n",
       "    'pt': {'type': 'object',\n",
       "     '$ref': '#/definitions/BoundSpatialPoint',\n",
       "     'description': 'the point to be used for attaching objects to the dynamic segmentation'},\n",
       "    'valid': {'title': 'valid',\n",
       "     'type': ['boolean', 'null'],\n",
       "     'default': False,\n",
       "     'description': 'is this annotation valid'},\n",
       "    'volume': {'title': 'volume',\n",
       "     'type': 'number',\n",
       "     'format': 'float',\n",
       "     'description': 'the volume of the nucleus detected in um^3'}},\n",
       "   'type': 'object',\n",
       "   'required': ['pt'],\n",
       "   'additionalProperties': True}},\n",
       " '$ref': '#/definitions/NucleusDetection'}"
      ]
     },
     "metadata": {},
     "execution_count": 14
    }
   ],
   "metadata": {}
  },
  {
   "cell_type": "code",
   "execution_count": 15,
   "source": [
    "# get 502 error if you try to upload at the same time\n",
    "# nuclei_aug2021\n",
    "k=100\n",
    "minidfs = [nuclei_df.loc[i:i+k-1, :] for i in range(0, len(nuclei_df), k)]\n",
    "for dftmp in minidfs:\n",
    "    client.annotation.post_annotation_df(table_name='nuclei_aug2021ver2',\n",
    "                                         df=dftmp,\n",
    "                                         position_columns={'pt_position': 'pt', 'bb_start_position': 'bb_start', 'bb_end_position': 'bb_end'}, \n",
    "                                         aligned_volume_name='fanc_v4')"
   ],
   "outputs": [],
   "metadata": {}
  },
  {
   "cell_type": "code",
   "execution_count": null,
   "source": [
    "# soma_aug2021\n",
    "k=100\n",
    "minidfs = [soma_df.loc[i:i+k-1, :] for i in range(0, len(soma_df), k)]\n",
    "for dftmp in minidfs:\n",
    "#    client.annotation.post_annotation_df(table_name='soma_aug2021',\n",
    "                                         df=dftmp,\n",
    "                                         position_columns=['pt_position'], \n",
    "                                         aligned_volume_name='fanc_v4')"
   ],
   "outputs": [],
   "metadata": {}
  },
  {
   "cell_type": "markdown",
   "source": [
    "## Create tables\n",
    "\n",
    "https://github.com/seung-lab/CAVEclient/blob/dec850dff9e0fa0a9ef8c2a0c79bf82cd2fc5b97/caveclient/annotationengine.py"
   ],
   "metadata": {}
  },
  {
   "cell_type": "code",
   "execution_count": 12,
   "source": [
    "auth.get_cv_path('nuclei_seg_Aug2021')['url']"
   ],
   "outputs": [
    {
     "output_type": "execute_result",
     "data": {
      "text/plain": [
       "'precomputed://gs://ng_scratch_ranl_zetta_30/vnc1_full_v3align_2/realigned_v1/seg/84214f67075692a9e41c02d164b466ba'"
      ]
     },
     "metadata": {},
     "execution_count": 12
    }
   ],
   "metadata": {}
  },
  {
   "cell_type": "code",
   "execution_count": 13,
   "source": [
    "# client.annotation.create_table(table_name='nuclei_aug2021ver2',\n",
    "                               schema_name='nucleus_detection',\n",
    "                               description = 'an updated nucleus table with all the nuclei in FANC detected by CNN [created/uploaded by Sumiya Kuroda - sumiya-kuroda@g.ecc.u-tokyo.ac.jp]',\n",
    "                               flat_segmentation_source=auth.get_cv_path('nuclei_seg_Aug2021')['url'],\n",
    "                               voxel_resolution =[4.3, 4.3, 45.0])"
   ],
   "outputs": [
    {
     "output_type": "execute_result",
     "data": {
      "text/plain": [
       "<Response [200]>"
      ]
     },
     "metadata": {},
     "execution_count": 13
    }
   ],
   "metadata": {}
  },
  {
   "cell_type": "code",
   "execution_count": null,
   "source": [
    "# client.annotation.create_table(table_name='soma_aug2021',\n",
    "                               schema_name='nucleus_detection',\n",
    "                               description = 'IDs shared with nuclei_aug2021. Based on nuclei segmentation at {}'.format(auth.get_cv_path('nuclei_seg_Aug2021')['url']),\n",
    "                               voxel_resolution =[4.3, 4.3, 45.0])"
   ],
   "outputs": [],
   "metadata": {}
  },
  {
   "cell_type": "markdown",
   "source": [
    "## Test materialization"
   ],
   "metadata": {}
  },
  {
   "cell_type": "code",
   "execution_count": null,
   "source": [
    "client.materialize.homepage"
   ],
   "outputs": [],
   "metadata": {}
  },
  {
   "cell_type": "code",
   "execution_count": null,
   "source": [
    "client.materialize.get_versions()"
   ],
   "outputs": [],
   "metadata": {}
  },
  {
   "cell_type": "code",
   "execution_count": null,
   "source": [
    "# client.materialize.version = 21"
   ],
   "outputs": [],
   "metadata": {}
  },
  {
   "cell_type": "code",
   "execution_count": null,
   "source": [
    "client.materialize.get_annotation_count('soma_aug2021')"
   ],
   "outputs": [],
   "metadata": {}
  },
  {
   "cell_type": "code",
   "execution_count": null,
   "source": [
    "test=client.materialize.live_query('soma_aug2021',\n",
    "                                   datetime.utcnow(),\n",
    "                                   limit=20)"
   ],
   "outputs": [],
   "metadata": {}
  },
  {
   "cell_type": "code",
   "execution_count": null,
   "source": [
    "test"
   ],
   "outputs": [],
   "metadata": {}
  },
  {
   "cell_type": "code",
   "execution_count": null,
   "source": [
    "test=client.materialize.live_query('soma_aug2021',\n",
    "                                   datetime.utcnow(),\n",
    "                                   filter_in_dict={'id': [73115668492321345]},\n",
    "                                   limit=10)"
   ],
   "outputs": [],
   "metadata": {}
  },
  {
   "cell_type": "code",
   "execution_count": null,
   "source": [
    "test"
   ],
   "outputs": [],
   "metadata": {}
  },
  {
   "cell_type": "code",
   "execution_count": null,
   "source": [],
   "outputs": [],
   "metadata": {}
  }
 ],
 "metadata": {
  "orig_nbformat": 4,
  "language_info": {
   "name": "python",
   "version": "3.9.6",
   "mimetype": "text/x-python",
   "codemirror_mode": {
    "name": "ipython",
    "version": 3
   },
   "pygments_lexer": "ipython3",
   "nbconvert_exporter": "python",
   "file_extension": ".py"
  },
  "kernelspec": {
   "name": "python3",
   "display_name": "Python 3.9.6 64-bit ('nuclei': venv)"
  },
  "interpreter": {
   "hash": "2f8bd4940588abb561ec8a21652acdfb236931ee8d62ff047ac85f739f53aa56"
  }
 },
 "nbformat": 4,
 "nbformat_minor": 2
}