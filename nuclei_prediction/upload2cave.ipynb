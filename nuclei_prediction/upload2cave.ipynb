{
 "cells": [
  {
   "cell_type": "markdown",
   "source": [
    "# Format tables for CAVE"
   ],
   "metadata": {}
  },
  {
   "cell_type": "code",
   "execution_count": 1,
   "source": [
    "import numpy as np\n",
    "import sys\n",
    "import os\n",
    "import pandas as pd\n",
    "from datetime import datetime\n",
    "from caveclient import CAVEclient\n",
    "\n",
    "sys.path.append(os.path.abspath(\"../segmentation\"))# to import rootID_lookup and authentication_utils like below\n",
    "import rootID_lookup as IDlook\n",
    "import authentication_utils as auth"
   ],
   "outputs": [],
   "metadata": {}
  },
  {
   "cell_type": "code",
   "execution_count": 2,
   "source": [
    "# auth = client.auth\n",
    "# auth.get_new_token()\n",
    "# new_token = '' # This is the text you see after you visit the website.\n",
    "# auth.save_token(token=new_token)"
   ],
   "outputs": [],
   "metadata": {}
  },
  {
   "cell_type": "code",
   "execution_count": 3,
   "source": [
    "# check datastack_name here https://globalv1.daf-apis.com/info/\n",
    "datastack_name = 'fanc_production_mar2021'\n",
    "client = CAVEclient(datastack_name)\n",
    "client.info.get_datastack_info()"
   ],
   "outputs": [
    {
     "output_type": "execute_result",
     "data": {
      "text/plain": [
       "{'description': 'This is the first version of the fanc dataset hosted in CAVE.',\n",
       " 'aligned_volume': {'image_source': 'precomputed://gs://zetta_lee_fly_vnc_001_precomputed/fanc_v4_em',\n",
       "  'name': 'fanc_v4',\n",
       "  'description': 'This is the 4th alignment of the female adult nerve cord dataset.',\n",
       "  'id': 7},\n",
       " 'synapse_table': None,\n",
       " 'segmentation_source': 'graphene://https://cave.fanc-fly.com/segmentation/table/mar2021_prod',\n",
       " 'analysis_database': None,\n",
       " 'local_server': 'https://cave.fanc-fly.com',\n",
       " 'soma_table': None,\n",
       " 'viewer_site': None}"
      ]
     },
     "metadata": {},
     "execution_count": 3
    }
   ],
   "metadata": {}
  },
  {
   "cell_type": "code",
   "execution_count": 4,
   "source": [
    "client.annotation.get_tables()"
   ],
   "outputs": [
    {
     "output_type": "stream",
     "name": "stdout",
     "text": [
      "https://cave.fanc-fly.com/annotation/api/v2/aligned_volume/fanc_v4/table\n"
     ]
    },
    {
     "output_type": "execute_result",
     "data": {
      "text/plain": [
       "['t1mn', 'test_soma', 'synapses_may2021', 'nuclei_aug2021', 'soma_aug2021']"
      ]
     },
     "metadata": {},
     "execution_count": 4
    }
   ],
   "metadata": {}
  },
  {
   "cell_type": "code",
   "execution_count": 5,
   "source": [
    "df = pd.read_csv('../Output/soma_info_Aug2021ver2.csv', header=0)"
   ],
   "outputs": [],
   "metadata": {}
  },
  {
   "cell_type": "code",
   "execution_count": 6,
   "source": [
    "# https://globalv1.daf-apis.com/schema/views/type/nucleus_detection/view\n",
    "nuclei_df = df.reindex(columns=['nucID', 'nuc_xyz', 'bbx_min', 'bbx_max'])\n",
    "nuclei_df = nuclei_df.rename(columns={'nucID': 'id', 'nuc_xyz': 'pt_position', 'bbx_min': 'bb_start_position', 'bbx_max': 'bb_end_position'})\n",
    "nuclei_df['type'] = 'nucleus_detection'\n",
    "\n",
    "soma_df = df.reindex(columns=['nucID', 'soma_xyz'])\n",
    "soma_df = soma_df.rename(columns={'nucID': 'id', 'soma_xyz': 'pt_position'})\n",
    "soma_df['type'] = 'nucleus_detection'"
   ],
   "outputs": [],
   "metadata": {}
  },
  {
   "cell_type": "code",
   "execution_count": 7,
   "source": [
    "nuclei_df_pt = nuclei_df['pt_position'].str.strip('()').str.split(',',expand=True)\n",
    "nuclei_df['pt_position'] = nuclei_df_pt.astype(int).values.tolist()\n",
    "\n",
    "nuclei_df_bb_start = nuclei_df['bb_start_position'].str.strip('()').str.split(',',expand=True)\n",
    "nuclei_df['bb_start_position'] = nuclei_df_bb_start.astype(int).values.tolist()\n",
    "\n",
    "nuclei_df_bb_end = nuclei_df['bb_end_position'].str.strip('()').str.split(',',expand=True)\n",
    "nuclei_df['bb_end_position'] = nuclei_df_bb_end.astype(int).values.tolist()"
   ],
   "outputs": [],
   "metadata": {}
  },
  {
   "cell_type": "code",
   "execution_count": 8,
   "source": [
    "soma_df_pt = soma_df['pt_position'].str.strip('()').str.split(',',expand=True)\n",
    "soma_df['pt_position'] = soma_df_pt.astype(int).values.tolist()"
   ],
   "outputs": [],
   "metadata": {}
  },
  {
   "cell_type": "code",
   "execution_count": 17,
   "source": [
    "# check tables\n",
    "nuclei_df"
   ],
   "outputs": [
    {
     "output_type": "execute_result",
     "data": {
      "text/plain": [
       "                      id            pt_position      bb_start_position  \\\n",
       "0      73115668492321345  [64384, 155376, 2719]  [64144, 155296, 2711]   \n",
       "1      72341681025843555  [16960, 157296, 2652]  [16832, 157232, 2639]   \n",
       "2      72694142819371754  [40352, 195888, 1211]  [40224, 195760, 1197]   \n",
       "3      72904562259788369  [52752, 154288, 2630]  [52368, 153920, 2624]   \n",
       "4      72481250081768943   [27376, 86896, 2005]   [27008, 86544, 1982]   \n",
       "...                  ...                    ...                    ...   \n",
       "17071  73114912242532398  [60624, 109584, 1417]  [59856, 108960, 1351]   \n",
       "17072  72903943314735186   [48496, 116896, 969]   [47664, 116336, 828]   \n",
       "17073  72270762727178308  [14112, 123456, 3312]  [13216, 123328, 3093]   \n",
       "17074  72200462366935570   [8176, 127328, 2290]   [8080, 126608, 2245]   \n",
       "17075  73115256175460446  [64576, 126080, 2568]  [62192, 124832, 2538]   \n",
       "\n",
       "             bb_end_position               type  \n",
       "0      [64544, 155760, 2756]  nucleus_detection  \n",
       "1      [17216, 157648, 2692]  nucleus_detection  \n",
       "2      [40672, 196240, 1238]  nucleus_detection  \n",
       "3      [52848, 154320, 2671]  nucleus_detection  \n",
       "4       [27408, 87104, 2023]  nucleus_detection  \n",
       "...                      ...                ...  \n",
       "17071  [62560, 112032, 1522]  nucleus_detection  \n",
       "17072  [50896, 118912, 1003]  nucleus_detection  \n",
       "17073  [15488, 125712, 3363]  nucleus_detection  \n",
       "17074  [10064, 129536, 2501]  nucleus_detection  \n",
       "17075  [64896, 127552, 2792]  nucleus_detection  \n",
       "\n",
       "[17076 rows x 5 columns]"
      ],
      "text/html": [
       "<div>\n",
       "<style scoped>\n",
       "    .dataframe tbody tr th:only-of-type {\n",
       "        vertical-align: middle;\n",
       "    }\n",
       "\n",
       "    .dataframe tbody tr th {\n",
       "        vertical-align: top;\n",
       "    }\n",
       "\n",
       "    .dataframe thead th {\n",
       "        text-align: right;\n",
       "    }\n",
       "</style>\n",
       "<table border=\"1\" class=\"dataframe\">\n",
       "  <thead>\n",
       "    <tr style=\"text-align: right;\">\n",
       "      <th></th>\n",
       "      <th>id</th>\n",
       "      <th>pt_position</th>\n",
       "      <th>bb_start_position</th>\n",
       "      <th>bb_end_position</th>\n",
       "      <th>type</th>\n",
       "    </tr>\n",
       "  </thead>\n",
       "  <tbody>\n",
       "    <tr>\n",
       "      <th>0</th>\n",
       "      <td>73115668492321345</td>\n",
       "      <td>[64384, 155376, 2719]</td>\n",
       "      <td>[64144, 155296, 2711]</td>\n",
       "      <td>[64544, 155760, 2756]</td>\n",
       "      <td>nucleus_detection</td>\n",
       "    </tr>\n",
       "    <tr>\n",
       "      <th>1</th>\n",
       "      <td>72341681025843555</td>\n",
       "      <td>[16960, 157296, 2652]</td>\n",
       "      <td>[16832, 157232, 2639]</td>\n",
       "      <td>[17216, 157648, 2692]</td>\n",
       "      <td>nucleus_detection</td>\n",
       "    </tr>\n",
       "    <tr>\n",
       "      <th>2</th>\n",
       "      <td>72694142819371754</td>\n",
       "      <td>[40352, 195888, 1211]</td>\n",
       "      <td>[40224, 195760, 1197]</td>\n",
       "      <td>[40672, 196240, 1238]</td>\n",
       "      <td>nucleus_detection</td>\n",
       "    </tr>\n",
       "    <tr>\n",
       "      <th>3</th>\n",
       "      <td>72904562259788369</td>\n",
       "      <td>[52752, 154288, 2630]</td>\n",
       "      <td>[52368, 153920, 2624]</td>\n",
       "      <td>[52848, 154320, 2671]</td>\n",
       "      <td>nucleus_detection</td>\n",
       "    </tr>\n",
       "    <tr>\n",
       "      <th>4</th>\n",
       "      <td>72481250081768943</td>\n",
       "      <td>[27376, 86896, 2005]</td>\n",
       "      <td>[27008, 86544, 1982]</td>\n",
       "      <td>[27408, 87104, 2023]</td>\n",
       "      <td>nucleus_detection</td>\n",
       "    </tr>\n",
       "    <tr>\n",
       "      <th>...</th>\n",
       "      <td>...</td>\n",
       "      <td>...</td>\n",
       "      <td>...</td>\n",
       "      <td>...</td>\n",
       "      <td>...</td>\n",
       "    </tr>\n",
       "    <tr>\n",
       "      <th>17071</th>\n",
       "      <td>73114912242532398</td>\n",
       "      <td>[60624, 109584, 1417]</td>\n",
       "      <td>[59856, 108960, 1351]</td>\n",
       "      <td>[62560, 112032, 1522]</td>\n",
       "      <td>nucleus_detection</td>\n",
       "    </tr>\n",
       "    <tr>\n",
       "      <th>17072</th>\n",
       "      <td>72903943314735186</td>\n",
       "      <td>[48496, 116896, 969]</td>\n",
       "      <td>[47664, 116336, 828]</td>\n",
       "      <td>[50896, 118912, 1003]</td>\n",
       "      <td>nucleus_detection</td>\n",
       "    </tr>\n",
       "    <tr>\n",
       "      <th>17073</th>\n",
       "      <td>72270762727178308</td>\n",
       "      <td>[14112, 123456, 3312]</td>\n",
       "      <td>[13216, 123328, 3093]</td>\n",
       "      <td>[15488, 125712, 3363]</td>\n",
       "      <td>nucleus_detection</td>\n",
       "    </tr>\n",
       "    <tr>\n",
       "      <th>17074</th>\n",
       "      <td>72200462366935570</td>\n",
       "      <td>[8176, 127328, 2290]</td>\n",
       "      <td>[8080, 126608, 2245]</td>\n",
       "      <td>[10064, 129536, 2501]</td>\n",
       "      <td>nucleus_detection</td>\n",
       "    </tr>\n",
       "    <tr>\n",
       "      <th>17075</th>\n",
       "      <td>73115256175460446</td>\n",
       "      <td>[64576, 126080, 2568]</td>\n",
       "      <td>[62192, 124832, 2538]</td>\n",
       "      <td>[64896, 127552, 2792]</td>\n",
       "      <td>nucleus_detection</td>\n",
       "    </tr>\n",
       "  </tbody>\n",
       "</table>\n",
       "<p>17076 rows × 5 columns</p>\n",
       "</div>"
      ]
     },
     "metadata": {},
     "execution_count": 17
    }
   ],
   "metadata": {}
  },
  {
   "cell_type": "markdown",
   "source": [
    "# Upload annotation table\n",
    "make sure to create tables first\n",
    "\n",
    "https://github.com/seung-lab/CAVEclient/blob/72ebf7180ca3c4195bec561e177c453554cc60c6/FlyWireAnnotationTutorial.ipynb"
   ],
   "metadata": {}
  },
  {
   "cell_type": "code",
   "execution_count": 10,
   "source": [
    "client.schema.schema_definition('nucleus_detection')"
   ],
   "outputs": [
    {
     "output_type": "execute_result",
     "data": {
      "text/plain": [
       "{'$schema': 'http://json-schema.org/draft-07/schema#',\n",
       " 'definitions': {'SpatialPoint': {'properties': {'position': {'type': 'array'}},\n",
       "   'type': 'object',\n",
       "   'required': ['position'],\n",
       "   'additionalProperties': False},\n",
       "  'BoundSpatialPoint': {'properties': {'position': {'type': 'array'},\n",
       "    'root_id': {'type': 'integer'},\n",
       "    'supervoxel_id': {'type': 'integer'}},\n",
       "   'type': 'object',\n",
       "   'required': ['position'],\n",
       "   'additionalProperties': False},\n",
       "  'NucleusDetection': {'properties': {'bb_end': {'type': 'object',\n",
       "     '$ref': '#/definitions/SpatialPoint',\n",
       "     'description': 'high corner of the bounding box'},\n",
       "    'bb_start': {'type': 'object',\n",
       "     '$ref': '#/definitions/SpatialPoint',\n",
       "     'description': 'low corner of the bounding box'},\n",
       "    'pt': {'type': 'object',\n",
       "     '$ref': '#/definitions/BoundSpatialPoint',\n",
       "     'description': 'the point to be used for attaching objects to the dynamic segmentation'},\n",
       "    'valid': {'title': 'valid',\n",
       "     'type': ['boolean', 'null'],\n",
       "     'default': False,\n",
       "     'description': 'is this annotation valid'},\n",
       "    'volume': {'title': 'volume',\n",
       "     'type': 'number',\n",
       "     'format': 'float',\n",
       "     'description': 'the volume of the nucleus detected in um^3'}},\n",
       "   'type': 'object',\n",
       "   'required': ['pt'],\n",
       "   'additionalProperties': True}},\n",
       " '$ref': '#/definitions/NucleusDetection'}"
      ]
     },
     "metadata": {},
     "execution_count": 10
    }
   ],
   "metadata": {}
  },
  {
   "cell_type": "code",
   "execution_count": 18,
   "source": [
    "# get 502 error if you try to upload at the same time\n",
    "# nuclei_aug2021\n",
    "k=100\n",
    "minidfs = [nuclei_df.loc[i:i+k-1, :] for i in range(0, len(nuclei_df), k)]\n",
    "for dftmp in minidfs:\n",
    "#    client.annotation.post_annotation_df(table_name='nuclei_aug2021',\n",
    "                                         df=dftmp,\n",
    "                                         position_columns={'pt_position': 'pt', 'bb_start_position': 'bb_start', 'bb_end_position': 'bb_end'}, \n",
    "                                         aligned_volume_name='fanc_v4')"
   ],
   "outputs": [],
   "metadata": {}
  },
  {
   "cell_type": "code",
   "execution_count": 16,
   "source": [
    "# soma_aug2021\n",
    "k=100\n",
    "minidfs = [soma_df.loc[i:i+k-1, :] for i in range(0, len(soma_df), k)]\n",
    "for dftmp in minidfs:\n",
    "#    client.annotation.post_annotation_df(table_name='soma_aug2021',\n",
    "                                         df=dftmp,\n",
    "                                         position_columns=['pt_position'], \n",
    "                                         aligned_volume_name='fanc_v4')"
   ],
   "outputs": [],
   "metadata": {}
  },
  {
   "cell_type": "code",
   "execution_count": null,
   "source": [],
   "outputs": [],
   "metadata": {}
  },
  {
   "cell_type": "markdown",
   "source": [
    "# Create tables\n",
    "\n",
    "https://github.com/seung-lab/CAVEclient/blob/dec850dff9e0fa0a9ef8c2a0c79bf82cd2fc5b97/caveclient/annotationengine.py"
   ],
   "metadata": {}
  },
  {
   "cell_type": "code",
   "execution_count": 29,
   "source": [
    "print('IDs shared with soma_aug2021. Based on nuclei segmented at {}'.format(auth.get_cv_path('nuclei_seg_Aug2021')['url']))"
   ],
   "outputs": [
    {
     "output_type": "stream",
     "name": "stdout",
     "text": [
      "IDs shared with soma_aug2021. Based on nuclei segmented at precomputed://gs://ng_scratch_ranl_zetta_30/vnc1_full_v3align_2/realigned_v1/seg/84214f67075692a9e41c02d164b466ba\n"
     ]
    }
   ],
   "metadata": {}
  },
  {
   "cell_type": "code",
   "execution_count": 30,
   "source": [
    "# client.annotation.create_table(table_name='nuclei_aug2021',\n",
    "                               schema_name='nucleus_detection',\n",
    "                               description = 'IDs shared with soma_aug2021. Based on nuclei segmentation at {}'.format(auth.get_cv_path('nuclei_seg_Aug2021')['url']),\n",
    "                               voxel_resolution =[4.3, 4.3, 45.0])"
   ],
   "outputs": [
    {
     "output_type": "execute_result",
     "data": {
      "text/plain": [
       "<Response [200]>"
      ]
     },
     "metadata": {},
     "execution_count": 30
    }
   ],
   "metadata": {}
  },
  {
   "cell_type": "code",
   "execution_count": 31,
   "source": [
    "# client.annotation.create_table(table_name='soma_aug2021',\n",
    "                               schema_name='nucleus_detection',\n",
    "                               description = 'IDs shared with nuclei_aug2021. Based on nuclei segmentation at {}'.format(auth.get_cv_path('nuclei_seg_Aug2021')['url']),\n",
    "                               voxel_resolution =[4.3, 4.3, 45.0])"
   ],
   "outputs": [
    {
     "output_type": "execute_result",
     "data": {
      "text/plain": [
       "<Response [200]>"
      ]
     },
     "metadata": {},
     "execution_count": 31
    }
   ],
   "metadata": {}
  },
  {
   "cell_type": "markdown",
   "source": [
    "# Test materialization"
   ],
   "metadata": {}
  },
  {
   "cell_type": "code",
   "execution_count": 32,
   "source": [
    "client.materialize.homepage"
   ],
   "outputs": [
    {
     "output_type": "execute_result",
     "data": {
      "text/plain": [
       "<IPython.core.display.HTML object>"
      ],
      "text/html": [
       "<a href=\"https://cave.fanc-fly.com/materialize/views/datastack/fanc_production_mar2021\" target=\"_blank\">Materialization Engine</a>"
      ]
     },
     "metadata": {},
     "execution_count": 32
    }
   ],
   "metadata": {}
  },
  {
   "cell_type": "code",
   "execution_count": 28,
   "source": [
    "client.materialize.version = 20"
   ],
   "outputs": [],
   "metadata": {}
  },
  {
   "cell_type": "code",
   "execution_count": 31,
   "source": [
    "client.materialize.get_annotation_count('soma_aug2021')"
   ],
   "outputs": [
    {
     "output_type": "error",
     "ename": "HTTPError",
     "evalue": "500 Server Error: INTERNAL SERVER ERROR for url: https://cave.fanc-fly.com/materialize/api/v2/datastack/fanc_production_mar2021/version/20/table/soma_aug2021/count content:b'{\"message\": \"Internal Server Error\"}\\n'",
     "traceback": [
      "\u001b[0;31m---------------------------------------------------------------------------\u001b[0m",
      "\u001b[0;31mHTTPError\u001b[0m                                 Traceback (most recent call last)",
      "\u001b[0;32m/var/folders/5s/yxy9_m251rx1_rpqxp3ls_yc0000gn/T/ipykernel_3962/236876177.py\u001b[0m in \u001b[0;36m<module>\u001b[0;34m\u001b[0m\n\u001b[0;32m----> 1\u001b[0;31m \u001b[0mclient\u001b[0m\u001b[0;34m.\u001b[0m\u001b[0mmaterialize\u001b[0m\u001b[0;34m.\u001b[0m\u001b[0mget_annotation_count\u001b[0m\u001b[0;34m(\u001b[0m\u001b[0;34m'soma_aug2021'\u001b[0m\u001b[0;34m)\u001b[0m\u001b[0;34m\u001b[0m\u001b[0;34m\u001b[0m\u001b[0m\n\u001b[0m",
      "\u001b[0;32m~/git/FANC_auto_recon/nuclei/lib/python3.9/site-packages/caveclient/materializationengine.py\u001b[0m in \u001b[0;36mget_annotation_count\u001b[0;34m(self, table_name, datastack_name, version)\u001b[0m\n\u001b[1;32m    285\u001b[0m \u001b[0;34m\u001b[0m\u001b[0m\n\u001b[1;32m    286\u001b[0m         \u001b[0mresponse\u001b[0m \u001b[0;34m=\u001b[0m \u001b[0mself\u001b[0m\u001b[0;34m.\u001b[0m\u001b[0msession\u001b[0m\u001b[0;34m.\u001b[0m\u001b[0mget\u001b[0m\u001b[0;34m(\u001b[0m\u001b[0murl\u001b[0m\u001b[0;34m)\u001b[0m\u001b[0;34m\u001b[0m\u001b[0;34m\u001b[0m\u001b[0m\n\u001b[0;32m--> 287\u001b[0;31m         \u001b[0mself\u001b[0m\u001b[0;34m.\u001b[0m\u001b[0mraise_for_status\u001b[0m\u001b[0;34m(\u001b[0m\u001b[0mresponse\u001b[0m\u001b[0;34m)\u001b[0m\u001b[0;34m\u001b[0m\u001b[0;34m\u001b[0m\u001b[0m\n\u001b[0m\u001b[1;32m    288\u001b[0m         \u001b[0;32mreturn\u001b[0m \u001b[0mresponse\u001b[0m\u001b[0;34m.\u001b[0m\u001b[0mjson\u001b[0m\u001b[0;34m(\u001b[0m\u001b[0;34m)\u001b[0m\u001b[0;34m\u001b[0m\u001b[0;34m\u001b[0m\u001b[0m\n\u001b[1;32m    289\u001b[0m \u001b[0;34m\u001b[0m\u001b[0m\n",
      "\u001b[0;32m~/git/FANC_auto_recon/nuclei/lib/python3.9/site-packages/caveclient/base.py\u001b[0m in \u001b[0;36mraise_for_status\u001b[0;34m(r)\u001b[0m\n\u001b[1;32m    175\u001b[0m         \u001b[0;34m\"\"\"Raises :class:`HTTPError`, if one occurred.\"\"\"\u001b[0m\u001b[0;34m\u001b[0m\u001b[0;34m\u001b[0m\u001b[0m\n\u001b[1;32m    176\u001b[0m \u001b[0;34m\u001b[0m\u001b[0m\n\u001b[0;32m--> 177\u001b[0;31m         \u001b[0m_raise_for_status\u001b[0m\u001b[0;34m(\u001b[0m\u001b[0mr\u001b[0m\u001b[0;34m)\u001b[0m\u001b[0;34m\u001b[0m\u001b[0;34m\u001b[0m\u001b[0m\n\u001b[0m\u001b[1;32m    178\u001b[0m \u001b[0;34m\u001b[0m\u001b[0m\n\u001b[1;32m    179\u001b[0m \u001b[0;34m\u001b[0m\u001b[0m\n",
      "\u001b[0;32m~/git/FANC_auto_recon/nuclei/lib/python3.9/site-packages/caveclient/base.py\u001b[0m in \u001b[0;36m_raise_for_status\u001b[0;34m(r)\u001b[0m\n\u001b[1;32m     50\u001b[0m \u001b[0;34m\u001b[0m\u001b[0m\n\u001b[1;32m     51\u001b[0m     \u001b[0;32mif\u001b[0m \u001b[0mhttp_error_msg\u001b[0m\u001b[0;34m:\u001b[0m\u001b[0;34m\u001b[0m\u001b[0;34m\u001b[0m\u001b[0m\n\u001b[0;32m---> 52\u001b[0;31m         \u001b[0;32mraise\u001b[0m \u001b[0mrequests\u001b[0m\u001b[0;34m.\u001b[0m\u001b[0mHTTPError\u001b[0m\u001b[0;34m(\u001b[0m\u001b[0mhttp_error_msg\u001b[0m\u001b[0;34m,\u001b[0m \u001b[0mresponse\u001b[0m\u001b[0;34m=\u001b[0m\u001b[0mr\u001b[0m\u001b[0;34m)\u001b[0m\u001b[0;34m\u001b[0m\u001b[0;34m\u001b[0m\u001b[0m\n\u001b[0m\u001b[1;32m     53\u001b[0m     \u001b[0mwarning\u001b[0m \u001b[0;34m=\u001b[0m \u001b[0mr\u001b[0m\u001b[0;34m.\u001b[0m\u001b[0mheaders\u001b[0m\u001b[0;34m.\u001b[0m\u001b[0mget\u001b[0m\u001b[0;34m(\u001b[0m\u001b[0;34m\"Warning\"\u001b[0m\u001b[0;34m)\u001b[0m\u001b[0;34m\u001b[0m\u001b[0;34m\u001b[0m\u001b[0m\n\u001b[1;32m     54\u001b[0m     \u001b[0;32mif\u001b[0m \u001b[0mwarning\u001b[0m\u001b[0;34m:\u001b[0m\u001b[0;34m\u001b[0m\u001b[0;34m\u001b[0m\u001b[0m\n",
      "\u001b[0;31mHTTPError\u001b[0m: 500 Server Error: INTERNAL SERVER ERROR for url: https://cave.fanc-fly.com/materialize/api/v2/datastack/fanc_production_mar2021/version/20/table/soma_aug2021/count content:b'{\"message\": \"Internal Server Error\"}\\n'"
     ]
    }
   ],
   "metadata": {}
  },
  {
   "cell_type": "code",
   "execution_count": 27,
   "source": [
    "# soma_table = client.info.get_datastack_info('soma_aug2021')\n",
    "test=client.materialize.live_query('soma_aug2021',\n",
    "                                   datetime.utcnow(),\n",
    "                                   limit=10)"
   ],
   "outputs": [
    {
     "output_type": "error",
     "ename": "HTTPError",
     "evalue": "404 Client Error: NOT FOUND for url: https://cave.fanc-fly.com/materialize/api/v2/datastack/fanc_production_mar2021/version/20/table/soma_aug2021/query?return_pyarrow=True&split_positions=True content: b'\"Cannot find table soma_aug2021 in datastack fanc_production_mar2021 at version 20\"\\n'",
     "traceback": [
      "\u001b[0;31m---------------------------------------------------------------------------\u001b[0m",
      "\u001b[0;31mHTTPError\u001b[0m                                 Traceback (most recent call last)",
      "\u001b[0;32m/var/folders/5s/yxy9_m251rx1_rpqxp3ls_yc0000gn/T/ipykernel_3962/3222497477.py\u001b[0m in \u001b[0;36m<module>\u001b[0;34m\u001b[0m\n\u001b[1;32m      1\u001b[0m \u001b[0;31m# soma_table = client.info.get_datastack_info('soma_aug2021')\u001b[0m\u001b[0;34m\u001b[0m\u001b[0;34m\u001b[0m\u001b[0;34m\u001b[0m\u001b[0m\n\u001b[0;32m----> 2\u001b[0;31m test=client.materialize.live_query('soma_aug2021',\n\u001b[0m\u001b[1;32m      3\u001b[0m                                    \u001b[0mdatetime\u001b[0m\u001b[0;34m.\u001b[0m\u001b[0mutcnow\u001b[0m\u001b[0;34m(\u001b[0m\u001b[0;34m)\u001b[0m\u001b[0;34m,\u001b[0m\u001b[0;34m\u001b[0m\u001b[0;34m\u001b[0m\u001b[0m\n\u001b[1;32m      4\u001b[0m                                    limit=10)\n",
      "\u001b[0;32m~/git/FANC_auto_recon/nuclei/lib/python3.9/site-packages/caveclient/materializationengine.py\u001b[0m in \u001b[0;36mlive_query\u001b[0;34m(self, table, timestamp, filter_in_dict, filter_out_dict, filter_equal_dict, filter_spatial_dict, join_args, select_columns, offset, limit, datastack_name, split_positions, post_filter)\u001b[0m\n\u001b[1;32m    994\u001b[0m                 \u001b[0mverify\u001b[0m\u001b[0;34m=\u001b[0m\u001b[0mself\u001b[0m\u001b[0;34m.\u001b[0m\u001b[0mverify\u001b[0m\u001b[0;34m,\u001b[0m\u001b[0;34m\u001b[0m\u001b[0;34m\u001b[0m\u001b[0m\n\u001b[1;32m    995\u001b[0m             )\n\u001b[0;32m--> 996\u001b[0;31m             \u001b[0mself\u001b[0m\u001b[0;34m.\u001b[0m\u001b[0mraise_for_status\u001b[0m\u001b[0;34m(\u001b[0m\u001b[0mresponse\u001b[0m\u001b[0;34m)\u001b[0m\u001b[0;34m\u001b[0m\u001b[0;34m\u001b[0m\u001b[0m\n\u001b[0m\u001b[1;32m    997\u001b[0m \u001b[0;34m\u001b[0m\u001b[0m\n\u001b[1;32m    998\u001b[0m         \u001b[0;32mwith\u001b[0m \u001b[0mTimeIt\u001b[0m\u001b[0;34m(\u001b[0m\u001b[0;34m\"deserialize\"\u001b[0m\u001b[0;34m)\u001b[0m\u001b[0;34m:\u001b[0m\u001b[0;34m\u001b[0m\u001b[0;34m\u001b[0m\u001b[0m\n",
      "\u001b[0;32m~/git/FANC_auto_recon/nuclei/lib/python3.9/site-packages/caveclient/base.py\u001b[0m in \u001b[0;36mraise_for_status\u001b[0;34m(r)\u001b[0m\n\u001b[1;32m    175\u001b[0m         \u001b[0;34m\"\"\"Raises :class:`HTTPError`, if one occurred.\"\"\"\u001b[0m\u001b[0;34m\u001b[0m\u001b[0;34m\u001b[0m\u001b[0m\n\u001b[1;32m    176\u001b[0m \u001b[0;34m\u001b[0m\u001b[0m\n\u001b[0;32m--> 177\u001b[0;31m         \u001b[0m_raise_for_status\u001b[0m\u001b[0;34m(\u001b[0m\u001b[0mr\u001b[0m\u001b[0;34m)\u001b[0m\u001b[0;34m\u001b[0m\u001b[0;34m\u001b[0m\u001b[0m\n\u001b[0m\u001b[1;32m    178\u001b[0m \u001b[0;34m\u001b[0m\u001b[0m\n\u001b[1;32m    179\u001b[0m \u001b[0;34m\u001b[0m\u001b[0m\n",
      "\u001b[0;32m~/git/FANC_auto_recon/nuclei/lib/python3.9/site-packages/caveclient/base.py\u001b[0m in \u001b[0;36m_raise_for_status\u001b[0;34m(r)\u001b[0m\n\u001b[1;32m     50\u001b[0m \u001b[0;34m\u001b[0m\u001b[0m\n\u001b[1;32m     51\u001b[0m     \u001b[0;32mif\u001b[0m \u001b[0mhttp_error_msg\u001b[0m\u001b[0;34m:\u001b[0m\u001b[0;34m\u001b[0m\u001b[0;34m\u001b[0m\u001b[0m\n\u001b[0;32m---> 52\u001b[0;31m         \u001b[0;32mraise\u001b[0m \u001b[0mrequests\u001b[0m\u001b[0;34m.\u001b[0m\u001b[0mHTTPError\u001b[0m\u001b[0;34m(\u001b[0m\u001b[0mhttp_error_msg\u001b[0m\u001b[0;34m,\u001b[0m \u001b[0mresponse\u001b[0m\u001b[0;34m=\u001b[0m\u001b[0mr\u001b[0m\u001b[0;34m)\u001b[0m\u001b[0;34m\u001b[0m\u001b[0;34m\u001b[0m\u001b[0m\n\u001b[0m\u001b[1;32m     53\u001b[0m     \u001b[0mwarning\u001b[0m \u001b[0;34m=\u001b[0m \u001b[0mr\u001b[0m\u001b[0;34m.\u001b[0m\u001b[0mheaders\u001b[0m\u001b[0;34m.\u001b[0m\u001b[0mget\u001b[0m\u001b[0;34m(\u001b[0m\u001b[0;34m\"Warning\"\u001b[0m\u001b[0;34m)\u001b[0m\u001b[0;34m\u001b[0m\u001b[0;34m\u001b[0m\u001b[0m\n\u001b[1;32m     54\u001b[0m     \u001b[0;32mif\u001b[0m \u001b[0mwarning\u001b[0m\u001b[0;34m:\u001b[0m\u001b[0;34m\u001b[0m\u001b[0;34m\u001b[0m\u001b[0m\n",
      "\u001b[0;31mHTTPError\u001b[0m: 404 Client Error: NOT FOUND for url: https://cave.fanc-fly.com/materialize/api/v2/datastack/fanc_production_mar2021/version/20/table/soma_aug2021/query?return_pyarrow=True&split_positions=True content: b'\"Cannot find table soma_aug2021 in datastack fanc_production_mar2021 at version 20\"\\n'"
     ]
    }
   ],
   "metadata": {}
  },
  {
   "cell_type": "code",
   "execution_count": null,
   "source": [],
   "outputs": [],
   "metadata": {}
  }
 ],
 "metadata": {
  "orig_nbformat": 4,
  "language_info": {
   "name": "python",
   "version": "3.9.6",
   "mimetype": "text/x-python",
   "codemirror_mode": {
    "name": "ipython",
    "version": 3
   },
   "pygments_lexer": "ipython3",
   "nbconvert_exporter": "python",
   "file_extension": ".py"
  },
  "kernelspec": {
   "name": "python3",
   "display_name": "Python 3.9.6 64-bit ('nuclei': venv)"
  },
  "interpreter": {
   "hash": "2f8bd4940588abb561ec8a21652acdfb236931ee8d62ff047ac85f739f53aa56"
  }
 },
 "nbformat": 4,
 "nbformat_minor": 2
}