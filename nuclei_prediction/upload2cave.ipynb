{
 "cells": [
  {
   "cell_type": "code",
   "execution_count": 1,
   "source": [
    "import numpy as np\n",
    "import sys\n",
    "import os\n",
    "import pandas as pd\n",
    "from caveclient import CAVEclient\n",
    "\n",
    "sys.path.append(os.path.abspath(\"../segmentation\"))# to import rootID_lookup and authentication_utils like below\n",
    "import rootID_lookup as IDlook\n",
    "import authentication_utils as auth"
   ],
   "outputs": [],
   "metadata": {}
  },
  {
   "cell_type": "code",
   "execution_count": 2,
   "source": [
    "# auth = client.auth\n",
    "# auth.get_new_token()\n",
    "# new_token = '' # This is the text you see after you visit the website.\n",
    "# auth.save_token(token=new_token)"
   ],
   "outputs": [],
   "metadata": {}
  },
  {
   "cell_type": "code",
   "execution_count": 7,
   "source": [
    "# check datastack_name here https://globalv1.daf-apis.com/info/\n",
    "datastack_name = 'fanc_production_mar2021'\n",
    "client = CAVEclient(datastack_name)\n",
    "client.info.get_datastack_info()"
   ],
   "outputs": [
    {
     "output_type": "execute_result",
     "data": {
      "text/plain": [
       "{'synapse_table': None,\n",
       " 'soma_table': None,\n",
       " 'segmentation_source': 'graphene://https://cave.fanc-fly.com/segmentation/table/mar2021_prod',\n",
       " 'description': 'This is the first version of the fanc dataset hosted in CAVE.',\n",
       " 'analysis_database': None,\n",
       " 'aligned_volume': {'image_source': 'precomputed://gs://zetta_lee_fly_vnc_001_precomputed/fanc_v4_em',\n",
       "  'id': 7,\n",
       "  'name': 'fanc_v4',\n",
       "  'description': 'This is the 4th alignment of the female adult nerve cord dataset.'},\n",
       " 'local_server': 'https://cave.fanc-fly.com',\n",
       " 'viewer_site': None}"
      ]
     },
     "metadata": {},
     "execution_count": 7
    }
   ],
   "metadata": {}
  },
  {
   "cell_type": "code",
   "execution_count": 8,
   "source": [
    "client.annotation.get_tables()"
   ],
   "outputs": [
    {
     "output_type": "stream",
     "name": "stdout",
     "text": [
      "https://cave.fanc-fly.com/annotation/api/v2/aligned_volume/fanc_v4/table\n"
     ]
    },
    {
     "output_type": "execute_result",
     "data": {
      "text/plain": [
       "['t1mn', 'test_soma', 'synapses_may2021']"
      ]
     },
     "metadata": {},
     "execution_count": 8
    }
   ],
   "metadata": {}
  },
  {
   "cell_type": "code",
   "execution_count": 17,
   "source": [
    "df = pd.read_csv('../Output/body_info_Aug2021.csv', header=0)"
   ],
   "outputs": [],
   "metadata": {}
  },
  {
   "cell_type": "code",
   "execution_count": null,
   "source": [
    "df = df.reindex(columns=['nuc_xyz', 'nuc_svID', 'nuc_rootID', 'body_xyz', 'body_svID', 'body_rootID'])\n",
    "df = df.rename(columns={'body_svID': 'soma_svID', 'body_rootID': 'soma_rootID'})"
   ],
   "outputs": [],
   "metadata": {}
  },
  {
   "cell_type": "code",
   "execution_count": 18,
   "source": [
    "df"
   ],
   "outputs": [
    {
     "output_type": "execute_result",
     "data": {
      "text/plain": [
       "                     nuc_xyz           nuc_svID  nuc_rootID  \\\n",
       "0      (64344, 155528, 2733)  74244180477808300           0   \n",
       "1      (17088, 157440, 2646)  72625768014147752           0   \n",
       "2      (40448, 196000, 1217)  73401129131948686           0   \n",
       "3      (52664, 154184, 2631)  73821967945765967           0   \n",
       "4       (27208, 86824, 2002)  72975274937293138           0   \n",
       "...                      ...                ...         ...   \n",
       "17071  (61208, 110496, 1436)  74101930422511045           0   \n",
       "17072   (49280, 117624, 915)  73679992567191019           0   \n",
       "17073  (14352, 124520, 3228)  72554300093870036           0   \n",
       "17074   (9072, 128072, 2373)  72272962019259746           0   \n",
       "17075  (63544, 126192, 2665)  74243218271163449           0   \n",
       "\n",
       "                    body_xyz          soma_svID  soma_rootID  \n",
       "0      (64096, 155520, 2735)  74244180477821787            0  \n",
       "1      (16800, 157360, 2680)  72625768014223466            0  \n",
       "2      (40144, 195856, 1213)  73401129131935868            0  \n",
       "3      (52320, 153968, 2663)  73821967945813511            0  \n",
       "4       (26928, 86432, 1996)  72975274937264610            0  \n",
       "...                      ...                ...          ...  \n",
       "17071  (59824, 110608, 1362)  74101999142110560            0  \n",
       "17072   (47616, 117376, 885)  73679992567212870            0  \n",
       "17073  (13184, 124416, 3238)  72483931349546701            0  \n",
       "17074   (8032, 127680, 2353)  72272962086203920            0  \n",
       "17075  (62160, 125952, 2700)  74172849660769194            0  \n",
       "\n",
       "[17076 rows x 6 columns]"
      ],
      "text/html": [
       "<div>\n",
       "<style scoped>\n",
       "    .dataframe tbody tr th:only-of-type {\n",
       "        vertical-align: middle;\n",
       "    }\n",
       "\n",
       "    .dataframe tbody tr th {\n",
       "        vertical-align: top;\n",
       "    }\n",
       "\n",
       "    .dataframe thead th {\n",
       "        text-align: right;\n",
       "    }\n",
       "</style>\n",
       "<table border=\"1\" class=\"dataframe\">\n",
       "  <thead>\n",
       "    <tr style=\"text-align: right;\">\n",
       "      <th></th>\n",
       "      <th>nuc_xyz</th>\n",
       "      <th>nuc_svID</th>\n",
       "      <th>nuc_rootID</th>\n",
       "      <th>body_xyz</th>\n",
       "      <th>soma_svID</th>\n",
       "      <th>soma_rootID</th>\n",
       "    </tr>\n",
       "  </thead>\n",
       "  <tbody>\n",
       "    <tr>\n",
       "      <th>0</th>\n",
       "      <td>(64344, 155528, 2733)</td>\n",
       "      <td>74244180477808300</td>\n",
       "      <td>0</td>\n",
       "      <td>(64096, 155520, 2735)</td>\n",
       "      <td>74244180477821787</td>\n",
       "      <td>0</td>\n",
       "    </tr>\n",
       "    <tr>\n",
       "      <th>1</th>\n",
       "      <td>(17088, 157440, 2646)</td>\n",
       "      <td>72625768014147752</td>\n",
       "      <td>0</td>\n",
       "      <td>(16800, 157360, 2680)</td>\n",
       "      <td>72625768014223466</td>\n",
       "      <td>0</td>\n",
       "    </tr>\n",
       "    <tr>\n",
       "      <th>2</th>\n",
       "      <td>(40448, 196000, 1217)</td>\n",
       "      <td>73401129131948686</td>\n",
       "      <td>0</td>\n",
       "      <td>(40144, 195856, 1213)</td>\n",
       "      <td>73401129131935868</td>\n",
       "      <td>0</td>\n",
       "    </tr>\n",
       "    <tr>\n",
       "      <th>3</th>\n",
       "      <td>(52664, 154184, 2631)</td>\n",
       "      <td>73821967945765967</td>\n",
       "      <td>0</td>\n",
       "      <td>(52320, 153968, 2663)</td>\n",
       "      <td>73821967945813511</td>\n",
       "      <td>0</td>\n",
       "    </tr>\n",
       "    <tr>\n",
       "      <th>4</th>\n",
       "      <td>(27208, 86824, 2002)</td>\n",
       "      <td>72975274937293138</td>\n",
       "      <td>0</td>\n",
       "      <td>(26928, 86432, 1996)</td>\n",
       "      <td>72975274937264610</td>\n",
       "      <td>0</td>\n",
       "    </tr>\n",
       "    <tr>\n",
       "      <th>...</th>\n",
       "      <td>...</td>\n",
       "      <td>...</td>\n",
       "      <td>...</td>\n",
       "      <td>...</td>\n",
       "      <td>...</td>\n",
       "      <td>...</td>\n",
       "    </tr>\n",
       "    <tr>\n",
       "      <th>17071</th>\n",
       "      <td>(61208, 110496, 1436)</td>\n",
       "      <td>74101930422511045</td>\n",
       "      <td>0</td>\n",
       "      <td>(59824, 110608, 1362)</td>\n",
       "      <td>74101999142110560</td>\n",
       "      <td>0</td>\n",
       "    </tr>\n",
       "    <tr>\n",
       "      <th>17072</th>\n",
       "      <td>(49280, 117624, 915)</td>\n",
       "      <td>73679992567191019</td>\n",
       "      <td>0</td>\n",
       "      <td>(47616, 117376, 885)</td>\n",
       "      <td>73679992567212870</td>\n",
       "      <td>0</td>\n",
       "    </tr>\n",
       "    <tr>\n",
       "      <th>17073</th>\n",
       "      <td>(14352, 124520, 3228)</td>\n",
       "      <td>72554300093870036</td>\n",
       "      <td>0</td>\n",
       "      <td>(13184, 124416, 3238)</td>\n",
       "      <td>72483931349546701</td>\n",
       "      <td>0</td>\n",
       "    </tr>\n",
       "    <tr>\n",
       "      <th>17074</th>\n",
       "      <td>(9072, 128072, 2373)</td>\n",
       "      <td>72272962019259746</td>\n",
       "      <td>0</td>\n",
       "      <td>(8032, 127680, 2353)</td>\n",
       "      <td>72272962086203920</td>\n",
       "      <td>0</td>\n",
       "    </tr>\n",
       "    <tr>\n",
       "      <th>17075</th>\n",
       "      <td>(63544, 126192, 2665)</td>\n",
       "      <td>74243218271163449</td>\n",
       "      <td>0</td>\n",
       "      <td>(62160, 125952, 2700)</td>\n",
       "      <td>74172849660769194</td>\n",
       "      <td>0</td>\n",
       "    </tr>\n",
       "  </tbody>\n",
       "</table>\n",
       "<p>17076 rows × 6 columns</p>\n",
       "</div>"
      ]
     },
     "metadata": {},
     "execution_count": 18
    }
   ],
   "metadata": {}
  },
  {
   "cell_type": "code",
   "execution_count": 21,
   "source": [
    "example_schema = client.schema.schema_definition('nucleus_detection')\n",
    "example_schema"
   ],
   "outputs": [
    {
     "output_type": "execute_result",
     "data": {
      "text/plain": [
       "{'$schema': 'http://json-schema.org/draft-07/schema#',\n",
       " 'definitions': {'SpatialPoint': {'required': ['position'],\n",
       "   'type': 'object',\n",
       "   'properties': {'position': {'type': 'array'}},\n",
       "   'additionalProperties': False},\n",
       "  'BoundSpatialPoint': {'required': ['position'],\n",
       "   'type': 'object',\n",
       "   'properties': {'position': {'type': 'array'},\n",
       "    'root_id': {'type': 'integer'},\n",
       "    'supervoxel_id': {'type': 'integer'}},\n",
       "   'additionalProperties': False},\n",
       "  'NucleusDetection': {'required': ['pt'],\n",
       "   'type': 'object',\n",
       "   'properties': {'bb_end': {'type': 'object',\n",
       "     '$ref': '#/definitions/SpatialPoint',\n",
       "     'description': 'high corner of the bounding box'},\n",
       "    'bb_start': {'type': 'object',\n",
       "     '$ref': '#/definitions/SpatialPoint',\n",
       "     'description': 'low corner of the bounding box'},\n",
       "    'pt': {'type': 'object',\n",
       "     '$ref': '#/definitions/BoundSpatialPoint',\n",
       "     'description': 'the point to be used for attaching objects to the dynamic segmentation'},\n",
       "    'valid': {'title': 'valid',\n",
       "     'type': ['boolean', 'null'],\n",
       "     'default': False,\n",
       "     'description': 'is this annotation valid'},\n",
       "    'volume': {'title': 'volume',\n",
       "     'type': 'number',\n",
       "     'format': 'float',\n",
       "     'description': 'the volume of the nucleus detected in um^3'}},\n",
       "   'additionalProperties': True}},\n",
       " '$ref': '#/definitions/NucleusDetection'}"
      ]
     },
     "metadata": {},
     "execution_count": 21
    }
   ],
   "metadata": {}
  },
  {
   "cell_type": "code",
   "execution_count": 35,
   "source": [
    "client.annotation.create_table(table_name='nucleus_aug2021',\n",
    "                               schema_name='nucleus_detection',\n",
    "                               description = 'xxx',\n",
    "                               voxel_resolution =[4.3, 4.3, 45.0])"
   ],
   "outputs": [
    {
     "output_type": "execute_result",
     "data": {
      "text/plain": [
       "<Response [200]>"
      ]
     },
     "metadata": {},
     "execution_count": 35
    }
   ],
   "metadata": {}
  },
  {
   "cell_type": "code",
   "execution_count": 94,
   "source": [
    "df_test = pd.DataFrame([{'id':0,\n",
    "         'type': 'nucleus_detection',\n",
    "         'pt_position': [40448, 196000, 1217],\n",
    "         'supervoxel_id': 73401129131948686},\n",
    "        {'id':1,\n",
    "        'type': 'nucleus_detection',\n",
    "        'pt_position': [17088, 157440, 2646],\n",
    "        'supervoxel_id': 72625768014147752}])"
   ],
   "outputs": [],
   "metadata": {}
  },
  {
   "cell_type": "code",
   "execution_count": 95,
   "source": [
    "df_test"
   ],
   "outputs": [
    {
     "output_type": "execute_result",
     "data": {
      "text/plain": [
       "   id               type            pt_position      supervoxel_id\n",
       "0   0  nucleus_detection  [40448, 196000, 1217]  73401129131948686\n",
       "1   1  nucleus_detection  [17088, 157440, 2646]  72625768014147752"
      ],
      "text/html": [
       "<div>\n",
       "<style scoped>\n",
       "    .dataframe tbody tr th:only-of-type {\n",
       "        vertical-align: middle;\n",
       "    }\n",
       "\n",
       "    .dataframe tbody tr th {\n",
       "        vertical-align: top;\n",
       "    }\n",
       "\n",
       "    .dataframe thead th {\n",
       "        text-align: right;\n",
       "    }\n",
       "</style>\n",
       "<table border=\"1\" class=\"dataframe\">\n",
       "  <thead>\n",
       "    <tr style=\"text-align: right;\">\n",
       "      <th></th>\n",
       "      <th>id</th>\n",
       "      <th>type</th>\n",
       "      <th>pt_position</th>\n",
       "      <th>supervoxel_id</th>\n",
       "    </tr>\n",
       "  </thead>\n",
       "  <tbody>\n",
       "    <tr>\n",
       "      <th>0</th>\n",
       "      <td>0</td>\n",
       "      <td>nucleus_detection</td>\n",
       "      <td>[40448, 196000, 1217]</td>\n",
       "      <td>73401129131948686</td>\n",
       "    </tr>\n",
       "    <tr>\n",
       "      <th>1</th>\n",
       "      <td>1</td>\n",
       "      <td>nucleus_detection</td>\n",
       "      <td>[17088, 157440, 2646]</td>\n",
       "      <td>72625768014147752</td>\n",
       "    </tr>\n",
       "  </tbody>\n",
       "</table>\n",
       "</div>"
      ]
     },
     "metadata": {},
     "execution_count": 95
    }
   ],
   "metadata": {}
  },
  {
   "cell_type": "code",
   "execution_count": 103,
   "source": [
    "client.annotation.post_annotation_df('test_soma', df_test, position_columns=['pt_position'])"
   ],
   "outputs": [
    {
     "output_type": "execute_result",
     "data": {
      "text/plain": [
       "'Inserted 2 annotations'"
      ]
     },
     "metadata": {},
     "execution_count": 103
    }
   ],
   "metadata": {}
  },
  {
   "cell_type": "code",
   "execution_count": 104,
   "source": [
    "client.annotation.get_annotation_count('test_soma')"
   ],
   "outputs": [
    {
     "output_type": "execute_result",
     "data": {
      "text/plain": [
       "2"
      ]
     },
     "metadata": {},
     "execution_count": 104
    }
   ],
   "metadata": {}
  },
  {
   "cell_type": "code",
   "execution_count": 105,
   "source": [
    "client.annotation.get_annotation('test_soma',annotation_ids=[1])"
   ],
   "outputs": [
    {
     "output_type": "error",
     "ename": "HTTPError",
     "evalue": "502 Server Error: Bad Gateway for url: https://cave.fanc-fly.com/annotation/api/v2/aligned_volume/fanc_v4/table/test_soma/annotations?annotation_ids=1 content:b'<html>\\r\\n<head><title>502 Bad Gateway</title></head>\\r\\n<body>\\r\\n<center><h1>502 Bad Gateway</h1></center>\\r\\n<hr><center>nginx/1.17.10</center>\\r\\n</body>\\r\\n</html>\\r\\n'",
     "traceback": [
      "\u001b[0;31m---------------------------------------------------------------------------\u001b[0m",
      "\u001b[0;31mHTTPError\u001b[0m                                 Traceback (most recent call last)",
      "\u001b[0;32m/tmp/ipykernel_4822/341500407.py\u001b[0m in \u001b[0;36m<module>\u001b[0;34m\u001b[0m\n\u001b[0;32m----> 1\u001b[0;31m \u001b[0mclient\u001b[0m\u001b[0;34m.\u001b[0m\u001b[0mannotation\u001b[0m\u001b[0;34m.\u001b[0m\u001b[0mget_annotation\u001b[0m\u001b[0;34m(\u001b[0m\u001b[0;34m'test_soma'\u001b[0m\u001b[0;34m,\u001b[0m\u001b[0mannotation_ids\u001b[0m\u001b[0;34m=\u001b[0m\u001b[0;34m[\u001b[0m\u001b[0;36m1\u001b[0m\u001b[0;34m]\u001b[0m\u001b[0;34m)\u001b[0m\u001b[0;34m\u001b[0m\u001b[0;34m\u001b[0m\u001b[0m\n\u001b[0m",
      "\u001b[0;32m/usr/local/pip-global/caveclient/annotationengine.py\u001b[0m in \u001b[0;36mget_annotation\u001b[0;34m(self, table_name, annotation_ids, aligned_volume_name)\u001b[0m\n\u001b[1;32m    350\u001b[0m         \u001b[0mparams\u001b[0m \u001b[0;34m=\u001b[0m \u001b[0;34m{\u001b[0m\u001b[0;34m\"annotation_ids\"\u001b[0m\u001b[0;34m:\u001b[0m \u001b[0;34m\",\"\u001b[0m\u001b[0;34m.\u001b[0m\u001b[0mjoin\u001b[0m\u001b[0;34m(\u001b[0m\u001b[0;34m[\u001b[0m\u001b[0mstr\u001b[0m\u001b[0;34m(\u001b[0m\u001b[0ma\u001b[0m\u001b[0;34m)\u001b[0m \u001b[0;32mfor\u001b[0m \u001b[0ma\u001b[0m \u001b[0;32min\u001b[0m \u001b[0mannotation_ids\u001b[0m\u001b[0;34m]\u001b[0m\u001b[0;34m)\u001b[0m\u001b[0;34m}\u001b[0m\u001b[0;34m\u001b[0m\u001b[0;34m\u001b[0m\u001b[0m\n\u001b[1;32m    351\u001b[0m         \u001b[0mresponse\u001b[0m \u001b[0;34m=\u001b[0m \u001b[0mself\u001b[0m\u001b[0;34m.\u001b[0m\u001b[0msession\u001b[0m\u001b[0;34m.\u001b[0m\u001b[0mget\u001b[0m\u001b[0;34m(\u001b[0m\u001b[0murl\u001b[0m\u001b[0;34m,\u001b[0m \u001b[0mparams\u001b[0m\u001b[0;34m=\u001b[0m\u001b[0mparams\u001b[0m\u001b[0;34m)\u001b[0m\u001b[0;34m\u001b[0m\u001b[0;34m\u001b[0m\u001b[0m\n\u001b[0;32m--> 352\u001b[0;31m         \u001b[0;32mreturn\u001b[0m \u001b[0mhandle_response\u001b[0m\u001b[0;34m(\u001b[0m\u001b[0mresponse\u001b[0m\u001b[0;34m)\u001b[0m\u001b[0;34m\u001b[0m\u001b[0;34m\u001b[0m\u001b[0m\n\u001b[0m\u001b[1;32m    353\u001b[0m \u001b[0;34m\u001b[0m\u001b[0m\n\u001b[1;32m    354\u001b[0m     \u001b[0;32mdef\u001b[0m \u001b[0mpost_annotation\u001b[0m\u001b[0;34m(\u001b[0m\u001b[0mself\u001b[0m\u001b[0;34m,\u001b[0m \u001b[0mtable_name\u001b[0m\u001b[0;34m,\u001b[0m \u001b[0mdata\u001b[0m\u001b[0;34m,\u001b[0m \u001b[0maligned_volume_name\u001b[0m\u001b[0;34m=\u001b[0m\u001b[0;32mNone\u001b[0m\u001b[0;34m)\u001b[0m\u001b[0;34m:\u001b[0m\u001b[0;34m\u001b[0m\u001b[0;34m\u001b[0m\u001b[0m\n",
      "\u001b[0;32m/usr/local/pip-global/caveclient/base.py\u001b[0m in \u001b[0;36mhandle_response\u001b[0;34m(response, as_json)\u001b[0m\n\u001b[1;32m     58\u001b[0m \u001b[0;32mdef\u001b[0m \u001b[0mhandle_response\u001b[0m\u001b[0;34m(\u001b[0m\u001b[0mresponse\u001b[0m\u001b[0;34m,\u001b[0m \u001b[0mas_json\u001b[0m\u001b[0;34m=\u001b[0m\u001b[0;32mTrue\u001b[0m\u001b[0;34m)\u001b[0m\u001b[0;34m:\u001b[0m\u001b[0;34m\u001b[0m\u001b[0;34m\u001b[0m\u001b[0m\n\u001b[1;32m     59\u001b[0m     \u001b[0;34m\"\"\"Deal with potential errors in endpoint response and return json for default case\"\"\"\u001b[0m\u001b[0;34m\u001b[0m\u001b[0;34m\u001b[0m\u001b[0m\n\u001b[0;32m---> 60\u001b[0;31m     \u001b[0m_raise_for_status\u001b[0m\u001b[0;34m(\u001b[0m\u001b[0mresponse\u001b[0m\u001b[0;34m)\u001b[0m\u001b[0;34m\u001b[0m\u001b[0;34m\u001b[0m\u001b[0m\n\u001b[0m\u001b[1;32m     61\u001b[0m     \u001b[0m_check_authorization_redirect\u001b[0m\u001b[0;34m(\u001b[0m\u001b[0mresponse\u001b[0m\u001b[0;34m)\u001b[0m\u001b[0;34m\u001b[0m\u001b[0;34m\u001b[0m\u001b[0m\n\u001b[1;32m     62\u001b[0m     \u001b[0;32mif\u001b[0m \u001b[0mas_json\u001b[0m\u001b[0;34m:\u001b[0m\u001b[0;34m\u001b[0m\u001b[0;34m\u001b[0m\u001b[0m\n",
      "\u001b[0;32m/usr/local/pip-global/caveclient/base.py\u001b[0m in \u001b[0;36m_raise_for_status\u001b[0;34m(r)\u001b[0m\n\u001b[1;32m     50\u001b[0m \u001b[0;34m\u001b[0m\u001b[0m\n\u001b[1;32m     51\u001b[0m     \u001b[0;32mif\u001b[0m \u001b[0mhttp_error_msg\u001b[0m\u001b[0;34m:\u001b[0m\u001b[0;34m\u001b[0m\u001b[0;34m\u001b[0m\u001b[0m\n\u001b[0;32m---> 52\u001b[0;31m         \u001b[0;32mraise\u001b[0m \u001b[0mrequests\u001b[0m\u001b[0;34m.\u001b[0m\u001b[0mHTTPError\u001b[0m\u001b[0;34m(\u001b[0m\u001b[0mhttp_error_msg\u001b[0m\u001b[0;34m,\u001b[0m \u001b[0mresponse\u001b[0m\u001b[0;34m=\u001b[0m\u001b[0mr\u001b[0m\u001b[0;34m)\u001b[0m\u001b[0;34m\u001b[0m\u001b[0;34m\u001b[0m\u001b[0m\n\u001b[0m\u001b[1;32m     53\u001b[0m     \u001b[0mwarning\u001b[0m \u001b[0;34m=\u001b[0m \u001b[0mr\u001b[0m\u001b[0;34m.\u001b[0m\u001b[0mheaders\u001b[0m\u001b[0;34m.\u001b[0m\u001b[0mget\u001b[0m\u001b[0;34m(\u001b[0m\u001b[0;34m\"Warning\"\u001b[0m\u001b[0;34m)\u001b[0m\u001b[0;34m\u001b[0m\u001b[0;34m\u001b[0m\u001b[0m\n\u001b[1;32m     54\u001b[0m     \u001b[0;32mif\u001b[0m \u001b[0mwarning\u001b[0m\u001b[0;34m:\u001b[0m\u001b[0;34m\u001b[0m\u001b[0;34m\u001b[0m\u001b[0m\n",
      "\u001b[0;31mHTTPError\u001b[0m: 502 Server Error: Bad Gateway for url: https://cave.fanc-fly.com/annotation/api/v2/aligned_volume/fanc_v4/table/test_soma/annotations?annotation_ids=1 content:b'<html>\\r\\n<head><title>502 Bad Gateway</title></head>\\r\\n<body>\\r\\n<center><h1>502 Bad Gateway</h1></center>\\r\\n<hr><center>nginx/1.17.10</center>\\r\\n</body>\\r\\n</html>\\r\\n'"
     ]
    }
   ],
   "metadata": {}
  },
  {
   "cell_type": "code",
   "execution_count": null,
   "source": [],
   "outputs": [],
   "metadata": {}
  }
 ],
 "metadata": {
  "orig_nbformat": 4,
  "language_info": {
   "name": "python",
   "version": "3.7.11",
   "mimetype": "text/x-python",
   "codemirror_mode": {
    "name": "ipython",
    "version": 3
   },
   "pygments_lexer": "ipython3",
   "nbconvert_exporter": "python",
   "file_extension": ".py"
  },
  "kernelspec": {
   "name": "python3",
   "display_name": "Python 3.7.11 64-bit ('nuclei': venv)"
  },
  "interpreter": {
   "hash": "c3593f56db3fdc375a231e1c1fb5fc1dbab03dc3894478fa0aaa4bb9b486beca"
  }
 },
 "nbformat": 4,
 "nbformat_minor": 2
}