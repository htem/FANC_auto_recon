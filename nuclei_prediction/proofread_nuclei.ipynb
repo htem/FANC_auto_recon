{
    "cells": [
        {
            "cell_type": "markdown",
            "source": [
                "# Proofread_nuclei"
            ],
            "metadata": {}
        },
        {
            "cell_type": "code",
            "execution_count": 93,
            "source": [
                "# libraries 1\n",
                "import numpy as np\n",
                "import pyperclip\n",
                "import pandas as pd\n",
                "import pyperclip\n",
                "from cloudvolume import CloudVolume, view, Bbox\n",
                "from nglui import statebuilder,annotation,easyviewer,parser\n",
                "from nglui.statebuilder import *\n",
                "from nglui.nglite import *\n",
                "import json\n",
                "\n",
                "import sys\n",
                "import os\n",
                "from datetime import datetime\n",
                "from caveclient import CAVEclient\n",
                "\n",
                "sys.path.append(os.path.abspath(\"../segmentation\"))\n",
                "import authentication_utils as auth\n",
                "import rootID_lookup as IDlook\n",
                "sys.path.append(os.path.abspath(\"../synapses\"))\n",
                "import connectivity_utils"
            ],
            "outputs": [],
            "metadata": {}
        },
        {
            "cell_type": "code",
            "execution_count": 94,
            "source": [
                "datastack_name = 'fanc_production_mar2021'\n",
                "client = CAVEclient(datastack_name)"
            ],
            "outputs": [],
            "metadata": {}
        },
        {
            "cell_type": "code",
            "execution_count": 95,
            "source": [
                "df = pd.read_csv('../Output/soma_info_Aug2021ver5.csv', header=0)"
            ],
            "outputs": [],
            "metadata": {}
        },
        {
            "cell_type": "markdown",
            "source": [
                "## Create links for proofreading nuclei/somas\n",
                "\n",
                "Good example: https://github.com/seung-lab/NeuroglancerAnnotationUI/blob/master/examples/statebuilder_examples.ipynb"
            ],
            "metadata": {}
        },
        {
            "cell_type": "code",
            "execution_count": null,
            "source": [
                "# we only need xyz for nuclei/somas..., and make them into lines\n",
                "xyz_df = df.reindex(columns=['nuc_xyz', 'soma_xyz'])\n",
                "nuc_xyz_df = df['nuc_xyz'].str.strip('()').str.split(',',expand=True)\n",
                "soma_xyz_df = df['soma_xyz'].str.strip('()').str.split(',',expand=True)\n",
                "xyz_df['nuc_xyz'] = nuc_xyz_df.astype(int).values.tolist()\n",
                "xyz_df['soma_xyz'] = soma_xyz_df.astype(int).values.tolist()"
            ],
            "outputs": [],
            "metadata": {}
        },
        {
            "cell_type": "code",
            "execution_count": null,
            "source": [
                "nuc_xyz_df = nuc_xyz_df.set_axis(['Col_x', 'Col_y', 'Col_z'], axis=1)\n",
                "sorted_z = nuc_xyz_df.astype(int).sort_values(by=['Col_z'], ascending=True)\n",
                "sorted_xz = sorted_z.astype(int).sort_values(by=['Col_x'], ascending=True)\n",
                "sorted_indices = sorted_xz.astype(int).sort_values(by=['Col_y'], ascending=True).index\n",
                "xyz_df = xyz_df.reindex(sorted_indices).reset_index(drop=True)"
            ],
            "outputs": [],
            "metadata": {}
        },
        {
            "cell_type": "code",
            "execution_count": null,
            "source": [
                "# ..., and make them into lines\n",
                "lines = LineMapper(point_column_a='nuc_xyz', point_column_b='soma_xyz')"
            ],
            "outputs": [],
            "metadata": {}
        },
        {
            "cell_type": "code",
            "execution_count": null,
            "source": [
                "# make Neuroglancer link\n",
                "imgTokyo = ImageLayerConfig(name = 'FANCv4-jp',\n",
                "                                    source = auth.get_cv_path('Image_Tokyo')['url'])\n",
                "img = ImageLayerConfig(name = 'FANCv4',\n",
                "                                    source = auth.get_cv_path('Image')['url'])\n",
                "seg = SegmentationLayerConfig(name = 'seg_Mar2021_proofreading',\n",
                "                                    source = auth.get_cv_path('FANC_production_segmentation')['url'])     \n",
                "nuc_Aug = ImageLayerConfig(name = 'nuc',\n",
                "                                    source = auth.get_cv_path('nuclei_map_Aug2021')['url'])      \n",
                "nuc_seg_Aug = ImageLayerConfig(name = 'nuc_seg',\n",
                "                                    source = auth.get_cv_path('nuclei_seg_Aug2021')['url'])        \n",
                "\n",
                "ann = AnnotationLayerConfig(name='nuc_soma_Aug2021',\n",
                "                            mapping_rules=lines,\n",
                "                            tags=['neuron', 'glia','false_positive','soma_need_check'],\n",
                "                            active = True)"
            ],
            "outputs": [],
            "metadata": {}
        },
        {
            "cell_type": "code",
            "execution_count": null,
            "source": [
                "view_options = {\"layout\": \"xy\"}\n",
                "\n",
                "memory_options = {\"gpuMemoryLimit\": 4000000000,\n",
                "                  \"systemMemoryLimit\": 8000000000,\n",
                "                  \"concurrentDownloads\": 64,\n",
                "                  \"jsonStateServer\": \"https://global.daf-apis.com/nglstate/api/v1/post\"}\n",
                "\n",
                "\n",
                "sb = StateBuilder(layers=[imgTokyo, seg, img, nuc_Aug, nuc_seg_Aug, ann],\n",
                "                  resolution=[4.3,4.3,45],\n",
                "                  view_kws=view_options)"
            ],
            "outputs": [],
            "metadata": {}
        },
        {
            "cell_type": "code",
            "execution_count": null,
            "source": [
                "LINK=[]\n",
                "k=500\n",
                "minidfs = [xyz_df.loc[i:i+k-1, :] for i in range(0, len(xyz_df), k)]\n",
                "for dftmp in minidfs:\n",
                "    # csb = ChainedStateBuilder([sb, vs])                             \n",
                "    state = json.loads(sb.render_state(dftmp, return_as='json'))\n",
                "    state.update(memory_options)\n",
                "    jsn_id = client.state.upload_state_json(state)\n",
                "    output = client.state.build_neuroglancer_url(jsn_id, auth.get_cv_path('neuroglancer_base')['url'])\n",
                "    # output =auth.get_cv_path('neuroglancer_base')['url'] + '?json_url={path}{state_id}'.format(path=auth.get_cv_path('json_server')['url'],state_id=client.state.upload_state_json(state))\n",
                "    LINK.append(output)"
            ],
            "outputs": [],
            "metadata": {}
        },
        {
            "cell_type": "code",
            "execution_count": null,
            "source": [
                "# save into csv\n",
                "LINK2 = pd.DataFrame(LINK)\n",
                "LINK2.to_csv('../Output/links_20210903.csv', index=False, header=False)"
            ],
            "outputs": [],
            "metadata": {}
        },
        {
            "cell_type": "markdown",
            "source": [
                "## Extract tag from proodread csv\n",
                "\n",
                "functions from https://github.com/seung-lab/NeuroglancerAnnotationUI/blob/36f03cab5ccff8c52b0faba8beff7ab77398ef48/src/nglui/parser/base.py"
            ],
            "metadata": {}
        },
        {
            "cell_type": "code",
            "execution_count": null,
            "source": [
                "# df['is_neuron']=\"\"\n",
                "# df['is_glia']=\"\"\n",
                "# df['is_false_positive']=\"\"\n",
                "# df.to_csv('../Output/proofread_nuc_temp.csv', index=False)"
            ],
            "outputs": [],
            "metadata": {}
        },
        {
            "cell_type": "code",
            "execution_count": 96,
            "source": [
                "df_progress = pd.read_csv(\"../Output/proofread_nuc_temp.csv\", header=0)\n",
                "prfrd1 = pd.read_table(\"../Output/1st_proofreading.tsv\", usecols = ['new link'])"
            ],
            "outputs": [],
            "metadata": {}
        },
        {
            "cell_type": "code",
            "execution_count": 97,
            "source": [
                "rsplitted = prfrd1['new link'].dropna(how='all').str.rsplit('/', 1)\n",
                "new_id = list()\n",
                "for i in rsplitted.index:\n",
                "    new_id.append(rsplitted.loc[i][1])"
            ],
            "outputs": [],
            "metadata": {}
        },
        {
            "cell_type": "code",
            "execution_count": 98,
            "source": [
                "mylist = []\n",
                "\n",
                "for i in range(len(new_id)):\n",
                "    state_id = int(new_id[i])\n",
                "    state = client.state.get_state_json(state_id)\n",
                "\n",
                "    # extract info from json state\n",
                "    nuc_tags = parser.tag_dictionary(state,parser.annotation_layers(state)[0])\n",
                "    anno_lists = parser.line_annotations(state,parser.annotation_layers(state)[0], tags=True)\n",
                "\n",
                "    temp = pd.DataFrame({'anno_points_A': anno_lists[0],\n",
                "                     'anno_points_B': anno_lists[1],\n",
                "                     'anno_tags': anno_lists[2]})\n",
                "\n",
                "    # convert [] to [0]\n",
                "    for j in range(len(temp)):\n",
                "        if len(temp.iloc[j,2]) == 0:\n",
                "            temp.iloc[j,2] = [0]\n",
                "            # temp['anno_tags']\n",
                "\n",
                "    temp['anno_tags'] = np.concatenate(temp['anno_tags']).astype(int)\n",
                "    temp['anno_tags'] = temp['anno_tags'].replace(nuc_tags)\n",
                "\n",
                "    mylist.append(temp)\n"
            ],
            "outputs": [],
            "metadata": {}
        },
        {
            "cell_type": "code",
            "execution_count": 99,
            "source": [
                "df_new = pd.concat(mylist).reset_index()"
            ],
            "outputs": [],
            "metadata": {}
        },
        {
            "cell_type": "code",
            "execution_count": 100,
            "source": [
                "df_new"
            ],
            "outputs": [
                {
                    "output_type": "execute_result",
                    "data": {
                        "text/html": [
                            "<div>\n",
                            "<style scoped>\n",
                            "    .dataframe tbody tr th:only-of-type {\n",
                            "        vertical-align: middle;\n",
                            "    }\n",
                            "\n",
                            "    .dataframe tbody tr th {\n",
                            "        vertical-align: top;\n",
                            "    }\n",
                            "\n",
                            "    .dataframe thead th {\n",
                            "        text-align: right;\n",
                            "    }\n",
                            "</style>\n",
                            "<table border=\"1\" class=\"dataframe\">\n",
                            "  <thead>\n",
                            "    <tr style=\"text-align: right;\">\n",
                            "      <th></th>\n",
                            "      <th>index</th>\n",
                            "      <th>anno_points_A</th>\n",
                            "      <th>anno_points_B</th>\n",
                            "      <th>anno_tags</th>\n",
                            "    </tr>\n",
                            "  </thead>\n",
                            "  <tbody>\n",
                            "    <tr>\n",
                            "      <th>0</th>\n",
                            "      <td>0</td>\n",
                            "      <td>[38272, 74224, 1954]</td>\n",
                            "      <td>[39072, 73456, 1921]</td>\n",
                            "      <td>false_positive</td>\n",
                            "    </tr>\n",
                            "    <tr>\n",
                            "      <th>1</th>\n",
                            "      <td>1</td>\n",
                            "      <td>[32752, 74304, 1739]</td>\n",
                            "      <td>[33056, 73984, 1788]</td>\n",
                            "      <td>false_positive</td>\n",
                            "    </tr>\n",
                            "    <tr>\n",
                            "      <th>2</th>\n",
                            "      <td>2</td>\n",
                            "      <td>[31296, 74672, 1492]</td>\n",
                            "      <td>[31200, 74928, 1530]</td>\n",
                            "      <td>false_positive</td>\n",
                            "    </tr>\n",
                            "    <tr>\n",
                            "      <th>3</th>\n",
                            "      <td>3</td>\n",
                            "      <td>[33440, 74896, 1797]</td>\n",
                            "      <td>[33968, 74928, 1892]</td>\n",
                            "      <td>0</td>\n",
                            "    </tr>\n",
                            "    <tr>\n",
                            "      <th>4</th>\n",
                            "      <td>4</td>\n",
                            "      <td>[33680, 75136, 1796]</td>\n",
                            "      <td>[33744, 75200, 1787]</td>\n",
                            "      <td>0</td>\n",
                            "    </tr>\n",
                            "    <tr>\n",
                            "      <th>...</th>\n",
                            "      <td>...</td>\n",
                            "      <td>...</td>\n",
                            "      <td>...</td>\n",
                            "      <td>...</td>\n",
                            "    </tr>\n",
                            "    <tr>\n",
                            "      <th>17071</th>\n",
                            "      <td>71</td>\n",
                            "      <td>[42000, 218880, 279]</td>\n",
                            "      <td>[42336, 219392, 312]</td>\n",
                            "      <td>0</td>\n",
                            "    </tr>\n",
                            "    <tr>\n",
                            "      <th>17072</th>\n",
                            "      <td>72</td>\n",
                            "      <td>[58736, 219120, 1143]</td>\n",
                            "      <td>[58288, 218736, 1101]</td>\n",
                            "      <td>false_positive</td>\n",
                            "    </tr>\n",
                            "    <tr>\n",
                            "      <th>17073</th>\n",
                            "      <td>73</td>\n",
                            "      <td>[46160, 219424, 236]</td>\n",
                            "      <td>[46784, 219520, 189]</td>\n",
                            "      <td>glia</td>\n",
                            "    </tr>\n",
                            "    <tr>\n",
                            "      <th>17074</th>\n",
                            "      <td>74</td>\n",
                            "      <td>[53904, 220144, 1319]</td>\n",
                            "      <td>[54576, 220320, 1361]</td>\n",
                            "      <td>0</td>\n",
                            "    </tr>\n",
                            "    <tr>\n",
                            "      <th>17075</th>\n",
                            "      <td>75</td>\n",
                            "      <td>[52944, 220960, 1090]</td>\n",
                            "      <td>[53968, 221312, 1098]</td>\n",
                            "      <td>false_positive</td>\n",
                            "    </tr>\n",
                            "  </tbody>\n",
                            "</table>\n",
                            "<p>17076 rows × 4 columns</p>\n",
                            "</div>"
                        ],
                        "text/plain": [
                            "       index          anno_points_A          anno_points_B       anno_tags\n",
                            "0          0   [38272, 74224, 1954]   [39072, 73456, 1921]  false_positive\n",
                            "1          1   [32752, 74304, 1739]   [33056, 73984, 1788]  false_positive\n",
                            "2          2   [31296, 74672, 1492]   [31200, 74928, 1530]  false_positive\n",
                            "3          3   [33440, 74896, 1797]   [33968, 74928, 1892]               0\n",
                            "4          4   [33680, 75136, 1796]   [33744, 75200, 1787]               0\n",
                            "...      ...                    ...                    ...             ...\n",
                            "17071     71   [42000, 218880, 279]   [42336, 219392, 312]               0\n",
                            "17072     72  [58736, 219120, 1143]  [58288, 218736, 1101]  false_positive\n",
                            "17073     73   [46160, 219424, 236]   [46784, 219520, 189]            glia\n",
                            "17074     74  [53904, 220144, 1319]  [54576, 220320, 1361]               0\n",
                            "17075     75  [52944, 220960, 1090]  [53968, 221312, 1098]  false_positive\n",
                            "\n",
                            "[17076 rows x 4 columns]"
                        ]
                    },
                    "metadata": {},
                    "execution_count": 100
                }
            ],
            "metadata": {}
        },
        {
            "cell_type": "code",
            "execution_count": 107,
            "source": [
                "print('neuron are {}'.format(sum(df_new['anno_tags']=='neuron')))\n",
                "print('glia are {}'.format(sum(df_new['anno_tags']=='glia')))\n",
                "print('false_positive are {}'.format(sum(df_new['anno_tags']=='false_positive')))\n",
                "print('come_back_to_me_later are {}'.format(sum(df_new['anno_tags']==0)))"
            ],
            "outputs": [
                {
                    "output_type": "stream",
                    "name": "stdout",
                    "text": [
                        "neuron are 10499\n",
                        "glia are 1010\n",
                        "false_positive are 389\n",
                        "come_back_to_me_later are 5178\n"
                    ]
                }
            ],
            "metadata": {}
        },
        {
            "cell_type": "code",
            "execution_count": 111,
            "source": [
                "df_new.drop(\"index\", axis=1).to_csv('../Output/1st_proofread_extracted.csv', index=False)"
            ],
            "outputs": [],
            "metadata": {}
        },
        {
            "cell_type": "code",
            "execution_count": 112,
            "source": [
                "df_new = pd.read_csv(\"../Output/1st_proofread_extracted.csv\", header=0)"
            ],
            "outputs": [],
            "metadata": {}
        },
        {
            "cell_type": "code",
            "execution_count": 113,
            "source": [
                "df_new"
            ],
            "outputs": [
                {
                    "output_type": "execute_result",
                    "data": {
                        "text/html": [
                            "<div>\n",
                            "<style scoped>\n",
                            "    .dataframe tbody tr th:only-of-type {\n",
                            "        vertical-align: middle;\n",
                            "    }\n",
                            "\n",
                            "    .dataframe tbody tr th {\n",
                            "        vertical-align: top;\n",
                            "    }\n",
                            "\n",
                            "    .dataframe thead th {\n",
                            "        text-align: right;\n",
                            "    }\n",
                            "</style>\n",
                            "<table border=\"1\" class=\"dataframe\">\n",
                            "  <thead>\n",
                            "    <tr style=\"text-align: right;\">\n",
                            "      <th></th>\n",
                            "      <th>anno_points_A</th>\n",
                            "      <th>anno_points_B</th>\n",
                            "      <th>anno_tags</th>\n",
                            "    </tr>\n",
                            "  </thead>\n",
                            "  <tbody>\n",
                            "    <tr>\n",
                            "      <th>0</th>\n",
                            "      <td>[38272, 74224, 1954]</td>\n",
                            "      <td>[39072, 73456, 1921]</td>\n",
                            "      <td>false_positive</td>\n",
                            "    </tr>\n",
                            "    <tr>\n",
                            "      <th>1</th>\n",
                            "      <td>[32752, 74304, 1739]</td>\n",
                            "      <td>[33056, 73984, 1788]</td>\n",
                            "      <td>false_positive</td>\n",
                            "    </tr>\n",
                            "    <tr>\n",
                            "      <th>2</th>\n",
                            "      <td>[31296, 74672, 1492]</td>\n",
                            "      <td>[31200, 74928, 1530]</td>\n",
                            "      <td>false_positive</td>\n",
                            "    </tr>\n",
                            "    <tr>\n",
                            "      <th>3</th>\n",
                            "      <td>[33440, 74896, 1797]</td>\n",
                            "      <td>[33968, 74928, 1892]</td>\n",
                            "      <td>0</td>\n",
                            "    </tr>\n",
                            "    <tr>\n",
                            "      <th>4</th>\n",
                            "      <td>[33680, 75136, 1796]</td>\n",
                            "      <td>[33744, 75200, 1787]</td>\n",
                            "      <td>0</td>\n",
                            "    </tr>\n",
                            "    <tr>\n",
                            "      <th>...</th>\n",
                            "      <td>...</td>\n",
                            "      <td>...</td>\n",
                            "      <td>...</td>\n",
                            "    </tr>\n",
                            "    <tr>\n",
                            "      <th>17071</th>\n",
                            "      <td>[42000, 218880, 279]</td>\n",
                            "      <td>[42336, 219392, 312]</td>\n",
                            "      <td>0</td>\n",
                            "    </tr>\n",
                            "    <tr>\n",
                            "      <th>17072</th>\n",
                            "      <td>[58736, 219120, 1143]</td>\n",
                            "      <td>[58288, 218736, 1101]</td>\n",
                            "      <td>false_positive</td>\n",
                            "    </tr>\n",
                            "    <tr>\n",
                            "      <th>17073</th>\n",
                            "      <td>[46160, 219424, 236]</td>\n",
                            "      <td>[46784, 219520, 189]</td>\n",
                            "      <td>glia</td>\n",
                            "    </tr>\n",
                            "    <tr>\n",
                            "      <th>17074</th>\n",
                            "      <td>[53904, 220144, 1319]</td>\n",
                            "      <td>[54576, 220320, 1361]</td>\n",
                            "      <td>0</td>\n",
                            "    </tr>\n",
                            "    <tr>\n",
                            "      <th>17075</th>\n",
                            "      <td>[52944, 220960, 1090]</td>\n",
                            "      <td>[53968, 221312, 1098]</td>\n",
                            "      <td>false_positive</td>\n",
                            "    </tr>\n",
                            "  </tbody>\n",
                            "</table>\n",
                            "<p>17076 rows × 3 columns</p>\n",
                            "</div>"
                        ],
                        "text/plain": [
                            "               anno_points_A          anno_points_B       anno_tags\n",
                            "0       [38272, 74224, 1954]   [39072, 73456, 1921]  false_positive\n",
                            "1       [32752, 74304, 1739]   [33056, 73984, 1788]  false_positive\n",
                            "2       [31296, 74672, 1492]   [31200, 74928, 1530]  false_positive\n",
                            "3       [33440, 74896, 1797]   [33968, 74928, 1892]               0\n",
                            "4       [33680, 75136, 1796]   [33744, 75200, 1787]               0\n",
                            "...                      ...                    ...             ...\n",
                            "17071   [42000, 218880, 279]   [42336, 219392, 312]               0\n",
                            "17072  [58736, 219120, 1143]  [58288, 218736, 1101]  false_positive\n",
                            "17073   [46160, 219424, 236]   [46784, 219520, 189]            glia\n",
                            "17074  [53904, 220144, 1319]  [54576, 220320, 1361]               0\n",
                            "17075  [52944, 220960, 1090]  [53968, 221312, 1098]  false_positive\n",
                            "\n",
                            "[17076 rows x 3 columns]"
                        ]
                    },
                    "metadata": {},
                    "execution_count": 113
                }
            ],
            "metadata": {}
        },
        {
            "cell_type": "code",
            "execution_count": null,
            "source": [],
            "outputs": [],
            "metadata": {}
        },
        {
            "cell_type": "code",
            "execution_count": 120,
            "source": [
                "df_new2 = df_new[df_new['anno_tags']=='0']\n",
                "\n",
                "xyz_df = df_new2.reindex(columns=['anno_points_A', 'anno_points_B'])\n",
                "nuc_xyz_df = df_new2['anno_points_A'].str.strip('()').str.split(',',expand=True)\n",
                "soma_xyz_df = df_new2['anno_points_B'].str.strip('()').str.split(',',expand=True)\n",
                "xyz_df['anno_points_A'] = nuc_xyz_df.astype(int).values.tolist()\n",
                "xyz_df['anno_points_B'] = soma_xyz_df.astype(int).values.tolist()"
            ],
            "outputs": [
                {
                    "output_type": "error",
                    "ename": "ValueError",
                    "evalue": "invalid literal for int() with base 10: '[33440'",
                    "traceback": [
                        "\u001b[0;31m---------------------------------------------------------------------------\u001b[0m",
                        "\u001b[0;31mValueError\u001b[0m                                Traceback (most recent call last)",
                        "\u001b[0;32m/var/folders/5s/yxy9_m251rx1_rpqxp3ls_yc0000gn/T/ipykernel_1615/407041965.py\u001b[0m in \u001b[0;36m<module>\u001b[0;34m\u001b[0m\n\u001b[1;32m      4\u001b[0m \u001b[0mnuc_xyz_df\u001b[0m \u001b[0;34m=\u001b[0m \u001b[0mdf_new2\u001b[0m\u001b[0;34m[\u001b[0m\u001b[0;34m'anno_points_A'\u001b[0m\u001b[0;34m]\u001b[0m\u001b[0;34m.\u001b[0m\u001b[0mstr\u001b[0m\u001b[0;34m.\u001b[0m\u001b[0mstrip\u001b[0m\u001b[0;34m(\u001b[0m\u001b[0;34m'()'\u001b[0m\u001b[0;34m)\u001b[0m\u001b[0;34m.\u001b[0m\u001b[0mstr\u001b[0m\u001b[0;34m.\u001b[0m\u001b[0msplit\u001b[0m\u001b[0;34m(\u001b[0m\u001b[0;34m','\u001b[0m\u001b[0;34m,\u001b[0m\u001b[0mexpand\u001b[0m\u001b[0;34m=\u001b[0m\u001b[0;32mTrue\u001b[0m\u001b[0;34m)\u001b[0m\u001b[0;34m\u001b[0m\u001b[0;34m\u001b[0m\u001b[0m\n\u001b[1;32m      5\u001b[0m \u001b[0msoma_xyz_df\u001b[0m \u001b[0;34m=\u001b[0m \u001b[0mdf_new2\u001b[0m\u001b[0;34m[\u001b[0m\u001b[0;34m'anno_points_B'\u001b[0m\u001b[0;34m]\u001b[0m\u001b[0;34m.\u001b[0m\u001b[0mstr\u001b[0m\u001b[0;34m.\u001b[0m\u001b[0mstrip\u001b[0m\u001b[0;34m(\u001b[0m\u001b[0;34m'()'\u001b[0m\u001b[0;34m)\u001b[0m\u001b[0;34m.\u001b[0m\u001b[0mstr\u001b[0m\u001b[0;34m.\u001b[0m\u001b[0msplit\u001b[0m\u001b[0;34m(\u001b[0m\u001b[0;34m','\u001b[0m\u001b[0;34m,\u001b[0m\u001b[0mexpand\u001b[0m\u001b[0;34m=\u001b[0m\u001b[0;32mTrue\u001b[0m\u001b[0;34m)\u001b[0m\u001b[0;34m\u001b[0m\u001b[0;34m\u001b[0m\u001b[0m\n\u001b[0;32m----> 6\u001b[0;31m \u001b[0mxyz_df\u001b[0m\u001b[0;34m[\u001b[0m\u001b[0;34m'anno_points_A'\u001b[0m\u001b[0;34m]\u001b[0m \u001b[0;34m=\u001b[0m \u001b[0mnuc_xyz_df\u001b[0m\u001b[0;34m.\u001b[0m\u001b[0mastype\u001b[0m\u001b[0;34m(\u001b[0m\u001b[0mint\u001b[0m\u001b[0;34m)\u001b[0m\u001b[0;34m.\u001b[0m\u001b[0mvalues\u001b[0m\u001b[0;34m.\u001b[0m\u001b[0mtolist\u001b[0m\u001b[0;34m(\u001b[0m\u001b[0;34m)\u001b[0m\u001b[0;34m\u001b[0m\u001b[0;34m\u001b[0m\u001b[0m\n\u001b[0m\u001b[1;32m      7\u001b[0m \u001b[0mxyz_df\u001b[0m\u001b[0;34m[\u001b[0m\u001b[0;34m'anno_points_B'\u001b[0m\u001b[0;34m]\u001b[0m \u001b[0;34m=\u001b[0m \u001b[0msoma_xyz_df\u001b[0m\u001b[0;34m.\u001b[0m\u001b[0mastype\u001b[0m\u001b[0;34m(\u001b[0m\u001b[0mint\u001b[0m\u001b[0;34m)\u001b[0m\u001b[0;34m.\u001b[0m\u001b[0mvalues\u001b[0m\u001b[0;34m.\u001b[0m\u001b[0mtolist\u001b[0m\u001b[0;34m(\u001b[0m\u001b[0;34m)\u001b[0m\u001b[0;34m\u001b[0m\u001b[0;34m\u001b[0m\u001b[0m\n",
                        "\u001b[0;32m~/git/FANC_auto_recon/nuclei/lib/python3.9/site-packages/pandas/core/generic.py\u001b[0m in \u001b[0;36mastype\u001b[0;34m(self, dtype, copy, errors)\u001b[0m\n\u001b[1;32m   5813\u001b[0m         \u001b[0;32melse\u001b[0m\u001b[0;34m:\u001b[0m\u001b[0;34m\u001b[0m\u001b[0;34m\u001b[0m\u001b[0m\n\u001b[1;32m   5814\u001b[0m             \u001b[0;31m# else, only a single dtype is given\u001b[0m\u001b[0;34m\u001b[0m\u001b[0;34m\u001b[0m\u001b[0;34m\u001b[0m\u001b[0m\n\u001b[0;32m-> 5815\u001b[0;31m             \u001b[0mnew_data\u001b[0m \u001b[0;34m=\u001b[0m \u001b[0mself\u001b[0m\u001b[0;34m.\u001b[0m\u001b[0m_mgr\u001b[0m\u001b[0;34m.\u001b[0m\u001b[0mastype\u001b[0m\u001b[0;34m(\u001b[0m\u001b[0mdtype\u001b[0m\u001b[0;34m=\u001b[0m\u001b[0mdtype\u001b[0m\u001b[0;34m,\u001b[0m \u001b[0mcopy\u001b[0m\u001b[0;34m=\u001b[0m\u001b[0mcopy\u001b[0m\u001b[0;34m,\u001b[0m \u001b[0merrors\u001b[0m\u001b[0;34m=\u001b[0m\u001b[0merrors\u001b[0m\u001b[0;34m)\u001b[0m\u001b[0;34m\u001b[0m\u001b[0;34m\u001b[0m\u001b[0m\n\u001b[0m\u001b[1;32m   5816\u001b[0m             \u001b[0;32mreturn\u001b[0m \u001b[0mself\u001b[0m\u001b[0;34m.\u001b[0m\u001b[0m_constructor\u001b[0m\u001b[0;34m(\u001b[0m\u001b[0mnew_data\u001b[0m\u001b[0;34m)\u001b[0m\u001b[0;34m.\u001b[0m\u001b[0m__finalize__\u001b[0m\u001b[0;34m(\u001b[0m\u001b[0mself\u001b[0m\u001b[0;34m,\u001b[0m \u001b[0mmethod\u001b[0m\u001b[0;34m=\u001b[0m\u001b[0;34m\"astype\"\u001b[0m\u001b[0;34m)\u001b[0m\u001b[0;34m\u001b[0m\u001b[0;34m\u001b[0m\u001b[0m\n\u001b[1;32m   5817\u001b[0m \u001b[0;34m\u001b[0m\u001b[0m\n",
                        "\u001b[0;32m~/git/FANC_auto_recon/nuclei/lib/python3.9/site-packages/pandas/core/internals/managers.py\u001b[0m in \u001b[0;36mastype\u001b[0;34m(self, dtype, copy, errors)\u001b[0m\n\u001b[1;32m    416\u001b[0m \u001b[0;34m\u001b[0m\u001b[0m\n\u001b[1;32m    417\u001b[0m     \u001b[0;32mdef\u001b[0m \u001b[0mastype\u001b[0m\u001b[0;34m(\u001b[0m\u001b[0mself\u001b[0m\u001b[0;34m:\u001b[0m \u001b[0mT\u001b[0m\u001b[0;34m,\u001b[0m \u001b[0mdtype\u001b[0m\u001b[0;34m,\u001b[0m \u001b[0mcopy\u001b[0m\u001b[0;34m:\u001b[0m \u001b[0mbool\u001b[0m \u001b[0;34m=\u001b[0m \u001b[0;32mFalse\u001b[0m\u001b[0;34m,\u001b[0m \u001b[0merrors\u001b[0m\u001b[0;34m:\u001b[0m \u001b[0mstr\u001b[0m \u001b[0;34m=\u001b[0m \u001b[0;34m\"raise\"\u001b[0m\u001b[0;34m)\u001b[0m \u001b[0;34m->\u001b[0m \u001b[0mT\u001b[0m\u001b[0;34m:\u001b[0m\u001b[0;34m\u001b[0m\u001b[0;34m\u001b[0m\u001b[0m\n\u001b[0;32m--> 418\u001b[0;31m         \u001b[0;32mreturn\u001b[0m \u001b[0mself\u001b[0m\u001b[0;34m.\u001b[0m\u001b[0mapply\u001b[0m\u001b[0;34m(\u001b[0m\u001b[0;34m\"astype\"\u001b[0m\u001b[0;34m,\u001b[0m \u001b[0mdtype\u001b[0m\u001b[0;34m=\u001b[0m\u001b[0mdtype\u001b[0m\u001b[0;34m,\u001b[0m \u001b[0mcopy\u001b[0m\u001b[0;34m=\u001b[0m\u001b[0mcopy\u001b[0m\u001b[0;34m,\u001b[0m \u001b[0merrors\u001b[0m\u001b[0;34m=\u001b[0m\u001b[0merrors\u001b[0m\u001b[0;34m)\u001b[0m\u001b[0;34m\u001b[0m\u001b[0;34m\u001b[0m\u001b[0m\n\u001b[0m\u001b[1;32m    419\u001b[0m \u001b[0;34m\u001b[0m\u001b[0m\n\u001b[1;32m    420\u001b[0m     def convert(\n",
                        "\u001b[0;32m~/git/FANC_auto_recon/nuclei/lib/python3.9/site-packages/pandas/core/internals/managers.py\u001b[0m in \u001b[0;36mapply\u001b[0;34m(self, f, align_keys, ignore_failures, **kwargs)\u001b[0m\n\u001b[1;32m    325\u001b[0m                     \u001b[0mapplied\u001b[0m \u001b[0;34m=\u001b[0m \u001b[0mb\u001b[0m\u001b[0;34m.\u001b[0m\u001b[0mapply\u001b[0m\u001b[0;34m(\u001b[0m\u001b[0mf\u001b[0m\u001b[0;34m,\u001b[0m \u001b[0;34m**\u001b[0m\u001b[0mkwargs\u001b[0m\u001b[0;34m)\u001b[0m\u001b[0;34m\u001b[0m\u001b[0;34m\u001b[0m\u001b[0m\n\u001b[1;32m    326\u001b[0m                 \u001b[0;32melse\u001b[0m\u001b[0;34m:\u001b[0m\u001b[0;34m\u001b[0m\u001b[0;34m\u001b[0m\u001b[0m\n\u001b[0;32m--> 327\u001b[0;31m                     \u001b[0mapplied\u001b[0m \u001b[0;34m=\u001b[0m \u001b[0mgetattr\u001b[0m\u001b[0;34m(\u001b[0m\u001b[0mb\u001b[0m\u001b[0;34m,\u001b[0m \u001b[0mf\u001b[0m\u001b[0;34m)\u001b[0m\u001b[0;34m(\u001b[0m\u001b[0;34m**\u001b[0m\u001b[0mkwargs\u001b[0m\u001b[0;34m)\u001b[0m\u001b[0;34m\u001b[0m\u001b[0;34m\u001b[0m\u001b[0m\n\u001b[0m\u001b[1;32m    328\u001b[0m             \u001b[0;32mexcept\u001b[0m \u001b[0;34m(\u001b[0m\u001b[0mTypeError\u001b[0m\u001b[0;34m,\u001b[0m \u001b[0mNotImplementedError\u001b[0m\u001b[0;34m)\u001b[0m\u001b[0;34m:\u001b[0m\u001b[0;34m\u001b[0m\u001b[0;34m\u001b[0m\u001b[0m\n\u001b[1;32m    329\u001b[0m                 \u001b[0;32mif\u001b[0m \u001b[0;32mnot\u001b[0m \u001b[0mignore_failures\u001b[0m\u001b[0;34m:\u001b[0m\u001b[0;34m\u001b[0m\u001b[0;34m\u001b[0m\u001b[0m\n",
                        "\u001b[0;32m~/git/FANC_auto_recon/nuclei/lib/python3.9/site-packages/pandas/core/internals/blocks.py\u001b[0m in \u001b[0;36mastype\u001b[0;34m(self, dtype, copy, errors)\u001b[0m\n\u001b[1;32m    590\u001b[0m         \u001b[0mvalues\u001b[0m \u001b[0;34m=\u001b[0m \u001b[0mself\u001b[0m\u001b[0;34m.\u001b[0m\u001b[0mvalues\u001b[0m\u001b[0;34m\u001b[0m\u001b[0;34m\u001b[0m\u001b[0m\n\u001b[1;32m    591\u001b[0m \u001b[0;34m\u001b[0m\u001b[0m\n\u001b[0;32m--> 592\u001b[0;31m         \u001b[0mnew_values\u001b[0m \u001b[0;34m=\u001b[0m \u001b[0mastype_array_safe\u001b[0m\u001b[0;34m(\u001b[0m\u001b[0mvalues\u001b[0m\u001b[0;34m,\u001b[0m \u001b[0mdtype\u001b[0m\u001b[0;34m,\u001b[0m \u001b[0mcopy\u001b[0m\u001b[0;34m=\u001b[0m\u001b[0mcopy\u001b[0m\u001b[0;34m,\u001b[0m \u001b[0merrors\u001b[0m\u001b[0;34m=\u001b[0m\u001b[0merrors\u001b[0m\u001b[0;34m)\u001b[0m\u001b[0;34m\u001b[0m\u001b[0;34m\u001b[0m\u001b[0m\n\u001b[0m\u001b[1;32m    593\u001b[0m \u001b[0;34m\u001b[0m\u001b[0m\n\u001b[1;32m    594\u001b[0m         \u001b[0mnew_values\u001b[0m \u001b[0;34m=\u001b[0m \u001b[0mmaybe_coerce_values\u001b[0m\u001b[0;34m(\u001b[0m\u001b[0mnew_values\u001b[0m\u001b[0;34m)\u001b[0m\u001b[0;34m\u001b[0m\u001b[0;34m\u001b[0m\u001b[0m\n",
                        "\u001b[0;32m~/git/FANC_auto_recon/nuclei/lib/python3.9/site-packages/pandas/core/dtypes/cast.py\u001b[0m in \u001b[0;36mastype_array_safe\u001b[0;34m(values, dtype, copy, errors)\u001b[0m\n\u001b[1;32m   1307\u001b[0m \u001b[0;34m\u001b[0m\u001b[0m\n\u001b[1;32m   1308\u001b[0m     \u001b[0;32mtry\u001b[0m\u001b[0;34m:\u001b[0m\u001b[0;34m\u001b[0m\u001b[0;34m\u001b[0m\u001b[0m\n\u001b[0;32m-> 1309\u001b[0;31m         \u001b[0mnew_values\u001b[0m \u001b[0;34m=\u001b[0m \u001b[0mastype_array\u001b[0m\u001b[0;34m(\u001b[0m\u001b[0mvalues\u001b[0m\u001b[0;34m,\u001b[0m \u001b[0mdtype\u001b[0m\u001b[0;34m,\u001b[0m \u001b[0mcopy\u001b[0m\u001b[0;34m=\u001b[0m\u001b[0mcopy\u001b[0m\u001b[0;34m)\u001b[0m\u001b[0;34m\u001b[0m\u001b[0;34m\u001b[0m\u001b[0m\n\u001b[0m\u001b[1;32m   1310\u001b[0m     \u001b[0;32mexcept\u001b[0m \u001b[0;34m(\u001b[0m\u001b[0mValueError\u001b[0m\u001b[0;34m,\u001b[0m \u001b[0mTypeError\u001b[0m\u001b[0;34m)\u001b[0m\u001b[0;34m:\u001b[0m\u001b[0;34m\u001b[0m\u001b[0;34m\u001b[0m\u001b[0m\n\u001b[1;32m   1311\u001b[0m         \u001b[0;31m# e.g. astype_nansafe can fail on object-dtype of strings\u001b[0m\u001b[0;34m\u001b[0m\u001b[0;34m\u001b[0m\u001b[0;34m\u001b[0m\u001b[0m\n",
                        "\u001b[0;32m~/git/FANC_auto_recon/nuclei/lib/python3.9/site-packages/pandas/core/dtypes/cast.py\u001b[0m in \u001b[0;36mastype_array\u001b[0;34m(values, dtype, copy)\u001b[0m\n\u001b[1;32m   1255\u001b[0m \u001b[0;34m\u001b[0m\u001b[0m\n\u001b[1;32m   1256\u001b[0m     \u001b[0;32melse\u001b[0m\u001b[0;34m:\u001b[0m\u001b[0;34m\u001b[0m\u001b[0;34m\u001b[0m\u001b[0m\n\u001b[0;32m-> 1257\u001b[0;31m         \u001b[0mvalues\u001b[0m \u001b[0;34m=\u001b[0m \u001b[0mastype_nansafe\u001b[0m\u001b[0;34m(\u001b[0m\u001b[0mvalues\u001b[0m\u001b[0;34m,\u001b[0m \u001b[0mdtype\u001b[0m\u001b[0;34m,\u001b[0m \u001b[0mcopy\u001b[0m\u001b[0;34m=\u001b[0m\u001b[0mcopy\u001b[0m\u001b[0;34m)\u001b[0m\u001b[0;34m\u001b[0m\u001b[0;34m\u001b[0m\u001b[0m\n\u001b[0m\u001b[1;32m   1258\u001b[0m \u001b[0;34m\u001b[0m\u001b[0m\n\u001b[1;32m   1259\u001b[0m     \u001b[0;31m# in pandas we don't store numpy str dtypes, so convert to object\u001b[0m\u001b[0;34m\u001b[0m\u001b[0;34m\u001b[0m\u001b[0;34m\u001b[0m\u001b[0m\n",
                        "\u001b[0;32m~/git/FANC_auto_recon/nuclei/lib/python3.9/site-packages/pandas/core/dtypes/cast.py\u001b[0m in \u001b[0;36mastype_nansafe\u001b[0;34m(arr, dtype, copy, skipna)\u001b[0m\n\u001b[1;32m   1093\u001b[0m     \u001b[0;32mif\u001b[0m \u001b[0marr\u001b[0m\u001b[0;34m.\u001b[0m\u001b[0mndim\u001b[0m \u001b[0;34m>\u001b[0m \u001b[0;36m1\u001b[0m\u001b[0;34m:\u001b[0m\u001b[0;34m\u001b[0m\u001b[0;34m\u001b[0m\u001b[0m\n\u001b[1;32m   1094\u001b[0m         \u001b[0mflat\u001b[0m \u001b[0;34m=\u001b[0m \u001b[0marr\u001b[0m\u001b[0;34m.\u001b[0m\u001b[0mravel\u001b[0m\u001b[0;34m(\u001b[0m\u001b[0;34m)\u001b[0m\u001b[0;34m\u001b[0m\u001b[0;34m\u001b[0m\u001b[0m\n\u001b[0;32m-> 1095\u001b[0;31m         \u001b[0mresult\u001b[0m \u001b[0;34m=\u001b[0m \u001b[0mastype_nansafe\u001b[0m\u001b[0;34m(\u001b[0m\u001b[0mflat\u001b[0m\u001b[0;34m,\u001b[0m \u001b[0mdtype\u001b[0m\u001b[0;34m,\u001b[0m \u001b[0mcopy\u001b[0m\u001b[0;34m=\u001b[0m\u001b[0mcopy\u001b[0m\u001b[0;34m,\u001b[0m \u001b[0mskipna\u001b[0m\u001b[0;34m=\u001b[0m\u001b[0mskipna\u001b[0m\u001b[0;34m)\u001b[0m\u001b[0;34m\u001b[0m\u001b[0;34m\u001b[0m\u001b[0m\n\u001b[0m\u001b[1;32m   1096\u001b[0m         \u001b[0;31m# error: Item \"ExtensionArray\" of \"Union[ExtensionArray, ndarray]\" has no\u001b[0m\u001b[0;34m\u001b[0m\u001b[0;34m\u001b[0m\u001b[0;34m\u001b[0m\u001b[0m\n\u001b[1;32m   1097\u001b[0m         \u001b[0;31m# attribute \"reshape\"\u001b[0m\u001b[0;34m\u001b[0m\u001b[0;34m\u001b[0m\u001b[0;34m\u001b[0m\u001b[0m\n",
                        "\u001b[0;32m~/git/FANC_auto_recon/nuclei/lib/python3.9/site-packages/pandas/core/dtypes/cast.py\u001b[0m in \u001b[0;36mastype_nansafe\u001b[0;34m(arr, dtype, copy, skipna)\u001b[0m\n\u001b[1;32m   1172\u001b[0m         \u001b[0;31m# work around NumPy brokenness, #1987\u001b[0m\u001b[0;34m\u001b[0m\u001b[0;34m\u001b[0m\u001b[0;34m\u001b[0m\u001b[0m\n\u001b[1;32m   1173\u001b[0m         \u001b[0;32mif\u001b[0m \u001b[0mnp\u001b[0m\u001b[0;34m.\u001b[0m\u001b[0missubdtype\u001b[0m\u001b[0;34m(\u001b[0m\u001b[0mdtype\u001b[0m\u001b[0;34m.\u001b[0m\u001b[0mtype\u001b[0m\u001b[0;34m,\u001b[0m \u001b[0mnp\u001b[0m\u001b[0;34m.\u001b[0m\u001b[0minteger\u001b[0m\u001b[0;34m)\u001b[0m\u001b[0;34m:\u001b[0m\u001b[0;34m\u001b[0m\u001b[0;34m\u001b[0m\u001b[0m\n\u001b[0;32m-> 1174\u001b[0;31m             \u001b[0;32mreturn\u001b[0m \u001b[0mlib\u001b[0m\u001b[0;34m.\u001b[0m\u001b[0mastype_intsafe\u001b[0m\u001b[0;34m(\u001b[0m\u001b[0marr\u001b[0m\u001b[0;34m,\u001b[0m \u001b[0mdtype\u001b[0m\u001b[0;34m)\u001b[0m\u001b[0;34m\u001b[0m\u001b[0;34m\u001b[0m\u001b[0m\n\u001b[0m\u001b[1;32m   1175\u001b[0m \u001b[0;34m\u001b[0m\u001b[0m\n\u001b[1;32m   1176\u001b[0m         \u001b[0;31m# if we have a datetime/timedelta array of objects\u001b[0m\u001b[0;34m\u001b[0m\u001b[0;34m\u001b[0m\u001b[0;34m\u001b[0m\u001b[0m\n",
                        "\u001b[0;32m~/git/FANC_auto_recon/nuclei/lib/python3.9/site-packages/pandas/_libs/lib.pyx\u001b[0m in \u001b[0;36mpandas._libs.lib.astype_intsafe\u001b[0;34m()\u001b[0m\n",
                        "\u001b[0;31mValueError\u001b[0m: invalid literal for int() with base 10: '[33440'"
                    ]
                }
            ],
            "metadata": {}
        },
        {
            "cell_type": "code",
            "execution_count": 115,
            "source": [
                "xyz_df"
            ],
            "outputs": [
                {
                    "output_type": "execute_result",
                    "data": {
                        "text/html": [
                            "<div>\n",
                            "<style scoped>\n",
                            "    .dataframe tbody tr th:only-of-type {\n",
                            "        vertical-align: middle;\n",
                            "    }\n",
                            "\n",
                            "    .dataframe tbody tr th {\n",
                            "        vertical-align: top;\n",
                            "    }\n",
                            "\n",
                            "    .dataframe thead th {\n",
                            "        text-align: right;\n",
                            "    }\n",
                            "</style>\n",
                            "<table border=\"1\" class=\"dataframe\">\n",
                            "  <thead>\n",
                            "    <tr style=\"text-align: right;\">\n",
                            "      <th></th>\n",
                            "      <th>anno_points_A</th>\n",
                            "      <th>anno_points_B</th>\n",
                            "    </tr>\n",
                            "  </thead>\n",
                            "  <tbody>\n",
                            "  </tbody>\n",
                            "</table>\n",
                            "</div>"
                        ],
                        "text/plain": [
                            "Empty DataFrame\n",
                            "Columns: [anno_points_A, anno_points_B]\n",
                            "Index: []"
                        ]
                    },
                    "metadata": {},
                    "execution_count": 115
                }
            ],
            "metadata": {}
        },
        {
            "cell_type": "code",
            "execution_count": 119,
            "source": [
                "df_new[df_new['anno_tags']=='0']"
            ],
            "outputs": [
                {
                    "output_type": "execute_result",
                    "data": {
                        "text/html": [
                            "<div>\n",
                            "<style scoped>\n",
                            "    .dataframe tbody tr th:only-of-type {\n",
                            "        vertical-align: middle;\n",
                            "    }\n",
                            "\n",
                            "    .dataframe tbody tr th {\n",
                            "        vertical-align: top;\n",
                            "    }\n",
                            "\n",
                            "    .dataframe thead th {\n",
                            "        text-align: right;\n",
                            "    }\n",
                            "</style>\n",
                            "<table border=\"1\" class=\"dataframe\">\n",
                            "  <thead>\n",
                            "    <tr style=\"text-align: right;\">\n",
                            "      <th></th>\n",
                            "      <th>anno_points_A</th>\n",
                            "      <th>anno_points_B</th>\n",
                            "      <th>anno_tags</th>\n",
                            "    </tr>\n",
                            "  </thead>\n",
                            "  <tbody>\n",
                            "    <tr>\n",
                            "      <th>3</th>\n",
                            "      <td>[33440, 74896, 1797]</td>\n",
                            "      <td>[33968, 74928, 1892]</td>\n",
                            "      <td>0</td>\n",
                            "    </tr>\n",
                            "    <tr>\n",
                            "      <th>4</th>\n",
                            "      <td>[33680, 75136, 1796]</td>\n",
                            "      <td>[33744, 75200, 1787]</td>\n",
                            "      <td>0</td>\n",
                            "    </tr>\n",
                            "    <tr>\n",
                            "      <th>28</th>\n",
                            "      <td>[33168, 77808, 1953]</td>\n",
                            "      <td>[32992, 78384, 1909]</td>\n",
                            "      <td>0</td>\n",
                            "    </tr>\n",
                            "    <tr>\n",
                            "      <th>31</th>\n",
                            "      <td>[32528, 78240, 2043]</td>\n",
                            "      <td>[33360, 78384, 2028]</td>\n",
                            "      <td>0</td>\n",
                            "    </tr>\n",
                            "    <tr>\n",
                            "      <th>41</th>\n",
                            "      <td>[32608, 78896, 1959]</td>\n",
                            "      <td>[33312, 79008, 1911]</td>\n",
                            "      <td>0</td>\n",
                            "    </tr>\n",
                            "    <tr>\n",
                            "      <th>...</th>\n",
                            "      <td>...</td>\n",
                            "      <td>...</td>\n",
                            "      <td>...</td>\n",
                            "    </tr>\n",
                            "    <tr>\n",
                            "      <th>17066</th>\n",
                            "      <td>[53152, 218432, 139]</td>\n",
                            "      <td>[53216, 217600, 235]</td>\n",
                            "      <td>0</td>\n",
                            "    </tr>\n",
                            "    <tr>\n",
                            "      <th>17067</th>\n",
                            "      <td>[51952, 218496, 401]</td>\n",
                            "      <td>[52272, 218560, 373]</td>\n",
                            "      <td>0</td>\n",
                            "    </tr>\n",
                            "    <tr>\n",
                            "      <th>17068</th>\n",
                            "      <td>[49024, 218576, 516]</td>\n",
                            "      <td>[49520, 218560, 486]</td>\n",
                            "      <td>0</td>\n",
                            "    </tr>\n",
                            "    <tr>\n",
                            "      <th>17071</th>\n",
                            "      <td>[42000, 218880, 279]</td>\n",
                            "      <td>[42336, 219392, 312]</td>\n",
                            "      <td>0</td>\n",
                            "    </tr>\n",
                            "    <tr>\n",
                            "      <th>17074</th>\n",
                            "      <td>[53904, 220144, 1319]</td>\n",
                            "      <td>[54576, 220320, 1361]</td>\n",
                            "      <td>0</td>\n",
                            "    </tr>\n",
                            "  </tbody>\n",
                            "</table>\n",
                            "<p>5178 rows × 3 columns</p>\n",
                            "</div>"
                        ],
                        "text/plain": [
                            "               anno_points_A          anno_points_B anno_tags\n",
                            "3       [33440, 74896, 1797]   [33968, 74928, 1892]         0\n",
                            "4       [33680, 75136, 1796]   [33744, 75200, 1787]         0\n",
                            "28      [33168, 77808, 1953]   [32992, 78384, 1909]         0\n",
                            "31      [32528, 78240, 2043]   [33360, 78384, 2028]         0\n",
                            "41      [32608, 78896, 1959]   [33312, 79008, 1911]         0\n",
                            "...                      ...                    ...       ...\n",
                            "17066   [53152, 218432, 139]   [53216, 217600, 235]         0\n",
                            "17067   [51952, 218496, 401]   [52272, 218560, 373]         0\n",
                            "17068   [49024, 218576, 516]   [49520, 218560, 486]         0\n",
                            "17071   [42000, 218880, 279]   [42336, 219392, 312]         0\n",
                            "17074  [53904, 220144, 1319]  [54576, 220320, 1361]         0\n",
                            "\n",
                            "[5178 rows x 3 columns]"
                        ]
                    },
                    "metadata": {},
                    "execution_count": 119
                }
            ],
            "metadata": {}
        },
        {
            "cell_type": "code",
            "execution_count": null,
            "source": [],
            "outputs": [],
            "metadata": {}
        },
        {
            "cell_type": "code",
            "execution_count": null,
            "source": [
                "for i in range(len(out)):\n",
                "    segidi = out['Seg ID'].values[i]\n",
                "    if int(segidi) in progress['latest Seg ID'].values:\n",
                "        matched = progress.loc[progress['latest Seg ID'] == int(segidi)]\n",
                "        matched2 = matched.dropna(subset=column_name[3:8],how='all') # remove rows I haven't proofread yet\n",
                "        matched3 = pd.DataFrame(matched2)\n",
                "        if len(matched3) > 0:\n",
                "            last_matched = matched3.iloc[-1,:]\n",
                "            notes = matched2[column_name[7]].str.cat(sep=', ')\n",
                "            out.loc[i,column_name[3:8]] = last_matched.loc[column_name[3:8]]\n",
                "            out.at[out.index[i],column_name[2]] = str(last_matched.saving_pt).strip(\"''\")\n",
                "            out.at[out.index[i],column_name[7]] = notes"
            ],
            "outputs": [],
            "metadata": {}
        }
    ],
    "metadata": {
        "orig_nbformat": 4,
        "language_info": {
            "name": "python",
            "version": "3.9.6",
            "mimetype": "text/x-python",
            "codemirror_mode": {
                "name": "ipython",
                "version": 3
            },
            "pygments_lexer": "ipython3",
            "nbconvert_exporter": "python",
            "file_extension": ".py"
        },
        "kernelspec": {
            "name": "python3",
            "display_name": "Python 3.9.6 64-bit ('nuclei': venv)"
        },
        "interpreter": {
            "hash": "2f8bd4940588abb561ec8a21652acdfb236931ee8d62ff047ac85f739f53aa56"
        }
    },
    "nbformat": 4,
    "nbformat_minor": 2
}