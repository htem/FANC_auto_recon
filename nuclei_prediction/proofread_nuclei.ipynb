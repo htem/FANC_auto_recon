{
    "cells": [
        {
            "cell_type": "markdown",
            "source": [
                "# Proofread_nuclei"
            ],
            "metadata": {}
        },
        {
            "cell_type": "code",
            "execution_count": 1,
            "source": [
                "# libraries 1\n",
                "import numpy as np\n",
                "import pyperclip\n",
                "import pandas as pd\n",
                "import pyperclip\n",
                "from cloudvolume import CloudVolume, view, Bbox\n",
                "from nglui import statebuilder,annotation,easyviewer,parser\n",
                "from nglui.statebuilder import *\n",
                "from nglui.nglite import *\n",
                "import json\n",
                "\n",
                "import sys\n",
                "import os\n",
                "from datetime import datetime\n",
                "from caveclient import CAVEclient\n",
                "\n",
                "sys.path.append(os.path.abspath(\"../segmentation\"))\n",
                "import authentication_utils as auth\n",
                "import rootID_lookup as IDlook\n",
                "sys.path.append(os.path.abspath(\"../synapses\"))\n",
                "import connectivity_utils"
            ],
            "outputs": [],
            "metadata": {}
        },
        {
            "cell_type": "code",
            "execution_count": 2,
            "source": [
                "datastack_name = 'fanc_production_mar2021'\n",
                "client = CAVEclient(datastack_name)"
            ],
            "outputs": [],
            "metadata": {}
        },
        {
            "cell_type": "code",
            "execution_count": 3,
            "source": [
                "df = pd.read_csv('../Output/soma_info_Aug2021ver5.csv', header=0)"
            ],
            "outputs": [],
            "metadata": {}
        },
        {
            "cell_type": "markdown",
            "source": [
                "## Create links for proofreading nuclei/somas\n",
                "\n",
                "Good example: https://github.com/seung-lab/NeuroglancerAnnotationUI/blob/master/examples/statebuilder_examples.ipynb"
            ],
            "metadata": {}
        },
        {
            "cell_type": "code",
            "execution_count": null,
            "source": [
                "# we only need xyz for nuclei/somas..., and make them into lines\n",
                "xyz_df = df.reindex(columns=['nuc_xyz', 'soma_xyz'])\n",
                "nuc_xyz_df = df['nuc_xyz'].str.strip('()').str.split(',',expand=True)\n",
                "soma_xyz_df = df['soma_xyz'].str.strip('()').str.split(',',expand=True)\n",
                "xyz_df['nuc_xyz'] = nuc_xyz_df.astype(int).values.tolist()\n",
                "xyz_df['soma_xyz'] = soma_xyz_df.astype(int).values.tolist()"
            ],
            "outputs": [],
            "metadata": {}
        },
        {
            "cell_type": "code",
            "execution_count": null,
            "source": [
                "nuc_xyz_df = nuc_xyz_df.set_axis(['Col_x', 'Col_y', 'Col_z'], axis=1)\n",
                "sorted_z = nuc_xyz_df.astype(int).sort_values(by=['Col_z'], ascending=True)\n",
                "sorted_xz = sorted_z.astype(int).sort_values(by=['Col_x'], ascending=True)\n",
                "sorted_indices = sorted_xz.astype(int).sort_values(by=['Col_y'], ascending=True).index\n",
                "xyz_df = xyz_df.reindex(sorted_indices).reset_index(drop=True)"
            ],
            "outputs": [],
            "metadata": {}
        },
        {
            "cell_type": "code",
            "execution_count": null,
            "source": [
                "# ..., and make them into lines\n",
                "lines = LineMapper(point_column_a='nuc_xyz', point_column_b='soma_xyz')"
            ],
            "outputs": [],
            "metadata": {}
        },
        {
            "cell_type": "code",
            "execution_count": null,
            "source": [
                "# make Neuroglancer link\n",
                "imgTokyo = ImageLayerConfig(name = 'FANCv4-jp',\n",
                "                                    source = auth.get_cv_path('Image_Tokyo')['url'])\n",
                "img = ImageLayerConfig(name = 'FANCv4',\n",
                "                                    source = auth.get_cv_path('Image')['url'])\n",
                "seg = SegmentationLayerConfig(name = 'seg_Mar2021_proofreading',\n",
                "                                    source = auth.get_cv_path('FANC_production_segmentation')['url'])     \n",
                "nuc_Aug = ImageLayerConfig(name = 'nuc',\n",
                "                                    source = auth.get_cv_path('nuclei_map_Aug2021')['url'])      \n",
                "nuc_seg_Aug = ImageLayerConfig(name = 'nuc_seg',\n",
                "                                    source = auth.get_cv_path('nuclei_seg_Aug2021')['url'])        \n",
                "\n",
                "ann = AnnotationLayerConfig(name='nuc_soma_Aug2021',\n",
                "                            mapping_rules=lines,\n",
                "                            tags=['neuron', 'glia','false_positive','soma_need_check'],\n",
                "                            active = True)"
            ],
            "outputs": [],
            "metadata": {}
        },
        {
            "cell_type": "code",
            "execution_count": null,
            "source": [
                "view_options = {\"layout\": \"xy\"}\n",
                "\n",
                "memory_options = {\"gpuMemoryLimit\": 4000000000,\n",
                "                  \"systemMemoryLimit\": 8000000000,\n",
                "                  \"concurrentDownloads\": 64,\n",
                "                  \"jsonStateServer\": \"https://global.daf-apis.com/nglstate/api/v1/post\"}\n",
                "\n",
                "\n",
                "sb = StateBuilder(layers=[imgTokyo, seg, img, nuc_Aug, nuc_seg_Aug, ann],\n",
                "                  resolution=[4.3,4.3,45],\n",
                "                  view_kws=view_options)"
            ],
            "outputs": [],
            "metadata": {}
        },
        {
            "cell_type": "code",
            "execution_count": null,
            "source": [
                "LINK=[]\n",
                "k=500\n",
                "minidfs = [xyz_df.loc[i:i+k-1, :] for i in range(0, len(xyz_df), k)]\n",
                "for dftmp in minidfs:\n",
                "    # csb = ChainedStateBuilder([sb, vs])                             \n",
                "    state = json.loads(sb.render_state(dftmp, return_as='json'))\n",
                "    state.update(memory_options)\n",
                "    jsn_id = client.state.upload_state_json(state)\n",
                "    output = client.state.build_neuroglancer_url(jsn_id, auth.get_cv_path('neuroglancer_base')['url'])\n",
                "    # output =auth.get_cv_path('neuroglancer_base')['url'] + '?json_url={path}{state_id}'.format(path=auth.get_cv_path('json_server')['url'],state_id=client.state.upload_state_json(state))\n",
                "    LINK.append(output)"
            ],
            "outputs": [],
            "metadata": {}
        },
        {
            "cell_type": "code",
            "execution_count": null,
            "source": [
                "# save into csv\n",
                "LINK2 = pd.DataFrame(LINK)\n",
                "LINK2.to_csv('../Output/links_20210903.csv', index=False, header=False)"
            ],
            "outputs": [],
            "metadata": {}
        },
        {
            "cell_type": "markdown",
            "source": [
                "## Extract tags from proodread csv\n",
                "\n",
                "functions from https://github.com/seung-lab/NeuroglancerAnnotationUI/blob/36f03cab5ccff8c52b0faba8beff7ab77398ef48/src/nglui/parser/base.py"
            ],
            "metadata": {}
        },
        {
            "cell_type": "code",
            "execution_count": 4,
            "source": [
                "# df['is_neuron']=\"\"\n",
                "# df['is_glia']=\"\"\n",
                "# df['is_false_positive']=\"\"\n",
                "# df['is_duplicated']=\"\"\n",
                "# df.to_csv('../Output/proofread_nuc_temp.csv', index=False)"
            ],
            "outputs": [],
            "metadata": {}
        },
        {
            "cell_type": "code",
            "execution_count": 5,
            "source": [
                "df_progress = pd.read_csv(\"../Output/proofread_nuc_temp.csv\", header=0)\n",
                "prfrd1 = pd.read_table(\"../Output/final_proofreading.tsv\", usecols = ['new link'])"
            ],
            "outputs": [],
            "metadata": {}
        },
        {
            "cell_type": "code",
            "execution_count": 6,
            "source": [
                "rsplitted = prfrd1['new link'].dropna(how='all').str.rsplit('/', 1)\n",
                "new_id = list()\n",
                "for i in rsplitted.index:\n",
                "    new_id.append(rsplitted.loc[i][1])\n",
                "\n",
                "print(len(new_id))"
            ],
            "outputs": [
                {
                    "output_type": "stream",
                    "name": "stdout",
                    "text": [
                        "1\n"
                    ]
                }
            ],
            "metadata": {}
        },
        {
            "cell_type": "code",
            "execution_count": 7,
            "source": [
                "mylist = []\n",
                "\n",
                "for i in range(len(new_id)):\n",
                "    state_id = int(new_id[i])\n",
                "    state = client.state.get_state_json(state_id)\n",
                "\n",
                "    # extract info from json state\n",
                "    nuc_tags = parser.tag_dictionary(state,parser.annotation_layers(state)[0])\n",
                "    anno_lists = parser.line_annotations(state,parser.annotation_layers(state)[0], tags=True)\n",
                "\n",
                "    temp = pd.DataFrame({'anno_points_A': anno_lists[0],\n",
                "                     'anno_points_B': anno_lists[1],\n",
                "                     'anno_tags': anno_lists[2]})\n",
                "\n",
                "    # convert [] to [0]\n",
                "    for j in range(len(temp)):\n",
                "        if (len(temp.iloc[j,2]) == 0) or (len(temp.iloc[j,2]) >= 2): # make dup to 0 for now....\n",
                "            temp.iloc[j,2] = [0]\n",
                "            # temp['anno_tags']\n",
                "\n",
                "    temp['anno_tags'] = np.concatenate(temp['anno_tags']).astype(int)\n",
                "    temp['anno_tags'] = temp['anno_tags'].replace(nuc_tags)\n",
                "\n",
                "    mylist.append(temp)\n"
            ],
            "outputs": [],
            "metadata": {}
        },
        {
            "cell_type": "code",
            "execution_count": 8,
            "source": [
                "df_new = pd.concat(mylist).reset_index()"
            ],
            "outputs": [],
            "metadata": {}
        },
        {
            "cell_type": "code",
            "execution_count": 9,
            "source": [
                "df_new"
            ],
            "outputs": [
                {
                    "output_type": "execute_result",
                    "data": {
                        "text/html": [
                            "<div>\n",
                            "<style scoped>\n",
                            "    .dataframe tbody tr th:only-of-type {\n",
                            "        vertical-align: middle;\n",
                            "    }\n",
                            "\n",
                            "    .dataframe tbody tr th {\n",
                            "        vertical-align: top;\n",
                            "    }\n",
                            "\n",
                            "    .dataframe thead th {\n",
                            "        text-align: right;\n",
                            "    }\n",
                            "</style>\n",
                            "<table border=\"1\" class=\"dataframe\">\n",
                            "  <thead>\n",
                            "    <tr style=\"text-align: right;\">\n",
                            "      <th></th>\n",
                            "      <th>index</th>\n",
                            "      <th>anno_points_A</th>\n",
                            "      <th>anno_points_B</th>\n",
                            "      <th>anno_tags</th>\n",
                            "    </tr>\n",
                            "  </thead>\n",
                            "  <tbody>\n",
                            "    <tr>\n",
                            "      <th>0</th>\n",
                            "      <td>0</td>\n",
                            "      <td>[54128, 182192, 116]</td>\n",
                            "      <td>[54368, 182224, 170]</td>\n",
                            "      <td>glia</td>\n",
                            "    </tr>\n",
                            "    <tr>\n",
                            "      <th>1</th>\n",
                            "      <td>1</td>\n",
                            "      <td>[32688, 195248, 887]</td>\n",
                            "      <td>[33152, 195056, 862]</td>\n",
                            "      <td>glia</td>\n",
                            "    </tr>\n",
                            "    <tr>\n",
                            "      <th>2</th>\n",
                            "      <td>2</td>\n",
                            "      <td>[36320, 167008, 247]</td>\n",
                            "      <td>[36784, 166784, 244]</td>\n",
                            "      <td>glia</td>\n",
                            "    </tr>\n",
                            "    <tr>\n",
                            "      <th>3</th>\n",
                            "      <td>3</td>\n",
                            "      <td>[32624, 208784, 1955]</td>\n",
                            "      <td>[33568, 208448, 1991]</td>\n",
                            "      <td>neuron</td>\n",
                            "    </tr>\n",
                            "    <tr>\n",
                            "      <th>4</th>\n",
                            "      <td>4</td>\n",
                            "      <td>[52720, 196368, 1242]</td>\n",
                            "      <td>[52176, 196480, 1235]</td>\n",
                            "      <td>glia</td>\n",
                            "    </tr>\n",
                            "    <tr>\n",
                            "      <th>5</th>\n",
                            "      <td>5</td>\n",
                            "      <td>[42208, 149728, 3717]</td>\n",
                            "      <td>[42192, 149696, 3668]</td>\n",
                            "      <td>neuron</td>\n",
                            "    </tr>\n",
                            "    <tr>\n",
                            "      <th>6</th>\n",
                            "      <td>6</td>\n",
                            "      <td>[55808, 185104, 485]</td>\n",
                            "      <td>[55840, 185152, 473]</td>\n",
                            "      <td>neuron</td>\n",
                            "    </tr>\n",
                            "    <tr>\n",
                            "      <th>7</th>\n",
                            "      <td>7</td>\n",
                            "      <td>[29840, 198672, 805]</td>\n",
                            "      <td>[29488, 198768, 843]</td>\n",
                            "      <td>glia</td>\n",
                            "    </tr>\n",
                            "    <tr>\n",
                            "      <th>8</th>\n",
                            "      <td>8</td>\n",
                            "      <td>[34944, 182896, 196]</td>\n",
                            "      <td>[34880, 183232, 181]</td>\n",
                            "      <td>neuron</td>\n",
                            "    </tr>\n",
                            "    <tr>\n",
                            "      <th>9</th>\n",
                            "      <td>9</td>\n",
                            "      <td>[42848, 149616, 3735]</td>\n",
                            "      <td>[43248, 149776, 3793]</td>\n",
                            "      <td>neuron</td>\n",
                            "    </tr>\n",
                            "    <tr>\n",
                            "      <th>10</th>\n",
                            "      <td>10</td>\n",
                            "      <td>[42336, 121408, 3569]</td>\n",
                            "      <td>[42048, 120848, 3604]</td>\n",
                            "      <td>neuron</td>\n",
                            "    </tr>\n",
                            "    <tr>\n",
                            "      <th>11</th>\n",
                            "      <td>11</td>\n",
                            "      <td>[40928, 148944, 3518]</td>\n",
                            "      <td>[41728, 149568, 3562]</td>\n",
                            "      <td>neuron</td>\n",
                            "    </tr>\n",
                            "    <tr>\n",
                            "      <th>12</th>\n",
                            "      <td>12</td>\n",
                            "      <td>[71504, 195872, 1433]</td>\n",
                            "      <td>[71104, 195616, 1499]</td>\n",
                            "      <td>neuron</td>\n",
                            "    </tr>\n",
                            "    <tr>\n",
                            "      <th>13</th>\n",
                            "      <td>13</td>\n",
                            "      <td>[48112, 190256, 1080]</td>\n",
                            "      <td>[48112, 189856, 1135]</td>\n",
                            "      <td>glia</td>\n",
                            "    </tr>\n",
                            "    <tr>\n",
                            "      <th>14</th>\n",
                            "      <td>14</td>\n",
                            "      <td>[65504, 172016, 581]</td>\n",
                            "      <td>[66176, 172352, 545]</td>\n",
                            "      <td>glia</td>\n",
                            "    </tr>\n",
                            "    <tr>\n",
                            "      <th>15</th>\n",
                            "      <td>15</td>\n",
                            "      <td>[58928, 196368, 264]</td>\n",
                            "      <td>[59024, 196720, 238]</td>\n",
                            "      <td>neuron</td>\n",
                            "    </tr>\n",
                            "    <tr>\n",
                            "      <th>16</th>\n",
                            "      <td>16</td>\n",
                            "      <td>[9536, 97856, 3298]</td>\n",
                            "      <td>[9120, 98656, 3406]</td>\n",
                            "      <td>glia</td>\n",
                            "    </tr>\n",
                            "    <tr>\n",
                            "      <th>17</th>\n",
                            "      <td>17</td>\n",
                            "      <td>[12272, 131968, 3072]</td>\n",
                            "      <td>[12032, 132080, 3057]</td>\n",
                            "      <td>neuron</td>\n",
                            "    </tr>\n",
                            "    <tr>\n",
                            "      <th>18</th>\n",
                            "      <td>18</td>\n",
                            "      <td>[53136, 213440, 242]</td>\n",
                            "      <td>[53760, 213344, 209]</td>\n",
                            "      <td>neuron</td>\n",
                            "    </tr>\n",
                            "    <tr>\n",
                            "      <th>19</th>\n",
                            "      <td>19</td>\n",
                            "      <td>[20416, 116688, 3679]</td>\n",
                            "      <td>[21248, 115616, 3742]</td>\n",
                            "      <td>glia</td>\n",
                            "    </tr>\n",
                            "    <tr>\n",
                            "      <th>20</th>\n",
                            "      <td>20</td>\n",
                            "      <td>[37776, 140896, 662]</td>\n",
                            "      <td>[38656, 142256, 707]</td>\n",
                            "      <td>glia</td>\n",
                            "    </tr>\n",
                            "    <tr>\n",
                            "      <th>21</th>\n",
                            "      <td>21</td>\n",
                            "      <td>[61424, 132208, 1258]</td>\n",
                            "      <td>[61360, 132160, 1260]</td>\n",
                            "      <td>glia</td>\n",
                            "    </tr>\n",
                            "    <tr>\n",
                            "      <th>22</th>\n",
                            "      <td>22</td>\n",
                            "      <td>[23504, 93888, 1506]</td>\n",
                            "      <td>[23088, 92608, 1565]</td>\n",
                            "      <td>glia</td>\n",
                            "    </tr>\n",
                            "    <tr>\n",
                            "      <th>23</th>\n",
                            "      <td>23</td>\n",
                            "      <td>[60784, 124768, 1401]</td>\n",
                            "      <td>[60720, 124240, 1463]</td>\n",
                            "      <td>glia</td>\n",
                            "    </tr>\n",
                            "    <tr>\n",
                            "      <th>24</th>\n",
                            "      <td>24</td>\n",
                            "      <td>[26448, 146496, 679]</td>\n",
                            "      <td>[27008, 145600, 618]</td>\n",
                            "      <td>glia</td>\n",
                            "    </tr>\n",
                            "  </tbody>\n",
                            "</table>\n",
                            "</div>"
                        ],
                        "text/plain": [
                            "    index          anno_points_A          anno_points_B anno_tags\n",
                            "0       0   [54128, 182192, 116]   [54368, 182224, 170]      glia\n",
                            "1       1   [32688, 195248, 887]   [33152, 195056, 862]      glia\n",
                            "2       2   [36320, 167008, 247]   [36784, 166784, 244]      glia\n",
                            "3       3  [32624, 208784, 1955]  [33568, 208448, 1991]    neuron\n",
                            "4       4  [52720, 196368, 1242]  [52176, 196480, 1235]      glia\n",
                            "5       5  [42208, 149728, 3717]  [42192, 149696, 3668]    neuron\n",
                            "6       6   [55808, 185104, 485]   [55840, 185152, 473]    neuron\n",
                            "7       7   [29840, 198672, 805]   [29488, 198768, 843]      glia\n",
                            "8       8   [34944, 182896, 196]   [34880, 183232, 181]    neuron\n",
                            "9       9  [42848, 149616, 3735]  [43248, 149776, 3793]    neuron\n",
                            "10     10  [42336, 121408, 3569]  [42048, 120848, 3604]    neuron\n",
                            "11     11  [40928, 148944, 3518]  [41728, 149568, 3562]    neuron\n",
                            "12     12  [71504, 195872, 1433]  [71104, 195616, 1499]    neuron\n",
                            "13     13  [48112, 190256, 1080]  [48112, 189856, 1135]      glia\n",
                            "14     14   [65504, 172016, 581]   [66176, 172352, 545]      glia\n",
                            "15     15   [58928, 196368, 264]   [59024, 196720, 238]    neuron\n",
                            "16     16    [9536, 97856, 3298]    [9120, 98656, 3406]      glia\n",
                            "17     17  [12272, 131968, 3072]  [12032, 132080, 3057]    neuron\n",
                            "18     18   [53136, 213440, 242]   [53760, 213344, 209]    neuron\n",
                            "19     19  [20416, 116688, 3679]  [21248, 115616, 3742]      glia\n",
                            "20     20   [37776, 140896, 662]   [38656, 142256, 707]      glia\n",
                            "21     21  [61424, 132208, 1258]  [61360, 132160, 1260]      glia\n",
                            "22     22   [23504, 93888, 1506]   [23088, 92608, 1565]      glia\n",
                            "23     23  [60784, 124768, 1401]  [60720, 124240, 1463]      glia\n",
                            "24     24   [26448, 146496, 679]   [27008, 145600, 618]      glia"
                        ]
                    },
                    "metadata": {},
                    "execution_count": 9
                }
            ],
            "metadata": {}
        },
        {
            "cell_type": "code",
            "execution_count": 10,
            "source": [
                "print('neuron are {}'.format(sum(df_new['anno_tags']=='neuron')))\n",
                "print('glia are {}'.format(sum(df_new['anno_tags']=='glia')))\n",
                "print('false_positive are {}'.format(sum(df_new['anno_tags']=='false_positive')))\n",
                "print('come_back_to_me_later are {}'.format(sum(df_new['anno_tags']==0)))\n",
                "print('in total {}'.format(len(df_new)))"
            ],
            "outputs": [
                {
                    "output_type": "stream",
                    "name": "stdout",
                    "text": [
                        "neuron are 11\n",
                        "glia are 14\n",
                        "false_positive are 0\n",
                        "come_back_to_me_later are 0\n",
                        "in total 25\n"
                    ]
                }
            ],
            "metadata": {}
        },
        {
            "cell_type": "code",
            "execution_count": 11,
            "source": [
                "df_new.drop(\"index\", axis=1).to_csv('../Output/final_proofread_extracted.csv', index=False)"
            ],
            "outputs": [],
            "metadata": {}
        },
        {
            "cell_type": "code",
            "execution_count": 12,
            "source": [
                "df_new = pd.read_csv(\"../Output/final_proofread_extracted.csv\", header=0)"
            ],
            "outputs": [],
            "metadata": {}
        },
        {
            "cell_type": "code",
            "execution_count": null,
            "source": [
                "df_new"
            ],
            "outputs": [],
            "metadata": {}
        },
        {
            "cell_type": "code",
            "execution_count": null,
            "source": [
                "df_new2 = df_new[df_new['anno_tags']=='0']\n",
                "print(len(df_new2))"
            ],
            "outputs": [],
            "metadata": {}
        },
        {
            "cell_type": "code",
            "execution_count": null,
            "source": [
                "xyz_df = df_new2.reindex(columns=['anno_points_A', 'anno_points_B']).reset_index()\n",
                "nuc_xyz_df = df_new2['anno_points_A'].str.strip('[]').str.split(',',expand=True)\n",
                "soma_xyz_df = df_new2['anno_points_B'].str.strip('[]').str.split(',',expand=True)\n",
                "xyz_df['anno_points_A'] = nuc_xyz_df.astype(int).values.tolist()\n",
                "xyz_df['anno_points_B'] = soma_xyz_df.astype(int).values.tolist()"
            ],
            "outputs": [],
            "metadata": {}
        },
        {
            "cell_type": "code",
            "execution_count": null,
            "source": [
                "lines = LineMapper(point_column_a='anno_points_A', point_column_b='anno_points_B')"
            ],
            "outputs": [],
            "metadata": {}
        },
        {
            "cell_type": "code",
            "execution_count": null,
            "source": [
                "# make Neuroglancer link\n",
                "imgTokyo = ImageLayerConfig(name = 'FANCv4-jp',\n",
                "                                    source = auth.get_cv_path('Image_Tokyo')['url'])\n",
                "img = ImageLayerConfig(name = 'FANCv4',\n",
                "                                    source = auth.get_cv_path('Image')['url'])\n",
                "seg = SegmentationLayerConfig(name = 'seg_Mar2021_proofreading',\n",
                "                                    source = auth.get_cv_path('FANC_production_segmentation')['url'])     \n",
                "nuc_Aug = ImageLayerConfig(name = 'nuc',\n",
                "                                    source = auth.get_cv_path('nuclei_map_Aug2021')['url'])      \n",
                "nuc_seg_Aug = ImageLayerConfig(name = 'nuc_seg',\n",
                "                                    source = auth.get_cv_path('nuclei_seg_Aug2021')['url'])        \n",
                "\n",
                "ann = AnnotationLayerConfig(name='nuc_soma_Aug2021',\n",
                "                            mapping_rules=lines,\n",
                "                            tags=['neuron', 'glia','false_positive','soma_need_check'],\n",
                "                            active = True)"
            ],
            "outputs": [],
            "metadata": {}
        },
        {
            "cell_type": "code",
            "execution_count": null,
            "source": [
                "view_options = {\"layout\": \"xy\"}\n",
                "\n",
                "memory_options = {\"gpuMemoryLimit\": 4000000000,\n",
                "                  \"systemMemoryLimit\": 8000000000,\n",
                "                  \"concurrentDownloads\": 64,\n",
                "                  \"jsonStateServer\": \"https://global.daf-apis.com/nglstate/api/v1/post\"}\n",
                "\n",
                "\n",
                "sb = StateBuilder(layers=[imgTokyo, seg, img, nuc_Aug, nuc_seg_Aug, ann],\n",
                "                  resolution=[4.3,4.3,45],\n",
                "                  view_kws=view_options)"
            ],
            "outputs": [],
            "metadata": {}
        },
        {
            "cell_type": "code",
            "execution_count": null,
            "source": [
                "LINK=[]\n",
                "k=500\n",
                "minidfs = [xyz_df.loc[i:i+k-1, :] for i in range(0, len(xyz_df), k)]\n",
                "for dftmp in minidfs:\n",
                "    # csb = ChainedStateBuilder([sb, vs])                             \n",
                "    state = json.loads(sb.render_state(dftmp, return_as='json'))\n",
                "    state.update(memory_options)\n",
                "    jsn_id = client.state.upload_state_json(state)\n",
                "    output = client.state.build_neuroglancer_url(jsn_id, auth.get_cv_path('neuroglancer_base')['url'])\n",
                "    # output =auth.get_cv_path('neuroglancer_base')['url'] + '?json_url={path}{state_id}'.format(path=auth.get_cv_path('json_server')['url'],state_id=client.state.upload_state_json(state))\n",
                "    LINK.append(output)"
            ],
            "outputs": [],
            "metadata": {}
        },
        {
            "cell_type": "code",
            "execution_count": null,
            "source": [
                "# save into csv\n",
                "LINK2 = pd.DataFrame(LINK)\n",
                "LINK2.to_csv('../Output/links_20210928-2.csv', index=False, header=False)"
            ],
            "outputs": [],
            "metadata": {}
        },
        {
            "cell_type": "markdown",
            "source": [
                "## store progress"
            ],
            "metadata": {}
        },
        {
            "cell_type": "code",
            "execution_count": 13,
            "source": [
                "df_new = pd.read_csv(\"../Output/final_proofread_extracted.csv\", header=0)\n",
                "df_progress = pd.read_csv(\"../Output/proofread_nuc_temp.csv\", header=0)"
            ],
            "outputs": [],
            "metadata": {}
        },
        {
            "cell_type": "code",
            "execution_count": 14,
            "source": [
                "df_new2 = df_new[df_new.anno_tags != '0']"
            ],
            "outputs": [],
            "metadata": {}
        },
        {
            "cell_type": "code",
            "execution_count": 15,
            "source": [
                "for i in range(len(df_new2)):\n",
                "    nuc_loc_temp = df_new2['anno_points_A'].values[i].strip('[]')\n",
                "    nuc_loc = '(' + nuc_loc_temp + ')'\n",
                "    nuc_tag = df_new2['anno_tags'].values[i]\n",
                "    if nuc_loc in df_progress['nuc_xyz'].values:\n",
                "        idx = df_progress.index[df_progress['nuc_xyz'] == nuc_loc]\n",
                "        if nuc_tag == 'neuron':\n",
                "            df_progress.at[idx,'is_neuron'] = 'y'\n",
                "        if nuc_tag == 'glia':\n",
                "            df_progress.at[idx,'is_glia'] = 'y'\n",
                "        if nuc_tag == 'false_positive':\n",
                "            df_progress.at[idx,'is_false_positive'] = 'y'"
            ],
            "outputs": [],
            "metadata": {}
        },
        {
            "cell_type": "code",
            "execution_count": 16,
            "source": [
                "df_come_back_to_me_later = df_progress[~(df_progress.is_neuron=='y') & ~(df_progress.is_glia=='y') & ~(df_progress.is_false_positive=='y')]"
            ],
            "outputs": [],
            "metadata": {}
        },
        {
            "cell_type": "code",
            "execution_count": 17,
            "source": [
                "print('neuron are {}'.format(sum(df_progress.is_neuron=='y')))\n",
                "print('glia are {}'.format(sum(df_progress.is_glia=='y')))\n",
                "print('false_positive are {}'.format(sum(df_progress.is_false_positive=='y')))\n",
                "print('come_back_to_me_later are {}'.format(len(df_come_back_to_me_later)))\n",
                "print('in total {}'.format(len(df_progress)))"
            ],
            "outputs": [
                {
                    "output_type": "stream",
                    "name": "stdout",
                    "text": [
                        "neuron are 14679\n",
                        "glia are 1987\n",
                        "false_positive are 410\n",
                        "come_back_to_me_later are 0\n",
                        "in total 17076\n"
                    ]
                }
            ],
            "metadata": {}
        },
        {
            "cell_type": "code",
            "execution_count": 18,
            "source": [
                "df_progress.to_csv('../Output/proofread_nuc_temp.csv', index=False)"
            ],
            "outputs": [],
            "metadata": {}
        },
        {
            "cell_type": "code",
            "execution_count": null,
            "source": [
                "df_come_back_to_me_later"
            ],
            "outputs": [],
            "metadata": {}
        },
        {
            "cell_type": "code",
            "execution_count": null,
            "source": [
                "xyz_df = df_come_back_to_me_later.reindex(columns=['nuc_xyz', 'soma_xyz']).reset_index()\n",
                "xyz_df = xyz_df.rename(columns={'nuc_xyz': 'anno_points_A', 'soma_xyz': 'anno_points_B'})\n",
                "nuc_xyz_df = xyz_df['anno_points_A'].str.strip('()').str.split(',',expand=True)\n",
                "soma_xyz_df = xyz_df['anno_points_B'].str.strip('()').str.split(',',expand=True)\n",
                "xyz_df['anno_points_A'] = nuc_xyz_df.astype(int).values.tolist()\n",
                "xyz_df['anno_points_B'] = soma_xyz_df.astype(int).values.tolist()"
            ],
            "outputs": [],
            "metadata": {}
        },
        {
            "cell_type": "code",
            "execution_count": null,
            "source": [
                "xyz_df"
            ],
            "outputs": [],
            "metadata": {}
        },
        {
            "cell_type": "code",
            "execution_count": null,
            "source": [],
            "outputs": [],
            "metadata": {}
        }
    ],
    "metadata": {
        "orig_nbformat": 4,
        "language_info": {
            "name": "python",
            "version": "3.9.6",
            "mimetype": "text/x-python",
            "codemirror_mode": {
                "name": "ipython",
                "version": 3
            },
            "pygments_lexer": "ipython3",
            "nbconvert_exporter": "python",
            "file_extension": ".py"
        },
        "kernelspec": {
            "name": "python3",
            "display_name": "Python 3.9.6 64-bit ('nuclei': venv)"
        },
        "interpreter": {
            "hash": "2f8bd4940588abb561ec8a21652acdfb236931ee8d62ff047ac85f739f53aa56"
        }
    },
    "nbformat": 4,
    "nbformat_minor": 2
}