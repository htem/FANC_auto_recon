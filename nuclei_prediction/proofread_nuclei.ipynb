{
    "cells": [
        {
            "cell_type": "markdown",
            "source": [
                "# Proofread_nuclei"
            ],
            "metadata": {}
        },
        {
            "cell_type": "code",
            "execution_count": 1,
            "source": [
                "# libraries 1\n",
                "import numpy as np\n",
                "import pyperclip\n",
                "import pandas as pd\n",
                "import pyperclip\n",
                "from cloudvolume import CloudVolume, view, Bbox\n",
                "from nglui import statebuilder,annotation,easyviewer,parser\n",
                "from nglui.statebuilder import *\n",
                "import json\n",
                "\n",
                "import sys\n",
                "import os\n",
                "from datetime import datetime\n",
                "from caveclient import CAVEclient\n",
                "\n",
                "sys.path.append(os.path.abspath(\"../segmentation\"))\n",
                "import authentication_utils as auth\n",
                "import rootID_lookup as IDlook\n",
                "sys.path.append(os.path.abspath(\"../synapses\"))\n",
                "import connectivity_utils"
            ],
            "outputs": [],
            "metadata": {}
        },
        {
            "cell_type": "code",
            "execution_count": 2,
            "source": [
                "datastack_name = 'fanc_production_mar2021'\n",
                "client = CAVEclient(datastack_name)"
            ],
            "outputs": [],
            "metadata": {}
        },
        {
            "cell_type": "markdown",
            "source": [
                "## Create links for proofreading nuclei/somas\n",
                "\n",
                "Good example: https://github.com/seung-lab/NeuroglancerAnnotationUI/blob/master/examples/statebuilder_examples.ipynb"
            ],
            "metadata": {}
        },
        {
            "cell_type": "code",
            "execution_count": 3,
            "source": [
                "df = pd.read_csv('../Output/soma_info_Aug2021ver4vol.csv', header=0)"
            ],
            "outputs": [],
            "metadata": {}
        },
        {
            "cell_type": "code",
            "execution_count": 4,
            "source": [
                "# we only need xyz for nuclei/somas..., and make them into lines\n",
                "xyz_df = df.reindex(columns=['nuc_xyz', 'soma_xyz'])\n",
                "nuc_xyz_df = df['nuc_xyz'].str.strip('()').str.split(',',expand=True)\n",
                "soma_xyz_df = df['soma_xyz'].str.strip('()').str.split(',',expand=True)\n",
                "xyz_df['nuc_xyz'] = nuc_xyz_df.astype(int).values.tolist()\n",
                "xyz_df['soma_xyz'] = soma_xyz_df.astype(int).values.tolist()"
            ],
            "outputs": [],
            "metadata": {}
        },
        {
            "cell_type": "code",
            "execution_count": 5,
            "source": [
                "nuc_xyz_df = nuc_xyz_df.set_axis(['Col_x', 'Col_y', 'Col_z'], axis=1)\n",
                "sorted_indices = nuc_xyz_df.astype(int).sort_values(by=['Col_y'], ascending=True).index\n",
                "xyz_df = xyz_df.reindex(sorted_indices).reset_index(drop=True)"
            ],
            "outputs": [],
            "metadata": {}
        },
        {
            "cell_type": "code",
            "execution_count": 6,
            "source": [
                "# ..., and make them into lines\n",
                "lines = LineMapper(point_column_a='nuc_xyz', point_column_b='soma_xyz')"
            ],
            "outputs": [],
            "metadata": {}
        },
        {
            "cell_type": "code",
            "execution_count": 7,
            "source": [
                "# make Neuroglancer link\n",
                "imgTokyo = ImageLayerConfig(name = 'FANCv4-jp',\n",
                "                                    source = auth.get_cv_path('Image_Tokyo')['url'])\n",
                "img = ImageLayerConfig(name = 'FANCv4',\n",
                "                                    source = auth.get_cv_path('Image')['url'])\n",
                "seg = SegmentationLayerConfig(name = 'seg_Mar2021_proofreading',\n",
                "                                    source = auth.get_cv_path('FANC_production_segmentation')['url'])     \n",
                "nuc_Aug = ImageLayerConfig(name = 'nuc',\n",
                "                                    source = auth.get_cv_path('nuclei_map_Aug2021')['url'])      \n",
                "nuc_seg_Aug = ImageLayerConfig(name = 'nuc_seg',\n",
                "                                    source = auth.get_cv_path('nuclei_seg_Aug2021')['url'])        \n",
                "\n",
                "ann = AnnotationLayerConfig(name='nuc_soma_Aug2021',\n",
                "                            mapping_rules=lines,\n",
                "                            tags=['neuron', 'glia','false_positive'],\n",
                "                            active = True)"
            ],
            "outputs": [],
            "metadata": {}
        },
        {
            "cell_type": "code",
            "execution_count": 26,
            "source": [
                "view_options = {'layout': 'xy'}"
            ],
            "outputs": [],
            "metadata": {}
        },
        {
            "cell_type": "code",
            "execution_count": 29,
            "source": [
                "sb = StateBuilder(layers=[imgTokyo, seg, img, nuc_Aug, nuc_seg_Aug, ann],\n",
                "                  resolution=[4.3,4.3,45],\n",
                "                  view_kws=view_options)\n",
                "# viewerState\n",
                "# vs = {'gpuMemoryLimit': 4000000000,\n",
                "#       'systemMemoryLimit': 4000000000,\n",
                "#       'concurrentDownloads': 64}\n",
                "\n",
                "LINK=[]\n",
                "k=500\n",
                "minidfs = [xyz_df.loc[i:i+k-1, :] for i in range(0, len(xyz_df), k)]\n",
                "for dftmp in minidfs:\n",
                "    # csb = ChainedStateBuilder([sb, vs])                             \n",
                "    state = json.loads(sb.render_state(dftmp, return_as='json'))\n",
                "    jsn_id = client.state.upload_state_json(state)\n",
                "    output = client.state.build_neuroglancer_url(jsn_id, auth.get_cv_path('neuroglancer_base')['url'])\n",
                "    # output =auth.get_cv_path('neuroglancer_base')['url'] + '?json_url={path}{state_id}'.format(path=auth.get_cv_path('json_server')['url'],state_id=client.state.upload_state_json(state))\n",
                "    LINK.append(output)"
            ],
            "outputs": [],
            "metadata": {}
        },
        {
            "cell_type": "code",
            "execution_count": 30,
            "source": [
                "# save into csv\n",
                "LINK2 = pd.DataFrame(LINK)\n",
                "LINK2.to_csv('../Output/links_20210902.csv', index=False, header=False)"
            ],
            "outputs": [],
            "metadata": {}
        },
        {
            "cell_type": "code",
            "execution_count": null,
            "source": [],
            "outputs": [],
            "metadata": {}
        },
        {
            "cell_type": "code",
            "execution_count": null,
            "source": [],
            "outputs": [],
            "metadata": {}
        },
        {
            "cell_type": "code",
            "execution_count": null,
            "source": [
                "import numpy as np\n",
                "import sys\n",
                "import os\n",
                "import pandas as pd\n",
                "from glob import glob\n",
                "import argparse\n",
                "import  sqlite3\n",
                "\n",
                "from cloudvolume import CloudVolume, Bbox\n",
                "import fill_voids\n",
                "from taskqueue import TaskQueue, queueable, LocalTaskQueue\n",
                "from functools import partial\n",
                "from lib import *\n",
                "sys.path.append(os.path.abspath(\"../segmentation\"))\n",
                "# to import rootID_lookup and authentication_utils like below\n",
                "import rootID_lookup as IDlook\n",
                "import authentication_utils as auth"
            ],
            "outputs": [],
            "metadata": {}
        },
        {
            "cell_type": "code",
            "execution_count": null,
            "source": [
                "\n",
                "# variables\n",
                "np.random.seed(123)\n",
                "window_coef = 4 # window size to get nuclei in mip2\n",
                "output_name = 'soma_info_Aug2021ver4vol'\n",
                "\n",
                "# could-volume url setting\n",
                "seg = CloudVolume(auth.get_cv_path('FANC_production_segmentation')['url'], use_https=True, agglomerate=False, cache=True, progress=False) # mip2\n",
                "nuclei_seg_cv = CloudVolume(auth.get_cv_path('nuclei_seg_Aug2021')['url'], cache=False, progress=False, use_https=True,autocrop=True, bounded=False) # mip4\n",
                "# read csv\n",
                "\n",
                "# -----------------------------------------------------------------------------\n",
                "\n",
                "\n",
                "def vol_shift(input, pixel): # this is still very slow since this overuse RAM even though np.roll is fast\n",
                "  # x plane\n",
                "  x_p = np.roll(input, pixel, axis=0)\n",
                "  x_p[:pixel,:,:] = 0\n",
                "  x_n = np.roll(input, -pixel, axis=0)\n",
                "  x_n[-pixel:,:,:] = 0\n",
                "  # y plane\n",
                "  y_p = np.roll(input, pixel, axis=1)\n",
                "  y_p[:,:pixel,:] = 0\n",
                "  y_n = np.roll(input, -pixel, axis=1)\n",
                "  y_n[:,-pixel:,:] = 0\n",
                "  # z plane\n",
                "  z_p = np.roll(input, pixel, axis=2)\n",
                "  z_p[:,:,:pixel] = 0\n",
                "  z_n = np.roll(input, -pixel, axis=2)\n",
                "  z_n[:,:,-pixel:] = 0\n",
                "\n",
                "  sum = x_p + x_n + y_p + y_n + z_p + z_n\n",
                "  result = sum - input*6\n",
                "  result[result>0] = 1\n",
                "  result[result<0] = 0\n",
                "\n",
                "  result = result.astype('int64')\n",
                "\n",
                "  return result\n",
                "\n",
                "\n",
                "def argwhere_from_outside(volume, value, bbox_size):\n",
                "  ind = np.argwhere(volume == value)\n",
                "  center = bbox_size/2\n",
                "\n",
                "  distance = np.apply_along_axis(np.linalg.norm, 1, ind-center)\n",
                "  sorted_indice = np.argsort(-distance)\n",
                "  result = ind[sorted_indice]\n",
                "  \n",
                "  return result"
            ],
            "outputs": [],
            "metadata": {}
        },
        {
            "cell_type": "code",
            "execution_count": null,
            "source": [
                "rowi = df.iloc[21,:].values"
            ],
            "outputs": [],
            "metadata": {}
        },
        {
            "cell_type": "code",
            "execution_count": null,
            "source": [
                "rowi"
            ],
            "outputs": [],
            "metadata": {}
        },
        {
            "cell_type": "code",
            "execution_count": null,
            "source": [
                "\n",
                "cord_mip0 = rowi[1:4]\n",
                "cord_mip4 = mip0_to_mip4_array(cord_mip0)\n",
                "bbox_size = np.array([rowi[15]*window_coef, rowi[16]*window_coef, rowi[17]*window_coef], dtype='int64')\n",
                "\n",
                "seg_nuc = nuclei_seg_cv.download_point(pt=cord_mip4, size=bbox_size, mip=[68.8,68.8,45.0]) #mip4\n",
                "\n",
                "vol_temp = seg_nuc[:,:,:]\n",
                "vol_temp2 = np.where(vol_temp == rowi[11], 1, 0)\n",
                "vol = np.squeeze(vol_temp2)\n",
                "voxel_size = np.count_nonzero(vol == 1)"
            ],
            "outputs": [],
            "metadata": {}
        },
        {
            "cell_type": "code",
            "execution_count": null,
            "source": [
                "\n",
                "\n",
                "filled = fill_voids.fill(vol, in_place=False) # fill the empty space with fill_voids. Ignore DeprecationWarning\n",
                "shifted = vol_shift(filled, pixel=1) # shift the volume one pixel\n",
                "\n",
                "location_one = argwhere_from_outside(shifted, value=1, bbox_size=bbox_size)"
            ],
            "outputs": [],
            "metadata": {}
        },
        {
            "cell_type": "code",
            "execution_count": null,
            "source": [
                "ind = np.argwhere(shifted == 1)\n",
                "center = bbox_size/2\n",
                "\n",
                "distance = np.apply_along_axis(np.linalg.norm, 1, ind-center)"
            ],
            "outputs": [],
            "metadata": {}
        },
        {
            "cell_type": "code",
            "execution_count": null,
            "source": [
                "distance"
            ],
            "outputs": [],
            "metadata": {}
        },
        {
            "cell_type": "code",
            "execution_count": null,
            "source": [
                "sorted_indice = np.argsort(-distance)\n",
                "result = ind[sorted_indice]"
            ],
            "outputs": [],
            "metadata": {}
        },
        {
            "cell_type": "code",
            "execution_count": null,
            "source": [
                "sorted_indice"
            ],
            "outputs": [],
            "metadata": {}
        },
        {
            "cell_type": "code",
            "execution_count": null,
            "source": [
                "ind[36]"
            ],
            "outputs": [],
            "metadata": {}
        },
        {
            "cell_type": "code",
            "execution_count": null,
            "source": [
                "result"
            ],
            "outputs": [],
            "metadata": {}
        },
        {
            "cell_type": "code",
            "execution_count": null,
            "source": [],
            "outputs": [],
            "metadata": {}
        }
    ],
    "metadata": {
        "orig_nbformat": 4,
        "language_info": {
            "name": "python",
            "version": "3.9.6",
            "mimetype": "text/x-python",
            "codemirror_mode": {
                "name": "ipython",
                "version": 3
            },
            "pygments_lexer": "ipython3",
            "nbconvert_exporter": "python",
            "file_extension": ".py"
        },
        "kernelspec": {
            "name": "python3",
            "display_name": "Python 3.9.6 64-bit ('nuclei': venv)"
        },
        "interpreter": {
            "hash": "2f8bd4940588abb561ec8a21652acdfb236931ee8d62ff047ac85f739f53aa56"
        }
    },
    "nbformat": 4,
    "nbformat_minor": 2
}