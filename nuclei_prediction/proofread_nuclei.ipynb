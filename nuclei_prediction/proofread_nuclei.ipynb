{
    "cells": [
        {
            "cell_type": "markdown",
            "source": [
                "# Proofread_nuclei"
            ],
            "metadata": {}
        },
        {
            "cell_type": "code",
            "execution_count": 25,
            "source": [
                "# libraries 1\n",
                "import numpy as np\n",
                "import pyperclip\n",
                "import pandas as pd\n",
                "import pyperclip\n",
                "from cloudvolume import CloudVolume, view, Bbox\n",
                "from nglui import statebuilder,annotation,easyviewer,parser\n",
                "from nglui.statebuilder import *\n",
                "from nglui.nglite import *\n",
                "import json\n",
                "\n",
                "import sys\n",
                "import os\n",
                "from datetime import datetime\n",
                "from caveclient import CAVEclient\n",
                "\n",
                "sys.path.append(os.path.abspath(\"../segmentation\"))\n",
                "import authentication_utils as auth\n",
                "import rootID_lookup as IDlook\n",
                "sys.path.append(os.path.abspath(\"../synapses\"))\n",
                "import connectivity_utils"
            ],
            "outputs": [],
            "metadata": {}
        },
        {
            "cell_type": "code",
            "execution_count": 2,
            "source": [
                "datastack_name = 'fanc_production_mar2021'\n",
                "client = CAVEclient(datastack_name)"
            ],
            "outputs": [],
            "metadata": {}
        },
        {
            "cell_type": "markdown",
            "source": [
                "## Create links for proofreading nuclei/somas\n",
                "\n",
                "Good example: https://github.com/seung-lab/NeuroglancerAnnotationUI/blob/master/examples/statebuilder_examples.ipynb"
            ],
            "metadata": {}
        },
        {
            "cell_type": "code",
            "execution_count": 3,
            "source": [
                "df = pd.read_csv('../Output/soma_info_Aug2021ver5.csv', header=0)"
            ],
            "outputs": [],
            "metadata": {}
        },
        {
            "cell_type": "code",
            "execution_count": 4,
            "source": [
                "# we only need xyz for nuclei/somas..., and make them into lines\n",
                "xyz_df = df.reindex(columns=['nuc_xyz', 'soma_xyz'])\n",
                "nuc_xyz_df = df['nuc_xyz'].str.strip('()').str.split(',',expand=True)\n",
                "soma_xyz_df = df['soma_xyz'].str.strip('()').str.split(',',expand=True)\n",
                "xyz_df['nuc_xyz'] = nuc_xyz_df.astype(int).values.tolist()\n",
                "xyz_df['soma_xyz'] = soma_xyz_df.astype(int).values.tolist()"
            ],
            "outputs": [],
            "metadata": {}
        },
        {
            "cell_type": "code",
            "execution_count": 5,
            "source": [
                "nuc_xyz_df = nuc_xyz_df.set_axis(['Col_x', 'Col_y', 'Col_z'], axis=1)\n",
                "sorted_z = nuc_xyz_df.astype(int).sort_values(by=['Col_z'], ascending=True)\n",
                "sorted_xz = sorted_z.astype(int).sort_values(by=['Col_x'], ascending=True)\n",
                "sorted_indices = sorted_xz.astype(int).sort_values(by=['Col_y'], ascending=True).index\n",
                "xyz_df = xyz_df.reindex(sorted_indices).reset_index(drop=True)"
            ],
            "outputs": [],
            "metadata": {}
        },
        {
            "cell_type": "code",
            "execution_count": 7,
            "source": [
                "# ..., and make them into lines\n",
                "lines = LineMapper(point_column_a='nuc_xyz', point_column_b='soma_xyz')"
            ],
            "outputs": [],
            "metadata": {}
        },
        {
            "cell_type": "code",
            "execution_count": 8,
            "source": [
                "# make Neuroglancer link\n",
                "imgTokyo = ImageLayerConfig(name = 'FANCv4-jp',\n",
                "                                    source = auth.get_cv_path('Image_Tokyo')['url'])\n",
                "img = ImageLayerConfig(name = 'FANCv4',\n",
                "                                    source = auth.get_cv_path('Image')['url'])\n",
                "seg = SegmentationLayerConfig(name = 'seg_Mar2021_proofreading',\n",
                "                                    source = auth.get_cv_path('FANC_production_segmentation')['url'])     \n",
                "nuc_Aug = ImageLayerConfig(name = 'nuc',\n",
                "                                    source = auth.get_cv_path('nuclei_map_Aug2021')['url'])      \n",
                "nuc_seg_Aug = ImageLayerConfig(name = 'nuc_seg',\n",
                "                                    source = auth.get_cv_path('nuclei_seg_Aug2021')['url'])        \n",
                "\n",
                "ann = AnnotationLayerConfig(name='nuc_soma_Aug2021',\n",
                "                            mapping_rules=lines,\n",
                "                            tags=['neuron', 'glia','false_positive','soma_need_check'],\n",
                "                            active = True)"
            ],
            "outputs": [],
            "metadata": {}
        },
        {
            "cell_type": "code",
            "execution_count": 32,
            "source": [
                "view_options = {\"layout\": \"xy\"}\n",
                "\n",
                "memory_options = {\"gpuMemoryLimit\": 4000000000,\n",
                "                  \"systemMemoryLimit\": 4000000000,\n",
                "                  \"concurrentDownloads\": 64,\n",
                "                  \"jsonStateServer\": \"https://global.daf-apis.com/nglstate/api/v1/post\"}\n",
                "\n",
                "\n",
                "sb = StateBuilder(layers=[imgTokyo, seg, img, nuc_Aug, nuc_seg_Aug, ann],\n",
                "                  resolution=[4.3,4.3,45],\n",
                "                  view_kws=view_options)"
            ],
            "outputs": [],
            "metadata": {}
        },
        {
            "cell_type": "code",
            "execution_count": null,
            "source": [
                "LINK=[]\n",
                "k=500\n",
                "minidfs = [xyz_df.loc[i:i+k-1, :] for i in range(0, len(xyz_df), k)]\n",
                "for dftmp in minidfs:\n",
                "    # csb = ChainedStateBuilder([sb, vs])                             \n",
                "    state = json.loads(sb.render_state(dftmp, return_as='json'))\n",
                "    state.update(memory_options)\n",
                "    jsn_id = client.state.upload_state_json(state)\n",
                "    output = client.state.build_neuroglancer_url(jsn_id, auth.get_cv_path('neuroglancer_base')['url'])\n",
                "    # output =auth.get_cv_path('neuroglancer_base')['url'] + '?json_url={path}{state_id}'.format(path=auth.get_cv_path('json_server')['url'],state_id=client.state.upload_state_json(state))\n",
                "    LINK.append(output)"
            ],
            "outputs": [],
            "metadata": {}
        },
        {
            "cell_type": "code",
            "execution_count": null,
            "source": [
                "# save into csv\n",
                "LINK2 = pd.DataFrame(LINK)\n",
                "LINK2.to_csv('../Output/links_20210903.csv', index=False, header=False)"
            ],
            "outputs": [],
            "metadata": {}
        },
        {
            "cell_type": "code",
            "execution_count": null,
            "source": [],
            "outputs": [],
            "metadata": {}
        },
        {
            "cell_type": "code",
            "execution_count": null,
            "source": [],
            "outputs": [],
            "metadata": {}
        },
        {
            "cell_type": "markdown",
            "source": [
                "## Extract tag from proodread csv\n",
                "\n",
                "functions from https://github.com/seung-lab/NeuroglancerAnnotationUI/blob/36f03cab5ccff8c52b0faba8beff7ab77398ef48/src/nglui/parser/base.py"
            ],
            "metadata": {}
        },
        {
            "cell_type": "code",
            "execution_count": null,
            "source": [
                "state_id = 6678071109222400\n",
                "state = client.state.get_state_json(state_id)"
            ],
            "outputs": [],
            "metadata": {}
        },
        {
            "cell_type": "code",
            "execution_count": null,
            "source": [
                "parser.layer_names(state)"
            ],
            "outputs": [],
            "metadata": {}
        }
    ],
    "metadata": {
        "orig_nbformat": 4,
        "language_info": {
            "name": "python",
            "version": "3.9.6",
            "mimetype": "text/x-python",
            "codemirror_mode": {
                "name": "ipython",
                "version": 3
            },
            "pygments_lexer": "ipython3",
            "nbconvert_exporter": "python",
            "file_extension": ".py"
        },
        "kernelspec": {
            "name": "python3",
            "display_name": "Python 3.9.6 64-bit ('nuclei': venv)"
        },
        "interpreter": {
            "hash": "2f8bd4940588abb561ec8a21652acdfb236931ee8d62ff047ac85f739f53aa56"
        }
    },
    "nbformat": 4,
    "nbformat_minor": 2
}