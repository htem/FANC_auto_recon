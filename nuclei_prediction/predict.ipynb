{
 "cells": [
  {
   "cell_type": "code",
   "execution_count": 2,
   "metadata": {},
   "outputs": [
    {
     "data": {
      "text/plain": [
       "'/workspaces/FANC_auto_recon/nuclei_prediction'"
      ]
     },
     "execution_count": 2,
     "metadata": {},
     "output_type": "execute_result"
    }
   ],
   "source": [
    "from cloudvolume import CloudVolume, view\n",
    "import numpy as np\n",
    "from PIL import Image\n",
    "import matplotlib.pyplot as plt\n",
    "import cc3d\n",
    "from tifffile.tifffile import imwrite\n",
    "from FANC_auto_recon.segmentation import rootID_lookup\n",
    "%pwd"
   ]
  },
  {
   "cell_type": "markdown",
   "metadata": {},
   "source": [
    "For now, I'll only look at a tiny region of entire dataset. So we need to think about how to scale up this approach later."
   ]
  },
  {
   "cell_type": "code",
   "execution_count": 3,
   "metadata": {},
   "outputs": [],
   "source": [
    "image_cv = CloudVolume(\n",
    "    'precomputed://gs://lee-lab_female-adult-nerve-cord_tokyo-storage/alignmentV4/em/rechunked',\n",
    "    progress=False,\n",
    "    cache=True, # cache to disk to avoid repeated downloads\n",
    "    use_https=True\n",
    ")\n",
    "\n",
    "nuclei_cv = CloudVolume(\n",
    "    'precomputed://gs://ranl_scratch_zetta_30/neuroglancer/nuclei/3d528bc3def9f51e09ae55e68ee46518',\n",
    "    progress=True,\n",
    "    cache=True, # cache to disk to avoid repeated downloads\n",
    "    use_https=True\n",
    ")"
   ]
  },
  {
   "cell_type": "code",
   "execution_count": 4,
   "metadata": {},
   "outputs": [],
   "source": [
    "image = image_cv.download_point( (52785, 86885, 1894), mip=4, size=(128, 128, 256) ) # mip2+ only\n",
    "# mip needs to be the same?\n",
    "# 4.3*2^4*128/45=196\n",
    "# 30s"
   ]
  },
  {
   "cell_type": "code",
   "execution_count": 5,
   "metadata": {},
   "outputs": [
    {
     "name": "stderr",
     "output_type": "stream",
     "text": [
      "Downloading: 100%|██████████| 162/162 [00:02<00:00,  3.73it/s]"
     ]
    }
   ],
   "source": [
    "nuclei = nuclei_cv.download_point( (52785, 86885, 1894), mip=[68.8,68.8,45.0], size=(128, 128, 256) ) # mip 0 or 4 only\n",
    "# 10min!?"
   ]
  },
  {
   "cell_type": "code",
   "execution_count": null,
   "metadata": {},
   "outputs": [],
   "source": [
    "# view(image)"
   ]
  },
  {
   "cell_type": "code",
   "execution_count": null,
   "metadata": {},
   "outputs": [],
   "source": [
    "# view(nuclei)"
   ]
  },
  {
   "cell_type": "code",
   "execution_count": 6,
   "metadata": {},
   "outputs": [
    {
     "data": {
      "text/plain": [
       "numpy.ndarray"
      ]
     },
     "execution_count": 6,
     "metadata": {},
     "output_type": "execute_result"
    }
   ],
   "source": [
    "test = image[:,:,:]\n",
    "testn_temp = nuclei[:,:,:]\n",
    "testn = np.where(testn_temp > 0.5, 1, 0)\n",
    "type(testn)"
   ]
  },
  {
   "cell_type": "code",
   "execution_count": 6,
   "metadata": {},
   "outputs": [
    {
     "name": "stdout",
     "output_type": "stream",
     "text": [
      "Viewer server listening to http://localhost:8080\n",
      "\n",
      "Continuing program execution...\n"
     ]
    }
   ],
   "source": [
    "view(nuclei)\n",
    "# 9 cell bodies\n",
    "\n",
    "# plt.imshow(testn_temp[:,:,149])\n",
    "# plt.imshow(testn[:,:,149])"
   ]
  },
  {
   "cell_type": "code",
   "execution_count": 7,
   "metadata": {},
   "outputs": [
    {
     "name": "stdout",
     "output_type": "stream",
     "text": [
      "(128, 128, 256)\n"
     ]
    }
   ],
   "source": [
    "# print(testn.ndim) \n",
    "# 4\n",
    "# print(testn.size) \n",
    "# print(testn.shape) \n",
    "# (128, 128, 256, 1)\n",
    "testn_s = np.squeeze(testn)\n",
    "print(testn_s.shape) "
   ]
  },
  {
   "cell_type": "code",
   "execution_count": 8,
   "metadata": {},
   "outputs": [
    {
     "name": "stdout",
     "output_type": "stream",
     "text": [
      "15\n"
     ]
    }
   ],
   "source": [
    "# 26-connectivity\n",
    "# https://en.wikipedia.org/wiki/Pixel_connectivity\n",
    "# https://github.com/seung-lab/connected-components-3d\n",
    "labels_in = testn_s\n",
    "labels_out, N = cc3d.connected_components(labels_in, return_N=True, connectivity=26) # free\n",
    "print(N)\n",
    "# 15"
   ]
  },
  {
   "cell_type": "markdown",
   "metadata": {},
   "source": [
    "It has to be 9, but 15..."
   ]
  },
  {
   "cell_type": "code",
   "execution_count": 31,
   "metadata": {},
   "outputs": [],
   "source": [
    "# write numpy array into tiff using tifffile\n",
    "# pip install tifffile\n",
    "volume = testn_s.swapaxes(0, 2).astype('float32')\n",
    "imwrite('../Output/testn_s.tif', volume, imagej=True)"
   ]
  },
  {
   "cell_type": "code",
   "execution_count": 9,
   "metadata": {},
   "outputs": [],
   "source": [
    "def bbox2_3D(img):\n",
    "\n",
    "    x = np.any(img, axis=(1, 2))\n",
    "    y = np.any(img, axis=(0, 2))\n",
    "    z = np.any(img, axis=(0, 1))\n",
    "\n",
    "    xmin, xmax = np.where(x)[0][[0, -1]]\n",
    "    ymin, ymax = np.where(y)[0][[0, -1]]\n",
    "    zmin, zmax = np.where(z)[0][[0, -1]]\n",
    "\n",
    "    return xmin, xmax, ymin, ymax, zmin, zmax"
   ]
  },
  {
   "cell_type": "code",
   "execution_count": 10,
   "metadata": {},
   "outputs": [
    {
     "name": "stdout",
     "output_type": "stream",
     "text": [
      "[(99, 127, 0, 27, 0, 72), (7, 50, 21, 62, 0, 6), (118, 127, 60, 95, 0, 12), (26, 111, 106, 127, 0, 76), (11, 119, 24, 105, 92, 222), (106, 127, 0, 28, 160, 240), (98, 116, 39, 49, 212, 235), (0, 64, 0, 18, 219, 255), (115, 127, 34, 45, 221, 239), (0, 0, 12, 16, 223, 228), (98, 101, 53, 62, 232, 235), (102, 127, 108, 127, 232, 255), (84, 122, 28, 84, 236, 255), (91, 98, 38, 46, 242, 245), (92, 93, 56, 59, 243, 244)]\n"
     ]
    }
   ],
   "source": [
    "list=[]\n",
    "for segid in range(1, N+1):\n",
    "  extracted_image = labels_out * (labels_out == segid)\n",
    "  bbox = bbox2_3D(extracted_image)\n",
    "  list.append(bbox)\n",
    "\n",
    "print(list)"
   ]
  },
  {
   "cell_type": "code",
   "execution_count": 12,
   "metadata": {},
   "outputs": [],
   "source": [
    "x_thres = 33 # 50/(4.3*2^4/45) = 50/1.53\n",
    "y_thres = 33\n",
    "z_thres = 50"
   ]
  },
  {
   "cell_type": "code",
   "execution_count": 20,
   "metadata": {},
   "outputs": [
    {
     "name": "stdout",
     "output_type": "stream",
     "text": [
      "[(65.0, 64.5, 157.0)]\n"
     ]
    }
   ],
   "source": [
    "list2=[]\n",
    "for segid in range(0, N):\n",
    "  X = list[segid][1] - list[segid][0]\n",
    "  Y = list[segid][3] - list[segid][2]\n",
    "  Z = list[segid][5] - list[segid][4]\n",
    "  if X >= x_thres and Y >= y_thres and Z >= z_thres:\n",
    "    center = ((list[segid][1] + list[segid][0])/2,\n",
    "      (list[segid][3] + list[segid][2])/2,\n",
    "      (list[segid][5] + list[segid][4])/2)\n",
    "    list2.append(center)\n",
    "  else:\n",
    "    pass\n",
    "\n",
    "print(list2)"
   ]
  },
  {
   "cell_type": "code",
   "execution_count": 19,
   "metadata": {},
   "outputs": [
    {
     "data": {
      "text/plain": [
       "72"
      ]
     },
     "execution_count": 19,
     "metadata": {},
     "output_type": "execute_result"
    }
   ],
   "source": [
    "shift =  (list2) -(128/2, 128/2, 256/2)\n",
    "coordinates + shift = center of this soma??\n",
    "\n",
    "need to change to mip0 here"
   ]
  },
  {
   "cell_type": "code",
   "execution_count": null,
   "metadata": {},
   "outputs": [],
   "source": [
    "from FANC_auto_recon.segmentation import rootID_lookup as IDlookup\n",
    "\n",
    "IDlookup.segIDs_from_pts_cv(pts,\n",
    "                       cv,\n",
    "                       n=100000,\n",
    "                       max_tries = 3,return_roots=True):"
   ]
  },
  {
   "cell_type": "code",
   "execution_count": null,
   "metadata": {},
   "outputs": [],
   "source": [
    "image_cv.cache.flush()\n",
    "nuclei_cv.cache.flush() "
   ]
  },
  {
   "cell_type": "code",
   "execution_count": null,
   "metadata": {},
   "outputs": [],
   "source": [
    "xmax-xmin\n",
    "ymax-ymin\n",
    "zmax-zmin"
   ]
  }
 ],
 "metadata": {
  "interpreter": {
   "hash": "c3593f56db3fdc375a231e1c1fb5fc1dbab03dc3894478fa0aaa4bb9b486beca"
  },
  "kernelspec": {
   "display_name": "nuclei",
   "language": "python",
   "name": "nuclei"
  },
  "language_info": {
   "codemirror_mode": {
    "name": "ipython",
    "version": 3
   },
   "file_extension": ".py",
   "mimetype": "text/x-python",
   "name": "python",
   "nbconvert_exporter": "python",
   "pygments_lexer": "ipython3",
   "version": "3.7.11"
  },
  "orig_nbformat": 4
 },
 "nbformat": 4,
 "nbformat_minor": 2
}