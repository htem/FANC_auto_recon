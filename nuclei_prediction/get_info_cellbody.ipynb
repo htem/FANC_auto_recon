{
 "cells": [
  {
   "cell_type": "markdown",
   "source": [
    "# get_info_cellbody\n",
    "1. make blocks\n",
    "2. download one block and see cell bodies inside the block\n",
    "3. get segIDs of these by asking neuroglancer with xyz coordinate of the cell body centers"
   ],
   "metadata": {}
  },
  {
   "cell_type": "code",
   "execution_count": 1,
   "source": [
    "# libraries 1\n",
    "import numpy as np\n",
    "from PIL import Image\n",
    "import matplotlib.pyplot as plt\n",
    "import sys\n",
    "import os\n",
    "import pandas as pd\n",
    "import csv\n",
    "from tqdm import tqdm\n",
    "\n",
    "from cloudvolume import CloudVolume, view\n",
    "import cc3d\n",
    "from tifffile.tifffile import imwrite"
   ],
   "outputs": [],
   "metadata": {}
  },
  {
   "cell_type": "code",
   "execution_count": 2,
   "source": [
    "# libraries 2\n",
    "# %pwd\n",
    "sys.path.append(os.path.abspath(\"../segmentation\"))\n",
    "# to import rootID_lookup and authentication_utils like below\n",
    "\n",
    "import rootID_lookup as IDlook\n",
    "import authentication_utils as auth"
   ],
   "outputs": [],
   "metadata": {}
  },
  {
   "cell_type": "code",
   "execution_count": 3,
   "source": [
    "# cv setting\n",
    "cv = CloudVolume(auth.get_cv_path('Image')['url'], use_https=True, agglomerate=False)\n",
    "# loading from US server to use mip0\n",
    "\n",
    "nuclei_cv = CloudVolume(\n",
    "    auth.get_cv_path('nuclei_map')['url'],\n",
    "    progress=False,\n",
    "    cache=True, # cache to disk to avoid repeated downloads\n",
    "    use_https=True,\n",
    "    autocrop=True,\n",
    "    bounded=False\n",
    ")\n",
    "\n",
    "seg = CloudVolume(auth.get_cv_path('FANC_production_segmentation')['url'], use_https=True, agglomerate=False, cache=True)"
   ],
   "outputs": [],
   "metadata": {}
  },
  {
   "cell_type": "code",
   "execution_count": 4,
   "source": [
    "# make grid to download chunked volumes\n",
    "[X,Y,Z]=cv.mip_volume_size(0)\n",
    "# [ 83968 223232   4390]\n",
    "\n",
    "# cv.mip_voxel_offset(0)\n",
    "# Vec(0,0,10, dtype=int64)\n",
    "\n",
    "# we don't need neck conncetive, so lets start below that area y > 75000\n",
    "\n",
    "step_xy = 128*2**4 # width of each chunk = x or y space between each chunk center in mip0\n",
    "step_z = 256 # depth of each chunk = z space between each chunk center in mip0\n",
    "\n",
    "start_x = 128*2**(4-1) # first chunk center\n",
    "start_y = 128*2**(4-1) + 73728 # step_xy*36=73728\n",
    "start_z = 256*2**(-1) +10  # 10 is offset\n",
    "\n",
    "centerX = np.arange(start_x, X, step_xy)\n",
    "centerY = np.arange(start_y, Y, step_xy)\n",
    "centerZ = np.arange(start_z, Z, step_z)\n",
    "\n",
    "# looks okay but there can be only a few space < step/2 at the end of these sequences, causing error when making chunks\n",
    "if (X - centerX[-1]) < start_x:\n",
    "    np.put(centerX, -1, X-start_x)\n",
    "else:\n",
    "    centerX = np.append(centerX, X-start_x)\n",
    "\n",
    "if (Y - centerY[-1]) < start_y:\n",
    "    np.put(centerY, -1, Y-start_y)\n",
    "else:\n",
    "    centerY = np.append(centerY, Y-start_y)\n",
    "\n",
    "if (Z - centerZ[-1]) < start_z:\n",
    "    np.put(centerZ, -1, Z-start_z)\n",
    "else:\n",
    "    centerZ = np.append(centerZ, Z-start_z)\n",
    "\n",
    "# make nx3 arrays of the chunk center coordinates\n",
    "chunk_center = np.array(np.meshgrid(centerX, centerY, centerZ), dtype='int64').T.reshape(-1,3)\n",
    "len(chunk_center)\n",
    "# 55188\n",
    "# entire volume was 83160"
   ],
   "outputs": [
    {
     "output_type": "execute_result",
     "data": {
      "text/plain": [
       "55188"
      ]
     },
     "metadata": {},
     "execution_count": 4
    }
   ],
   "metadata": {}
  },
  {
   "cell_type": "code",
   "execution_count": 5,
   "source": [
    "output=[]\n",
    "\n",
    "x_thres = 33-10 # 50/(4.3*2^4/45) = 50/1.53\n",
    "y_thres = 33-10\n",
    "z_thres = 50-10\n",
    "\n",
    "connectivity = 26\n",
    "\n",
    "# thresholding cell body size\n",
    "def mybbox(img):\n",
    "\n",
    "    x = np.any(img, axis=(1, 2))\n",
    "    y = np.any(img, axis=(0, 2))\n",
    "    z = np.any(img, axis=(0, 1))\n",
    "\n",
    "    xmin, xmax = np.where(x)[0][[0, -1]]\n",
    "    ymin, ymax = np.where(y)[0][[0, -1]]\n",
    "    zmin, zmax = np.where(z)[0][[0, -1]]\n",
    "\n",
    "    return xmin, xmax, ymin, ymax, zmin, zmax"
   ],
   "outputs": [],
   "metadata": {}
  },
  {
   "cell_type": "code",
   "execution_count": 6,
   "source": [
    "# for loop\n",
    "# for i in tqdm(range(len(chunk_center))):\n",
    "\n",
    "\n",
    "# here we only use one chunk for testing\n",
    "# candidate: 39644, 35021(50176, 84992,  1920) has 4 in entire set!!\n",
    "# in order zxy\n",
    "\n",
    "# 35021 is 23219 in this setup\n",
    "\n",
    "nuclei = nuclei_cv.download_point(chunk_center[23219], mip=[68.8,68.8,45.0], size=(128, 128, 256) ) # mip0 and 4 only\n",
    "# nuclei = nuclei_cv.download_point(chunk_center[i], mip=[68.8,68.8,45.0], size=(128, 128, 256))\n",
    "# using mio4 to make it faster\n",
    "# 4.3*(2**4)*128/45=196"
   ],
   "outputs": [],
   "metadata": {}
  },
  {
   "cell_type": "code",
   "execution_count": 7,
   "source": [
    "# view(nuclei)"
   ],
   "outputs": [],
   "metadata": {}
  },
  {
   "cell_type": "code",
   "execution_count": 8,
   "source": [
    "# nuclei_cv.cache.flush()"
   ],
   "outputs": [],
   "metadata": {}
  },
  {
   "cell_type": "code",
   "execution_count": 9,
   "source": [
    "# cell body detection\n",
    "# thresholding intensity\n",
    "mask_temp = nuclei[:,:,:]\n",
    "mask = np.where(mask_temp > 0.5, 1, 0)  \n",
    "\n",
    "# print(mask.shape) \n",
    "# (128, 128, 256, 1)\n",
    "mask_s = np.squeeze(mask)\n",
    "# print(mask_s.shape) \n",
    "# (128, 128, 256)"
   ],
   "outputs": [],
   "metadata": {}
  },
  {
   "cell_type": "code",
   "execution_count": 10,
   "source": [
    "# save images\n",
    "# volume = mask_s.swapaxes(0, 2).astype('float32')\n",
    "# imwrite('../Output/mask_s.tif', volume, imagej=True)\n",
    "\n",
    "# check EM dataset\n",
    "# tokyo_cv = CloudVolume(\n",
    "#     auth.get_cv_path('Image_Tokyo')['url'],\n",
    "#     progress=False,\n",
    "#     cache=True, # cache to disk to avoid repeated downloads\n",
    "#     use_https=True\n",
    "# )\n",
    "\n",
    "# em = tokyo_cv.download_point(chunk_center[35021], mip=4, size=(128, 128, 256) )\n",
    "# view(em)"
   ],
   "outputs": [],
   "metadata": {}
  },
  {
   "cell_type": "code",
   "execution_count": 11,
   "source": [
    "# nuclei_cv.cache.flush()"
   ],
   "outputs": [],
   "metadata": {}
  },
  {
   "cell_type": "code",
   "execution_count": 12,
   "source": [
    "# estimate connected components\n",
    "# # 26-connectivity\n",
    "# https://en.wikipedia.org/wiki/Pixel_connectivity\n",
    "# https://github.com/seung-lab/connected-components-3d\n",
    "cc_out, N = cc3d.connected_components(mask_s, return_N=True, connectivity=connectivity) # free\n",
    "# print(N)\n",
    "# 12"
   ],
   "outputs": [],
   "metadata": {}
  },
  {
   "cell_type": "code",
   "execution_count": 13,
   "source": [
    "# thresholding cell body size"
   ],
   "outputs": [],
   "metadata": {}
  },
  {
   "cell_type": "code",
   "execution_count": 14,
   "source": [
    "list=[]\n",
    "for segid in range(1, N+1):\n",
    "  extracted_image = cc_out * (cc_out == segid)\n",
    "  bbox = mybbox(extracted_image)\n",
    "  list.append(bbox)\n",
    "\n",
    "print(list)"
   ],
   "outputs": [
    {
     "output_type": "stream",
     "name": "stdout",
     "text": [
      "[(0, 54, 0, 14, 0, 35), (26, 111, 26, 109, 0, 28), (81, 127, 61, 125, 26, 130), (11, 88, 89, 127, 55, 157), (22, 116, 0, 65, 96, 226), (113, 127, 38, 81, 101, 173), (98, 127, 110, 127, 153, 236), (31, 105, 78, 127, 187, 255), (28, 57, 62, 73, 228, 235), (121, 127, 16, 47, 237, 255), (12, 58, 0, 11, 242, 255), (58, 66, 28, 36, 255, 255)]\n"
     ]
    }
   ],
   "metadata": {}
  },
  {
   "cell_type": "code",
   "execution_count": 15,
   "source": [
    "list2=[]\n",
    "for segid in range(0, N):\n",
    "  xwidth = list[segid][1] - list[segid][0]\n",
    "  ywidth = list[segid][3] - list[segid][2]\n",
    "  zwidth = list[segid][5] - list[segid][4]\n",
    "  if xwidth >= x_thres and ywidth >= y_thres and zwidth >= z_thres:\n",
    "    center = ((list[segid][1] + list[segid][0])/2,\n",
    "      (list[segid][3] + list[segid][2])/2,\n",
    "      (list[segid][5] + list[segid][4])/2)\n",
    "    list2.append(center)\n",
    "  else:\n",
    "    pass\n",
    "\n",
    "print(list2)"
   ],
   "outputs": [
    {
     "output_type": "stream",
     "name": "stdout",
     "text": [
      "[(104.0, 93.0, 78.0), (49.5, 108.0, 106.0), (69.0, 32.5, 161.0), (68.0, 102.5, 221.0)]\n"
     ]
    }
   ],
   "metadata": {}
  },
  {
   "cell_type": "code",
   "execution_count": 16,
   "source": [
    "# calculate center coordinates of cell bodies\n",
    "\n",
    "if len(list2): # segIDs_from_pts_cv makes error is there is none in list2\n",
    "    origin = nuclei.bounds.minpt # 3072,5248,1792\n",
    "    cell_body_coordinates_mip4 = np.add(np.array(list2), origin)\n",
    "    cell_body_coordinates = cell_body_coordinates_mip4\n",
    "    cell_body_coordinates[:,0]  = (cell_body_coordinates_mip4[:,0] * 2**4)\n",
    "    cell_body_coordinates[:,1]  = (cell_body_coordinates_mip4[:,1] * 2**4)\n",
    "    cell_body_coordinates = cell_body_coordinates.astype('int64')\n",
    "\n",
    "    # Lets get IDs using cell_body_coordinates\n",
    "    cell_body_IDs = IDlook.segIDs_from_pts_cv(pts=cell_body_coordinates, cv=seg) #mip0\n",
    "\n",
    "    # save\n",
    "    # type(cell_body_coordinates.shape)\n",
    "    cord_pd = pd.DataFrame(cell_body_coordinates, columns=[\"x\", \"y\", \"z\"])\n",
    "    temp = cord_pd\n",
    "    temp['segIDs'] = cell_body_IDs\n",
    "    output.append(temp)\n",
    "else:\n",
    "    pass\n",
    "\n",
    "nuclei_cv.cache.flush()"
   ],
   "outputs": [
    {
     "output_type": "stream",
     "name": "stderr",
     "text": [
      "Segmentation IDs: 100%|██████████| 4/4 [00:01<00:00,  3.29it/s]\n"
     ]
    }
   ],
   "metadata": {}
  },
  {
   "cell_type": "code",
   "execution_count": 19,
   "source": [
    "output_appended = pd.concat(output)\n",
    "output_appended"
   ],
   "outputs": [
    {
     "output_type": "execute_result",
     "data": {
      "text/plain": [
       "       x      y     z              segIDs\n",
       "0  50816  85456  1880  648518346490989503\n",
       "1  49944  85696  1908  648518346490988223\n",
       "2  50256  84488  1963  648518346492077650\n",
       "3  50240  85608  2023  648518346505454978\n",
       "0  50816  85456  1880  648518346490989503\n",
       "1  49944  85696  1908  648518346490988223\n",
       "2  50256  84488  1963  648518346492077650\n",
       "3  50240  85608  2023  648518346505454978"
      ],
      "text/html": [
       "<div>\n",
       "<style scoped>\n",
       "    .dataframe tbody tr th:only-of-type {\n",
       "        vertical-align: middle;\n",
       "    }\n",
       "\n",
       "    .dataframe tbody tr th {\n",
       "        vertical-align: top;\n",
       "    }\n",
       "\n",
       "    .dataframe thead th {\n",
       "        text-align: right;\n",
       "    }\n",
       "</style>\n",
       "<table border=\"1\" class=\"dataframe\">\n",
       "  <thead>\n",
       "    <tr style=\"text-align: right;\">\n",
       "      <th></th>\n",
       "      <th>x</th>\n",
       "      <th>y</th>\n",
       "      <th>z</th>\n",
       "      <th>segIDs</th>\n",
       "    </tr>\n",
       "  </thead>\n",
       "  <tbody>\n",
       "    <tr>\n",
       "      <th>0</th>\n",
       "      <td>50816</td>\n",
       "      <td>85456</td>\n",
       "      <td>1880</td>\n",
       "      <td>648518346490989503</td>\n",
       "    </tr>\n",
       "    <tr>\n",
       "      <th>1</th>\n",
       "      <td>49944</td>\n",
       "      <td>85696</td>\n",
       "      <td>1908</td>\n",
       "      <td>648518346490988223</td>\n",
       "    </tr>\n",
       "    <tr>\n",
       "      <th>2</th>\n",
       "      <td>50256</td>\n",
       "      <td>84488</td>\n",
       "      <td>1963</td>\n",
       "      <td>648518346492077650</td>\n",
       "    </tr>\n",
       "    <tr>\n",
       "      <th>3</th>\n",
       "      <td>50240</td>\n",
       "      <td>85608</td>\n",
       "      <td>2023</td>\n",
       "      <td>648518346505454978</td>\n",
       "    </tr>\n",
       "    <tr>\n",
       "      <th>0</th>\n",
       "      <td>50816</td>\n",
       "      <td>85456</td>\n",
       "      <td>1880</td>\n",
       "      <td>648518346490989503</td>\n",
       "    </tr>\n",
       "    <tr>\n",
       "      <th>1</th>\n",
       "      <td>49944</td>\n",
       "      <td>85696</td>\n",
       "      <td>1908</td>\n",
       "      <td>648518346490988223</td>\n",
       "    </tr>\n",
       "    <tr>\n",
       "      <th>2</th>\n",
       "      <td>50256</td>\n",
       "      <td>84488</td>\n",
       "      <td>1963</td>\n",
       "      <td>648518346492077650</td>\n",
       "    </tr>\n",
       "    <tr>\n",
       "      <th>3</th>\n",
       "      <td>50240</td>\n",
       "      <td>85608</td>\n",
       "      <td>2023</td>\n",
       "      <td>648518346505454978</td>\n",
       "    </tr>\n",
       "  </tbody>\n",
       "</table>\n",
       "</div>"
      ]
     },
     "metadata": {},
     "execution_count": 19
    }
   ],
   "metadata": {}
  },
  {
   "cell_type": "code",
   "execution_count": 22,
   "source": [
    "output_s = output_appended.drop_duplicates(keep='first', subset='segIDs')\n",
    "output_s"
   ],
   "outputs": [
    {
     "output_type": "execute_result",
     "data": {
      "text/plain": [
       "       x      y     z              segIDs\n",
       "0  50816  85456  1880  648518346490989503\n",
       "1  49944  85696  1908  648518346490988223\n",
       "2  50256  84488  1963  648518346492077650\n",
       "3  50240  85608  2023  648518346505454978"
      ],
      "text/html": [
       "<div>\n",
       "<style scoped>\n",
       "    .dataframe tbody tr th:only-of-type {\n",
       "        vertical-align: middle;\n",
       "    }\n",
       "\n",
       "    .dataframe tbody tr th {\n",
       "        vertical-align: top;\n",
       "    }\n",
       "\n",
       "    .dataframe thead th {\n",
       "        text-align: right;\n",
       "    }\n",
       "</style>\n",
       "<table border=\"1\" class=\"dataframe\">\n",
       "  <thead>\n",
       "    <tr style=\"text-align: right;\">\n",
       "      <th></th>\n",
       "      <th>x</th>\n",
       "      <th>y</th>\n",
       "      <th>z</th>\n",
       "      <th>segIDs</th>\n",
       "    </tr>\n",
       "  </thead>\n",
       "  <tbody>\n",
       "    <tr>\n",
       "      <th>0</th>\n",
       "      <td>50816</td>\n",
       "      <td>85456</td>\n",
       "      <td>1880</td>\n",
       "      <td>648518346490989503</td>\n",
       "    </tr>\n",
       "    <tr>\n",
       "      <th>1</th>\n",
       "      <td>49944</td>\n",
       "      <td>85696</td>\n",
       "      <td>1908</td>\n",
       "      <td>648518346490988223</td>\n",
       "    </tr>\n",
       "    <tr>\n",
       "      <th>2</th>\n",
       "      <td>50256</td>\n",
       "      <td>84488</td>\n",
       "      <td>1963</td>\n",
       "      <td>648518346492077650</td>\n",
       "    </tr>\n",
       "    <tr>\n",
       "      <th>3</th>\n",
       "      <td>50240</td>\n",
       "      <td>85608</td>\n",
       "      <td>2023</td>\n",
       "      <td>648518346505454978</td>\n",
       "    </tr>\n",
       "  </tbody>\n",
       "</table>\n",
       "</div>"
      ]
     },
     "metadata": {},
     "execution_count": 22
    }
   ],
   "metadata": {}
  },
  {
   "cell_type": "code",
   "execution_count": 24,
   "source": [
    "output_s.to_csv('../Output/cellbody_cord_id.csv', index=False)"
   ],
   "outputs": [],
   "metadata": {}
  },
  {
   "cell_type": "code",
   "execution_count": null,
   "source": [],
   "outputs": [],
   "metadata": {}
  }
 ],
 "metadata": {
  "interpreter": {
   "hash": "c3593f56db3fdc375a231e1c1fb5fc1dbab03dc3894478fa0aaa4bb9b486beca"
  },
  "kernelspec": {
   "display_name": "nuclei",
   "language": "python",
   "name": "nuclei"
  },
  "language_info": {
   "codemirror_mode": {
    "name": "ipython",
    "version": 3
   },
   "file_extension": ".py",
   "mimetype": "text/x-python",
   "name": "python",
   "nbconvert_exporter": "python",
   "pygments_lexer": "ipython3",
   "version": "3.7.11"
  },
  "orig_nbformat": 4
 },
 "nbformat": 4,
 "nbformat_minor": 2
}