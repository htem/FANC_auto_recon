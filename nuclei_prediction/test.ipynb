{
 "cells": [
  {
   "cell_type": "markdown",
   "metadata": {},
   "source": [
    "test 2021\n"
   ]
  },
  {
   "cell_type": "code",
   "execution_count": 1,
   "metadata": {},
   "outputs": [
    {
     "name": "stdout",
     "output_type": "stream",
     "text": [
      "/usr/local/bin/python\n"
     ]
    }
   ],
   "source": [
    "import sys\n",
    "print(sys.executable)"
   ]
  },
  {
   "cell_type": "code",
   "execution_count": null,
   "metadata": {},
   "outputs": [],
   "source": [
    "from cloudvolume import CloudVolume"
   ]
  },
  {
   "cell_type": "code",
   "execution_count": null,
   "metadata": {},
   "outputs": [],
   "source": [
    "vol = CloudVolume('gs://mylab/mouse/image', parallel=True, progress=True)\n",
    "image = vol[:,:,:] # Download a whole image stack into a numpy array from the cloud\n",
    "vol[:,:,:] = image # Upload an entire image stack from a numpy array to the cloud\n",
    "\n",
    "label = 1\n",
    "mesh = vol.mesh.get(label)\n",
    "skel = vol.skeleton.get(label) "
   ]
  },
  {
   "cell_type": "code",
   "execution_count": 2,
   "metadata": {},
   "outputs": [
    {
     "data": {
      "text/plain": [
       "{'Image': {'url': 'precomputed://gs://zetta_lee_fly_vnc_001_precomputed/fanc_v4_em',\n",
       "  'resolution': '[4.3,4.3,45]'},\n",
       " 'FANC_production_segmentation': {'url': 'graphene://https://wclee.api.zetta.ai/segmentation/table/vnc1_full_v3align_2_v4',\n",
       "  'resolution': '[4.3,4.3,45]'}}"
      ]
     },
     "execution_count": 2,
     "metadata": {},
     "output_type": "execute_result"
    }
   ],
   "source": [
    "{\n",
    "  \"Image\": {\n",
    "    \"url\": \"precomputed://gs://zetta_lee_fly_vnc_001_precomputed/fanc_v4_em\",\n",
    "    \"resolution\": \"[4.3,4.3,45]\"\n",
    "  },\n",
    "  \"FANC_production_segmentation\": {\n",
    "    \"url\": \"graphene://https://wclee.api.zetta.ai/segmentation/table/vnc1_full_v3align_2_v4\",\n",
    "    \"resolution\": \"[4.3,4.3,45]\"\n",
    "  }\n",
    "}"
   ]
  },
  {
   "cell_type": "markdown",
   "metadata": {},
   "source": [
    "read cloud-volume md"
   ]
  },
  {
   "cell_type": "code",
   "execution_count": null,
   "metadata": {},
   "outputs": [],
   "source": []
  },
  {
   "cell_type": "code",
   "execution_count": null,
   "metadata": {},
   "outputs": [],
   "source": []
  }
 ],
 "metadata": {
  "kernelspec": {
   "display_name": "nuclei",
   "language": "python",
   "name": "nuclei"
  },
  "language_info": {
   "codemirror_mode": {
    "name": "ipython",
    "version": 3
   },
   "file_extension": ".py",
   "mimetype": "text/x-python",
   "name": "python",
   "nbconvert_exporter": "python",
   "pygments_lexer": "ipython3",
   "version": "3.7.11"
  },
  "orig_nbformat": 4
 },
 "nbformat": 4,
 "nbformat_minor": 2
}