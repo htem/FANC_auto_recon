{
 "cells": [
  {
   "cell_type": "markdown",
   "metadata": {},
   "source": [
    "test 2021\n"
   ]
  },
  {
   "cell_type": "code",
   "execution_count": null,
   "metadata": {},
   "outputs": [],
   "source": [
    "import sys\n",
    "print(sys.executable)"
   ]
  },
  {
   "cell_type": "code",
   "execution_count": null,
   "metadata": {},
   "outputs": [],
   "source": [
    "{\n",
    "  \"Image\": {\n",
    "    \"url\": \"precomputed://gs://zetta_lee_fly_vnc_001_precomputed/fanc_v4_em\",\n",
    "    \"resolution\": \"[4.3,4.3,45]\"\n",
    "  },\n",
    "  \"FANC_production_segmentation\": {\n",
    "    \"url\": \"graphene://https://wclee.api.zetta.ai/segmentation/table/vnc1_full_v3align_2_v4\",\n",
    "    \"resolution\": \"[4.3,4.3,45]\"\n",
    "  }\n",
    "}"
   ]
  },
  {
   "cell_type": "markdown",
   "metadata": {},
   "source": [
    "Introduction to cloud-volume https://github.com/seung-lab/cloud-volume/wiki/Reading-Public-Data-Examples"
   ]
  },
  {
   "cell_type": "code",
   "execution_count": 1,
   "metadata": {},
   "outputs": [],
   "source": [
    "from cloudvolume import CloudVolume, view\n",
    "\n",
    "# 1. Initialize a CloudVolume object which will know how to read from this dataset layer. \n",
    "cv = CloudVolume(\n",
    "   'https://storage.googleapis.com/neuroglancer-public-data/kasthuri2011/image_color_corrected', \n",
    "    progress=True, # shows progress bar\n",
    "    cache=True, # cache to disk to avoid repeated downloads\n",
    "    # parallel=True, # uncomment to try parallel download!\n",
    ")\n",
    "\n",
    "# eroror\n",
    "# module 'typing' has no attribute '_ClassVar'\n",
    "# https://github.com/huggingface/transformers/issues/8638\n",
    "# https://www.gitmemory.com/issue/google/flax/269/630253478\n",
    "# pip uninstall dataclasses"
   ]
  },
  {
   "cell_type": "code",
   "execution_count": 2,
   "metadata": {},
   "outputs": [
    {
     "name": "stderr",
     "output_type": "stream",
     "text": [
      "Downloading:  99%|█████████▉| 161/162 [00:12<00:00, 15.12it/s]"
     ]
    }
   ],
   "source": [
    "# 2. Download context around the point in the Neuroglancer link above\n",
    "#    into a numpy array.\n",
    "# argument one is the (x,y,z) coordinate from neuroglancer\n",
    "# mip=resolution level (smaller mips are higher resolution, highest is 0)\n",
    "# size is in voxels\n",
    "img = cv.download_point( (5188, 9096, 1198), mip=0, size=(512, 512, 64) )"
   ]
  },
  {
   "cell_type": "code",
   "execution_count": 3,
   "metadata": {},
   "outputs": [
    {
     "name": "stdout",
     "output_type": "stream",
     "text": [
      "Viewer server listening to http://localhost:8080\n"
     ]
    },
    {
     "name": "stderr",
     "output_type": "stream",
     "text": [
      "Downloading: 100%|██████████| 162/162 [00:22<00:00, 15.12it/s]127.0.0.1 - - [08/Jul/2021 01:09:29] \"GET / HTTP/1.1\" 200 -\n",
      "127.0.0.1 - - [08/Jul/2021 01:09:29] \"GET /jquery-3.3.1.js HTTP/1.1\" 200 -\n",
      "127.0.0.1 - - [08/Jul/2021 01:09:30] \"GET /datacube.js HTTP/1.1\" 200 -\n",
      "127.0.0.1 - - [08/Jul/2021 01:09:31] \"GET /favicon.ico HTTP/1.1\" 200 -\n",
      "127.0.0.1 - - [08/Jul/2021 01:09:31] \"GET /parameters HTTP/1.1\" 200 -\n",
      "127.0.0.1 - - [08/Jul/2021 01:09:32] \"GET /channel HTTP/1.1\" 200 -\n"
     ]
    },
    {
     "name": "stdout",
     "output_type": "stream",
     "text": [
      "\n",
      "Continuing program execution...\n"
     ]
    }
   ],
   "source": [
    "# 3. Visualize the image! \n",
    "# Open your browser to https://localhost:8080 to view\n",
    "# Press ctrl-C to continue script execution.\n",
    "view(img)"
   ]
  },
  {
   "cell_type": "code",
   "execution_count": 4,
   "metadata": {},
   "outputs": [],
   "source": [
    "# 4. When you're done experimenting, clean up the space we used on disk.\n",
    "cv.cache.flush() "
   ]
  }
 ],
 "metadata": {
  "kernelspec": {
   "display_name": "nuclei",
   "language": "python",
   "name": "nuclei"
  },
  "language_info": {
   "codemirror_mode": {
    "name": "ipython",
    "version": 3
   },
   "file_extension": ".py",
   "mimetype": "text/x-python",
   "name": "python",
   "nbconvert_exporter": "python",
   "pygments_lexer": "ipython3",
   "version": "3.7.11"
  },
  "orig_nbformat": 4
 },
 "nbformat": 4,
 "nbformat_minor": 2
}