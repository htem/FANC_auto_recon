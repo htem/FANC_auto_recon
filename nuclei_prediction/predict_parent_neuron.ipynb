{
 "cells": [
  {
   "cell_type": "markdown",
   "source": [
    "# Predict parent neuron\n",
    "Using Jasper's idea to predict parent neurons for nuclei, Thank you so much, Jasper."
   ],
   "metadata": {}
  },
  {
   "cell_type": "code",
   "execution_count": 1,
   "source": [
    "# libraries 1\n",
    "import numpy as np\n",
    "from PIL import Image\n",
    "import matplotlib.pyplot as plt\n",
    "import sys\n",
    "import os\n",
    "import pandas as pd\n",
    "import csv\n",
    "from tqdm import tqdm\n",
    "import fill_voids\n",
    "\n",
    "from cloudvolume import CloudVolume, view, Bbox\n",
    "import cc3d\n",
    "from tifffile.tifffile import imwrite"
   ],
   "outputs": [],
   "metadata": {}
  },
  {
   "cell_type": "code",
   "execution_count": 2,
   "source": [
    "# libraries 2\n",
    "# %pwd\n",
    "sys.path.append(os.path.abspath(\"../segmentation\"))\n",
    "# to import rootID_lookup and authentication_utils like below\n",
    "\n",
    "import rootID_lookup as IDlook\n",
    "import authentication_utils as auth"
   ],
   "outputs": [],
   "metadata": {}
  },
  {
   "cell_type": "code",
   "execution_count": 3,
   "source": [
    "np.random.seed(123)"
   ],
   "outputs": [],
   "metadata": {}
  },
  {
   "cell_type": "code",
   "execution_count": 4,
   "source": [
    "# cv setting\n",
    "seg = CloudVolume(auth.get_cv_path('FANC_production_segmentation')['url'], use_https=True, agglomerate=False, cache=True, progress=False)"
   ],
   "outputs": [],
   "metadata": {}
  },
  {
   "cell_type": "code",
   "execution_count": 5,
   "source": [
    "# read csv"
   ],
   "outputs": [],
   "metadata": {}
  },
  {
   "cell_type": "code",
   "execution_count": 6,
   "source": [
    "# cord = (50816, 85456,  1880) #mip0\n",
    "id = (648518346490989503)"
   ],
   "outputs": [],
   "metadata": {}
  },
  {
   "cell_type": "code",
   "execution_count": null,
   "source": [
    "# cord[0]"
   ],
   "outputs": [],
   "metadata": {}
  },
  {
   "cell_type": "code",
   "execution_count": null,
   "source": [
    "# change coordination from mip0 to mip2\n",
    "\"\"\" coord_mip2 = cord\n",
    "coord_mip2[0]  = (cord[0] /(2**2))\n",
    "coord_mip2[1]  = (cord[1] /(2**2))\n",
    "coord_mip2 = coord_mip2.astype('int64')\n",
    "coord_mip2 \"\"\""
   ],
   "outputs": [],
   "metadata": {}
  },
  {
   "cell_type": "code",
   "execution_count": 7,
   "source": [
    "cord_mip2 = np.array([12704, 21364,  1880]) #mip2\n"
   ],
   "outputs": [],
   "metadata": {}
  },
  {
   "cell_type": "code",
   "execution_count": 8,
   "source": [
    "type(id)\n",
    "size_xy = 160 # 160/(2**2)??\n",
    "# 128x128x160 is small"
   ],
   "outputs": [],
   "metadata": {}
  },
  {
   "cell_type": "code",
   "execution_count": 9,
   "source": [
    "seg_nuc = seg.download_point(pt=cord_mip2, segids=id, size=[size_xy, size_xy, 160], coord_resolution=[17.2, 17.2, 45.0])\n",
    "# lowest resolution of seg is [17.2, 17.2, 45.0]"
   ],
   "outputs": [],
   "metadata": {}
  },
  {
   "cell_type": "code",
   "execution_count": 10,
   "source": [
    "# view(seg_nuc, segmentation=True)"
   ],
   "outputs": [],
   "metadata": {}
  },
  {
   "cell_type": "code",
   "execution_count": 11,
   "source": [
    "vol_temp = seg_nuc[:,:,:]\n",
    "vol_temp[vol_temp>0] = 1 # change segID assigned to each cell body into 1\n",
    "vol = np.squeeze(vol_temp)"
   ],
   "outputs": [],
   "metadata": {}
  },
  {
   "cell_type": "code",
   "execution_count": 12,
   "source": [
    "# save images\n",
    "# volume = vol.swapaxes(0, 2).astype('float32')\n",
    "# imwrite('../Output/vol.tif', volume, imagej=True)"
   ],
   "outputs": [],
   "metadata": {}
  },
  {
   "cell_type": "code",
   "execution_count": 13,
   "source": [
    "# fill the empty space with one \n",
    "filled = fill_voids.fill(vol, in_place=False)\n",
    "# ignore warning"
   ],
   "outputs": [
    {
     "output_type": "stream",
     "name": "stderr",
     "text": [
      "/usr/local/pip-global/ipykernel_launcher.py:2: DeprecationWarning: `np.bool` is a deprecated alias for the builtin `bool`. To silence this warning, use `bool` by itself. Doing this will not modify any behavior and is safe. If you specifically wanted the numpy scalar type, use `np.bool_` here.\n",
      "Deprecated in NumPy 1.20; for more details and guidance: https://numpy.org/devdocs/release/1.20.0-notes.html#deprecations\n",
      "  \n"
     ]
    }
   ],
   "metadata": {}
  },
  {
   "cell_type": "code",
   "execution_count": null,
   "source": [
    "# check fill quality\n",
    "volume = vol.astype('float32').swapaxes(0, 2)\n",
    "imwrite('../Output/filltest_vol.tif', volume, imagej=True)\n",
    "\n",
    "volume = filled.astype('float32').swapaxes(0, 2)\n",
    "imwrite('../Output/filltest_filled.tif', volume, imagej=True)\n",
    "\n",
    "tst = filled-vol\n",
    "volume = tst.astype('float32').swapaxes(0, 2)\n",
    "imwrite('../Output/filltest_diff.tif', volume, imagej=True)"
   ],
   "outputs": [],
   "metadata": {}
  },
  {
   "cell_type": "code",
   "execution_count": 14,
   "source": [
    "def vol_shift(input): # Although np.roll is fast, this is very slow since this overuse RAM\n",
    "    # x plane\n",
    "    x_p = np.roll(input, 1, axis=0)\n",
    "    x_p[0,:,:] = 0\n",
    "    x_n = np.roll(input, -1, axis=0)\n",
    "    x_n[-1,:,:] = 0\n",
    "    # y plane\n",
    "    y_p = np.roll(input, 1, axis=1)\n",
    "    y_p[:,0,:] = 0\n",
    "    y_n = np.roll(input, -1, axis=1)\n",
    "    y_n[:,-1,:] = 0\n",
    "    # z plane\n",
    "    z_p = np.roll(input, 1, axis=2)\n",
    "    z_p[:,:,0] = 0\n",
    "    z_n = np.roll(input, -1, axis=2)\n",
    "    z_n[:,:,-1] = 0\n",
    "\n",
    "    sum = x_p + x_n + y_p + y_n + z_p + z_n\n",
    "    result = sum - input*6\n",
    "\n",
    "    return result"
   ],
   "outputs": [],
   "metadata": {}
  },
  {
   "cell_type": "code",
   "execution_count": 15,
   "source": [
    "shifted = vol_shift(filled)\n",
    "shifted = shifted.astype('float32')\n",
    "shifted[shifted>0] = 1\n",
    "shifted[shifted<0] = 0\n",
    "# volume = shifted.swapaxes(0, 2)\n",
    "# imwrite('../Output/vol_shifted.tif', volume, imagej=True)"
   ],
   "outputs": [],
   "metadata": {}
  },
  {
   "cell_type": "code",
   "execution_count": 16,
   "source": [
    "location_one = np.argwhere(shifted == 1)\n",
    "len(location_one) #142355\n",
    "# I need to decrease the number..."
   ],
   "outputs": [
    {
     "output_type": "execute_result",
     "data": {
      "text/plain": [
       "142355"
      ]
     },
     "metadata": {},
     "execution_count": 16
    }
   ],
   "metadata": {}
  },
  {
   "cell_type": "code",
   "execution_count": 17,
   "source": [
    "if len(location_one):\n",
    "    origin = seg_nuc.bounds.minpt # 3072,5248,1792\n",
    "    parent_coordinates_mip2 = np.add(np.array(location_one), origin)\n",
    "    parent_coordinates = parent_coordinates_mip2\n",
    "    parent_coordinates[:,0]  = (parent_coordinates_mip2[:,0] * 2**2)\n",
    "    parent_coordinates[:,1]  = (parent_coordinates_mip2[:,1] * 2**2)\n",
    "    parent_coordinates = parent_coordinates.astype('int64')\n",
    "\n",
    "    #randomly select 10\n",
    "    # index = np.random.choice(parent_coordinates.shape[0], size=142355, replace=False)\n",
    "    # location_random = parent_coordinates[index]\n",
    "    location_random = parent_coordinates\n",
    "\n",
    "    # Lets get IDs using cell_body_coordinates\n",
    "    parent_IDs = IDlook.segIDs_from_pts_cv(pts=location_random, cv=seg) #mip0\n",
    "\n",
    "    # save\n",
    "    uniqueID, count = np.unique(parent_IDs, return_counts=True)\n",
    "    unsorted_max_indices = np.argpartition(-count, 4)[:4]\n",
    "    topIDs = uniqueID[unsorted_max_indices] # gives me top4 IDs\n",
    "    topIDs2 = topIDs[~(topIDs == id)] # I hope this keeps order\n",
    "    A = np.append(cord_mip2, id).astype('int64')\n",
    "    B = topIDs2.astype('int64')[0:3]\n",
    "    output = np.append(A, B) #top3\n",
    "\n",
    "    output_df = pd.DataFrame(columns=[\"x\", \"y\", \"z\", \"segIDs\", \"Parent1\", \"Parent2\", \"Parent3\"])\n",
    "    output_df.loc[0] = output\n",
    "    name = str(i)\n",
    "    output_df.to_csv('../Output/cellbody_and_neuron_%s.csv' % name, index=False)\n",
    "else:\n",
    "    pass"
   ],
   "outputs": [
    {
     "output_type": "stream",
     "name": "stderr",
     "text": [
      "Segmentation IDs: 100%|██████████| 1/1 [00:00<00:00,  1.26it/s]\n",
      "Segmentation IDs: 100%|██████████| 3/3 [00:02<00:00,  1.39it/s]\n",
      "Segmentation IDs: 100%|██████████| 3/3 [00:00<00:00,  5.37it/s]\n",
      "Segmentation IDs: 100%|██████████| 3/3 [00:00<00:00,  5.58it/s]\n",
      "Segmentation IDs: 100%|██████████| 3/3 [00:00<00:00,  5.44it/s]\n",
      "Segmentation IDs: 100%|██████████| 3/3 [00:00<00:00,  4.54it/s]\n",
      "Segmentation IDs: 100%|██████████| 3/3 [00:00<00:00,  4.38it/s]\n",
      "Segmentation IDs: 100%|██████████| 3/3 [00:00<00:00,  5.05it/s]\n",
      "Segmentation IDs: 100%|██████████| 3/3 [00:00<00:00,  4.88it/s]\n",
      "Segmentation IDs: 100%|██████████| 3/3 [00:00<00:00,  4.60it/s]\n",
      "Segmentation IDs: 100%|██████████| 3/3 [00:01<00:00,  2.90it/s]\n",
      "Segmentation IDs: 100%|██████████| 3/3 [00:01<00:00,  2.34it/s]\n",
      "Segmentation IDs: 100%|██████████| 3/3 [00:00<00:00,  4.19it/s]\n",
      "Segmentation IDs: 100%|██████████| 3/3 [00:00<00:00,  3.64it/s]\n",
      "Segmentation IDs: 100%|██████████| 3/3 [00:00<00:00,  3.28it/s]\n"
     ]
    }
   ],
   "metadata": {}
  },
  {
   "cell_type": "code",
   "execution_count": 76,
   "source": [
    "atatt = pd.DataFrame(columns=[\"x\", \"y\", \"z\", \"segIDs\", \"Parent1\", \"Parent2\", \"Parent3\"])\n",
    "atatt.loc[0] = output\n",
    "atatt"
   ],
   "outputs": [
    {
     "output_type": "execute_result",
     "data": {
      "text/plain": [
       "       x      y     z              segIDs             Parent1  \\\n",
       "0  12704  21364  1880  648518346490989503  648518346505454210   \n",
       "\n",
       "              Parent2             Parent3  \n",
       "0  648518346360795858  648518346360788434  "
      ],
      "text/html": [
       "<div>\n",
       "<style scoped>\n",
       "    .dataframe tbody tr th:only-of-type {\n",
       "        vertical-align: middle;\n",
       "    }\n",
       "\n",
       "    .dataframe tbody tr th {\n",
       "        vertical-align: top;\n",
       "    }\n",
       "\n",
       "    .dataframe thead th {\n",
       "        text-align: right;\n",
       "    }\n",
       "</style>\n",
       "<table border=\"1\" class=\"dataframe\">\n",
       "  <thead>\n",
       "    <tr style=\"text-align: right;\">\n",
       "      <th></th>\n",
       "      <th>x</th>\n",
       "      <th>y</th>\n",
       "      <th>z</th>\n",
       "      <th>segIDs</th>\n",
       "      <th>Parent1</th>\n",
       "      <th>Parent2</th>\n",
       "      <th>Parent3</th>\n",
       "    </tr>\n",
       "  </thead>\n",
       "  <tbody>\n",
       "    <tr>\n",
       "      <th>0</th>\n",
       "      <td>12704</td>\n",
       "      <td>21364</td>\n",
       "      <td>1880</td>\n",
       "      <td>648518346490989503</td>\n",
       "      <td>648518346505454210</td>\n",
       "      <td>648518346360795858</td>\n",
       "      <td>648518346360788434</td>\n",
       "    </tr>\n",
       "  </tbody>\n",
       "</table>\n",
       "</div>"
      ]
     },
     "metadata": {},
     "execution_count": 76
    }
   ],
   "metadata": {}
  },
  {
   "cell_type": "code",
   "execution_count": null,
   "source": [
    "seg_nuc.cache.flush()"
   ],
   "outputs": [],
   "metadata": {}
  },
  {
   "cell_type": "code",
   "execution_count": null,
   "source": [],
   "outputs": [],
   "metadata": {}
  },
  {
   "cell_type": "code",
   "execution_count": null,
   "source": [],
   "outputs": [],
   "metadata": {}
  },
  {
   "cell_type": "code",
   "execution_count": null,
   "source": [
    "# nuclei_cv.mip_volume_size(0)\n",
    "# Vec(86016,225776,4390, dtype=int64)\n",
    "# entire dataset\n",
    "# [ 83968 223232   4390]\n",
    "# why different"
   ],
   "outputs": [],
   "metadata": {}
  },
  {
   "cell_type": "code",
   "execution_count": null,
   "source": [
    "# fill gap inside cel bodies with one?\n",
    "#  maybe this gap is detected with our get_info\n",
    "\n",
    "# read csv \n",
    "# output csv\n",
    "\n",
    "# fill voids\n",
    "# give me top3\n",
    "\n",
    "# get from outside?"
   ],
   "outputs": [],
   "metadata": {}
  },
  {
   "cell_type": "code",
   "execution_count": null,
   "source": [],
   "outputs": [],
   "metadata": {}
  }
 ],
 "metadata": {
  "interpreter": {
   "hash": "c3593f56db3fdc375a231e1c1fb5fc1dbab03dc3894478fa0aaa4bb9b486beca"
  },
  "kernelspec": {
   "display_name": "nuclei",
   "language": "python",
   "name": "nuclei"
  },
  "language_info": {
   "codemirror_mode": {
    "name": "ipython",
    "version": 3
   },
   "file_extension": ".py",
   "mimetype": "text/x-python",
   "name": "python",
   "nbconvert_exporter": "python",
   "pygments_lexer": "ipython3",
   "version": "3.7.11"
  }
 },
 "nbformat": 4,
 "nbformat_minor": 2
}