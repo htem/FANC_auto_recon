{
 "cells": [
  {
   "cell_type": "markdown",
   "source": [
    "# Predict parent neuron\n",
    "Using Jasper's idea to predict parent neurons for nuclei, Thank you so much, Jasper."
   ],
   "metadata": {}
  },
  {
   "cell_type": "code",
   "execution_count": 1,
   "source": [
    "# libraries 1\n",
    "import numpy as np\n",
    "from PIL import Image\n",
    "import matplotlib.pyplot as plt\n",
    "import sys\n",
    "import os\n",
    "import pandas as pd\n",
    "import csv\n",
    "from tqdm import tqdm\n",
    "from scipy import ndimage\n",
    "\n",
    "from cloudvolume import CloudVolume, view, Bbox\n",
    "import cc3d\n",
    "from tifffile.tifffile import imwrite"
   ],
   "outputs": [],
   "metadata": {}
  },
  {
   "cell_type": "code",
   "execution_count": 2,
   "source": [
    "# libraries 2\n",
    "# %pwd\n",
    "sys.path.append(os.path.abspath(\"../segmentation\"))\n",
    "# to import rootID_lookup and authentication_utils like below\n",
    "\n",
    "import rootID_lookup as IDlook\n",
    "import authentication_utils as auth"
   ],
   "outputs": [],
   "metadata": {}
  },
  {
   "cell_type": "code",
   "execution_count": 3,
   "source": [
    "np.random.seed(123)"
   ],
   "outputs": [],
   "metadata": {}
  },
  {
   "cell_type": "code",
   "execution_count": 4,
   "source": [
    "# cv setting\n",
    "seg = CloudVolume(auth.get_cv_path('FANC_production_segmentation')['url'], use_https=True, agglomerate=False, cache=True, progress=False)"
   ],
   "outputs": [],
   "metadata": {}
  },
  {
   "cell_type": "code",
   "execution_count": 5,
   "source": [
    "# read csv"
   ],
   "outputs": [],
   "metadata": {}
  },
  {
   "cell_type": "code",
   "execution_count": 6,
   "source": [
    "# cord = (50816, 85456,  1880) #mip0\n",
    "id = (648518346490989503)"
   ],
   "outputs": [],
   "metadata": {}
  },
  {
   "cell_type": "code",
   "execution_count": 7,
   "source": [
    "# cord[0]"
   ],
   "outputs": [],
   "metadata": {}
  },
  {
   "cell_type": "code",
   "execution_count": null,
   "source": [
    "# change coordination from mip0 to mip2\n",
    "\"\"\" coord_mip2 = cord\n",
    "coord_mip2[0]  = (cord[0] /(2**2))\n",
    "coord_mip2[1]  = (cord[1] /(2**2))\n",
    "coord_mip2 = coord_mip2.astype('int64')\n",
    "coord_mip2 \"\"\""
   ],
   "outputs": [],
   "metadata": {}
  },
  {
   "cell_type": "code",
   "execution_count": 8,
   "source": [
    "cord_mip2 = np.array([12704, 21364,  1880]) #mip2\n"
   ],
   "outputs": [],
   "metadata": {}
  },
  {
   "cell_type": "code",
   "execution_count": 9,
   "source": [
    "type(id)\n",
    "size_xy = 160 # 160/(2**2)??\n",
    "# 128x128x160 is small"
   ],
   "outputs": [],
   "metadata": {}
  },
  {
   "cell_type": "code",
   "execution_count": 10,
   "source": [
    "seg_nuc = seg.download_point(pt=cord_mip2, segids=id, size=[size_xy, size_xy, 160], coord_resolution=[17.2, 17.2, 45.0])\n",
    "# lowest resolution of seg is [17.2, 17.2, 45.0]"
   ],
   "outputs": [],
   "metadata": {}
  },
  {
   "cell_type": "code",
   "execution_count": 11,
   "source": [
    "# view(seg_nuc, segmentation=True)"
   ],
   "outputs": [],
   "metadata": {}
  },
  {
   "cell_type": "code",
   "execution_count": 12,
   "source": [
    "vol_temp = seg_nuc[:,:,:]\n",
    "vol_temp[vol_temp>0] = 1 # change segID assigned to each cell body into 1\n",
    "vol = np.squeeze(vol_temp)"
   ],
   "outputs": [],
   "metadata": {}
  },
  {
   "cell_type": "code",
   "execution_count": 13,
   "source": [
    "# save images\n",
    "# volume = vol.swapaxes(0, 2).astype('float32')\n",
    "# imwrite('../Output/vol.tif', volume, imagej=True)"
   ],
   "outputs": [],
   "metadata": {}
  },
  {
   "cell_type": "code",
   "execution_count": 29,
   "source": [
    "# fill the empty space with one \n",
    "filled = ndimage.binary_fill_holes(vol).astype(int)\n",
    "filled2 = filled.astype('float32')\n",
    "filled2[filled2>0] = 1"
   ],
   "outputs": [],
   "metadata": {}
  },
  {
   "cell_type": "code",
   "execution_count": 30,
   "source": [
    "volume = filled2.swapaxes(0, 2)\n",
    "imwrite('../Output/vol_filled2.tif', volume, imagej=True)"
   ],
   "outputs": [],
   "metadata": {}
  },
  {
   "cell_type": "code",
   "execution_count": 17,
   "source": [
    "def vol_shift(input): # Although np.roll is fast, this is very slow since this overuse RAM\n",
    "    # x plane\n",
    "    x_p = np.roll(input, 1, axis=0)\n",
    "    x_p[0,:,:] = 0\n",
    "    x_n = np.roll(input, -1, axis=0)\n",
    "    x_n[-1,:,:] = 0\n",
    "    # y plane\n",
    "    y_p = np.roll(input, 1, axis=1)\n",
    "    y_p[:,0,:] = 0\n",
    "    y_n = np.roll(input, -1, axis=1)\n",
    "    y_n[:,-1,:] = 0\n",
    "    # z plane\n",
    "    z_p = np.roll(input, 1, axis=2)\n",
    "    z_p[:,:,0] = 0\n",
    "    z_n = np.roll(input, -1, axis=2)\n",
    "    z_n[:,:,-1] = 0\n",
    "\n",
    "    sum = x_p + x_n + y_p + y_n + z_p + z_n\n",
    "    result = sum - input*6\n",
    "\n",
    "    return result"
   ],
   "outputs": [],
   "metadata": {}
  },
  {
   "cell_type": "code",
   "execution_count": 18,
   "source": [
    "shifted = vol_shift(filled)\n",
    "shifted = shifted.astype('float32')\n",
    "shifted[shifted>0] = 1\n",
    "volume = shifted.swapaxes(0, 2)\n",
    "imwrite('../Output/vol_shifted.tif', volume, imagej=True)"
   ],
   "outputs": [],
   "metadata": {}
  },
  {
   "cell_type": "code",
   "execution_count": null,
   "source": [
    "location_one = np.argwhere(shifted == 1)\n",
    "len(location_one) #143518 \n",
    "# I need to decrease the number..."
   ],
   "outputs": [],
   "metadata": {}
  },
  {
   "cell_type": "code",
   "execution_count": null,
   "source": [
    "if len(location_one):\n",
    "    origin = seg_nuc.bounds.minpt # 3072,5248,1792\n",
    "    parent_coordinates_mip2 = np.add(np.array(location_one), origin)\n",
    "    parent_coordinates = parent_coordinates_mip2\n",
    "    parent_coordinates[:,0]  = (parent_coordinates_mip2[:,0] * 2**2)\n",
    "    parent_coordinates[:,1]  = (parent_coordinates_mip2[:,1] * 2**2)\n",
    "    parent_coordinates = parent_coordinates.astype('int64')\n",
    "\n",
    "    #randomly select 10\n",
    "    index = np.random.choice(parent_coordinates.shape[0], size=10, replace=False)\n",
    "    location_random = parent_coordinates[index]\n",
    "\n",
    "    # Lets get IDs using cell_body_coordinates\n",
    "    parent_IDs = IDlook.segIDs_from_pts_cv(pts=location_random, cv=seg) #mip0\n",
    "\n",
    "    # save\n",
    "    # type(cell_body_coordinates.shape)\n",
    "    # cord_pd = pd.DataFrame(cell_body_coordinates, columns=[\"x\", \"y\", \"z\"])\n",
    "    # temp = cord_pd\n",
    "    # temp['segIDs'] = cell_body_IDs\n",
    "    # output.append(temp)\n",
    "else:\n",
    "    pass"
   ],
   "outputs": [],
   "metadata": {}
  },
  {
   "cell_type": "code",
   "execution_count": null,
   "source": [
    "parent_IDs "
   ],
   "outputs": [],
   "metadata": {}
  },
  {
   "cell_type": "code",
   "execution_count": null,
   "source": [
    "index = np.random.choice(parent_coordinates.shape[0], size=10, replace=False)\n",
    "location_random = parent_coordinates[index]\n"
   ],
   "outputs": [],
   "metadata": {}
  },
  {
   "cell_type": "code",
   "execution_count": null,
   "source": [
    "parent_coordinates.shape"
   ],
   "outputs": [],
   "metadata": {}
  },
  {
   "cell_type": "code",
   "execution_count": null,
   "source": [
    "seg_nuc.cache.flush()"
   ],
   "outputs": [],
   "metadata": {}
  },
  {
   "cell_type": "code",
   "execution_count": null,
   "source": [],
   "outputs": [],
   "metadata": {}
  },
  {
   "cell_type": "code",
   "execution_count": null,
   "source": [],
   "outputs": [],
   "metadata": {}
  },
  {
   "cell_type": "code",
   "execution_count": null,
   "source": [
    "# nuclei_cv.mip_volume_size(0)\n",
    "# Vec(86016,225776,4390, dtype=int64)\n",
    "# entire dataset\n",
    "# [ 83968 223232   4390]\n",
    "# why different"
   ],
   "outputs": [],
   "metadata": {}
  },
  {
   "cell_type": "code",
   "execution_count": null,
   "source": [
    "# fill gap inside cel bodies with one?\n",
    "#  maybe this gap is detected with our get_info\n",
    "\n",
    "# read csv \n",
    "# output csv"
   ],
   "outputs": [],
   "metadata": {}
  },
  {
   "cell_type": "code",
   "execution_count": null,
   "source": [],
   "outputs": [],
   "metadata": {}
  }
 ],
 "metadata": {
  "interpreter": {
   "hash": "c3593f56db3fdc375a231e1c1fb5fc1dbab03dc3894478fa0aaa4bb9b486beca"
  },
  "kernelspec": {
   "display_name": "nuclei",
   "language": "python",
   "name": "nuclei"
  },
  "language_info": {
   "codemirror_mode": {
    "name": "ipython",
    "version": 3
   },
   "file_extension": ".py",
   "mimetype": "text/x-python",
   "name": "python",
   "nbconvert_exporter": "python",
   "pygments_lexer": "ipython3",
   "version": "3.7.11"
  }
 },
 "nbformat": 4,
 "nbformat_minor": 2
}