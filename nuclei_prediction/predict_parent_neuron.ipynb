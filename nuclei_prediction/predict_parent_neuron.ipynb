{
 "cells": [
  {
   "cell_type": "markdown",
   "source": [
    "# Predict parent neuron\n",
    "Using Jasper's idea to predict parent neurons for nuclei, Thank you so much, Jasper."
   ],
   "metadata": {}
  },
  {
   "cell_type": "code",
   "execution_count": 1,
   "source": [
    "# libraries 1\n",
    "import numpy as np\n",
    "import pyperclip\n",
    "import pandas as pd\n",
    "import pyperclip\n",
    "from cloudvolume import CloudVolume, view, Bbox\n",
    "from nglui.statebuilder import *\n",
    "import json\n",
    "from tqdm import tqdm\n",
    "import argparse\n",
    "\n",
    "from PIL import Image\n",
    "import matplotlib.pyplot as plt\n",
    "import sys\n",
    "import os\n",
    "import csv\n",
    "\n",
    "from tifffile.tifffile import imwrite\n",
    "\n",
    "sys.path.append(os.path.abspath(\"../segmentation\"))\n",
    "import authentication_utils as auth\n",
    "import rootID_lookup as IDlook"
   ],
   "outputs": [],
   "metadata": {}
  },
  {
   "cell_type": "code",
   "execution_count": 2,
   "source": [
    "np.random.seed(123)"
   ],
   "outputs": [],
   "metadata": {}
  },
  {
   "cell_type": "code",
   "execution_count": 3,
   "source": [
    "# read csv file\n",
    "df = pd.read_csv('../Output/body_info.csv', header=0)\n",
    "len(df)"
   ],
   "outputs": [
    {
     "output_type": "execute_result",
     "data": {
      "text/plain": [
       "17134"
      ]
     },
     "metadata": {},
     "execution_count": 3
    }
   ],
   "metadata": {}
  },
  {
   "cell_type": "code",
   "execution_count": 8,
   "source": [
    "# Create Neuroglancer links\n",
    "# https://github.com/bjm5164/rotation_projects/blob/main/statebuilder_examples.ipynb\n",
    "imgTokyo = ImageLayerConfig(name = 'FANC_EM_Tokyo',\n",
    "                                    source = auth.get_cv_path('Image_Tokyo')['url'])\n",
    "img = ImageLayerConfig(name = 'FANC_EM',\n",
    "                                    source = auth.get_cv_path('Image')['url'])\n",
    "nuc = ImageLayerConfig(name = 'nuclei_Jul2021',\n",
    "                                    source = auth.get_cv_path('nuclei_map_Jul2021')['url'])      \n",
    "nuc_seg = ImageLayerConfig(name = 'nuclei_Jul2021_seg',\n",
    "                                    source = auth.get_cv_path('nuclei_seg_Jul2021')['url'])      \n",
    "# volume = SegmentationLayerConfig(name = 'volume_outlines',\n",
    "#                                    source = auth.get_cv_path('Image')['url'])   \n",
    "\n",
    "LINK=[]\n",
    "k=100\n",
    "minidfs = [df.loc[i:i+k-1, :] for i in range(0, len(df), k)]\n",
    "for dftemp in minidfs:\n",
    "    seg = SegmentationLayerConfig(name = 'FANC_production_segmentation',\n",
    "                                        active = True,\n",
    "                                        source = auth.get_cv_path('FANC_production_segmentation')['url'],\n",
    "                                        selected_ids_column='nuc_segID')                                 \n",
    "    sb = StateBuilder(layers=[imgTokyo, seg, img, nuc, nuc_seg],resolution=[4.3,4.3,45]) # view_kws=view_options\n",
    "    output = sb.render_state(dftemp) #return_as='html'\n",
    "    LINK.append(output)"
   ],
   "outputs": [],
   "metadata": {}
  },
  {
   "cell_type": "code",
   "execution_count": 9,
   "source": [
    "LINK2 = pd.DataFrame(LINK)\n",
    "LINK2.to_csv('../Output/nuc_links.csv', index=False, header=False)"
   ],
   "outputs": [],
   "metadata": {}
  },
  {
   "cell_type": "code",
   "execution_count": null,
   "source": [],
   "outputs": [],
   "metadata": {}
  },
  {
   "cell_type": "code",
   "execution_count": 9,
   "source": [
    "# T1MN_somas test\n",
    "MNsomas = pd.read_csv('../Output/T1MN_somas.csv', header=0)\n",
    "MNsomas['pt_root_id'].values\n",
    "\n",
    "exist = []\n",
    "no_exist = []\n",
    "for i in MNsomas['pt_root_id'].values:\n",
    "    if i in df['body_segID'].values:\n",
    "        exist.append(i)\n",
    "    else:\n",
    "        no_exist.append(i)\n",
    "\n",
    "print(no_exist)"
   ],
   "outputs": [
    {
     "output_type": "stream",
     "name": "stdout",
     "text": [
      "[648518346486520985, 648518346470147995, 648518346472220107, 648518346489586393, 648518346488111357, 648518346473993325, 648518346484103178, 648518346499209563, 648518346500966285, 648518346488109309, 648518346489861073, 648518346497274037]\n"
     ]
    }
   ],
   "metadata": {}
  },
  {
   "cell_type": "code",
   "execution_count": 11,
   "source": [
    "MNsomas"
   ],
   "outputs": [
    {
     "output_type": "execute_result",
     "data": {
      "text/plain": [
       "     Unnamed: 0         name  cell_type            pt_position  \\\n",
       "0             0  MN_A101_T1L        NaN  [13329, 114635, 1861]   \n",
       "1             1  MN_A101_T1R        NaN  [63394, 114393, 2304]   \n",
       "2             2  MN_A102_T1L        NaN  [11729, 116735, 1478]   \n",
       "3             3  MN_A102_T1R        NaN  [63084, 116459, 2863]   \n",
       "4             4  MN_A103_T1R        NaN  [59659, 115855, 2065]   \n",
       "..          ...          ...        ...                    ...   \n",
       "116         116  MN_V202_T1R        NaN   [53634, 90750, 1823]   \n",
       "117         117  MN_V401_T1L        NaN   [17144, 89099, 2005]   \n",
       "118         118  MN_V402_T1L        NaN   [23167, 87333, 2184]   \n",
       "119         119  MN_V501_T1R        NaN   [54883, 84397, 2319]   \n",
       "120         120  MN_V601_T1L        NaN   [21122, 88740, 2060]   \n",
       "\n",
       "             pt_root_id  soma_x_nm  soma_y_nm  soma_z_nm  found  table_name  \n",
       "0    648518346482465065    57314.7   492930.5    83745.0    NaN  T1MN_somas  \n",
       "1    648518346494371895   272594.2   491889.9   103680.0    NaN  T1MN_somas  \n",
       "2    648518346486605539    50434.7   501960.5    66510.0    NaN  T1MN_somas  \n",
       "3    648518346513703705   271261.2   500773.7   128835.0    NaN  T1MN_somas  \n",
       "4    648518346482874378   256533.7   498176.5    92925.0    NaN  T1MN_somas  \n",
       "..                  ...        ...        ...        ...    ...         ...  \n",
       "116  648518346499419717   230626.2   390225.0    82035.0    NaN  T1MN_somas  \n",
       "117  648518346509893335    73719.2   383125.7    90225.0    NaN  T1MN_somas  \n",
       "118  648518346481306305    99618.1   375531.9    98280.0    NaN  T1MN_somas  \n",
       "119  648518346497794202   235996.9   362907.1   104355.0    NaN  T1MN_somas  \n",
       "120  648518346488475633    90824.6   381582.0    92700.0    NaN  T1MN_somas  \n",
       "\n",
       "[121 rows x 10 columns]"
      ],
      "text/html": [
       "<div>\n",
       "<style scoped>\n",
       "    .dataframe tbody tr th:only-of-type {\n",
       "        vertical-align: middle;\n",
       "    }\n",
       "\n",
       "    .dataframe tbody tr th {\n",
       "        vertical-align: top;\n",
       "    }\n",
       "\n",
       "    .dataframe thead th {\n",
       "        text-align: right;\n",
       "    }\n",
       "</style>\n",
       "<table border=\"1\" class=\"dataframe\">\n",
       "  <thead>\n",
       "    <tr style=\"text-align: right;\">\n",
       "      <th></th>\n",
       "      <th>Unnamed: 0</th>\n",
       "      <th>name</th>\n",
       "      <th>cell_type</th>\n",
       "      <th>pt_position</th>\n",
       "      <th>pt_root_id</th>\n",
       "      <th>soma_x_nm</th>\n",
       "      <th>soma_y_nm</th>\n",
       "      <th>soma_z_nm</th>\n",
       "      <th>found</th>\n",
       "      <th>table_name</th>\n",
       "    </tr>\n",
       "  </thead>\n",
       "  <tbody>\n",
       "    <tr>\n",
       "      <th>0</th>\n",
       "      <td>0</td>\n",
       "      <td>MN_A101_T1L</td>\n",
       "      <td>NaN</td>\n",
       "      <td>[13329, 114635, 1861]</td>\n",
       "      <td>648518346482465065</td>\n",
       "      <td>57314.7</td>\n",
       "      <td>492930.5</td>\n",
       "      <td>83745.0</td>\n",
       "      <td>NaN</td>\n",
       "      <td>T1MN_somas</td>\n",
       "    </tr>\n",
       "    <tr>\n",
       "      <th>1</th>\n",
       "      <td>1</td>\n",
       "      <td>MN_A101_T1R</td>\n",
       "      <td>NaN</td>\n",
       "      <td>[63394, 114393, 2304]</td>\n",
       "      <td>648518346494371895</td>\n",
       "      <td>272594.2</td>\n",
       "      <td>491889.9</td>\n",
       "      <td>103680.0</td>\n",
       "      <td>NaN</td>\n",
       "      <td>T1MN_somas</td>\n",
       "    </tr>\n",
       "    <tr>\n",
       "      <th>2</th>\n",
       "      <td>2</td>\n",
       "      <td>MN_A102_T1L</td>\n",
       "      <td>NaN</td>\n",
       "      <td>[11729, 116735, 1478]</td>\n",
       "      <td>648518346486605539</td>\n",
       "      <td>50434.7</td>\n",
       "      <td>501960.5</td>\n",
       "      <td>66510.0</td>\n",
       "      <td>NaN</td>\n",
       "      <td>T1MN_somas</td>\n",
       "    </tr>\n",
       "    <tr>\n",
       "      <th>3</th>\n",
       "      <td>3</td>\n",
       "      <td>MN_A102_T1R</td>\n",
       "      <td>NaN</td>\n",
       "      <td>[63084, 116459, 2863]</td>\n",
       "      <td>648518346513703705</td>\n",
       "      <td>271261.2</td>\n",
       "      <td>500773.7</td>\n",
       "      <td>128835.0</td>\n",
       "      <td>NaN</td>\n",
       "      <td>T1MN_somas</td>\n",
       "    </tr>\n",
       "    <tr>\n",
       "      <th>4</th>\n",
       "      <td>4</td>\n",
       "      <td>MN_A103_T1R</td>\n",
       "      <td>NaN</td>\n",
       "      <td>[59659, 115855, 2065]</td>\n",
       "      <td>648518346482874378</td>\n",
       "      <td>256533.7</td>\n",
       "      <td>498176.5</td>\n",
       "      <td>92925.0</td>\n",
       "      <td>NaN</td>\n",
       "      <td>T1MN_somas</td>\n",
       "    </tr>\n",
       "    <tr>\n",
       "      <th>...</th>\n",
       "      <td>...</td>\n",
       "      <td>...</td>\n",
       "      <td>...</td>\n",
       "      <td>...</td>\n",
       "      <td>...</td>\n",
       "      <td>...</td>\n",
       "      <td>...</td>\n",
       "      <td>...</td>\n",
       "      <td>...</td>\n",
       "      <td>...</td>\n",
       "    </tr>\n",
       "    <tr>\n",
       "      <th>116</th>\n",
       "      <td>116</td>\n",
       "      <td>MN_V202_T1R</td>\n",
       "      <td>NaN</td>\n",
       "      <td>[53634, 90750, 1823]</td>\n",
       "      <td>648518346499419717</td>\n",
       "      <td>230626.2</td>\n",
       "      <td>390225.0</td>\n",
       "      <td>82035.0</td>\n",
       "      <td>NaN</td>\n",
       "      <td>T1MN_somas</td>\n",
       "    </tr>\n",
       "    <tr>\n",
       "      <th>117</th>\n",
       "      <td>117</td>\n",
       "      <td>MN_V401_T1L</td>\n",
       "      <td>NaN</td>\n",
       "      <td>[17144, 89099, 2005]</td>\n",
       "      <td>648518346509893335</td>\n",
       "      <td>73719.2</td>\n",
       "      <td>383125.7</td>\n",
       "      <td>90225.0</td>\n",
       "      <td>NaN</td>\n",
       "      <td>T1MN_somas</td>\n",
       "    </tr>\n",
       "    <tr>\n",
       "      <th>118</th>\n",
       "      <td>118</td>\n",
       "      <td>MN_V402_T1L</td>\n",
       "      <td>NaN</td>\n",
       "      <td>[23167, 87333, 2184]</td>\n",
       "      <td>648518346481306305</td>\n",
       "      <td>99618.1</td>\n",
       "      <td>375531.9</td>\n",
       "      <td>98280.0</td>\n",
       "      <td>NaN</td>\n",
       "      <td>T1MN_somas</td>\n",
       "    </tr>\n",
       "    <tr>\n",
       "      <th>119</th>\n",
       "      <td>119</td>\n",
       "      <td>MN_V501_T1R</td>\n",
       "      <td>NaN</td>\n",
       "      <td>[54883, 84397, 2319]</td>\n",
       "      <td>648518346497794202</td>\n",
       "      <td>235996.9</td>\n",
       "      <td>362907.1</td>\n",
       "      <td>104355.0</td>\n",
       "      <td>NaN</td>\n",
       "      <td>T1MN_somas</td>\n",
       "    </tr>\n",
       "    <tr>\n",
       "      <th>120</th>\n",
       "      <td>120</td>\n",
       "      <td>MN_V601_T1L</td>\n",
       "      <td>NaN</td>\n",
       "      <td>[21122, 88740, 2060]</td>\n",
       "      <td>648518346488475633</td>\n",
       "      <td>90824.6</td>\n",
       "      <td>381582.0</td>\n",
       "      <td>92700.0</td>\n",
       "      <td>NaN</td>\n",
       "      <td>T1MN_somas</td>\n",
       "    </tr>\n",
       "  </tbody>\n",
       "</table>\n",
       "<p>121 rows × 10 columns</p>\n",
       "</div>"
      ]
     },
     "metadata": {},
     "execution_count": 11
    }
   ],
   "metadata": {}
  },
  {
   "cell_type": "code",
   "execution_count": null,
   "source": [],
   "outputs": [],
   "metadata": {}
  },
  {
   "cell_type": "code",
   "execution_count": 11,
   "source": [
    "df[df['nuc_segID']==648518346491474694]"
   ],
   "outputs": [
    {
     "output_type": "execute_result",
     "data": {
      "text/plain": [
       "    blockID      x      y     z           nuc_segID              nucID  \\\n",
       "23     4144  31480  75464  1487  648518346491474694  72551412533297182   \n",
       "\n",
       "    size_x_mip4  size_y_mip4  size_z_mip4    vol  \n",
       "23           31           41           52  66092  "
      ],
      "text/html": [
       "<div>\n",
       "<style scoped>\n",
       "    .dataframe tbody tr th:only-of-type {\n",
       "        vertical-align: middle;\n",
       "    }\n",
       "\n",
       "    .dataframe tbody tr th {\n",
       "        vertical-align: top;\n",
       "    }\n",
       "\n",
       "    .dataframe thead th {\n",
       "        text-align: right;\n",
       "    }\n",
       "</style>\n",
       "<table border=\"1\" class=\"dataframe\">\n",
       "  <thead>\n",
       "    <tr style=\"text-align: right;\">\n",
       "      <th></th>\n",
       "      <th>blockID</th>\n",
       "      <th>x</th>\n",
       "      <th>y</th>\n",
       "      <th>z</th>\n",
       "      <th>nuc_segID</th>\n",
       "      <th>nucID</th>\n",
       "      <th>size_x_mip4</th>\n",
       "      <th>size_y_mip4</th>\n",
       "      <th>size_z_mip4</th>\n",
       "      <th>vol</th>\n",
       "    </tr>\n",
       "  </thead>\n",
       "  <tbody>\n",
       "    <tr>\n",
       "      <th>23</th>\n",
       "      <td>4144</td>\n",
       "      <td>31480</td>\n",
       "      <td>75464</td>\n",
       "      <td>1487</td>\n",
       "      <td>648518346491474694</td>\n",
       "      <td>72551412533297182</td>\n",
       "      <td>31</td>\n",
       "      <td>41</td>\n",
       "      <td>52</td>\n",
       "      <td>66092</td>\n",
       "    </tr>\n",
       "  </tbody>\n",
       "</table>\n",
       "</div>"
      ]
     },
     "metadata": {},
     "execution_count": 11
    }
   ],
   "metadata": {}
  },
  {
   "cell_type": "code",
   "execution_count": 12,
   "source": [
    "df[df['nuc_segID']==648518346447572945]"
   ],
   "outputs": [
    {
     "output_type": "execute_result",
     "data": {
      "text/plain": [
       "   blockID      x      y     z           nuc_segID              nucID  \\\n",
       "9     4144  31512  74784  1476  648518346447572945  72551412533297246   \n",
       "\n",
       "   size_x_mip4  size_y_mip4  size_z_mip4    vol  \n",
       "9           32           26           64  53248  "
      ],
      "text/html": [
       "<div>\n",
       "<style scoped>\n",
       "    .dataframe tbody tr th:only-of-type {\n",
       "        vertical-align: middle;\n",
       "    }\n",
       "\n",
       "    .dataframe tbody tr th {\n",
       "        vertical-align: top;\n",
       "    }\n",
       "\n",
       "    .dataframe thead th {\n",
       "        text-align: right;\n",
       "    }\n",
       "</style>\n",
       "<table border=\"1\" class=\"dataframe\">\n",
       "  <thead>\n",
       "    <tr style=\"text-align: right;\">\n",
       "      <th></th>\n",
       "      <th>blockID</th>\n",
       "      <th>x</th>\n",
       "      <th>y</th>\n",
       "      <th>z</th>\n",
       "      <th>nuc_segID</th>\n",
       "      <th>nucID</th>\n",
       "      <th>size_x_mip4</th>\n",
       "      <th>size_y_mip4</th>\n",
       "      <th>size_z_mip4</th>\n",
       "      <th>vol</th>\n",
       "    </tr>\n",
       "  </thead>\n",
       "  <tbody>\n",
       "    <tr>\n",
       "      <th>9</th>\n",
       "      <td>4144</td>\n",
       "      <td>31512</td>\n",
       "      <td>74784</td>\n",
       "      <td>1476</td>\n",
       "      <td>648518346447572945</td>\n",
       "      <td>72551412533297246</td>\n",
       "      <td>32</td>\n",
       "      <td>26</td>\n",
       "      <td>64</td>\n",
       "      <td>53248</td>\n",
       "    </tr>\n",
       "  </tbody>\n",
       "</table>\n",
       "</div>"
      ]
     },
     "metadata": {},
     "execution_count": 12
    }
   ],
   "metadata": {}
  },
  {
   "cell_type": "code",
   "execution_count": null,
   "source": [
    "count = pd.read_csv('../Output/ncount_merged.csv', header=None)\n",
    "count2 = count.T.dropna()\n",
    "# len(count2) \n",
    "# 15094\n",
    "count3 = count2.sort_values(by=0)\n",
    "count4 = count3.astype('int')\n",
    "count4.columns = ['index', 'count']"
   ],
   "outputs": [],
   "metadata": {}
  },
  {
   "cell_type": "code",
   "execution_count": null,
   "source": [
    "sv_size_thres=4000\n",
    "chosen = count4.loc[count4['count'] <= sv_size_thres]\n",
    "chosen['index'].values"
   ],
   "outputs": [],
   "metadata": {}
  },
  {
   "cell_type": "code",
   "execution_count": null,
   "source": [
    "test = df.loc[chosen['index'].values]\n",
    "test[0:999]\n",
    "rantest = test.iloc[np.random.choice(len(test), round(len(test)/5), replace=False)]"
   ],
   "outputs": [],
   "metadata": {}
  },
  {
   "cell_type": "code",
   "execution_count": null,
   "source": [
    "# nuclei itself\n",
    "# Create Neuroglancer links\n",
    "imgTokyo = ImageLayerConfig(name = 'FANC_EM_Tokyo',\n",
    "                                    source = auth.get_cv_path('Image_Tokyo')['url'])\n",
    "img = ImageLayerConfig(name = 'FANC_EM',\n",
    "                                    source = auth.get_cv_path('Image')['url'])\n",
    "nuc = ImageLayerConfig(name = 'nuclei(old)',\n",
    "                                    source = auth.get_cv_path('nuclei_map')['url'])                                    \n",
    "# volume = SegmentationLayerConfig(name = 'volume_outlines',\n",
    "#                                    source = auth.get_cv_path('Image')['url'])   \n",
    "\n",
    "seg = SegmentationLayerConfig(name = 'FANC_production_segmentation',\n",
    "                                        active = True,\n",
    "                                        source = auth.get_cv_path('FANC_production_segmentation')['url'],\n",
    "                                        selected_ids_column='segIDs')                                 \n",
    "sb = StateBuilder(layers=[imgTokyo, seg, nuc, img],resolution=[4.3,4.3,45]) # view_kws=view_options\n",
    "output = sb.render_state(rantest, return_as='html')\n",
    "output"
   ],
   "outputs": [],
   "metadata": {}
  },
  {
   "cell_type": "code",
   "execution_count": null,
   "source": [
    "sv_size_thres=4000\n",
    "notchosen = count4.loc[count4['count'] > sv_size_thres+2000]\n",
    "test2 = df.loc[notchosen['index'].values]\n",
    "test2"
   ],
   "outputs": [],
   "metadata": {}
  },
  {
   "cell_type": "code",
   "execution_count": null,
   "source": [
    "rantest2 = test2.iloc[np.random.choice(len(test2), round(len(test2)/5), replace=False)]\n",
    "output = sb.render_state(rantest2, return_as='html')\n",
    "output"
   ],
   "outputs": [],
   "metadata": {}
  },
  {
   "cell_type": "code",
   "execution_count": null,
   "source": [
    "# https://api.zetta.ai/json/post"
   ],
   "outputs": [],
   "metadata": {}
  },
  {
   "cell_type": "code",
   "execution_count": null,
   "source": [],
   "outputs": [],
   "metadata": {}
  },
  {
   "cell_type": "code",
   "execution_count": null,
   "source": [
    "# skeleton ID to segID"
   ],
   "outputs": [],
   "metadata": {}
  },
  {
   "cell_type": "code",
   "execution_count": null,
   "source": [
    "skel = [254234,254426,254765,254781,254687,254570,254411,254361,254495,254750,254268,254199,255121,255197,255062,254941,254524,254510,254637,254656,255033,255092,255154,255243,254814,254392,254797,254377,254620,255077,254846,254911,254971,255137,254474,254602,255228,254862,254457,254926,255182,254329,254672,254587,255167,255256,254958,254986,255048,255107,254894,255018,254718,254539,254703,254831,254878,254733,254252,254442,254555,254284,254300,255269,254315,255001,255212,254345,254217,396992,397012,397053,396860,396948,397033,397073,396968,396882,397094,396923,396904,441325,441232,441128,441213,395088,395244,395216,395129,395046,394970,395150,395364,394821,394929,395294,395804,395739,395831,395068,395382,394991,394844,395849,394867,395871,394797,394888,395655,396007,395194,395949,395761,395695,395171,395781,395009,394910,395026,395714,395271,395410,395111,394951,395969,395912,395893,395451,396224,396069,396187,396205,396150,396108,396028,396128,396089,396050,396168]"
   ],
   "outputs": [],
   "metadata": {}
  },
  {
   "cell_type": "code",
   "execution_count": null,
   "source": [
    "# sys.path.append(os.path.abspath(\"../proofreading\"))\n",
    "# import proofreading_utils\n",
    "sys.path.append(os.path.abspath(\"../transforms\"))\n",
    "import realignment\n",
    "sys.path.append(os.path.abspath(\"../skeletonization\"))\n",
    "import catmaid_utilities"
   ],
   "outputs": [],
   "metadata": {}
  },
  {
   "cell_type": "code",
   "execution_count": null,
   "source": [
    "def skel2seg(neuron,\n",
    "             target_volume,\n",
    "             transform=True):\n",
    "    nodes = neuron.nodes[['x','y','z']].values/ np.array([4.3,4.3,45])\n",
    "    \n",
    "    if transform is True:\n",
    "        points = realignment.fanc3_to_4(nodes)\n",
    "    else:\n",
    "        points = nodes\n",
    "    \n",
    "    return IDlook.segIDs_from_pts_service(points),points"
   ],
   "outputs": [],
   "metadata": {}
  },
  {
   "cell_type": "code",
   "execution_count": null,
   "source": [
    "def skel2scene(skid, project=13):\n",
    "    \n",
    "    CI = catmaid_utilities.catmaid_login('FANC',project)\n",
    "    try:\n",
    "        n = pymaid.get_neurons(skid)\n",
    "    except:\n",
    "        return('No matching skeleton ID in project {}'.format(project))\n",
    "    \n",
    "    n.downsample(inplace=True)\n",
    "\n",
    "    target_volume = CloudVolume(auth.get_cv_path('FANC_production_segmentation')['url'], use_https=True, agglomerate=False)\n",
    "    seg_ids,points = skel2seg(n, target_volume, transform=True)\n",
    "    return seg_ids[0]"
   ],
   "outputs": [],
   "metadata": {}
  }
 ],
 "metadata": {
  "interpreter": {
   "hash": "c3593f56db3fdc375a231e1c1fb5fc1dbab03dc3894478fa0aaa4bb9b486beca"
  },
  "kernelspec": {
   "name": "python3",
   "display_name": "Python 3.7.11 64-bit ('nuclei': venv)"
  },
  "language_info": {
   "codemirror_mode": {
    "name": "ipython",
    "version": 3
   },
   "file_extension": ".py",
   "mimetype": "text/x-python",
   "name": "python",
   "nbconvert_exporter": "python",
   "pygments_lexer": "ipython3",
   "version": "3.7.11"
  }
 },
 "nbformat": 4,
 "nbformat_minor": 2
}