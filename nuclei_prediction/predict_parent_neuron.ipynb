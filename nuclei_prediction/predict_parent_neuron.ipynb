{
 "cells": [
  {
   "cell_type": "markdown",
   "source": [
    "# Predict parent neuron\n",
    "Using Jasper's idea to predict parent neurons for nuclei, Thank you so much, Jasper."
   ],
   "metadata": {}
  },
  {
   "cell_type": "code",
   "execution_count": 1,
   "source": [
    "# libraries 1\n",
    "import numpy as np\n",
    "import pyperclip\n",
    "import pandas as pd\n",
    "import pyperclip\n",
    "from cloudvolume import CloudVolume, view, Bbox\n",
    "from nglui import statebuilder,annotation,easyviewer,parser\n",
    "from nglui.statebuilder import *\n",
    "import json\n",
    "from tqdm import tqdm\n",
    "import argparse\n",
    "\n",
    "from PIL import Image\n",
    "import seaborn as sns\n",
    "import matplotlib.pyplot as plt\n",
    "import sys\n",
    "import os\n",
    "import csv\n",
    "\n",
    "from tifffile.tifffile import imwrite\n",
    "\n",
    "sys.path.append(os.path.abspath(\"../segmentation\"))\n",
    "import authentication_utils as auth\n",
    "import rootID_lookup as IDlook\n",
    "sys.path.append(os.path.abspath(\"../synapses\"))\n",
    "import connectivity_utils\n",
    "\n",
    "%matplotlib inline"
   ],
   "outputs": [],
   "metadata": {}
  },
  {
   "cell_type": "code",
   "execution_count": 2,
   "source": [
    "np.random.seed(123)\n",
    "# read csv file\n",
    "df = pd.read_csv('../Output/body_info_Aug2021.csv', header=0)\n",
    "len(df)"
   ],
   "outputs": [
    {
     "output_type": "execute_result",
     "data": {
      "text/plain": [
       "17076"
      ]
     },
     "metadata": {},
     "execution_count": 2
    }
   ],
   "metadata": {}
  },
  {
   "cell_type": "markdown",
   "source": [
    "# A. Create Neuroglancer links for Nucleus Proofreading\n",
    "based on https://github.com/bjm5164/rotation_projects/blob/main/statebuilder_examples.ipynb"
   ],
   "metadata": {}
  },
  {
   "cell_type": "code",
   "execution_count": null,
   "source": [
    "# color_column not supported for point annotation\n",
    "imgTokyo = ImageLayerConfig(name = 'FANC_EM_Tokyo',\n",
    "                                    source = auth.get_cv_path('Image_Tokyo')['url'])\n",
    "img = ImageLayerConfig(name = 'FANC_EM',\n",
    "                                    source = auth.get_cv_path('Image')['url'])\n",
    "nuc_Aug = ImageLayerConfig(name = 'nuclei_Aug2021',\n",
    "                                    source = auth.get_cv_path('nuclei_map_Aug2021')['url'])      \n",
    "nuc_seg_Aug = ImageLayerConfig(name = 'nuclei_Aug2021_seg',\n",
    "                                    source = auth.get_cv_path('nuclei_seg_Aug2021')['url'])      \n",
    "nuc_Jul = ImageLayerConfig(name = 'nuclei_Jul2021',\n",
    "                                    source = auth.get_cv_path('nuclei_map_Jul2021')['url'])      \n",
    "nuc_seg_Jul = ImageLayerConfig(name = 'nuclei_Jul2021_seg',\n",
    "                                    source = auth.get_cv_path('nuclei_seg_Jul2021')['url'])   \n",
    "seg = SegmentationLayerConfig(name = 'FANC_production_segmentation',\n",
    "                                    # selected_ids_column='nuc_segID',\n",
    "                                    source = auth.get_cv_path('FANC_production_segmentation')['url'])      \n",
    "\n",
    "\n",
    "df2 = df.assign(pt_position=[*zip(df.x, df.y, df.z)])\n",
    "points = PointMapper(point_column='pt_position')\n",
    "ann = AnnotationLayerConfig(name='nuc_center_Aug', mapping_rules=points, color='#32CB42',active = True,)      \n",
    "sb = StateBuilder(layers=[imgTokyo, seg, img, nuc_Aug, nuc_seg_Aug, nuc_Jul, nuc_seg_Jul, ann],resolution=[4.3,4.3,45]) # view_kws=view_options\n",
    "\n",
    "client,token = auth.get_client()\n",
    "\n",
    "state = json.loads(sb.render_state(df2, return_as='json'))\n",
    "\n",
    "out =auth.get_cv_path('neuroglancer_base')['url'] + '?json_url={path}{state_id}'.format(path=auth.get_cv_path('json_server')['url'],state_id=client.state.upload_state_json(state))\n",
    "out\n",
    "# https://neuromancer-seung-import.appspot.com/?json_url=https://api.zetta.ai/json/692331708447824330\n",
    "# https://github.com/htem/FANC_auto_recon/blob/main/proofreading/proofreading_utils.py\n",
    "\n",
    "\n",
    "\n",
    "LINK=[]\n",
    "k=200\n",
    "minidfs = [df.loc[i:i+k-1, :] for i in range(0, len(df), k)]\n",
    "for dftemp in minidfs:\n",
    "    seg = SegmentationLayerConfig(name = 'FANC_production_segmentation',\n",
    "                                        # selected_ids_column='nuc_segID',\n",
    "                                        source = auth.get_cv_path('FANC_production_segmentation')['url'])                                 \n",
    "    sb = StateBuilder(layers=[imgTokyo, seg, img, nuc, nuc_seg],resolution=[4.3,4.3,45]) # view_kws=view_options\n",
    "    output = sb.render_state(dftemp) #return_as='html'\n",
    "    LINK.append(output)"
   ],
   "outputs": [],
   "metadata": {}
  },
  {
   "cell_type": "code",
   "execution_count": null,
   "source": [
    "# https://api.zetta.ai/json/post"
   ],
   "outputs": [],
   "metadata": {}
  },
  {
   "cell_type": "code",
   "execution_count": null,
   "source": [
    "# save into csv\n",
    "LINK2 = pd.DataFrame(LINK)\n",
    "LINK2.to_csv('../Output/nuc_links.csv', index=False, header=False)"
   ],
   "outputs": [],
   "metadata": {}
  },
  {
   "cell_type": "code",
   "execution_count": null,
   "source": [],
   "outputs": [],
   "metadata": {}
  },
  {
   "cell_type": "markdown",
   "source": [
    "# B. Test my soma list with other table"
   ],
   "metadata": {}
  },
  {
   "cell_type": "code",
   "execution_count": null,
   "source": [
    "# T1MN_somas test\n",
    "MNsomas = pd.read_csv('../Output/T1MN_somas.csv', header=0)\n",
    "MNsomas['pt_root_id'].values\n",
    "\n",
    "exist = []\n",
    "no_exist = []\n",
    "for i in MNsomas['pt_root_id'].values:\n",
    "    if i in df['body_segID'].values:\n",
    "        exist.append(i)\n",
    "    else:\n",
    "        no_exist.append(i)\n",
    "\n",
    "print(no_exist)"
   ],
   "outputs": [],
   "metadata": {}
  },
  {
   "cell_type": "code",
   "execution_count": null,
   "source": [
    "check = 648518346486520985\n",
    "print (MNsomas.loc[MNsomas['pt_root_id'] == check])"
   ],
   "outputs": [],
   "metadata": {}
  },
  {
   "cell_type": "code",
   "execution_count": null,
   "source": [
    "nuc = 648518346481315476\n",
    "df[df['nuc_segID']==nuc]"
   ],
   "outputs": [],
   "metadata": {}
  },
  {
   "cell_type": "code",
   "execution_count": null,
   "source": [],
   "outputs": [],
   "metadata": {}
  },
  {
   "cell_type": "markdown",
   "source": [
    "# C. Summarize count data"
   ],
   "metadata": {}
  },
  {
   "cell_type": "code",
   "execution_count": null,
   "source": [
    "count = pd.read_csv('../Output/ncount_merged.csv', header=None)\n",
    "count2 = count.T.dropna()\n",
    "# len(count2) \n",
    "# 15094\n",
    "count3 = count2.sort_values(by=0)\n",
    "count4 = count3.astype('int')\n",
    "count4.columns = ['index', 'count']"
   ],
   "outputs": [],
   "metadata": {}
  },
  {
   "cell_type": "code",
   "execution_count": null,
   "source": [
    "sv_size_thres=4000\n",
    "chosen = count4.loc[count4['count'] <= sv_size_thres]\n",
    "chosen['index'].values"
   ],
   "outputs": [],
   "metadata": {}
  },
  {
   "cell_type": "code",
   "execution_count": null,
   "source": [
    "test = df.loc[chosen['index'].values]\n",
    "test[0:999]\n",
    "rantest = test.iloc[np.random.choice(len(test), round(len(test)/5), replace=False)]"
   ],
   "outputs": [],
   "metadata": {}
  },
  {
   "cell_type": "code",
   "execution_count": null,
   "source": [
    "# nuclei itself\n",
    "imgTokyo = ImageLayerConfig(name = 'FANC_EM_Tokyo',\n",
    "                                    source = auth.get_cv_path('Image_Tokyo')['url'])\n",
    "img = ImageLayerConfig(name = 'FANC_EM',\n",
    "                                    source = auth.get_cv_path('Image')['url'])\n",
    "nuc = ImageLayerConfig(name = 'nuclei(old)',\n",
    "                                    source = auth.get_cv_path('nuclei_map')['url'])                                    \n",
    "# volume = SegmentationLayerConfig(name = 'volume_outlines',\n",
    "#                                    source = auth.get_cv_path('Image')['url'])   \n",
    "\n",
    "seg = SegmentationLayerConfig(name = 'FANC_production_segmentation',\n",
    "                                        active = True,\n",
    "                                        source = auth.get_cv_path('FANC_production_segmentation')['url'],\n",
    "                                        selected_ids_column='segIDs')                                 \n",
    "sb = StateBuilder(layers=[imgTokyo, seg, nuc, img],resolution=[4.3,4.3,45]) # view_kws=view_options\n",
    "output = sb.render_state(rantest, return_as='html')\n",
    "output"
   ],
   "outputs": [],
   "metadata": {}
  },
  {
   "cell_type": "code",
   "execution_count": null,
   "source": [
    "sv_size_thres=4000\n",
    "notchosen = count4.loc[count4['count'] > sv_size_thres+2000]\n",
    "test2 = df.loc[notchosen['index'].values]\n",
    "test2"
   ],
   "outputs": [],
   "metadata": {}
  },
  {
   "cell_type": "code",
   "execution_count": null,
   "source": [
    "rantest2 = test2.iloc[np.random.choice(len(test2), round(len(test2)/5), replace=False)]\n",
    "output = sb.render_state(rantest2, return_as='html')\n",
    "output"
   ],
   "outputs": [],
   "metadata": {}
  },
  {
   "cell_type": "code",
   "execution_count": null,
   "source": [],
   "outputs": [],
   "metadata": {}
  },
  {
   "cell_type": "markdown",
   "source": [
    "# D. Get premotor inputs"
   ],
   "metadata": {}
  },
  {
   "cell_type": "code",
   "execution_count": null,
   "source": [
    "# get premotor inputs\n",
    "MN = pd.read_csv('../Output/MNs.csv', header=0)\n",
    "MN"
   ],
   "outputs": [],
   "metadata": {}
  },
  {
   "cell_type": "code",
   "execution_count": null,
   "source": [],
   "outputs": [],
   "metadata": {}
  },
  {
   "cell_type": "code",
   "execution_count": null,
   "source": [],
   "outputs": [],
   "metadata": {}
  },
  {
   "cell_type": "markdown",
   "source": [
    "# E. point map"
   ],
   "metadata": {}
  },
  {
   "cell_type": "code",
   "execution_count": null,
   "source": [
    "# color_column not supported for point annotation\n",
    "imgTokyo = ImageLayerConfig(name = 'FANC_EM_Tokyo',\n",
    "                                    source = auth.get_cv_path('Image_Tokyo')['url'])\n",
    "img = ImageLayerConfig(name = 'FANC_EM',\n",
    "                                    source = auth.get_cv_path('Image')['url'])\n",
    "nuc_Aug = ImageLayerConfig(name = 'nuclei_Aug2021',\n",
    "                                    source = auth.get_cv_path('nuclei_map_Aug2021')['url'])      \n",
    "nuc_seg_Aug = ImageLayerConfig(name = 'nuclei_Aug2021_seg',\n",
    "                                    source = auth.get_cv_path('nuclei_seg_Aug2021')['url'])      \n",
    "nuc_Jul = ImageLayerConfig(name = 'nuclei_Jul2021',\n",
    "                                    source = auth.get_cv_path('nuclei_map_Jul2021')['url'])      \n",
    "nuc_seg_Jul = ImageLayerConfig(name = 'nuclei_Jul2021_seg',\n",
    "                                    source = auth.get_cv_path('nuclei_seg_Jul2021')['url'])   \n",
    "# volume = SegmentationLayerConfig(name = 'volume_outlines',\n",
    "#                                    source = auth.get_cv_path('Image')['url'])   \n",
    "\n",
    "seg = SegmentationLayerConfig(name = 'FANC_production_segmentation',\n",
    "                                    active = True,\n",
    "                                    source = auth.get_cv_path('FANC_production_segmentation')['url'])\n",
    "\n",
    "df2 = df.assign(pt_position=[*zip(df.x, df.y, df.z)])\n",
    "points = PointMapper(point_column='pt_position')\n",
    "ann = AnnotationLayerConfig(name='nuc_center_Aug', mapping_rules=points, color='#32CB42')      \n",
    "sb = StateBuilder(layers=[imgTokyo, seg, img, nuc_Aug, nuc_seg_Aug, nuc_Jul, nuc_seg_Jul, ann],resolution=[4.3,4.3,45]) # view_kws=view_options\n",
    "\n",
    "client,token = auth.get_client()\n",
    "\n",
    "state = json.loads(sb.render_state(df2, return_as='json'))\n",
    "\n",
    "out =auth.get_cv_path('neuroglancer_base')['url'] + '?json_url={path}{state_id}'.format(path=auth.get_cv_path('json_server')['url'],state_id=client.state.upload_state_json(state))\n",
    "out\n",
    "# https://neuromancer-seung-import.appspot.com/?json_url=https://api.zetta.ai/json/692331708447824330\n",
    "# https://github.com/htem/FANC_auto_recon/blob/main/proofreading/proofreading_utils.py"
   ],
   "outputs": [],
   "metadata": {}
  },
  {
   "cell_type": "code",
   "execution_count": null,
   "source": [
    "# https://api.zetta.ai/json/post"
   ],
   "outputs": [],
   "metadata": {}
  },
  {
   "cell_type": "markdown",
   "source": [
    "# F. Descending and Ascending neurons"
   ],
   "metadata": {}
  },
  {
   "cell_type": "code",
   "execution_count": 23,
   "source": [
    "# read data\n",
    "left_d = np.fromfile('../Output/da/left_d.bin', dtype=np.int64)\n",
    "left_a = np.fromfile('../Output/da/left_a.bin', dtype=np.int64)\n",
    "right_d = np.fromfile('../Output/da/right_d.bin', dtype=np.int64)\n",
    "right_a = np.fromfile('../Output/da/right_a.bin', dtype=np.int64)\n",
    "\n",
    "pMN_T1L = pd.read_csv('../Output/da/pMN_T1L.csv', header=0)\n",
    "pMN_T1R = pd.read_csv('../Output/da/pMN_T1R.csv', header=0)"
   ],
   "outputs": [],
   "metadata": {}
  },
  {
   "cell_type": "code",
   "execution_count": 24,
   "source": [
    "df_temp = pd.concat([pMN_T1L, pMN_T1R], axis=0)\n",
    "aggregation_functions = {'synapses': 'sum'}\n",
    "pMN_T1all = df_temp.groupby(df_temp['root_id']).aggregate(aggregation_functions)"
   ],
   "outputs": [],
   "metadata": {}
  },
  {
   "cell_type": "code",
   "execution_count": 28,
   "source": [
    "def find_T1input(array, threshold=3):\n",
    "    left = array[np.isin(array, pMN_T1L[pMN_T1L['synapses'] >= threshold]['root_id'].values)]\n",
    "    right = array[np.isin(array, pMN_T1R[pMN_T1R['synapses'] >= threshold]['root_id'].values)]\n",
    "    both = np.intersect1d(left, right)\n",
    "    others = array[np.isin(array,np.unique(np.concatenate((left, right))), invert=True)]\n",
    "\n",
    "    return np.array([len(both), len(left), len(right), len(others)])/len(array), np.array([len(both), len(left), len(right), len(others)])"
   ],
   "outputs": [],
   "metadata": {}
  },
  {
   "cell_type": "code",
   "execution_count": 29,
   "source": [
    "# Left descending\n",
    "Ld, Ld_abs = find_T1input(left_d, threshold=10)\n",
    "La, La_abs = find_T1input(left_a, threshold=10)\n",
    "Rd, Rd_abs = find_T1input(right_d, threshold=10)\n",
    "Ra, Ra_abs = find_T1input(right_a, threshold=10)"
   ],
   "outputs": [],
   "metadata": {}
  },
  {
   "cell_type": "code",
   "execution_count": 30,
   "source": [
    "np.vstack([Ld_abs, La_abs, Rd_abs, Ra_abs])"
   ],
   "outputs": [
    {
     "output_type": "execute_result",
     "data": {
      "text/plain": [
       "array([[   7,   15,   56,  782],\n",
       "       [   7,    9,  118,  930],\n",
       "       [   7,   47,   11,  465],\n",
       "       [   5,  101,    6, 1228]])"
      ]
     },
     "metadata": {},
     "execution_count": 30
    }
   ],
   "metadata": {}
  },
  {
   "cell_type": "code",
   "execution_count": 27,
   "source": [
    "g = pd.DataFrame(data=np.vstack([Ld, La, Rd, Ra]),\n",
    "                                index=['Left descending', 'Left ascending', 'Right descending', 'Right ascending'],\n",
    "                                columns=['T1L & T1R', 'T1L', 'T1R', 'others'])\n",
    "plt.figure()\n",
    "sns.heatmap(g)"
   ],
   "outputs": [
    {
     "output_type": "execute_result",
     "data": {
      "text/plain": [
       "<AxesSubplot:>"
      ]
     },
     "metadata": {},
     "execution_count": 27
    },
    {
     "output_type": "display_data",
     "data": {
      "text/plain": [
       "<Figure size 432x288 with 2 Axes>"
      ],
      "image/svg+xml": "<?xml version=\"1.0\" encoding=\"utf-8\" standalone=\"no\"?>\n<!DOCTYPE svg PUBLIC \"-//W3C//DTD SVG 1.1//EN\"\n  \"http://www.w3.org/Graphics/SVG/1.1/DTD/svg11.dtd\">\n<svg height=\"248.518125pt\" version=\"1.1\" viewBox=\"0 0 426.778563 248.518125\" width=\"426.778563pt\" xmlns=\"http://www.w3.org/2000/svg\" xmlns:xlink=\"http://www.w3.org/1999/xlink\">\n <metadata>\n  <rdf:RDF xmlns:cc=\"http://creativecommons.org/ns#\" xmlns:dc=\"http://purl.org/dc/elements/1.1/\" xmlns:rdf=\"http://www.w3.org/1999/02/22-rdf-syntax-ns#\">\n   <cc:Work>\n    <dc:type rdf:resource=\"http://purl.org/dc/dcmitype/StillImage\"/>\n    <dc:date>2021-08-21T10:57:41.869964</dc:date>\n    <dc:format>image/svg+xml</dc:format>\n    <dc:creator>\n     <cc:Agent>\n      <dc:title>Matplotlib v3.4.2, https://matplotlib.org/</dc:title>\n     </cc:Agent>\n    </dc:creator>\n   </cc:Work>\n  </rdf:RDF>\n </metadata>\n <defs>\n  <style type=\"text/css\">*{stroke-linecap:butt;stroke-linejoin:round;}</style>\n </defs>\n <g id=\"figure_1\">\n  <g id=\"patch_1\">\n   <path d=\"M 0 248.518125 \nL 426.778563 248.518125 \nL 426.778563 0 \nL 0 0 \nz\n\" style=\"fill:none;\"/>\n  </g>\n  <g id=\"axes_1\">\n   <g id=\"patch_2\">\n    <path d=\"M 101.223437 224.64 \nL 369.063438 224.64 \nL 369.063438 7.2 \nL 101.223437 7.2 \nz\n\" style=\"fill:#ffffff;\"/>\n   </g>\n   <g id=\"QuadMesh_1\">\n    <path clip-path=\"url(#p8edcdd9a53)\" d=\"M 101.223437 7.2 \nL 168.183437 7.2 \nL 168.183437 61.56 \nL 101.223437 61.56 \nL 101.223437 7.2 \n\" style=\"fill:#04051a;\"/>\n    <path clip-path=\"url(#p8edcdd9a53)\" d=\"M 168.183437 7.2 \nL 235.143438 7.2 \nL 235.143438 61.56 \nL 168.183437 61.56 \nL 168.183437 7.2 \n\" style=\"fill:#06071c;\"/>\n    <path clip-path=\"url(#p8edcdd9a53)\" d=\"M 235.143438 7.2 \nL 302.103438 7.2 \nL 302.103438 61.56 \nL 235.143438 61.56 \nL 235.143438 7.2 \n\" style=\"fill:#1a102a;\"/>\n    <path clip-path=\"url(#p8edcdd9a53)\" d=\"M 302.103438 7.2 \nL 369.063438 7.2 \nL 369.063438 61.56 \nL 302.103438 61.56 \nL 302.103438 7.2 \n\" style=\"fill:#faebdd;\"/>\n    <path clip-path=\"url(#p8edcdd9a53)\" d=\"M 101.223437 61.56 \nL 168.183437 61.56 \nL 168.183437 115.92 \nL 101.223437 115.92 \nL 101.223437 61.56 \n\" style=\"fill:#03051a;\"/>\n    <path clip-path=\"url(#p8edcdd9a53)\" d=\"M 168.183437 61.56 \nL 235.143438 61.56 \nL 235.143438 115.92 \nL 168.183437 115.92 \nL 168.183437 61.56 \n\" style=\"fill:#04051a;\"/>\n    <path clip-path=\"url(#p8edcdd9a53)\" d=\"M 235.143438 61.56 \nL 302.103438 61.56 \nL 302.103438 115.92 \nL 235.143438 115.92 \nL 235.143438 61.56 \n\" style=\"fill:#2d1738;\"/>\n    <path clip-path=\"url(#p8edcdd9a53)\" d=\"M 302.103438 61.56 \nL 369.063438 61.56 \nL 369.063438 115.92 \nL 302.103438 115.92 \nL 302.103438 61.56 \n\" style=\"fill:#f8dcc7;\"/>\n    <path clip-path=\"url(#p8edcdd9a53)\" d=\"M 101.223437 115.92 \nL 168.183437 115.92 \nL 168.183437 170.28 \nL 101.223437 170.28 \nL 101.223437 115.92 \n\" style=\"fill:#05061b;\"/>\n    <path clip-path=\"url(#p8edcdd9a53)\" d=\"M 168.183437 115.92 \nL 235.143438 115.92 \nL 235.143438 170.28 \nL 168.183437 170.28 \nL 168.183437 115.92 \n\" style=\"fill:#241432;\"/>\n    <path clip-path=\"url(#p8edcdd9a53)\" d=\"M 235.143438 115.92 \nL 302.103438 115.92 \nL 302.103438 170.28 \nL 235.143438 170.28 \nL 235.143438 115.92 \n\" style=\"fill:#07071d;\"/>\n    <path clip-path=\"url(#p8edcdd9a53)\" d=\"M 302.103438 115.92 \nL 369.063438 115.92 \nL 369.063438 170.28 \nL 302.103438 170.28 \nL 302.103438 115.92 \n\" style=\"fill:#f9e2d0;\"/>\n    <path clip-path=\"url(#p8edcdd9a53)\" d=\"M 101.223437 170.28 \nL 168.183437 170.28 \nL 168.183437 224.64 \nL 101.223437 224.64 \nL 101.223437 170.28 \n\" style=\"fill:#03051a;\"/>\n    <path clip-path=\"url(#p8edcdd9a53)\" d=\"M 168.183437 170.28 \nL 235.143438 170.28 \nL 235.143438 224.64 \nL 168.183437 224.64 \nL 168.183437 170.28 \n\" style=\"fill:#1e122d;\"/>\n    <path clip-path=\"url(#p8edcdd9a53)\" d=\"M 235.143438 170.28 \nL 302.103438 170.28 \nL 302.103438 224.64 \nL 235.143438 224.64 \nL 235.143438 170.28 \n\" style=\"fill:#03051a;\"/>\n    <path clip-path=\"url(#p8edcdd9a53)\" d=\"M 302.103438 170.28 \nL 369.063438 170.28 \nL 369.063438 224.64 \nL 302.103438 224.64 \nL 302.103438 170.28 \n\" style=\"fill:#faebdd;\"/>\n   </g>\n   <g id=\"matplotlib.axis_1\">\n    <g id=\"xtick_1\">\n     <g id=\"line2d_1\">\n      <defs>\n       <path d=\"M 0 0 \nL 0 3.5 \n\" id=\"m9ade2ee9a6\" style=\"stroke:#000000;stroke-width:0.8;\"/>\n      </defs>\n      <g>\n       <use style=\"stroke:#000000;stroke-width:0.8;\" x=\"134.703438\" xlink:href=\"#m9ade2ee9a6\" y=\"224.64\"/>\n      </g>\n     </g>\n     <g id=\"text_1\">\n      <!-- T1L &amp; T1R -->\n      <g transform=\"translate(108.895625 239.238437)scale(0.1 -0.1)\">\n       <defs>\n        <path d=\"M -19 4666 \nL 3928 4666 \nL 3928 4134 \nL 2272 4134 \nL 2272 0 \nL 1638 0 \nL 1638 4134 \nL -19 4134 \nL -19 4666 \nz\n\" id=\"DejaVuSans-54\" transform=\"scale(0.015625)\"/>\n        <path d=\"M 794 531 \nL 1825 531 \nL 1825 4091 \nL 703 3866 \nL 703 4441 \nL 1819 4666 \nL 2450 4666 \nL 2450 531 \nL 3481 531 \nL 3481 0 \nL 794 0 \nL 794 531 \nz\n\" id=\"DejaVuSans-31\" transform=\"scale(0.015625)\"/>\n        <path d=\"M 628 4666 \nL 1259 4666 \nL 1259 531 \nL 3531 531 \nL 3531 0 \nL 628 0 \nL 628 4666 \nz\n\" id=\"DejaVuSans-4c\" transform=\"scale(0.015625)\"/>\n        <path id=\"DejaVuSans-20\" transform=\"scale(0.015625)\"/>\n        <path d=\"M 1556 2509 \nQ 1272 2256 1139 2004 \nQ 1006 1753 1006 1478 \nQ 1006 1022 1337 719 \nQ 1669 416 2169 416 \nQ 2466 416 2725 514 \nQ 2984 613 3213 813 \nL 1556 2509 \nz\nM 1997 2859 \nL 3584 1234 \nQ 3769 1513 3872 1830 \nQ 3975 2147 3994 2503 \nL 4575 2503 \nQ 4538 2091 4375 1687 \nQ 4213 1284 3922 891 \nL 4794 0 \nL 4006 0 \nL 3559 459 \nQ 3234 181 2878 45 \nQ 2522 -91 2113 -91 \nQ 1359 -91 881 339 \nQ 403 769 403 1441 \nQ 403 1841 612 2192 \nQ 822 2544 1241 2853 \nQ 1091 3050 1012 3245 \nQ 934 3441 934 3628 \nQ 934 4134 1281 4442 \nQ 1628 4750 2203 4750 \nQ 2463 4750 2720 4694 \nQ 2978 4638 3244 4525 \nL 3244 3956 \nQ 2972 4103 2725 4179 \nQ 2478 4256 2266 4256 \nQ 1938 4256 1733 4082 \nQ 1528 3909 1528 3634 \nQ 1528 3475 1620 3314 \nQ 1713 3153 1997 2859 \nz\n\" id=\"DejaVuSans-26\" transform=\"scale(0.015625)\"/>\n        <path d=\"M 2841 2188 \nQ 3044 2119 3236 1894 \nQ 3428 1669 3622 1275 \nL 4263 0 \nL 3584 0 \nL 2988 1197 \nQ 2756 1666 2539 1819 \nQ 2322 1972 1947 1972 \nL 1259 1972 \nL 1259 0 \nL 628 0 \nL 628 4666 \nL 2053 4666 \nQ 2853 4666 3247 4331 \nQ 3641 3997 3641 3322 \nQ 3641 2881 3436 2590 \nQ 3231 2300 2841 2188 \nz\nM 1259 4147 \nL 1259 2491 \nL 2053 2491 \nQ 2509 2491 2742 2702 \nQ 2975 2913 2975 3322 \nQ 2975 3731 2742 3939 \nQ 2509 4147 2053 4147 \nL 1259 4147 \nz\n\" id=\"DejaVuSans-52\" transform=\"scale(0.015625)\"/>\n       </defs>\n       <use xlink:href=\"#DejaVuSans-54\"/>\n       <use x=\"61.083984\" xlink:href=\"#DejaVuSans-31\"/>\n       <use x=\"124.707031\" xlink:href=\"#DejaVuSans-4c\"/>\n       <use x=\"180.419922\" xlink:href=\"#DejaVuSans-20\"/>\n       <use x=\"212.207031\" xlink:href=\"#DejaVuSans-26\"/>\n       <use x=\"290.185547\" xlink:href=\"#DejaVuSans-20\"/>\n       <use x=\"321.972656\" xlink:href=\"#DejaVuSans-54\"/>\n       <use x=\"383.056641\" xlink:href=\"#DejaVuSans-31\"/>\n       <use x=\"446.679688\" xlink:href=\"#DejaVuSans-52\"/>\n      </g>\n     </g>\n    </g>\n    <g id=\"xtick_2\">\n     <g id=\"line2d_2\">\n      <g>\n       <use style=\"stroke:#000000;stroke-width:0.8;\" x=\"201.663437\" xlink:href=\"#m9ade2ee9a6\" y=\"224.64\"/>\n      </g>\n     </g>\n     <g id=\"text_2\">\n      <!-- T1L -->\n      <g transform=\"translate(192.642344 239.238437)scale(0.1 -0.1)\">\n       <use xlink:href=\"#DejaVuSans-54\"/>\n       <use x=\"61.083984\" xlink:href=\"#DejaVuSans-31\"/>\n       <use x=\"124.707031\" xlink:href=\"#DejaVuSans-4c\"/>\n      </g>\n     </g>\n    </g>\n    <g id=\"xtick_3\">\n     <g id=\"line2d_3\">\n      <g>\n       <use style=\"stroke:#000000;stroke-width:0.8;\" x=\"268.623438\" xlink:href=\"#m9ade2ee9a6\" y=\"224.64\"/>\n      </g>\n     </g>\n     <g id=\"text_3\">\n      <!-- T1R -->\n      <g transform=\"translate(258.914062 239.238437)scale(0.1 -0.1)\">\n       <use xlink:href=\"#DejaVuSans-54\"/>\n       <use x=\"61.083984\" xlink:href=\"#DejaVuSans-31\"/>\n       <use x=\"124.707031\" xlink:href=\"#DejaVuSans-52\"/>\n      </g>\n     </g>\n    </g>\n    <g id=\"xtick_4\">\n     <g id=\"line2d_4\">\n      <g>\n       <use style=\"stroke:#000000;stroke-width:0.8;\" x=\"335.583438\" xlink:href=\"#m9ade2ee9a6\" y=\"224.64\"/>\n      </g>\n     </g>\n     <g id=\"text_4\">\n      <!-- others -->\n      <g transform=\"translate(319.658437 239.238437)scale(0.1 -0.1)\">\n       <defs>\n        <path d=\"M 1959 3097 \nQ 1497 3097 1228 2736 \nQ 959 2375 959 1747 \nQ 959 1119 1226 758 \nQ 1494 397 1959 397 \nQ 2419 397 2687 759 \nQ 2956 1122 2956 1747 \nQ 2956 2369 2687 2733 \nQ 2419 3097 1959 3097 \nz\nM 1959 3584 \nQ 2709 3584 3137 3096 \nQ 3566 2609 3566 1747 \nQ 3566 888 3137 398 \nQ 2709 -91 1959 -91 \nQ 1206 -91 779 398 \nQ 353 888 353 1747 \nQ 353 2609 779 3096 \nQ 1206 3584 1959 3584 \nz\n\" id=\"DejaVuSans-6f\" transform=\"scale(0.015625)\"/>\n        <path d=\"M 1172 4494 \nL 1172 3500 \nL 2356 3500 \nL 2356 3053 \nL 1172 3053 \nL 1172 1153 \nQ 1172 725 1289 603 \nQ 1406 481 1766 481 \nL 2356 481 \nL 2356 0 \nL 1766 0 \nQ 1100 0 847 248 \nQ 594 497 594 1153 \nL 594 3053 \nL 172 3053 \nL 172 3500 \nL 594 3500 \nL 594 4494 \nL 1172 4494 \nz\n\" id=\"DejaVuSans-74\" transform=\"scale(0.015625)\"/>\n        <path d=\"M 3513 2113 \nL 3513 0 \nL 2938 0 \nL 2938 2094 \nQ 2938 2591 2744 2837 \nQ 2550 3084 2163 3084 \nQ 1697 3084 1428 2787 \nQ 1159 2491 1159 1978 \nL 1159 0 \nL 581 0 \nL 581 4863 \nL 1159 4863 \nL 1159 2956 \nQ 1366 3272 1645 3428 \nQ 1925 3584 2291 3584 \nQ 2894 3584 3203 3211 \nQ 3513 2838 3513 2113 \nz\n\" id=\"DejaVuSans-68\" transform=\"scale(0.015625)\"/>\n        <path d=\"M 3597 1894 \nL 3597 1613 \nL 953 1613 \nQ 991 1019 1311 708 \nQ 1631 397 2203 397 \nQ 2534 397 2845 478 \nQ 3156 559 3463 722 \nL 3463 178 \nQ 3153 47 2828 -22 \nQ 2503 -91 2169 -91 \nQ 1331 -91 842 396 \nQ 353 884 353 1716 \nQ 353 2575 817 3079 \nQ 1281 3584 2069 3584 \nQ 2775 3584 3186 3129 \nQ 3597 2675 3597 1894 \nz\nM 3022 2063 \nQ 3016 2534 2758 2815 \nQ 2500 3097 2075 3097 \nQ 1594 3097 1305 2825 \nQ 1016 2553 972 2059 \nL 3022 2063 \nz\n\" id=\"DejaVuSans-65\" transform=\"scale(0.015625)\"/>\n        <path d=\"M 2631 2963 \nQ 2534 3019 2420 3045 \nQ 2306 3072 2169 3072 \nQ 1681 3072 1420 2755 \nQ 1159 2438 1159 1844 \nL 1159 0 \nL 581 0 \nL 581 3500 \nL 1159 3500 \nL 1159 2956 \nQ 1341 3275 1631 3429 \nQ 1922 3584 2338 3584 \nQ 2397 3584 2469 3576 \nQ 2541 3569 2628 3553 \nL 2631 2963 \nz\n\" id=\"DejaVuSans-72\" transform=\"scale(0.015625)\"/>\n        <path d=\"M 2834 3397 \nL 2834 2853 \nQ 2591 2978 2328 3040 \nQ 2066 3103 1784 3103 \nQ 1356 3103 1142 2972 \nQ 928 2841 928 2578 \nQ 928 2378 1081 2264 \nQ 1234 2150 1697 2047 \nL 1894 2003 \nQ 2506 1872 2764 1633 \nQ 3022 1394 3022 966 \nQ 3022 478 2636 193 \nQ 2250 -91 1575 -91 \nQ 1294 -91 989 -36 \nQ 684 19 347 128 \nL 347 722 \nQ 666 556 975 473 \nQ 1284 391 1588 391 \nQ 1994 391 2212 530 \nQ 2431 669 2431 922 \nQ 2431 1156 2273 1281 \nQ 2116 1406 1581 1522 \nL 1381 1569 \nQ 847 1681 609 1914 \nQ 372 2147 372 2553 \nQ 372 3047 722 3315 \nQ 1072 3584 1716 3584 \nQ 2034 3584 2315 3537 \nQ 2597 3491 2834 3397 \nz\n\" id=\"DejaVuSans-73\" transform=\"scale(0.015625)\"/>\n       </defs>\n       <use xlink:href=\"#DejaVuSans-6f\"/>\n       <use x=\"61.181641\" xlink:href=\"#DejaVuSans-74\"/>\n       <use x=\"100.390625\" xlink:href=\"#DejaVuSans-68\"/>\n       <use x=\"163.769531\" xlink:href=\"#DejaVuSans-65\"/>\n       <use x=\"225.292969\" xlink:href=\"#DejaVuSans-72\"/>\n       <use x=\"266.40625\" xlink:href=\"#DejaVuSans-73\"/>\n      </g>\n     </g>\n    </g>\n   </g>\n   <g id=\"matplotlib.axis_2\">\n    <g id=\"ytick_1\">\n     <g id=\"line2d_5\">\n      <defs>\n       <path d=\"M 0 0 \nL -3.5 0 \n\" id=\"ma8e3c77899\" style=\"stroke:#000000;stroke-width:0.8;\"/>\n      </defs>\n      <g>\n       <use style=\"stroke:#000000;stroke-width:0.8;\" x=\"101.223437\" xlink:href=\"#ma8e3c77899\" y=\"34.38\"/>\n      </g>\n     </g>\n     <g id=\"text_5\">\n      <!-- Left descending -->\n      <g transform=\"translate(14.717187 38.179219)scale(0.1 -0.1)\">\n       <defs>\n        <path d=\"M 2375 4863 \nL 2375 4384 \nL 1825 4384 \nQ 1516 4384 1395 4259 \nQ 1275 4134 1275 3809 \nL 1275 3500 \nL 2222 3500 \nL 2222 3053 \nL 1275 3053 \nL 1275 0 \nL 697 0 \nL 697 3053 \nL 147 3053 \nL 147 3500 \nL 697 3500 \nL 697 3744 \nQ 697 4328 969 4595 \nQ 1241 4863 1831 4863 \nL 2375 4863 \nz\n\" id=\"DejaVuSans-66\" transform=\"scale(0.015625)\"/>\n        <path d=\"M 2906 2969 \nL 2906 4863 \nL 3481 4863 \nL 3481 0 \nL 2906 0 \nL 2906 525 \nQ 2725 213 2448 61 \nQ 2172 -91 1784 -91 \nQ 1150 -91 751 415 \nQ 353 922 353 1747 \nQ 353 2572 751 3078 \nQ 1150 3584 1784 3584 \nQ 2172 3584 2448 3432 \nQ 2725 3281 2906 2969 \nz\nM 947 1747 \nQ 947 1113 1208 752 \nQ 1469 391 1925 391 \nQ 2381 391 2643 752 \nQ 2906 1113 2906 1747 \nQ 2906 2381 2643 2742 \nQ 2381 3103 1925 3103 \nQ 1469 3103 1208 2742 \nQ 947 2381 947 1747 \nz\n\" id=\"DejaVuSans-64\" transform=\"scale(0.015625)\"/>\n        <path d=\"M 3122 3366 \nL 3122 2828 \nQ 2878 2963 2633 3030 \nQ 2388 3097 2138 3097 \nQ 1578 3097 1268 2742 \nQ 959 2388 959 1747 \nQ 959 1106 1268 751 \nQ 1578 397 2138 397 \nQ 2388 397 2633 464 \nQ 2878 531 3122 666 \nL 3122 134 \nQ 2881 22 2623 -34 \nQ 2366 -91 2075 -91 \nQ 1284 -91 818 406 \nQ 353 903 353 1747 \nQ 353 2603 823 3093 \nQ 1294 3584 2113 3584 \nQ 2378 3584 2631 3529 \nQ 2884 3475 3122 3366 \nz\n\" id=\"DejaVuSans-63\" transform=\"scale(0.015625)\"/>\n        <path d=\"M 3513 2113 \nL 3513 0 \nL 2938 0 \nL 2938 2094 \nQ 2938 2591 2744 2837 \nQ 2550 3084 2163 3084 \nQ 1697 3084 1428 2787 \nQ 1159 2491 1159 1978 \nL 1159 0 \nL 581 0 \nL 581 3500 \nL 1159 3500 \nL 1159 2956 \nQ 1366 3272 1645 3428 \nQ 1925 3584 2291 3584 \nQ 2894 3584 3203 3211 \nQ 3513 2838 3513 2113 \nz\n\" id=\"DejaVuSans-6e\" transform=\"scale(0.015625)\"/>\n        <path d=\"M 603 3500 \nL 1178 3500 \nL 1178 0 \nL 603 0 \nL 603 3500 \nz\nM 603 4863 \nL 1178 4863 \nL 1178 4134 \nL 603 4134 \nL 603 4863 \nz\n\" id=\"DejaVuSans-69\" transform=\"scale(0.015625)\"/>\n        <path d=\"M 2906 1791 \nQ 2906 2416 2648 2759 \nQ 2391 3103 1925 3103 \nQ 1463 3103 1205 2759 \nQ 947 2416 947 1791 \nQ 947 1169 1205 825 \nQ 1463 481 1925 481 \nQ 2391 481 2648 825 \nQ 2906 1169 2906 1791 \nz\nM 3481 434 \nQ 3481 -459 3084 -895 \nQ 2688 -1331 1869 -1331 \nQ 1566 -1331 1297 -1286 \nQ 1028 -1241 775 -1147 \nL 775 -588 \nQ 1028 -725 1275 -790 \nQ 1522 -856 1778 -856 \nQ 2344 -856 2625 -561 \nQ 2906 -266 2906 331 \nL 2906 616 \nQ 2728 306 2450 153 \nQ 2172 0 1784 0 \nQ 1141 0 747 490 \nQ 353 981 353 1791 \nQ 353 2603 747 3093 \nQ 1141 3584 1784 3584 \nQ 2172 3584 2450 3431 \nQ 2728 3278 2906 2969 \nL 2906 3500 \nL 3481 3500 \nL 3481 434 \nz\n\" id=\"DejaVuSans-67\" transform=\"scale(0.015625)\"/>\n       </defs>\n       <use xlink:href=\"#DejaVuSans-4c\"/>\n       <use x=\"53.962891\" xlink:href=\"#DejaVuSans-65\"/>\n       <use x=\"115.486328\" xlink:href=\"#DejaVuSans-66\"/>\n       <use x=\"148.941406\" xlink:href=\"#DejaVuSans-74\"/>\n       <use x=\"188.150391\" xlink:href=\"#DejaVuSans-20\"/>\n       <use x=\"219.9375\" xlink:href=\"#DejaVuSans-64\"/>\n       <use x=\"283.414062\" xlink:href=\"#DejaVuSans-65\"/>\n       <use x=\"344.9375\" xlink:href=\"#DejaVuSans-73\"/>\n       <use x=\"397.037109\" xlink:href=\"#DejaVuSans-63\"/>\n       <use x=\"452.017578\" xlink:href=\"#DejaVuSans-65\"/>\n       <use x=\"513.541016\" xlink:href=\"#DejaVuSans-6e\"/>\n       <use x=\"576.919922\" xlink:href=\"#DejaVuSans-64\"/>\n       <use x=\"640.396484\" xlink:href=\"#DejaVuSans-69\"/>\n       <use x=\"668.179688\" xlink:href=\"#DejaVuSans-6e\"/>\n       <use x=\"731.558594\" xlink:href=\"#DejaVuSans-67\"/>\n      </g>\n     </g>\n    </g>\n    <g id=\"ytick_2\">\n     <g id=\"line2d_6\">\n      <g>\n       <use style=\"stroke:#000000;stroke-width:0.8;\" x=\"101.223437\" xlink:href=\"#ma8e3c77899\" y=\"88.74\"/>\n      </g>\n     </g>\n     <g id=\"text_6\">\n      <!-- Left ascending -->\n      <g transform=\"translate(21.090625 92.539219)scale(0.1 -0.1)\">\n       <defs>\n        <path d=\"M 2194 1759 \nQ 1497 1759 1228 1600 \nQ 959 1441 959 1056 \nQ 959 750 1161 570 \nQ 1363 391 1709 391 \nQ 2188 391 2477 730 \nQ 2766 1069 2766 1631 \nL 2766 1759 \nL 2194 1759 \nz\nM 3341 1997 \nL 3341 0 \nL 2766 0 \nL 2766 531 \nQ 2569 213 2275 61 \nQ 1981 -91 1556 -91 \nQ 1019 -91 701 211 \nQ 384 513 384 1019 \nQ 384 1609 779 1909 \nQ 1175 2209 1959 2209 \nL 2766 2209 \nL 2766 2266 \nQ 2766 2663 2505 2880 \nQ 2244 3097 1772 3097 \nQ 1472 3097 1187 3025 \nQ 903 2953 641 2809 \nL 641 3341 \nQ 956 3463 1253 3523 \nQ 1550 3584 1831 3584 \nQ 2591 3584 2966 3190 \nQ 3341 2797 3341 1997 \nz\n\" id=\"DejaVuSans-61\" transform=\"scale(0.015625)\"/>\n       </defs>\n       <use xlink:href=\"#DejaVuSans-4c\"/>\n       <use x=\"53.962891\" xlink:href=\"#DejaVuSans-65\"/>\n       <use x=\"115.486328\" xlink:href=\"#DejaVuSans-66\"/>\n       <use x=\"148.941406\" xlink:href=\"#DejaVuSans-74\"/>\n       <use x=\"188.150391\" xlink:href=\"#DejaVuSans-20\"/>\n       <use x=\"219.9375\" xlink:href=\"#DejaVuSans-61\"/>\n       <use x=\"281.216797\" xlink:href=\"#DejaVuSans-73\"/>\n       <use x=\"333.316406\" xlink:href=\"#DejaVuSans-63\"/>\n       <use x=\"388.296875\" xlink:href=\"#DejaVuSans-65\"/>\n       <use x=\"449.820312\" xlink:href=\"#DejaVuSans-6e\"/>\n       <use x=\"513.199219\" xlink:href=\"#DejaVuSans-64\"/>\n       <use x=\"576.675781\" xlink:href=\"#DejaVuSans-69\"/>\n       <use x=\"604.458984\" xlink:href=\"#DejaVuSans-6e\"/>\n       <use x=\"667.837891\" xlink:href=\"#DejaVuSans-67\"/>\n      </g>\n     </g>\n    </g>\n    <g id=\"ytick_3\">\n     <g id=\"line2d_7\">\n      <g>\n       <use style=\"stroke:#000000;stroke-width:0.8;\" x=\"101.223437\" xlink:href=\"#ma8e3c77899\" y=\"143.1\"/>\n      </g>\n     </g>\n     <g id=\"text_7\">\n      <!-- Right descending -->\n      <g transform=\"translate(7.2 146.899219)scale(0.1 -0.1)\">\n       <use xlink:href=\"#DejaVuSans-52\"/>\n       <use x=\"69.482422\" xlink:href=\"#DejaVuSans-69\"/>\n       <use x=\"97.265625\" xlink:href=\"#DejaVuSans-67\"/>\n       <use x=\"160.742188\" xlink:href=\"#DejaVuSans-68\"/>\n       <use x=\"224.121094\" xlink:href=\"#DejaVuSans-74\"/>\n       <use x=\"263.330078\" xlink:href=\"#DejaVuSans-20\"/>\n       <use x=\"295.117188\" xlink:href=\"#DejaVuSans-64\"/>\n       <use x=\"358.59375\" xlink:href=\"#DejaVuSans-65\"/>\n       <use x=\"420.117188\" xlink:href=\"#DejaVuSans-73\"/>\n       <use x=\"472.216797\" xlink:href=\"#DejaVuSans-63\"/>\n       <use x=\"527.197266\" xlink:href=\"#DejaVuSans-65\"/>\n       <use x=\"588.720703\" xlink:href=\"#DejaVuSans-6e\"/>\n       <use x=\"652.099609\" xlink:href=\"#DejaVuSans-64\"/>\n       <use x=\"715.576172\" xlink:href=\"#DejaVuSans-69\"/>\n       <use x=\"743.359375\" xlink:href=\"#DejaVuSans-6e\"/>\n       <use x=\"806.738281\" xlink:href=\"#DejaVuSans-67\"/>\n      </g>\n     </g>\n    </g>\n    <g id=\"ytick_4\">\n     <g id=\"line2d_8\">\n      <g>\n       <use style=\"stroke:#000000;stroke-width:0.8;\" x=\"101.223437\" xlink:href=\"#ma8e3c77899\" y=\"197.46\"/>\n      </g>\n     </g>\n     <g id=\"text_8\">\n      <!-- Right ascending -->\n      <g transform=\"translate(13.573437 201.259219)scale(0.1 -0.1)\">\n       <use xlink:href=\"#DejaVuSans-52\"/>\n       <use x=\"69.482422\" xlink:href=\"#DejaVuSans-69\"/>\n       <use x=\"97.265625\" xlink:href=\"#DejaVuSans-67\"/>\n       <use x=\"160.742188\" xlink:href=\"#DejaVuSans-68\"/>\n       <use x=\"224.121094\" xlink:href=\"#DejaVuSans-74\"/>\n       <use x=\"263.330078\" xlink:href=\"#DejaVuSans-20\"/>\n       <use x=\"295.117188\" xlink:href=\"#DejaVuSans-61\"/>\n       <use x=\"356.396484\" xlink:href=\"#DejaVuSans-73\"/>\n       <use x=\"408.496094\" xlink:href=\"#DejaVuSans-63\"/>\n       <use x=\"463.476562\" xlink:href=\"#DejaVuSans-65\"/>\n       <use x=\"525\" xlink:href=\"#DejaVuSans-6e\"/>\n       <use x=\"588.378906\" xlink:href=\"#DejaVuSans-64\"/>\n       <use x=\"651.855469\" xlink:href=\"#DejaVuSans-69\"/>\n       <use x=\"679.638672\" xlink:href=\"#DejaVuSans-6e\"/>\n       <use x=\"743.017578\" xlink:href=\"#DejaVuSans-67\"/>\n      </g>\n     </g>\n    </g>\n   </g>\n  </g>\n  <g id=\"axes_2\">\n   <g id=\"patch_3\">\n    <path d=\"M 385.803438 224.64 \nL 396.675438 224.64 \nL 396.675438 7.2 \nL 385.803438 7.2 \nz\n\" style=\"fill:#ffffff;\"/>\n   </g>\n   <g id=\"patch_4\">\n    <path clip-path=\"url(#p437ff31526)\" d=\"M 385.803438 224.64 \nL 385.803438 223.790625 \nL 385.803438 8.049375 \nL 385.803438 7.2 \nL 396.675438 7.2 \nL 396.675438 8.049375 \nL 396.675438 223.790625 \nL 396.675438 224.64 \nL 396.675438 224.64 \nz\n\" style=\"fill:#ffffff;stroke:#ffffff;stroke-linejoin:miter;stroke-width:0.01;\"/>\n   </g>\n   <image height=\"217\" id=\"image4de4fa219d\" transform=\"scale(1 -1)translate(0 -217)\" width=\"11\" x=\"386\" xlink:href=\"data:image/png;base64,\niVBORw0KGgoAAAANSUhEUgAAAAsAAADZCAYAAAD2WsoCAAABYUlEQVR4nO3aQW4DMQwDQMtyPtH/vzPptUfPgYA2aM4EQVK0duOk+vXzWZefU7fItdbZe9+Da91znyoAbwGTDGLukjRyBonZ0gCDQzQn02gBj6jolPKTjCnjlvIP0UwyrqE67iFpUOt6hoz7lKM5d6x1ZDC4N0TGya1ckZFjfua4iRnAJ1akZHQpGef6u4TLIHDsdE8xKOCY5iPgEhmPTCPYjXtqM2ib/yMyhHlIGiXMVn7SHGQWMEzltDAX7IKzBWxFEubeb5Ah0QXTiMnojqUBJzYY3W6RYZqvscock7Hh2WZDgasCTgOYF3UDVj/KsDRizGYQXrbRYIp5CXPBUwWZzWBMhlxZyOvJWfIb0JToGq7uUXMqjSU3rsZ8JI2YjCnRWRpU0RHHavX96sczaN2IgWkoksYUzcScM5gbd475P40/4OpXiHlKGjMMlvxVIJkGlT/3VkDR5VaBdOPLDf4CdO8rI5K+A88AAAAASUVORK5CYII=\" y=\"-7\"/>\n   <g id=\"matplotlib.axis_3\"/>\n   <g id=\"matplotlib.axis_4\">\n    <g id=\"ytick_5\">\n     <g id=\"line2d_9\">\n      <defs>\n       <path d=\"M 0 0 \nL 3.5 0 \n\" id=\"md864228fe2\" style=\"stroke:#000000;stroke-width:0.8;\"/>\n      </defs>\n      <g>\n       <use style=\"stroke:#000000;stroke-width:0.8;\" x=\"396.675438\" xlink:href=\"#md864228fe2\" y=\"178.28871\"/>\n      </g>\n     </g>\n     <g id=\"text_9\">\n      <!-- 0.2 -->\n      <g transform=\"translate(403.675438 182.087929)scale(0.1 -0.1)\">\n       <defs>\n        <path d=\"M 2034 4250 \nQ 1547 4250 1301 3770 \nQ 1056 3291 1056 2328 \nQ 1056 1369 1301 889 \nQ 1547 409 2034 409 \nQ 2525 409 2770 889 \nQ 3016 1369 3016 2328 \nQ 3016 3291 2770 3770 \nQ 2525 4250 2034 4250 \nz\nM 2034 4750 \nQ 2819 4750 3233 4129 \nQ 3647 3509 3647 2328 \nQ 3647 1150 3233 529 \nQ 2819 -91 2034 -91 \nQ 1250 -91 836 529 \nQ 422 1150 422 2328 \nQ 422 3509 836 4129 \nQ 1250 4750 2034 4750 \nz\n\" id=\"DejaVuSans-30\" transform=\"scale(0.015625)\"/>\n        <path d=\"M 684 794 \nL 1344 794 \nL 1344 0 \nL 684 0 \nL 684 794 \nz\n\" id=\"DejaVuSans-2e\" transform=\"scale(0.015625)\"/>\n        <path d=\"M 1228 531 \nL 3431 531 \nL 3431 0 \nL 469 0 \nL 469 531 \nQ 828 903 1448 1529 \nQ 2069 2156 2228 2338 \nQ 2531 2678 2651 2914 \nQ 2772 3150 2772 3378 \nQ 2772 3750 2511 3984 \nQ 2250 4219 1831 4219 \nQ 1534 4219 1204 4116 \nQ 875 4013 500 3803 \nL 500 4441 \nQ 881 4594 1212 4672 \nQ 1544 4750 1819 4750 \nQ 2544 4750 2975 4387 \nQ 3406 4025 3406 3419 \nQ 3406 3131 3298 2873 \nQ 3191 2616 2906 2266 \nQ 2828 2175 2409 1742 \nQ 1991 1309 1228 531 \nz\n\" id=\"DejaVuSans-32\" transform=\"scale(0.015625)\"/>\n       </defs>\n       <use xlink:href=\"#DejaVuSans-30\"/>\n       <use x=\"63.623047\" xlink:href=\"#DejaVuSans-2e\"/>\n       <use x=\"95.410156\" xlink:href=\"#DejaVuSans-32\"/>\n      </g>\n     </g>\n    </g>\n    <g id=\"ytick_6\">\n     <g id=\"line2d_10\">\n      <g>\n       <use style=\"stroke:#000000;stroke-width:0.8;\" x=\"396.675438\" xlink:href=\"#md864228fe2\" y=\"131.049464\"/>\n      </g>\n     </g>\n     <g id=\"text_10\">\n      <!-- 0.4 -->\n      <g transform=\"translate(403.675438 134.848683)scale(0.1 -0.1)\">\n       <defs>\n        <path d=\"M 2419 4116 \nL 825 1625 \nL 2419 1625 \nL 2419 4116 \nz\nM 2253 4666 \nL 3047 4666 \nL 3047 1625 \nL 3713 1625 \nL 3713 1100 \nL 3047 1100 \nL 3047 0 \nL 2419 0 \nL 2419 1100 \nL 313 1100 \nL 313 1709 \nL 2253 4666 \nz\n\" id=\"DejaVuSans-34\" transform=\"scale(0.015625)\"/>\n       </defs>\n       <use xlink:href=\"#DejaVuSans-30\"/>\n       <use x=\"63.623047\" xlink:href=\"#DejaVuSans-2e\"/>\n       <use x=\"95.410156\" xlink:href=\"#DejaVuSans-34\"/>\n      </g>\n     </g>\n    </g>\n    <g id=\"ytick_7\">\n     <g id=\"line2d_11\">\n      <g>\n       <use style=\"stroke:#000000;stroke-width:0.8;\" x=\"396.675438\" xlink:href=\"#md864228fe2\" y=\"83.810219\"/>\n      </g>\n     </g>\n     <g id=\"text_11\">\n      <!-- 0.6 -->\n      <g transform=\"translate(403.675438 87.609437)scale(0.1 -0.1)\">\n       <defs>\n        <path d=\"M 2113 2584 \nQ 1688 2584 1439 2293 \nQ 1191 2003 1191 1497 \nQ 1191 994 1439 701 \nQ 1688 409 2113 409 \nQ 2538 409 2786 701 \nQ 3034 994 3034 1497 \nQ 3034 2003 2786 2293 \nQ 2538 2584 2113 2584 \nz\nM 3366 4563 \nL 3366 3988 \nQ 3128 4100 2886 4159 \nQ 2644 4219 2406 4219 \nQ 1781 4219 1451 3797 \nQ 1122 3375 1075 2522 \nQ 1259 2794 1537 2939 \nQ 1816 3084 2150 3084 \nQ 2853 3084 3261 2657 \nQ 3669 2231 3669 1497 \nQ 3669 778 3244 343 \nQ 2819 -91 2113 -91 \nQ 1303 -91 875 529 \nQ 447 1150 447 2328 \nQ 447 3434 972 4092 \nQ 1497 4750 2381 4750 \nQ 2619 4750 2861 4703 \nQ 3103 4656 3366 4563 \nz\n\" id=\"DejaVuSans-36\" transform=\"scale(0.015625)\"/>\n       </defs>\n       <use xlink:href=\"#DejaVuSans-30\"/>\n       <use x=\"63.623047\" xlink:href=\"#DejaVuSans-2e\"/>\n       <use x=\"95.410156\" xlink:href=\"#DejaVuSans-36\"/>\n      </g>\n     </g>\n    </g>\n    <g id=\"ytick_8\">\n     <g id=\"line2d_12\">\n      <g>\n       <use style=\"stroke:#000000;stroke-width:0.8;\" x=\"396.675438\" xlink:href=\"#md864228fe2\" y=\"36.570973\"/>\n      </g>\n     </g>\n     <g id=\"text_12\">\n      <!-- 0.8 -->\n      <g transform=\"translate(403.675438 40.370192)scale(0.1 -0.1)\">\n       <defs>\n        <path d=\"M 2034 2216 \nQ 1584 2216 1326 1975 \nQ 1069 1734 1069 1313 \nQ 1069 891 1326 650 \nQ 1584 409 2034 409 \nQ 2484 409 2743 651 \nQ 3003 894 3003 1313 \nQ 3003 1734 2745 1975 \nQ 2488 2216 2034 2216 \nz\nM 1403 2484 \nQ 997 2584 770 2862 \nQ 544 3141 544 3541 \nQ 544 4100 942 4425 \nQ 1341 4750 2034 4750 \nQ 2731 4750 3128 4425 \nQ 3525 4100 3525 3541 \nQ 3525 3141 3298 2862 \nQ 3072 2584 2669 2484 \nQ 3125 2378 3379 2068 \nQ 3634 1759 3634 1313 \nQ 3634 634 3220 271 \nQ 2806 -91 2034 -91 \nQ 1263 -91 848 271 \nQ 434 634 434 1313 \nQ 434 1759 690 2068 \nQ 947 2378 1403 2484 \nz\nM 1172 3481 \nQ 1172 3119 1398 2916 \nQ 1625 2713 2034 2713 \nQ 2441 2713 2670 2916 \nQ 2900 3119 2900 3481 \nQ 2900 3844 2670 4047 \nQ 2441 4250 2034 4250 \nQ 1625 4250 1398 4047 \nQ 1172 3844 1172 3481 \nz\n\" id=\"DejaVuSans-38\" transform=\"scale(0.015625)\"/>\n       </defs>\n       <use xlink:href=\"#DejaVuSans-30\"/>\n       <use x=\"63.623047\" xlink:href=\"#DejaVuSans-2e\"/>\n       <use x=\"95.410156\" xlink:href=\"#DejaVuSans-38\"/>\n      </g>\n     </g>\n    </g>\n   </g>\n   <g id=\"LineCollection_1\"/>\n   <g id=\"patch_5\">\n    <path d=\"M 385.803438 224.64 \nL 385.803438 223.790625 \nL 385.803438 8.049375 \nL 385.803438 7.2 \nL 396.675438 7.2 \nL 396.675438 8.049375 \nL 396.675438 223.790625 \nL 396.675438 224.64 \nz\n\" style=\"fill:none;\"/>\n   </g>\n  </g>\n </g>\n <defs>\n  <clipPath id=\"p8edcdd9a53\">\n   <rect height=\"217.44\" width=\"267.84\" x=\"101.223437\" y=\"7.2\"/>\n  </clipPath>\n  <clipPath id=\"p437ff31526\">\n   <rect height=\"217.44\" width=\"10.872\" x=\"385.803438\" y=\"7.2\"/>\n  </clipPath>\n </defs>\n</svg>\n",
      "image/png": "[encoded data removed]"
     },
     "metadata": {
      "needs_background": "light"
     }
    }
   ],
   "metadata": {}
  },
  {
   "cell_type": "code",
   "execution_count": null,
   "source": [],
   "outputs": [],
   "metadata": {}
  },
  {
   "cell_type": "code",
   "execution_count": null,
   "source": [
    "MNinputs = pd.read_csv('../Output/da/MNinputs.csv', header=0, index_col=0)\n",
    "DANoutputs = pd.read_csv('../Output/da/DANoutputs.csv', header=0, index_col=0)"
   ],
   "outputs": [],
   "metadata": {}
  },
  {
   "cell_type": "code",
   "execution_count": null,
   "source": [
    "t(DANoutputs)\n",
    "# sum row column add"
   ],
   "outputs": [],
   "metadata": {}
  },
  {
   "cell_type": "code",
   "execution_count": null,
   "source": [],
   "outputs": [],
   "metadata": {}
  },
  {
   "cell_type": "code",
   "execution_count": null,
   "source": [],
   "outputs": [],
   "metadata": {}
  }
 ],
 "metadata": {
  "interpreter": {
   "hash": "c3593f56db3fdc375a231e1c1fb5fc1dbab03dc3894478fa0aaa4bb9b486beca"
  },
  "kernelspec": {
   "name": "python3",
   "display_name": "Python 3.7.11 64-bit ('nuclei': venv)"
  },
  "language_info": {
   "codemirror_mode": {
    "name": "ipython",
    "version": 3
   },
   "file_extension": ".py",
   "mimetype": "text/x-python",
   "name": "python",
   "nbconvert_exporter": "python",
   "pygments_lexer": "ipython3",
   "version": "3.7.11"
  }
 },
 "nbformat": 4,
 "nbformat_minor": 2
}