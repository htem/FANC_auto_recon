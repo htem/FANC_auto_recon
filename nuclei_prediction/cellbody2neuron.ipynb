{
 "cells": [
  {
   "cell_type": "markdown",
   "source": [
    "# Predict parent neuron\n",
    "Using Jasper's idea to predict parent neurons for nuclei, Thank you so much, Jasper."
   ],
   "metadata": {}
  },
  {
   "cell_type": "markdown",
   "source": [
    "https://www.j-focus.jp/user_guide/ug0004040000/\n",
    "sbatch"
   ],
   "metadata": {}
  },
  {
   "cell_type": "code",
   "execution_count": 1,
   "source": [
    "# libraries 1\n",
    "import numpy as np\n",
    "from PIL import Image\n",
    "import matplotlib.pyplot as plt\n",
    "import sys\n",
    "import os\n",
    "import pandas as pd\n",
    "import csv\n",
    "from tqdm import tqdm\n",
    "import argparse\n",
    "\n",
    "from cloudvolume import CloudVolume, view, Bbox\n",
    "import cc3d\n",
    "from tifffile.tifffile import imwrite\n",
    "import fill_voids\n",
    "from taskqueue import TaskQueue, partial, queueable\n"
   ],
   "outputs": [],
   "metadata": {}
  },
  {
   "cell_type": "code",
   "execution_count": 2,
   "source": [
    "# libraries 2\n",
    "# %pwd\n",
    "sys.path.append(os.path.abspath(\"../segmentation\"))\n",
    "# to import rootID_lookup and authentication_utils like below\n",
    "import rootID_lookup as IDlook\n",
    "import authentication_utils as auth\n",
    "\n",
    "#vimport cellbody2neuron"
   ],
   "outputs": [],
   "metadata": {}
  },
  {
   "cell_type": "code",
   "execution_count": null,
   "source": [
    "parser = argparse.ArgumentParser(description='get segIDs of parent neurons from csv files') \n",
    "parser.add_argument('-c', '--choose', help='specify the numer of pixels randomly chosen to get segID of parent neuron. default is all surroundinx pixels', default=0, type=int)\n",
    "args = parser.parse_args()\n",
    "\n",
    "choose=args.choose"
   ],
   "outputs": [],
   "metadata": {}
  },
  {
   "cell_type": "code",
   "execution_count": 3,
   "source": [
    "np.random.seed(123)\n",
    "queuepath = '/n/groups/htem/users/skuroda/nuclei_tasks'"
   ],
   "outputs": [],
   "metadata": {}
  },
  {
   "cell_type": "code",
   "execution_count": 4,
   "source": [
    "# cv setting\n",
    "seg = CloudVolume(auth.get_cv_path('FANC_production_segmentation')['url'], use_https=True, agglomerate=False, cache=True, progress=False)"
   ],
   "outputs": [],
   "metadata": {}
  },
  {
   "cell_type": "code",
   "execution_count": 5,
   "source": [
    "# read csv\n",
    "df = pd.read_csv('../Output/info_cellbody.csv', header=0)"
   ],
   "outputs": [],
   "metadata": {}
  },
  {
   "cell_type": "code",
   "execution_count": 26,
   "source": [
    "cord = df.iloc[0,0:3] #xyz coordinates\n",
    "id = df.iloc[0,3] #segid"
   ],
   "outputs": [],
   "metadata": {}
  },
  {
   "cell_type": "code",
   "execution_count": 30,
   "source": [
    "df"
   ],
   "outputs": [
    {
     "output_type": "execute_result",
     "data": {
      "text/plain": [
       "       x       y    z              segIDs\n",
       "0  59928  197656  133  648518346488207114\n",
       "1  60840  196896  176  648518346492349041\n",
       "2  59952  198208  216  648518346510652228\n",
       "3  60264  196824  229  648518346520009221\n",
       "4  60432  199064  155  648518346500257145\n",
       "5  59704  200360  159                   0\n",
       "6  59704  200992  167  648518346493513890"
      ],
      "text/html": [
       "<div>\n",
       "<style scoped>\n",
       "    .dataframe tbody tr th:only-of-type {\n",
       "        vertical-align: middle;\n",
       "    }\n",
       "\n",
       "    .dataframe tbody tr th {\n",
       "        vertical-align: top;\n",
       "    }\n",
       "\n",
       "    .dataframe thead th {\n",
       "        text-align: right;\n",
       "    }\n",
       "</style>\n",
       "<table border=\"1\" class=\"dataframe\">\n",
       "  <thead>\n",
       "    <tr style=\"text-align: right;\">\n",
       "      <th></th>\n",
       "      <th>x</th>\n",
       "      <th>y</th>\n",
       "      <th>z</th>\n",
       "      <th>segIDs</th>\n",
       "    </tr>\n",
       "  </thead>\n",
       "  <tbody>\n",
       "    <tr>\n",
       "      <th>0</th>\n",
       "      <td>59928</td>\n",
       "      <td>197656</td>\n",
       "      <td>133</td>\n",
       "      <td>648518346488207114</td>\n",
       "    </tr>\n",
       "    <tr>\n",
       "      <th>1</th>\n",
       "      <td>60840</td>\n",
       "      <td>196896</td>\n",
       "      <td>176</td>\n",
       "      <td>648518346492349041</td>\n",
       "    </tr>\n",
       "    <tr>\n",
       "      <th>2</th>\n",
       "      <td>59952</td>\n",
       "      <td>198208</td>\n",
       "      <td>216</td>\n",
       "      <td>648518346510652228</td>\n",
       "    </tr>\n",
       "    <tr>\n",
       "      <th>3</th>\n",
       "      <td>60264</td>\n",
       "      <td>196824</td>\n",
       "      <td>229</td>\n",
       "      <td>648518346520009221</td>\n",
       "    </tr>\n",
       "    <tr>\n",
       "      <th>4</th>\n",
       "      <td>60432</td>\n",
       "      <td>199064</td>\n",
       "      <td>155</td>\n",
       "      <td>648518346500257145</td>\n",
       "    </tr>\n",
       "    <tr>\n",
       "      <th>5</th>\n",
       "      <td>59704</td>\n",
       "      <td>200360</td>\n",
       "      <td>159</td>\n",
       "      <td>0</td>\n",
       "    </tr>\n",
       "    <tr>\n",
       "      <th>6</th>\n",
       "      <td>59704</td>\n",
       "      <td>200992</td>\n",
       "      <td>167</td>\n",
       "      <td>648518346493513890</td>\n",
       "    </tr>\n",
       "  </tbody>\n",
       "</table>\n",
       "</div>"
      ]
     },
     "metadata": {},
     "execution_count": 30
    }
   ],
   "metadata": {}
  },
  {
   "cell_type": "code",
   "execution_count": null,
   "source": [],
   "outputs": [],
   "metadata": {}
  },
  {
   "cell_type": "code",
   "execution_count": 6,
   "source": [
    "# cord = (50816, 85456,  1880) #mip0\n",
    "id = (648518346490989503)"
   ],
   "outputs": [],
   "metadata": {}
  },
  {
   "cell_type": "code",
   "execution_count": 7,
   "source": [
    "# cord[0]"
   ],
   "outputs": [],
   "metadata": {}
  },
  {
   "cell_type": "code",
   "execution_count": 8,
   "source": [
    "# change coordination from mip0 to mip2\n",
    "\"\"\" coord_mip2 = cord\n",
    "coord_mip2[0]  = (cord[0] /(2**2))\n",
    "coord_mip2[1]  = (cord[1] /(2**2))\n",
    "coord_mip2 = coord_mip2.astype('int64')\n",
    "coord_mip2 \"\"\""
   ],
   "outputs": [
    {
     "output_type": "execute_result",
     "data": {
      "text/plain": [
       "\" coord_mip2 = cord\\ncoord_mip2[0]  = (cord[0] /(2**2))\\ncoord_mip2[1]  = (cord[1] /(2**2))\\ncoord_mip2 = coord_mip2.astype('int64')\\ncoord_mip2 \""
      ]
     },
     "metadata": {},
     "execution_count": 8
    }
   ],
   "metadata": {}
  },
  {
   "cell_type": "code",
   "execution_count": 9,
   "source": [
    "cord_mip2 = np.array([12704, 21364,  1880]) #mip2\n"
   ],
   "outputs": [],
   "metadata": {}
  },
  {
   "cell_type": "code",
   "execution_count": 10,
   "source": [
    "type(id)\n",
    "size_xy = 160 # 160/(2**2)??\n",
    "# 128x128x160 is small"
   ],
   "outputs": [],
   "metadata": {}
  },
  {
   "cell_type": "code",
   "execution_count": 12,
   "source": [
    "# view(seg_nuc, segmentation=True)"
   ],
   "outputs": [],
   "metadata": {}
  },
  {
   "cell_type": "code",
   "execution_count": 14,
   "source": [
    "# save images\n",
    "# volume = vol.swapaxes(0, 2).astype('float32')\n",
    "# imwrite('../Output/vol.tif', volume, imagej=True)"
   ],
   "outputs": [],
   "metadata": {}
  },
  {
   "cell_type": "code",
   "execution_count": 25,
   "source": [
    "# check fill quality\n",
    "volume = vol.astype('float32').swapaxes(0, 2)\n",
    "imwrite('../Output/filltest_vol.tif', volume, imagej=True)\n",
    "\n",
    "volume = filled.astype('float32').swapaxes(0, 2)\n",
    "imwrite('../Output/filltest_filled.tif', volume, imagej=True)\n",
    "\n",
    "tst = filled-vol\n",
    "volume = tst.astype('float32').swapaxes(0, 2)\n",
    "imwrite('../Output/filltest_diff.tif', volume, imagej=True)"
   ],
   "outputs": [],
   "metadata": {}
  },
  {
   "cell_type": "code",
   "execution_count": 26,
   "source": [
    "def vol_shift(input): # Although np.roll is fast, this is very slow since this overuse RAM\n",
    "    # x plane\n",
    "    x_p = np.roll(input, 1, axis=0)\n",
    "    x_p[0,:,:] = 0\n",
    "    x_n = np.roll(input, -1, axis=0)\n",
    "    x_n[-1,:,:] = 0\n",
    "    # y plane\n",
    "    y_p = np.roll(input, 1, axis=1)\n",
    "    y_p[:,0,:] = 0\n",
    "    y_n = np.roll(input, -1, axis=1)\n",
    "    y_n[:,-1,:] = 0\n",
    "    # z plane\n",
    "    z_p = np.roll(input, 1, axis=2)\n",
    "    z_p[:,:,0] = 0\n",
    "    z_n = np.roll(input, -1, axis=2)\n",
    "    z_n[:,:,-1] = 0\n",
    "\n",
    "    sum = x_p + x_n + y_p + y_n + z_p + z_n\n",
    "    result = sum - input*6\n",
    "\n",
    "    return result"
   ],
   "outputs": [],
   "metadata": {}
  },
  {
   "cell_type": "code",
   "execution_count": 27,
   "source": [
    "shifted = vol_shift(filled)\n",
    "shifted = shifted.astype('float32')\n",
    "shifted[shifted>0] = 1\n",
    "shifted[shifted<0] = 0\n",
    "volume = shifted.swapaxes(0, 2)\n",
    "imwrite('../Output/vol_shifted.tif', volume, imagej=True)"
   ],
   "outputs": [],
   "metadata": {}
  },
  {
   "cell_type": "code",
   "execution_count": 28,
   "source": [
    "location_one = np.argwhere(shifted == 1)\n",
    "len(location_one) #142355\n",
    "# I need to decrease the number..."
   ],
   "outputs": [
    {
     "output_type": "execute_result",
     "data": {
      "text/plain": [
       "142355"
      ]
     },
     "metadata": {},
     "execution_count": 28
    }
   ],
   "metadata": {}
  },
  {
   "cell_type": "code",
   "execution_count": 33,
   "source": [
    "if len(location_one):\n",
    "    origin = seg_nuc.bounds.minpt # 3072,5248,1792\n",
    "    parent_coordinates_mip2 = np.add(np.array(location_one), origin)\n",
    "    parent_coordinates = parent_coordinates_mip2\n",
    "    parent_coordinates[:,0]  = (parent_coordinates_mip2[:,0] * 2**2)\n",
    "    parent_coordinates[:,1]  = (parent_coordinates_mip2[:,1] * 2**2)\n",
    "    parent_coordinates = parent_coordinates.astype('int64')\n",
    "\n",
    "    #randomly select 10\n",
    "    # index = np.random.choice(parent_coordinates.shape[0], size=142355, replace=False)\n",
    "    # location_random = parent_coordinates[index]\n",
    "    location_random = parent_coordinates\n",
    "\n",
    "    # Lets get IDs using cell_body_coordinates\n",
    "    parent_IDs = IDlook.segIDs_from_pts_cv(pts=location_random, cv=seg) #mip0\n",
    "\n",
    "    # save\n",
    "    # type(cell_body_coordinates.shape)\n",
    "    # cord_pd = pd.DataFrame(cell_body_coordinates, columns=[\"x\", \"y\", \"z\"])\n",
    "    # temp = cord_pd\n",
    "    # temp['segIDs'] = cell_body_IDs\n",
    "    # output.append(temp)\n",
    "else:\n",
    "    pass"
   ],
   "outputs": [
    {
     "output_type": "stream",
     "name": "stderr",
     "text": [
      "Segmentation IDs: 100%|██████████| 1/1 [00:00<00:00,  3.94it/s]\n",
      "Segmentation IDs: 100%|██████████| 3/3 [00:00<00:00,  6.41it/s]\n",
      "Segmentation IDs: 100%|██████████| 3/3 [00:00<00:00,  6.40it/s]\n",
      "Segmentation IDs: 100%|██████████| 3/3 [00:00<00:00,  6.57it/s]\n",
      "Segmentation IDs: 100%|██████████| 3/3 [00:00<00:00,  6.18it/s]\n",
      "Segmentation IDs: 100%|██████████| 3/3 [00:00<00:00,  5.49it/s]\n",
      "Segmentation IDs: 100%|██████████| 3/3 [00:00<00:00,  5.28it/s]\n",
      "Segmentation IDs: 100%|██████████| 3/3 [00:00<00:00,  5.22it/s]\n",
      "Segmentation IDs: 100%|██████████| 3/3 [00:00<00:00,  5.06it/s]\n",
      "Segmentation IDs: 100%|██████████| 3/3 [00:00<00:00,  6.28it/s]\n",
      "Segmentation IDs: 100%|██████████| 3/3 [00:00<00:00,  5.22it/s]\n",
      "Segmentation IDs: 100%|██████████| 3/3 [00:00<00:00,  5.56it/s]\n",
      "Segmentation IDs: 100%|██████████| 3/3 [00:00<00:00,  6.40it/s]\n",
      "Segmentation IDs: 100%|██████████| 3/3 [00:00<00:00,  6.32it/s]\n",
      "Segmentation IDs: 100%|██████████| 3/3 [00:00<00:00,  5.67it/s]\n"
     ]
    }
   ],
   "metadata": {}
  },
  {
   "cell_type": "code",
   "execution_count": 35,
   "source": [
    "ii = np.unique(parent_IDs, return_counts=True)"
   ],
   "outputs": [],
   "metadata": {}
  },
  {
   "cell_type": "code",
   "execution_count": 36,
   "source": [
    "ii"
   ],
   "outputs": [
    {
     "output_type": "execute_result",
     "data": {
      "text/plain": [
       "(array([648518346358646950, 648518346360746194, 648518346360752338,\n",
       "        648518346360772562, 648518346360788434, 648518346360792018,\n",
       "        648518346360792274, 648518346360793042, 648518346360795602,\n",
       "        648518346360795858, 648518346365871871, 648518346365891071,\n",
       "        648518346365938175, 648518346365938943, 648518346365939455,\n",
       "        648518346365943807, 648518346365949439, 648518346365959167,\n",
       "        648518346367996770, 648518346367997794, 648518346368028258,\n",
       "        648518346368035938, 648518346368043874, 648518346368045410,\n",
       "        648518346368052066, 648518346463060352, 648518346463062144,\n",
       "        648518346463065472, 648518346477702125, 648518346490989503,\n",
       "        648518346505454210], dtype=uint64),\n",
       " array([  195,   118,     7,   123,   319,   245,    64,    10,   165,\n",
       "          339,   177,   207,   186,   209,   173,   142,   284,   305,\n",
       "           80,    98,    83,   200,   277,     9,    70,    53,    95,\n",
       "          109,    32, 87791, 50190]))"
      ]
     },
     "metadata": {},
     "execution_count": 36
    }
   ],
   "metadata": {}
  },
  {
   "cell_type": "code",
   "execution_count": null,
   "source": [
    "# top3"
   ],
   "outputs": [],
   "metadata": {}
  },
  {
   "cell_type": "code",
   "execution_count": null,
   "source": [
    "parent_coordinates.shape"
   ],
   "outputs": [],
   "metadata": {}
  },
  {
   "cell_type": "code",
   "execution_count": null,
   "source": [
    "seg_nuc.cache.flush()"
   ],
   "outputs": [],
   "metadata": {}
  },
  {
   "cell_type": "code",
   "execution_count": null,
   "source": [],
   "outputs": [],
   "metadata": {}
  },
  {
   "cell_type": "code",
   "execution_count": null,
   "source": [],
   "outputs": [],
   "metadata": {}
  },
  {
   "cell_type": "code",
   "execution_count": null,
   "source": [
    "# nuclei_cv.mip_volume_size(0)\n",
    "# Vec(86016,225776,4390, dtype=int64)\n",
    "# entire dataset\n",
    "# [ 83968 223232   4390]\n",
    "# why different"
   ],
   "outputs": [],
   "metadata": {}
  },
  {
   "cell_type": "code",
   "execution_count": null,
   "source": [
    "# fill gap inside cel bodies with one?\n",
    "#  maybe this gap is detected with our get_info\n",
    "\n",
    "# read csv \n",
    "# output csv\n",
    "\n",
    "# fill voids\n",
    "# give me top3\n",
    "\n",
    "# get from outside?"
   ],
   "outputs": [],
   "metadata": {}
  },
  {
   "cell_type": "code",
   "execution_count": null,
   "source": [
    "# global variable is pt, segid, sizexy\n",
    "\n",
    "@queueable\n",
    "def task_cellbody2neuron(i):\n",
    "  seg_nuc = seg.download_point(pt=cord_mip2, segids=id, size=[size_xy, size_xy, 160], coord_resolution=[17.2, 17.2, 45.0])\n",
    "  # lowest resolution of seg is [17.2, 17.2, 45.0]\n",
    "  vol_temp = seg_nuc[:,:,:]\n",
    "  vol_temp[vol_temp>0] = 1 # change segID assigned to each cell body into 1\n",
    "  vol = np.squeeze(vol_temp)\n",
    "\n",
    "  filled = fill_voids.fill(vol, in_place=False) # fill the empty space with one \n",
    "  # ignore warning\n",
    "\n",
    "  shifted = vol_shift(filled) # shift the volume\n",
    "  shifted = shifted.astype('float32')\n",
    "  shifted[shifted>0] = 1\n",
    "  shifted[shifted<0] = 0\n",
    "\n",
    "  print(str(txt))"
   ],
   "outputs": [],
   "metadata": {}
  },
  {
   "cell_type": "code",
   "execution_count": null,
   "source": [
    "#task queue\n",
    " \n",
    "def create_task_queue():\n",
    "    tq = TaskQueue('fq://' + queuepath)\n",
    "    tq.insert(( partial(task_cellbody2neuron, i) for i in range(len(df)) )) # NEW SCHOOL?\n",
    "    tq.insert(tasks)\n",
    "    # tq.execute()\n",
    "    print('Done adding {} tasks to queue at {}'.format(len(df), queuepath))\n",
    "\n",
    "\n",
    "def run_tasks_from_queue():\n",
    "    tq = TaskQueue('fq://' + queuepath)\n",
    "    print('Working on tasks from filequeue \"{}\"'.format(queuepath))\n",
    "    tq.poll(\n",
    "        verbose=True, # prints progress\n",
    "        lease_seconds=3000,\n",
    "        tally=True # makes tq.completed work, logs 1 byte per completed task\n",
    "    )\n",
    "    print('Done')"
   ],
   "outputs": [],
   "metadata": {}
  }
 ],
 "metadata": {
  "interpreter": {
   "hash": "c3593f56db3fdc375a231e1c1fb5fc1dbab03dc3894478fa0aaa4bb9b486beca"
  },
  "kernelspec": {
   "display_name": "nuclei",
   "language": "python",
   "name": "nuclei"
  },
  "language_info": {
   "codemirror_mode": {
    "name": "ipython",
    "version": 3
   },
   "file_extension": ".py",
   "mimetype": "text/x-python",
   "name": "python",
   "nbconvert_exporter": "python",
   "pygments_lexer": "ipython3",
   "version": "3.7.11"
  }
 },
 "nbformat": 4,
 "nbformat_minor": 2
}